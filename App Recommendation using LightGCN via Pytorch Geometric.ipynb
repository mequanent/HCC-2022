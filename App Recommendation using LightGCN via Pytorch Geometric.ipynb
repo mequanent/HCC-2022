{
  "nbformat": 4,
  "nbformat_minor": 0,
  "metadata": {
    "colab": {
      "name": "lightgcn_pyg.ipynb",
      "provenance": [],
      "collapsed_sections": [],
      "include_colab_link": true
    },
    "kernelspec": {
      "display_name": "Python 3",
      "name": "python3"
    },
    "language_info": {
      "name": "python"
    }
  },
  "cells": [
    {
      "cell_type": "markdown",
      "metadata": {
        "id": "view-in-github",
        "colab_type": "text"
      },
      "source": [
        "<a href=\"https://colab.research.google.com/github/mequanent/Music-Recommendation-Exercises/blob/main/App%20Recommendation%20using%20LightGCN%20via%20Pytorch%20Geometric.ipynb\" target=\"_parent\"><img src=\"https://colab.research.google.com/assets/colab-badge.svg\" alt=\"Open In Colab\"/></a>"
      ]
    },
    {
      "cell_type": "code",
      "source": [
        "# To install the correct version of Pytorch Geometric.\n",
        "# This cell is modified from: https://gist.github.com/ameya98/b193856171d11d37ada46458f60e73e7\n",
        "\n",
        "import torch\n",
        "\n",
        "TORCH_version = torch.__version__\n",
        "CUDA_version = torch.version.cuda\n",
        "\n",
        "TORCH = TORCH_version.split('+')[0]\n",
        "CUDA = 'cu' + CUDA_version.replace('.', '')\n",
        "\n",
        "!pip install -q torch-scatter     -f https://pytorch-geometric.com/whl/torch-{TORCH}+{CUDA}.html\n",
        "!pip install -q torch-sparse      -f https://pytorch-geometric.com/whl/torch-{TORCH}+{CUDA}.html\n",
        "!pip install -q torch-cluster     -f https://pytorch-geometric.com/whl/torch-{TORCH}+{CUDA}.html\n",
        "!pip install -q torch-spline-conv -f https://pytorch-geometric.com/whl/torch-{TORCH}+{CUDA}.html\n",
        "!pip install -q torch-geometric "
      ],
      "metadata": {
        "id": "0ePA9SlaTjab",
        "outputId": "99e7e67c-d509-48ba-c5eb-bb29a867f134",
        "colab": {
          "base_uri": "https://localhost:8080/"
        }
      },
      "execution_count": null,
      "outputs": [
        {
          "output_type": "stream",
          "name": "stdout",
          "text": [
            "\u001b[K     |████████████████████████████████| 7.9 MB 5.1 MB/s \n",
            "\u001b[K     |████████████████████████████████| 3.5 MB 5.2 MB/s \n",
            "\u001b[K     |████████████████████████████████| 2.5 MB 5.1 MB/s \n",
            "\u001b[K     |████████████████████████████████| 750 kB 4.9 MB/s \n",
            "\u001b[K     |████████████████████████████████| 407 kB 5.1 MB/s \n",
            "\u001b[?25h  Building wheel for torch-geometric (setup.py) ... \u001b[?25l\u001b[?25hdone\n"
          ]
        }
      ]
    },
    {
      "cell_type": "markdown",
      "source": [
        "**References**: \n",
        "\n",
        "LightGCN with PyTorch Geometric from [Medium](https://medium.com/stanford-cs224w/lightgcn-with-pytorch-geometric-91bab836471e).(hhotta@stanford.edu)\n",
        "\n",
        "https://www.kaggle.com/dipanjandas96/lightgcn-pytorch-from-scratch"
      ],
      "metadata": {
        "id": "-HEi2gj_sPQD"
      }
    },
    {
      "cell_type": "code",
      "metadata": {
        "id": "5OBSacx6Q03m"
      },
      "source": [
        "# Libraries\n",
        "from pathlib import Path\n",
        "import random\n",
        "from tqdm import tqdm\n",
        "import pandas as pd\n",
        "import numpy as np\n",
        "import matplotlib.pyplot as plt\n",
        "from sklearn.model_selection import train_test_split\n",
        "from sklearn import preprocessing as prep\n",
        "\n",
        "import torch\n",
        "from torch import nn, optim, Tensor\n",
        "from torch_sparse import SparseTensor, matmul\n",
        "\n",
        "from torch_geometric.utils import structured_negative_sampling\n",
        "from torch_geometric.nn.conv.gcn_conv import gcn_norm\n",
        "from torch_geometric.nn.conv import MessagePassing\n",
        "from torch_geometric.typing import Adj"
      ],
      "execution_count": null,
      "outputs": []
    },
    {
      "cell_type": "markdown",
      "metadata": {
        "id": "8mZ6-zPxPklE"
      },
      "source": [
        "# Loading the Dataset"
      ]
    },
    {
      "cell_type": "code",
      "source": [
        "#url = 'http://jmcauley.ucsd.edu/data/amazon/qa/icdm/QA_Baby.json.gz'\n",
        "meta_url = 'http://snap.stanford.edu/data/amazon/productGraph/categoryFiles/meta_Apps_for_Android.json.gz'\n",
        "rating_url = \"http://snap.stanford.edu/data/amazon/productGraph/categoryFiles/ratings_Apps_for_Android.csv\"\n",
        "review_url = \"http://snap.stanford.edu/data/amazon/productGraph/categoryFiles/reviews_Apps_for_Android_5.json.gz\""
      ],
      "metadata": {
        "id": "elLFQGjjJXdN"
      },
      "execution_count": null,
      "outputs": []
    },
    {
      "cell_type": "code",
      "source": [
        "review = pd.read_json(review_url, lines = True)\n",
        "rename_col_dicts = {'reviewerID': 'userId', 'asin': 'appId', 'reviewerName': 'userName', \n",
        "                    'overall': 'rating', 'unixReviewTime': 'timestamp'}\n",
        "review.rename(columns = rename_col_dicts, inplace = True)\n",
        "review[:2]"
      ],
      "metadata": {
        "colab": {
          "base_uri": "https://localhost:8080/",
          "height": 191
        },
        "id": "YHMd7wWBsVWR",
        "outputId": "09df41ff-daf6-4b4c-e7b5-e6106a7eb187"
      },
      "execution_count": null,
      "outputs": [
        {
          "output_type": "execute_result",
          "data": {
            "text/plain": [
              "           userId       appId                 userName helpful  \\\n",
              "0  A1N4O8VOJZTDVB  B004A9SDD8           Annette Yancey  [1, 1]   \n",
              "1  A2HQWU6HUKIEC7  B004A9SDD8  Audiobook lover \"Kathy\"  [0, 0]   \n",
              "\n",
              "                                          reviewText  rating  \\\n",
              "0  Loves the song, so he really couldn't wait to ...       3   \n",
              "1  Oh, how my little grandson loves this app. He'...       5   \n",
              "\n",
              "               summary   timestamp  reviewTime  \n",
              "0          Really cute  1383350400  11 2, 2013  \n",
              "1  2-year-old loves it  1323043200  12 5, 2011  "
            ],
            "text/html": [
              "\n",
              "  <div id=\"df-8d147507-b335-41b5-8519-b2300fba8078\">\n",
              "    <div class=\"colab-df-container\">\n",
              "      <div>\n",
              "<style scoped>\n",
              "    .dataframe tbody tr th:only-of-type {\n",
              "        vertical-align: middle;\n",
              "    }\n",
              "\n",
              "    .dataframe tbody tr th {\n",
              "        vertical-align: top;\n",
              "    }\n",
              "\n",
              "    .dataframe thead th {\n",
              "        text-align: right;\n",
              "    }\n",
              "</style>\n",
              "<table border=\"1\" class=\"dataframe\">\n",
              "  <thead>\n",
              "    <tr style=\"text-align: right;\">\n",
              "      <th></th>\n",
              "      <th>userId</th>\n",
              "      <th>appId</th>\n",
              "      <th>userName</th>\n",
              "      <th>helpful</th>\n",
              "      <th>reviewText</th>\n",
              "      <th>rating</th>\n",
              "      <th>summary</th>\n",
              "      <th>timestamp</th>\n",
              "      <th>reviewTime</th>\n",
              "    </tr>\n",
              "  </thead>\n",
              "  <tbody>\n",
              "    <tr>\n",
              "      <th>0</th>\n",
              "      <td>A1N4O8VOJZTDVB</td>\n",
              "      <td>B004A9SDD8</td>\n",
              "      <td>Annette Yancey</td>\n",
              "      <td>[1, 1]</td>\n",
              "      <td>Loves the song, so he really couldn't wait to ...</td>\n",
              "      <td>3</td>\n",
              "      <td>Really cute</td>\n",
              "      <td>1383350400</td>\n",
              "      <td>11 2, 2013</td>\n",
              "    </tr>\n",
              "    <tr>\n",
              "      <th>1</th>\n",
              "      <td>A2HQWU6HUKIEC7</td>\n",
              "      <td>B004A9SDD8</td>\n",
              "      <td>Audiobook lover \"Kathy\"</td>\n",
              "      <td>[0, 0]</td>\n",
              "      <td>Oh, how my little grandson loves this app. He'...</td>\n",
              "      <td>5</td>\n",
              "      <td>2-year-old loves it</td>\n",
              "      <td>1323043200</td>\n",
              "      <td>12 5, 2011</td>\n",
              "    </tr>\n",
              "  </tbody>\n",
              "</table>\n",
              "</div>\n",
              "      <button class=\"colab-df-convert\" onclick=\"convertToInteractive('df-8d147507-b335-41b5-8519-b2300fba8078')\"\n",
              "              title=\"Convert this dataframe to an interactive table.\"\n",
              "              style=\"display:none;\">\n",
              "        \n",
              "  <svg xmlns=\"http://www.w3.org/2000/svg\" height=\"24px\"viewBox=\"0 0 24 24\"\n",
              "       width=\"24px\">\n",
              "    <path d=\"M0 0h24v24H0V0z\" fill=\"none\"/>\n",
              "    <path d=\"M18.56 5.44l.94 2.06.94-2.06 2.06-.94-2.06-.94-.94-2.06-.94 2.06-2.06.94zm-11 1L8.5 8.5l.94-2.06 2.06-.94-2.06-.94L8.5 2.5l-.94 2.06-2.06.94zm10 10l.94 2.06.94-2.06 2.06-.94-2.06-.94-.94-2.06-.94 2.06-2.06.94z\"/><path d=\"M17.41 7.96l-1.37-1.37c-.4-.4-.92-.59-1.43-.59-.52 0-1.04.2-1.43.59L10.3 9.45l-7.72 7.72c-.78.78-.78 2.05 0 2.83L4 21.41c.39.39.9.59 1.41.59.51 0 1.02-.2 1.41-.59l7.78-7.78 2.81-2.81c.8-.78.8-2.07 0-2.86zM5.41 20L4 18.59l7.72-7.72 1.47 1.35L5.41 20z\"/>\n",
              "  </svg>\n",
              "      </button>\n",
              "      \n",
              "  <style>\n",
              "    .colab-df-container {\n",
              "      display:flex;\n",
              "      flex-wrap:wrap;\n",
              "      gap: 12px;\n",
              "    }\n",
              "\n",
              "    .colab-df-convert {\n",
              "      background-color: #E8F0FE;\n",
              "      border: none;\n",
              "      border-radius: 50%;\n",
              "      cursor: pointer;\n",
              "      display: none;\n",
              "      fill: #1967D2;\n",
              "      height: 32px;\n",
              "      padding: 0 0 0 0;\n",
              "      width: 32px;\n",
              "    }\n",
              "\n",
              "    .colab-df-convert:hover {\n",
              "      background-color: #E2EBFA;\n",
              "      box-shadow: 0px 1px 2px rgba(60, 64, 67, 0.3), 0px 1px 3px 1px rgba(60, 64, 67, 0.15);\n",
              "      fill: #174EA6;\n",
              "    }\n",
              "\n",
              "    [theme=dark] .colab-df-convert {\n",
              "      background-color: #3B4455;\n",
              "      fill: #D2E3FC;\n",
              "    }\n",
              "\n",
              "    [theme=dark] .colab-df-convert:hover {\n",
              "      background-color: #434B5C;\n",
              "      box-shadow: 0px 1px 3px 1px rgba(0, 0, 0, 0.15);\n",
              "      filter: drop-shadow(0px 1px 2px rgba(0, 0, 0, 0.3));\n",
              "      fill: #FFFFFF;\n",
              "    }\n",
              "  </style>\n",
              "\n",
              "      <script>\n",
              "        const buttonEl =\n",
              "          document.querySelector('#df-8d147507-b335-41b5-8519-b2300fba8078 button.colab-df-convert');\n",
              "        buttonEl.style.display =\n",
              "          google.colab.kernel.accessAllowed ? 'block' : 'none';\n",
              "\n",
              "        async function convertToInteractive(key) {\n",
              "          const element = document.querySelector('#df-8d147507-b335-41b5-8519-b2300fba8078');\n",
              "          const dataTable =\n",
              "            await google.colab.kernel.invokeFunction('convertToInteractive',\n",
              "                                                     [key], {});\n",
              "          if (!dataTable) return;\n",
              "\n",
              "          const docLinkHtml = 'Like what you see? Visit the ' +\n",
              "            '<a target=\"_blank\" href=https://colab.research.google.com/notebooks/data_table.ipynb>data table notebook</a>'\n",
              "            + ' to learn more about interactive tables.';\n",
              "          element.innerHTML = '';\n",
              "          dataTable['output_type'] = 'display_data';\n",
              "          await google.colab.output.renderOutput(dataTable, element);\n",
              "          const docLink = document.createElement('div');\n",
              "          docLink.innerHTML = docLinkHtml;\n",
              "          element.appendChild(docLink);\n",
              "        }\n",
              "      </script>\n",
              "    </div>\n",
              "  </div>\n",
              "  "
            ]
          },
          "metadata": {},
          "execution_count": 4
        }
      ]
    },
    {
      "cell_type": "code",
      "source": [
        "reviews = review[['userId', 'appId', 'rating',  'timestamp', 'userName']]\n",
        "reviews = reviews.copy()\n",
        "reviews['title'] = reviews['appId'].tolist() # Use the appId as title since not title\n",
        "reviews[:2]"
      ],
      "metadata": {
        "colab": {
          "base_uri": "https://localhost:8080/",
          "height": 112
        },
        "id": "xUjpakBG4b1C",
        "outputId": "e907419a-4df4-441f-a3e0-a32b36446b16"
      },
      "execution_count": null,
      "outputs": [
        {
          "output_type": "execute_result",
          "data": {
            "text/plain": [
              "           userId       appId  rating   timestamp                 userName  \\\n",
              "0  A1N4O8VOJZTDVB  B004A9SDD8       3  1383350400           Annette Yancey   \n",
              "1  A2HQWU6HUKIEC7  B004A9SDD8       5  1323043200  Audiobook lover \"Kathy\"   \n",
              "\n",
              "        title  \n",
              "0  B004A9SDD8  \n",
              "1  B004A9SDD8  "
            ],
            "text/html": [
              "\n",
              "  <div id=\"df-9199d373-c79b-4d22-9734-98657f6ed5e2\">\n",
              "    <div class=\"colab-df-container\">\n",
              "      <div>\n",
              "<style scoped>\n",
              "    .dataframe tbody tr th:only-of-type {\n",
              "        vertical-align: middle;\n",
              "    }\n",
              "\n",
              "    .dataframe tbody tr th {\n",
              "        vertical-align: top;\n",
              "    }\n",
              "\n",
              "    .dataframe thead th {\n",
              "        text-align: right;\n",
              "    }\n",
              "</style>\n",
              "<table border=\"1\" class=\"dataframe\">\n",
              "  <thead>\n",
              "    <tr style=\"text-align: right;\">\n",
              "      <th></th>\n",
              "      <th>userId</th>\n",
              "      <th>appId</th>\n",
              "      <th>rating</th>\n",
              "      <th>timestamp</th>\n",
              "      <th>userName</th>\n",
              "      <th>title</th>\n",
              "    </tr>\n",
              "  </thead>\n",
              "  <tbody>\n",
              "    <tr>\n",
              "      <th>0</th>\n",
              "      <td>A1N4O8VOJZTDVB</td>\n",
              "      <td>B004A9SDD8</td>\n",
              "      <td>3</td>\n",
              "      <td>1383350400</td>\n",
              "      <td>Annette Yancey</td>\n",
              "      <td>B004A9SDD8</td>\n",
              "    </tr>\n",
              "    <tr>\n",
              "      <th>1</th>\n",
              "      <td>A2HQWU6HUKIEC7</td>\n",
              "      <td>B004A9SDD8</td>\n",
              "      <td>5</td>\n",
              "      <td>1323043200</td>\n",
              "      <td>Audiobook lover \"Kathy\"</td>\n",
              "      <td>B004A9SDD8</td>\n",
              "    </tr>\n",
              "  </tbody>\n",
              "</table>\n",
              "</div>\n",
              "      <button class=\"colab-df-convert\" onclick=\"convertToInteractive('df-9199d373-c79b-4d22-9734-98657f6ed5e2')\"\n",
              "              title=\"Convert this dataframe to an interactive table.\"\n",
              "              style=\"display:none;\">\n",
              "        \n",
              "  <svg xmlns=\"http://www.w3.org/2000/svg\" height=\"24px\"viewBox=\"0 0 24 24\"\n",
              "       width=\"24px\">\n",
              "    <path d=\"M0 0h24v24H0V0z\" fill=\"none\"/>\n",
              "    <path d=\"M18.56 5.44l.94 2.06.94-2.06 2.06-.94-2.06-.94-.94-2.06-.94 2.06-2.06.94zm-11 1L8.5 8.5l.94-2.06 2.06-.94-2.06-.94L8.5 2.5l-.94 2.06-2.06.94zm10 10l.94 2.06.94-2.06 2.06-.94-2.06-.94-.94-2.06-.94 2.06-2.06.94z\"/><path d=\"M17.41 7.96l-1.37-1.37c-.4-.4-.92-.59-1.43-.59-.52 0-1.04.2-1.43.59L10.3 9.45l-7.72 7.72c-.78.78-.78 2.05 0 2.83L4 21.41c.39.39.9.59 1.41.59.51 0 1.02-.2 1.41-.59l7.78-7.78 2.81-2.81c.8-.78.8-2.07 0-2.86zM5.41 20L4 18.59l7.72-7.72 1.47 1.35L5.41 20z\"/>\n",
              "  </svg>\n",
              "      </button>\n",
              "      \n",
              "  <style>\n",
              "    .colab-df-container {\n",
              "      display:flex;\n",
              "      flex-wrap:wrap;\n",
              "      gap: 12px;\n",
              "    }\n",
              "\n",
              "    .colab-df-convert {\n",
              "      background-color: #E8F0FE;\n",
              "      border: none;\n",
              "      border-radius: 50%;\n",
              "      cursor: pointer;\n",
              "      display: none;\n",
              "      fill: #1967D2;\n",
              "      height: 32px;\n",
              "      padding: 0 0 0 0;\n",
              "      width: 32px;\n",
              "    }\n",
              "\n",
              "    .colab-df-convert:hover {\n",
              "      background-color: #E2EBFA;\n",
              "      box-shadow: 0px 1px 2px rgba(60, 64, 67, 0.3), 0px 1px 3px 1px rgba(60, 64, 67, 0.15);\n",
              "      fill: #174EA6;\n",
              "    }\n",
              "\n",
              "    [theme=dark] .colab-df-convert {\n",
              "      background-color: #3B4455;\n",
              "      fill: #D2E3FC;\n",
              "    }\n",
              "\n",
              "    [theme=dark] .colab-df-convert:hover {\n",
              "      background-color: #434B5C;\n",
              "      box-shadow: 0px 1px 3px 1px rgba(0, 0, 0, 0.15);\n",
              "      filter: drop-shadow(0px 1px 2px rgba(0, 0, 0, 0.3));\n",
              "      fill: #FFFFFF;\n",
              "    }\n",
              "  </style>\n",
              "\n",
              "      <script>\n",
              "        const buttonEl =\n",
              "          document.querySelector('#df-9199d373-c79b-4d22-9734-98657f6ed5e2 button.colab-df-convert');\n",
              "        buttonEl.style.display =\n",
              "          google.colab.kernel.accessAllowed ? 'block' : 'none';\n",
              "\n",
              "        async function convertToInteractive(key) {\n",
              "          const element = document.querySelector('#df-9199d373-c79b-4d22-9734-98657f6ed5e2');\n",
              "          const dataTable =\n",
              "            await google.colab.kernel.invokeFunction('convertToInteractive',\n",
              "                                                     [key], {});\n",
              "          if (!dataTable) return;\n",
              "\n",
              "          const docLinkHtml = 'Like what you see? Visit the ' +\n",
              "            '<a target=\"_blank\" href=https://colab.research.google.com/notebooks/data_table.ipynb>data table notebook</a>'\n",
              "            + ' to learn more about interactive tables.';\n",
              "          element.innerHTML = '';\n",
              "          dataTable['output_type'] = 'display_data';\n",
              "          await google.colab.output.renderOutput(dataTable, element);\n",
              "          const docLink = document.createElement('div');\n",
              "          docLink.innerHTML = docLinkHtml;\n",
              "          element.appendChild(docLink);\n",
              "        }\n",
              "      </script>\n",
              "    </div>\n",
              "  </div>\n",
              "  "
            ]
          },
          "metadata": {},
          "execution_count": 5
        }
      ]
    },
    {
      "cell_type": "code",
      "source": [
        "a = reviews['userId'].value_counts().index.tolist()[:1400]\n",
        "ratings = reviews.loc[reviews['userId'].isin(a)]\n",
        "print(len(ratings['userId'].value_counts()), len(ratings['appId'].value_counts()))\n",
        "b = ratings['appId'].value_counts().index.tolist()[:10000]\n",
        "ratings = ratings.loc[ratings['appId'].isin(b)]"
      ],
      "metadata": {
        "colab": {
          "base_uri": "https://localhost:8080/"
        },
        "id": "oyjpCVtBsLJy",
        "outputId": "cc6911ac-61a1-431a-d700-f9cfa1976545"
      },
      "execution_count": null,
      "outputs": [
        {
          "output_type": "stream",
          "name": "stdout",
          "text": [
            "1400 10028\n"
          ]
        }
      ]
    },
    {
      "cell_type": "code",
      "source": [
        "print(len(reviews['userId'].value_counts()), len(reviews['appId'].value_counts()))\n",
        "print(len(ratings['userId'].value_counts()), len(ratings['appId'].value_counts()))\n",
        "print(reviews.shape)\n",
        "print(ratings.shape)"
      ],
      "metadata": {
        "colab": {
          "base_uri": "https://localhost:8080/"
        },
        "id": "aGremOU3s0Ow",
        "outputId": "efd673a0-48e9-40d0-9f60-455568c3a637"
      },
      "execution_count": null,
      "outputs": [
        {
          "output_type": "stream",
          "name": "stdout",
          "text": [
            "87271 13209\n",
            "1400 10000\n",
            "(752937, 6)\n",
            "(69556, 6)\n"
          ]
        }
      ]
    },
    {
      "cell_type": "code",
      "source": [
        "from tabulate import tabulate\n",
        "\n",
        "z = pd.DataFrame(ratings['rating'].value_counts())\n",
        "columns = ['Rating', 'Count']\n",
        "print(tabulate(z, headers=columns, tablefmt='psql'))\n",
        "\n",
        "ratings['rating'].hist(xlabelsize=14, ylabelsize=14)\n",
        "plt.xlabel('Rating')\n",
        "plt.ylabel('Rating Counts')\n",
        "plt.title('Rating Distribution')\n",
        "plt.show()"
      ],
      "metadata": {
        "colab": {
          "base_uri": "https://localhost:8080/",
          "height": 455
        },
        "id": "H_uU73NeO4I8",
        "outputId": "3c21ac7d-fa13-4ce1-cb82-e0779cced4ac"
      },
      "execution_count": null,
      "outputs": [
        {
          "output_type": "stream",
          "name": "stdout",
          "text": [
            "+----------+---------+\n",
            "|   Rating |   Count |\n",
            "|----------+---------|\n",
            "|        5 |   30341 |\n",
            "|        4 |   14501 |\n",
            "|        3 |   10344 |\n",
            "|        1 |    8453 |\n",
            "|        2 |    5917 |\n",
            "+----------+---------+\n"
          ]
        },
        {
          "output_type": "display_data",
          "data": {
            "text/plain": [
              "<Figure size 432x288 with 1 Axes>"
            ],
            "image/png": "[encoded data removed]"
          },
          "metadata": {
            "needs_background": "light"
          }
        }
      ]
    },
    {
      "cell_type": "code",
      "source": [
        "leu = prep.LabelEncoder() # ['userId','appId','rating','timestamp']\n",
        "lem = prep.LabelEncoder()\n",
        "\n",
        "ratings['appId'] = leu.fit_transform(ratings['appId'].values)\n",
        "ratings['userId'] = lem.fit_transform(ratings['userId'].values)\n",
        "print(ratings.shape)\n",
        "ratings.head(2)"
      ],
      "metadata": {
        "id": "dJhfhHmbbkTK",
        "outputId": "ea9f0bd7-477a-4b34-f597-f0fed9d0eba7",
        "colab": {
          "base_uri": "https://localhost:8080/",
          "height": 129
        }
      },
      "execution_count": null,
      "outputs": [
        {
          "output_type": "stream",
          "name": "stdout",
          "text": [
            "(69556, 6)\n"
          ]
        },
        {
          "output_type": "execute_result",
          "data": {
            "text/plain": [
              "    userId  appId  rating   timestamp               userName       title\n",
              "31    1252      0       4  1385164800          C. Riostirado  B004AFQAUA\n",
              "71     386      0       4  1356739200  S. Majocha \"Nursee13\"  B004AFQAUA"
            ],
            "text/html": [
              "\n",
              "  <div id=\"df-9008671c-59b6-46b9-a82d-e29c7adbb879\">\n",
              "    <div class=\"colab-df-container\">\n",
              "      <div>\n",
              "<style scoped>\n",
              "    .dataframe tbody tr th:only-of-type {\n",
              "        vertical-align: middle;\n",
              "    }\n",
              "\n",
              "    .dataframe tbody tr th {\n",
              "        vertical-align: top;\n",
              "    }\n",
              "\n",
              "    .dataframe thead th {\n",
              "        text-align: right;\n",
              "    }\n",
              "</style>\n",
              "<table border=\"1\" class=\"dataframe\">\n",
              "  <thead>\n",
              "    <tr style=\"text-align: right;\">\n",
              "      <th></th>\n",
              "      <th>userId</th>\n",
              "      <th>appId</th>\n",
              "      <th>rating</th>\n",
              "      <th>timestamp</th>\n",
              "      <th>userName</th>\n",
              "      <th>title</th>\n",
              "    </tr>\n",
              "  </thead>\n",
              "  <tbody>\n",
              "    <tr>\n",
              "      <th>31</th>\n",
              "      <td>1252</td>\n",
              "      <td>0</td>\n",
              "      <td>4</td>\n",
              "      <td>1385164800</td>\n",
              "      <td>C. Riostirado</td>\n",
              "      <td>B004AFQAUA</td>\n",
              "    </tr>\n",
              "    <tr>\n",
              "      <th>71</th>\n",
              "      <td>386</td>\n",
              "      <td>0</td>\n",
              "      <td>4</td>\n",
              "      <td>1356739200</td>\n",
              "      <td>S. Majocha \"Nursee13\"</td>\n",
              "      <td>B004AFQAUA</td>\n",
              "    </tr>\n",
              "  </tbody>\n",
              "</table>\n",
              "</div>\n",
              "      <button class=\"colab-df-convert\" onclick=\"convertToInteractive('df-9008671c-59b6-46b9-a82d-e29c7adbb879')\"\n",
              "              title=\"Convert this dataframe to an interactive table.\"\n",
              "              style=\"display:none;\">\n",
              "        \n",
              "  <svg xmlns=\"http://www.w3.org/2000/svg\" height=\"24px\"viewBox=\"0 0 24 24\"\n",
              "       width=\"24px\">\n",
              "    <path d=\"M0 0h24v24H0V0z\" fill=\"none\"/>\n",
              "    <path d=\"M18.56 5.44l.94 2.06.94-2.06 2.06-.94-2.06-.94-.94-2.06-.94 2.06-2.06.94zm-11 1L8.5 8.5l.94-2.06 2.06-.94-2.06-.94L8.5 2.5l-.94 2.06-2.06.94zm10 10l.94 2.06.94-2.06 2.06-.94-2.06-.94-.94-2.06-.94 2.06-2.06.94z\"/><path d=\"M17.41 7.96l-1.37-1.37c-.4-.4-.92-.59-1.43-.59-.52 0-1.04.2-1.43.59L10.3 9.45l-7.72 7.72c-.78.78-.78 2.05 0 2.83L4 21.41c.39.39.9.59 1.41.59.51 0 1.02-.2 1.41-.59l7.78-7.78 2.81-2.81c.8-.78.8-2.07 0-2.86zM5.41 20L4 18.59l7.72-7.72 1.47 1.35L5.41 20z\"/>\n",
              "  </svg>\n",
              "      </button>\n",
              "      \n",
              "  <style>\n",
              "    .colab-df-container {\n",
              "      display:flex;\n",
              "      flex-wrap:wrap;\n",
              "      gap: 12px;\n",
              "    }\n",
              "\n",
              "    .colab-df-convert {\n",
              "      background-color: #E8F0FE;\n",
              "      border: none;\n",
              "      border-radius: 50%;\n",
              "      cursor: pointer;\n",
              "      display: none;\n",
              "      fill: #1967D2;\n",
              "      height: 32px;\n",
              "      padding: 0 0 0 0;\n",
              "      width: 32px;\n",
              "    }\n",
              "\n",
              "    .colab-df-convert:hover {\n",
              "      background-color: #E2EBFA;\n",
              "      box-shadow: 0px 1px 2px rgba(60, 64, 67, 0.3), 0px 1px 3px 1px rgba(60, 64, 67, 0.15);\n",
              "      fill: #174EA6;\n",
              "    }\n",
              "\n",
              "    [theme=dark] .colab-df-convert {\n",
              "      background-color: #3B4455;\n",
              "      fill: #D2E3FC;\n",
              "    }\n",
              "\n",
              "    [theme=dark] .colab-df-convert:hover {\n",
              "      background-color: #434B5C;\n",
              "      box-shadow: 0px 1px 3px 1px rgba(0, 0, 0, 0.15);\n",
              "      filter: drop-shadow(0px 1px 2px rgba(0, 0, 0, 0.3));\n",
              "      fill: #FFFFFF;\n",
              "    }\n",
              "  </style>\n",
              "\n",
              "      <script>\n",
              "        const buttonEl =\n",
              "          document.querySelector('#df-9008671c-59b6-46b9-a82d-e29c7adbb879 button.colab-df-convert');\n",
              "        buttonEl.style.display =\n",
              "          google.colab.kernel.accessAllowed ? 'block' : 'none';\n",
              "\n",
              "        async function convertToInteractive(key) {\n",
              "          const element = document.querySelector('#df-9008671c-59b6-46b9-a82d-e29c7adbb879');\n",
              "          const dataTable =\n",
              "            await google.colab.kernel.invokeFunction('convertToInteractive',\n",
              "                                                     [key], {});\n",
              "          if (!dataTable) return;\n",
              "\n",
              "          const docLinkHtml = 'Like what you see? Visit the ' +\n",
              "            '<a target=\"_blank\" href=https://colab.research.google.com/notebooks/data_table.ipynb>data table notebook</a>'\n",
              "            + ' to learn more about interactive tables.';\n",
              "          element.innerHTML = '';\n",
              "          dataTable['output_type'] = 'display_data';\n",
              "          await google.colab.output.renderOutput(dataTable, element);\n",
              "          const docLink = document.createElement('div');\n",
              "          docLink.innerHTML = docLinkHtml;\n",
              "          element.appendChild(docLink);\n",
              "        }\n",
              "      </script>\n",
              "    </div>\n",
              "  </div>\n",
              "  "
            ]
          },
          "metadata": {},
          "execution_count": 8
        }
      ]
    },
    {
      "cell_type": "code",
      "source": [
        "rating = ratings[['userId', 'userName', 'appId',\t'rating',\t'timestamp']]\n",
        "app = ratings[['appId', 'title']].drop_duplicates()\n",
        "app.shape"
      ],
      "metadata": {
        "id": "Vg6i_1sdh5AO",
        "colab": {
          "base_uri": "https://localhost:8080/"
        },
        "outputId": "7c4a41d1-c132-48f8-ad8c-7f333673fcc5"
      },
      "execution_count": null,
      "outputs": [
        {
          "output_type": "execute_result",
          "data": {
            "text/plain": [
              "(10000, 2)"
            ]
          },
          "metadata": {},
          "execution_count": 9
        }
      ]
    },
    {
      "cell_type": "code",
      "source": [
        "print(len(ratings.userId.value_counts()), len(app.appId.value_counts()))"
      ],
      "metadata": {
        "id": "4OCKoldlqUeF",
        "colab": {
          "base_uri": "https://localhost:8080/"
        },
        "outputId": "0fc7bc41-8155-4ef3-f40d-572c9f2a0d83"
      },
      "execution_count": null,
      "outputs": [
        {
          "output_type": "stream",
          "name": "stdout",
          "text": [
            "1400 10000\n"
          ]
        }
      ]
    },
    {
      "cell_type": "code",
      "source": [
        "from google.colab import drive\n",
        "drive.mount('/content/drive')"
      ],
      "metadata": {
        "colab": {
          "base_uri": "https://localhost:8080/"
        },
        "id": "tiDrrf1kbwv9",
        "outputId": "77113d46-916c-4118-96ac-fcc49f6323dd"
      },
      "execution_count": null,
      "outputs": [
        {
          "output_type": "stream",
          "name": "stdout",
          "text": [
            "Mounted at /content/drive\n"
          ]
        }
      ]
    },
    {
      "cell_type": "code",
      "source": [
        "path = Path('/content/drive/MyDrive/Colab Notebooks/AppRecSys/') \n",
        "app_path = path/'app.csv'\n",
        "rating_path = path/'rating.csv'\n",
        "\n",
        "app.to_csv(app_path, index=False)\n",
        "rating.to_csv(rating_path, index=False)"
      ],
      "metadata": {
        "id": "vVD-GitQOonp"
      },
      "execution_count": null,
      "outputs": []
    },
    {
      "cell_type": "code",
      "source": [
        "r = pd.read_csv(rating_path)\n",
        "r.shape"
      ],
      "metadata": {
        "id": "BAR03PlVrs3p",
        "outputId": "68eb0d4c-f8f0-4bb3-941d-00faa3a54534",
        "colab": {
          "base_uri": "https://localhost:8080/"
        }
      },
      "execution_count": null,
      "outputs": [
        {
          "output_type": "execute_result",
          "data": {
            "text/plain": [
              "(69556, 5)"
            ]
          },
          "metadata": {},
          "execution_count": 12
        }
      ]
    },
    {
      "cell_type": "code",
      "metadata": {
        "id": "o2P3zYR8Q8EX"
      },
      "source": [
        "# load user and app nodes\n",
        "def load_node_csv(path, index_col):\n",
        "    df = pd.read_csv(path, index_col=index_col)\n",
        "    mapping = {index: i for i, index in enumerate(df.index.unique())}\n",
        "    return mapping\n",
        "\n",
        "user_mapping = load_node_csv(rating_path, index_col='userId')\n",
        "app_mapping = load_node_csv(app_path, index_col='appId')"
      ],
      "execution_count": null,
      "outputs": []
    },
    {
      "cell_type": "code",
      "metadata": {
        "id": "BkJzQlxSRDEq"
      },
      "source": [
        "# load edges between users and apps\n",
        "def load_edge_csv(path, src_index_col, src_mapping, dst_index_col, dst_mapping, link_index_col, rating_threshold=4):\n",
        "    #Loads csv containing edges between users and items\n",
        "\n",
        "    df = pd.read_csv(path)\n",
        "    edge_index = None\n",
        "    src = [src_mapping[index] for index in df[src_index_col]] # mapping between row number and user id\n",
        "    dst = [dst_mapping[index] for index in df[dst_index_col]] # mapping between row number and item id\n",
        "    edge_attr = torch.from_numpy(df[link_index_col].values).view(-1, 1).to(torch.long) >= rating_threshold\n",
        "\n",
        "    edge_index = [[], []]\n",
        "    for i in range(edge_attr.shape[0]):\n",
        "        if edge_attr[i]:\n",
        "            edge_index[0].append(src[i])\n",
        "            edge_index[1].append(dst[i])\n",
        "\n",
        "    return torch.tensor(edge_index)\n",
        "\n",
        "edge_index = load_edge_csv(\n",
        "    rating_path,\n",
        "    src_index_col='userId',\n",
        "    src_mapping=user_mapping,\n",
        "    dst_index_col='appId',\n",
        "    dst_mapping=app_mapping,\n",
        "    link_index_col='rating',\n",
        "    rating_threshold=4,\n",
        ")"
      ],
      "execution_count": null,
      "outputs": []
    },
    {
      "cell_type": "code",
      "metadata": {
        "id": "wIueYZfaT6_H"
      },
      "source": [
        "# 80/10/10  train/validation/test split of edges in the graph\n",
        "num_users, num_apps = len(user_mapping), len(app_mapping)\n",
        "num_interactions = edge_index.shape[1]\n",
        "all_indices = [i for i in range(num_interactions)]\n",
        "\n",
        "train_indices, test_indices = train_test_split(\n",
        "    all_indices, test_size=0.2, random_state=1)\n",
        "val_indices, test_indices = train_test_split(\n",
        "    test_indices, test_size=0.5, random_state=1)\n",
        "\n",
        "train_edge_index = edge_index[:, train_indices]\n",
        "val_edge_index = edge_index[:, val_indices]\n",
        "test_edge_index = edge_index[:, test_indices]"
      ],
      "execution_count": null,
      "outputs": []
    },
    {
      "cell_type": "code",
      "metadata": {
        "id": "U5yKILBJUAN6"
      },
      "source": [
        "# convert edge indices into Sparse Tensors: https://pytorch-geometric.readthedocs.io/en/latest/notes/sparse_tensor.html\n",
        "train_sparse_edge_index = SparseTensor(row=train_edge_index[0], col=train_edge_index[1], sparse_sizes=(\n",
        "    num_users + num_apps, num_users + num_apps))\n",
        "val_sparse_edge_index = SparseTensor(row=val_edge_index[0], col=val_edge_index[1], sparse_sizes=(\n",
        "    num_users + num_apps, num_users + num_apps))\n",
        "test_sparse_edge_index = SparseTensor(row=test_edge_index[0], col=test_edge_index[1], sparse_sizes=(\n",
        "    num_users + num_apps, num_users + num_apps)) "
      ],
      "execution_count": null,
      "outputs": []
    },
    {
      "cell_type": "code",
      "metadata": {
        "id": "KqKI1VduKcwf"
      },
      "source": [
        "# function which random samples a mini-batch of positive and negative samples\n",
        "def sample_mini_batch(batch_size, edge_index):\n",
        "    edges = structured_negative_sampling(edge_index)\n",
        "    edges = torch.stack(edges, dim=0)\n",
        "    indices = random.choices(\n",
        "        [i for i in range(edges[0].shape[0])], k=batch_size)\n",
        "    batch = edges[:, indices]\n",
        "    user_indices, pos_item_indices, neg_item_indices = batch[0], batch[1], batch[2]\n",
        "    return user_indices, pos_item_indices, neg_item_indices # 3 tuples"
      ],
      "execution_count": null,
      "outputs": []
    },
    {
      "cell_type": "code",
      "metadata": {
        "id": "o9GvYg9ehDOX"
      },
      "source": [
        "# defines LightGCN model\n",
        "class LightGCN(MessagePassing):\n",
        "    def __init__(self, num_users, num_items, embedding_dim=64, K=2, add_self_loops=False):\n",
        "        super().__init__()\n",
        "        self.num_users, self.num_items = num_users, num_items\n",
        "        self.embedding_dim, self.K = embedding_dim, K\n",
        "        self.add_self_loops = add_self_loops\n",
        "\n",
        "        self.users_emb = nn.Embedding(\n",
        "            num_embeddings=self.num_users, embedding_dim=self.embedding_dim) # e_u^0\n",
        "        self.items_emb = nn.Embedding(\n",
        "            num_embeddings=self.num_items, embedding_dim=self.embedding_dim) # e_i^0\n",
        "\n",
        "        nn.init.normal_(self.users_emb.weight, std=0.1)\n",
        "        nn.init.normal_(self.items_emb.weight, std=0.1)\n",
        "\n",
        "    def forward(self, edge_index: SparseTensor):\n",
        "\n",
        "        # compute \\tilde{A}: symmetrically normalized adjacency matrix\n",
        "        edge_index_norm = gcn_norm(\n",
        "            edge_index, add_self_loops=self.add_self_loops)\n",
        "\n",
        "        emb_0 = torch.cat([self.users_emb.weight, self.items_emb.weight]) # E^0\n",
        "        embs = [emb_0]\n",
        "        emb_k = emb_0\n",
        "\n",
        "        # multi-scale diffusion\n",
        "        for i in range(self.K):\n",
        "            emb_k = self.propagate(edge_index_norm, x=emb_k)\n",
        "            embs.append(emb_k)\n",
        "\n",
        "        embs = torch.stack(embs, dim=1)\n",
        "        emb_final = torch.mean(embs, dim=1) # E^K\n",
        "\n",
        "        users_emb_final, items_emb_final = torch.split(\n",
        "            emb_final, [self.num_users, self.num_items]) # splits into e_u^K and e_i^K\n",
        "\n",
        "        # returns e_u^K, e_u^0, e_i^K, e_i^0\n",
        "        return users_emb_final, self.users_emb.weight, items_emb_final, self.items_emb.weight\n",
        "\n",
        "    def message(self, x_j: Tensor) -> Tensor:\n",
        "        return x_j\n",
        "\n",
        "    def message_and_aggregate(self, adj_t: SparseTensor, x: Tensor) -> Tensor:\n",
        "        # computes \\tilde{A} @ x\n",
        "        return matmul(adj_t, x)\n",
        "\n",
        "model = LightGCN(num_users, num_apps)"
      ],
      "execution_count": null,
      "outputs": []
    },
    {
      "cell_type": "code",
      "metadata": {
        "id": "QmPs1xS-BYfe"
      },
      "source": [
        "def bpr_loss(users_emb_final, users_emb_0, pos_items_emb_final, pos_items_emb_0, neg_items_emb_final, neg_items_emb_0, lambda_val):\n",
        "\n",
        "    reg_loss = lambda_val * (users_emb_0.norm(2).pow(2) +\n",
        "                             pos_items_emb_0.norm(2).pow(2) +\n",
        "                             neg_items_emb_0.norm(2).pow(2)) # L2 loss\n",
        "\n",
        "    pos_scores = torch.mul(users_emb_final, pos_items_emb_final)\n",
        "    pos_scores = torch.sum(pos_scores, dim=-1) # predicted scores of positive samples\n",
        "    neg_scores = torch.mul(users_emb_final, neg_items_emb_final)\n",
        "    neg_scores = torch.sum(neg_scores, dim=-1) # predicted scores of negative samples\n",
        "\n",
        "    loss = -torch.mean(torch.nn.functional.softplus(pos_scores - neg_scores)) + reg_loss\n",
        "\n",
        "    return loss"
      ],
      "execution_count": null,
      "outputs": []
    },
    {
      "cell_type": "code",
      "metadata": {
        "id": "nHO2gdhRSwzJ"
      },
      "source": [
        "# helper function to get N_u\n",
        "def get_user_positive_items(edge_index):\n",
        "    user_pos_items = {}\n",
        "    for i in range(edge_index.shape[1]):\n",
        "        user = edge_index[0][i].item()\n",
        "        item = edge_index[1][i].item()\n",
        "        if user not in user_pos_items:\n",
        "            user_pos_items[user] = []\n",
        "        user_pos_items[user].append(item)\n",
        "    return user_pos_items"
      ],
      "execution_count": null,
      "outputs": []
    },
    {
      "cell_type": "code",
      "metadata": {
        "id": "8We4BTtfS4NV"
      },
      "source": [
        "# computes recall@K and precision@K\n",
        "def RecallPrecision_ATk(groundTruth, r, k):\n",
        "\n",
        "    num_correct_pred = torch.sum(r, dim=-1)  # number of correctly predicted items per user\n",
        "    # number of items liked by each user in the test set\n",
        "    user_num_liked = torch.Tensor([len(groundTruth[i])\n",
        "                                  for i in range(len(groundTruth))])\n",
        "    recall = torch.mean(num_correct_pred / user_num_liked)\n",
        "    precision = torch.mean(num_correct_pred) / k\n",
        "    return recall.item(), precision.item()"
      ],
      "execution_count": null,
      "outputs": []
    },
    {
      "cell_type": "code",
      "metadata": {
        "id": "9v4A3Ek4TE02"
      },
      "source": [
        "# computes NDCG@K\n",
        "def NDCGatK_r(groundTruth, r, k):\n",
        "    assert len(r) == len(groundTruth)\n",
        "\n",
        "    test_matrix = torch.zeros((len(r), k))\n",
        "\n",
        "    for i, items in enumerate(groundTruth):\n",
        "        length = min(len(items), k)\n",
        "        test_matrix[i, :length] = 1\n",
        "    max_r = test_matrix\n",
        "    idcg = torch.sum(max_r * 1. / torch.log2(torch.arange(2, k + 2)), axis=1)\n",
        "    dcg = r * (1. / torch.log2(torch.arange(2, k + 2)))\n",
        "    dcg = torch.sum(dcg, axis=1)\n",
        "    idcg[idcg == 0.] = 1.\n",
        "    ndcg = dcg / idcg\n",
        "    ndcg[torch.isnan(ndcg)] = 0.\n",
        "    return torch.mean(ndcg).item()"
      ],
      "execution_count": null,
      "outputs": []
    },
    {
      "cell_type": "code",
      "metadata": {
        "id": "x6_741LlTMwI"
      },
      "source": [
        "# wrapper function to get evaluation metrics\n",
        "def get_metrics(model, edge_index, exclude_edge_indices, k):\n",
        "    user_embedding = model.users_emb.weight\n",
        "    item_embedding = model.items_emb.weight\n",
        "\n",
        "    # get ratings between every user and item - shape is num users x num apps\n",
        "    rating = torch.matmul(user_embedding, item_embedding.T)\n",
        "\n",
        "    for exclude_edge_index in exclude_edge_indices:\n",
        "        # gets all the positive items for each user from the edge index\n",
        "        user_pos_items = get_user_positive_items(exclude_edge_index)\n",
        "        # get coordinates of all edges to exclude\n",
        "        exclude_users = []\n",
        "        exclude_items = []\n",
        "        for user, items in user_pos_items.items():\n",
        "            exclude_users.extend([user] * len(items))\n",
        "            exclude_items.extend(items)\n",
        "\n",
        "        # set ratings of excluded edges to large negative value\n",
        "        rating[exclude_users, exclude_items] = -(1 << 10)\n",
        "\n",
        "    # get the top k recommended items for each user\n",
        "    _, top_K_items = torch.topk(rating, k=k)\n",
        "\n",
        "    # get all unique users in evaluated split\n",
        "    users = edge_index[0].unique()\n",
        "\n",
        "    test_user_pos_items = get_user_positive_items(edge_index)\n",
        "\n",
        "    # convert test user pos items dictionary into a list\n",
        "    test_user_pos_items_list = [\n",
        "        test_user_pos_items[user.item()] for user in users]\n",
        "\n",
        "    # determine the correctness of topk predictions\n",
        "    r = []\n",
        "    for user in users:\n",
        "        ground_truth_items = test_user_pos_items[user.item()]\n",
        "        label = list(map(lambda x: x in ground_truth_items, top_K_items[user]))\n",
        "        r.append(label)\n",
        "    r = torch.Tensor(np.array(r).astype('float'))\n",
        "\n",
        "    recall, precision = RecallPrecision_ATk(test_user_pos_items_list, r, k)\n",
        "    ndcg = NDCGatK_r(test_user_pos_items_list, r, k)\n",
        "\n",
        "    return recall, precision, ndcg"
      ],
      "execution_count": null,
      "outputs": []
    },
    {
      "cell_type": "code",
      "metadata": {
        "id": "yr_qESXASsVw"
      },
      "source": [
        "# wrapper function to evaluate model\n",
        "def evaluation(model, edge_index, sparse_edge_index, exclude_edge_indices, k, lambda_val):\n",
        "    # get embeddings\n",
        "    users_emb_final, users_emb_0, items_emb_final, items_emb_0 = model.forward(\n",
        "        sparse_edge_index)\n",
        "    edges = structured_negative_sampling(\n",
        "        edge_index, contains_neg_self_loops=False)\n",
        "    user_indices, pos_item_indices, neg_item_indices = edges[0], edges[1], edges[2]\n",
        "    users_emb_final, users_emb_0 = users_emb_final[user_indices], users_emb_0[user_indices]\n",
        "    pos_items_emb_final, pos_items_emb_0 = items_emb_final[\n",
        "        pos_item_indices], items_emb_0[pos_item_indices]\n",
        "    #print(\"items_emb_final\", items_emb_final)\n",
        "    neg_items_emb_final, neg_items_emb_0 = items_emb_final[\n",
        "        neg_item_indices], items_emb_0[neg_item_indices]\n",
        "\n",
        "    loss = bpr_loss(users_emb_final, users_emb_0, pos_items_emb_final, pos_items_emb_0,\n",
        "                    neg_items_emb_final, neg_items_emb_0, lambda_val).item()\n",
        "\n",
        "    recall, precision, ndcg = get_metrics(\n",
        "        model, edge_index, exclude_edge_indices, k)\n",
        "\n",
        "    return loss, recall, precision, ndcg"
      ],
      "execution_count": null,
      "outputs": []
    },
    {
      "cell_type": "code",
      "metadata": {
        "id": "MQL2W-NQTeFd"
      },
      "source": [
        "# define constants\n",
        "ITERATIONS = 10000\n",
        "BATCH_SIZE = 1024\n",
        "LR = 1e-3\n",
        "ITERS_PER_EVAL = 200\n",
        "ITERS_PER_LR_DECAY = 200\n",
        "K = 20\n",
        "LAMBDA = 1e-6"
      ],
      "execution_count": null,
      "outputs": []
    },
    {
      "cell_type": "code",
      "metadata": {
        "colab": {
          "base_uri": "https://localhost:8080/"
        },
        "id": "49JDkBtKTfE-",
        "outputId": "1f6d0a56-42e3-4ac3-b58e-9665c371d366"
      },
      "source": [
        "# setup\n",
        "device = torch.device('cuda' if torch.cuda.is_available() else 'cpu')\n",
        "print(f\"Using device {device}.\")\n",
        "\n",
        "model = model.to(device)\n",
        "model.train()\n",
        "\n",
        "optimizer = optim.Adam(model.parameters(), lr=LR)\n",
        "scheduler = optim.lr_scheduler.ExponentialLR(optimizer, gamma=0.95)\n",
        "\n",
        "edge_index = edge_index.to(device)\n",
        "train_edge_index = train_edge_index.to(device)\n",
        "train_sparse_edge_index = train_sparse_edge_index.to(device)\n",
        "\n",
        "val_edge_index = val_edge_index.to(device)\n",
        "val_sparse_edge_index = val_sparse_edge_index.to(device)"
      ],
      "execution_count": null,
      "outputs": [
        {
          "output_type": "stream",
          "name": "stdout",
          "text": [
            "Using device cpu.\n"
          ]
        }
      ]
    },
    {
      "cell_type": "code",
      "metadata": {
        "id": "wYjrDp1w-hiP",
        "colab": {
          "base_uri": "https://localhost:8080/"
        },
        "outputId": "bc9eaaec-78c3-4c84-fb38-fecd73e1aa49"
      },
      "source": [
        "# training loop\n",
        "train_losses = []\n",
        "val_losses = []\n",
        "\n",
        "neg_items_emb_final2 = neg_items_emb_02 = items_emb_final2 = items_emb_02 = neg_item_indices2 = []\n",
        "\n",
        "for iter in range(ITERATIONS):\n",
        "    # forward propagation\n",
        "    users_emb_final, users_emb_0, items_emb_final, items_emb_0 = model.forward(\n",
        "        train_sparse_edge_index)\n",
        "\n",
        "    # mini batching\n",
        "    user_indices, pos_item_indices, neg_item_indices = sample_mini_batch(\n",
        "        BATCH_SIZE, train_edge_index)\n",
        "    user_indices, pos_item_indices, neg_item_indices = user_indices.to(\n",
        "        device), pos_item_indices.to(device), neg_item_indices.to(device)\n",
        "    users_emb_final, users_emb_0 = users_emb_final[user_indices], users_emb_0[user_indices]\n",
        "    pos_items_emb_final, pos_items_emb_0 = items_emb_final[\n",
        "        pos_item_indices], items_emb_0[pos_item_indices]\n",
        "\n",
        "    items_emb_final2, items_emb_02, neg_item_indices2 = items_emb_final, items_emb_0, neg_item_indices \n",
        "    \n",
        "    neg_items_emb_final, neg_items_emb_0 = items_emb_final[\n",
        "        neg_item_indices], items_emb_0[neg_item_indices]\n",
        "    \n",
        "    neg_items_emb_final2, neg_items_emb_02 = neg_items_emb_final, neg_items_emb_0\n",
        "    # loss computation\n",
        "    train_loss = bpr_loss(users_emb_final, users_emb_0, pos_items_emb_final,\n",
        "                          pos_items_emb_0, neg_items_emb_final, neg_items_emb_0, LAMBDA)\n",
        "\n",
        "    optimizer.zero_grad()\n",
        "    train_loss.backward()\n",
        "    optimizer.step()\n",
        "\n",
        "    if iter % ITERS_PER_EVAL == 0:\n",
        "        model.eval()\n",
        "        val_loss, recall, precision, ndcg = evaluation(\n",
        "            model, val_edge_index, val_sparse_edge_index, [train_edge_index], K, LAMBDA)\n",
        "        print(f\"[Iteration {iter}/{ITERATIONS}] train_loss: {round(train_loss.item(), 5)}, val_loss: {round(val_loss, 5)}, val_recall@{K}: {round(recall, 5)}, val_precision@{K}: {round(precision, 5)}, val_ndcg@{K}: {round(ndcg, 5)}\")\n",
        "        train_losses.append(train_loss.item())\n",
        "        val_losses.append(val_loss)\n",
        "        model.train()\n",
        "\n",
        "    if iter % ITERS_PER_LR_DECAY == 0 and iter != 0:\n",
        "        scheduler.step()"
      ],
      "execution_count": null,
      "outputs": [
        {
          "output_type": "stream",
          "name": "stdout",
          "text": [
            "[Iteration 0/10000] train_loss: -0.69109, val_loss: -0.68476, val_recall@20: 0.0014, val_precision@20: 0.00027, val_ndcg@20: 0.00065\n",
            "[Iteration 200/10000] train_loss: -0.69617, val_loss: -0.68483, val_recall@20: 0.00227, val_precision@20: 0.00039, val_ndcg@20: 0.00094\n",
            "[Iteration 400/10000] train_loss: -0.70542, val_loss: -0.6857, val_recall@20: 0.01521, val_precision@20: 0.00278, val_ndcg@20: 0.00926\n",
            "[Iteration 600/10000] train_loss: -0.73981, val_loss: -0.70482, val_recall@20: 0.06745, val_precision@20: 0.01096, val_ndcg@20: 0.03594\n",
            "[Iteration 800/10000] train_loss: -0.9017, val_loss: -0.81886, val_recall@20: 0.07797, val_precision@20: 0.01214, val_ndcg@20: 0.04229\n",
            "[Iteration 1000/10000] train_loss: -1.36337, val_loss: -1.19276, val_recall@20: 0.07799, val_precision@20: 0.01222, val_ndcg@20: 0.04313\n",
            "[Iteration 1200/10000] train_loss: -2.18307, val_loss: -1.934, val_recall@20: 0.07897, val_precision@20: 0.01237, val_ndcg@20: 0.04381\n",
            "[Iteration 1400/10000] train_loss: -3.48928, val_loss: -2.95416, val_recall@20: 0.07717, val_precision@20: 0.01233, val_ndcg@20: 0.04332\n",
            "[Iteration 1600/10000] train_loss: -4.945, val_loss: -4.1387, val_recall@20: 0.07683, val_precision@20: 0.01218, val_ndcg@20: 0.04296\n",
            "[Iteration 1800/10000] train_loss: -6.03799, val_loss: -5.38986, val_recall@20: 0.07628, val_precision@20: 0.01202, val_ndcg@20: 0.04264\n",
            "[Iteration 2000/10000] train_loss: -8.09212, val_loss: -6.7395, val_recall@20: 0.07575, val_precision@20: 0.01194, val_ndcg@20: 0.04244\n",
            "[Iteration 2200/10000] train_loss: -9.11243, val_loss: -8.11387, val_recall@20: 0.0759, val_precision@20: 0.01198, val_ndcg@20: 0.04243\n",
            "[Iteration 2400/10000] train_loss: -11.10175, val_loss: -9.49283, val_recall@20: 0.07671, val_precision@20: 0.01202, val_ndcg@20: 0.04268\n",
            "[Iteration 2600/10000] train_loss: -11.98582, val_loss: -10.82475, val_recall@20: 0.07643, val_precision@20: 0.01202, val_ndcg@20: 0.04253\n",
            "[Iteration 2800/10000] train_loss: -13.71187, val_loss: -12.03372, val_recall@20: 0.07665, val_precision@20: 0.01202, val_ndcg@20: 0.04266\n",
            "[Iteration 3000/10000] train_loss: -14.95007, val_loss: -13.422, val_recall@20: 0.07684, val_precision@20: 0.01214, val_ndcg@20: 0.04258\n",
            "[Iteration 3200/10000] train_loss: -17.11175, val_loss: -14.72483, val_recall@20: 0.07681, val_precision@20: 0.0121, val_ndcg@20: 0.04253\n",
            "[Iteration 3400/10000] train_loss: -18.40526, val_loss: -16.0399, val_recall@20: 0.07665, val_precision@20: 0.01206, val_ndcg@20: 0.04233\n",
            "[Iteration 3600/10000] train_loss: -19.85676, val_loss: -17.18703, val_recall@20: 0.07723, val_precision@20: 0.01218, val_ndcg@20: 0.04257\n",
            "[Iteration 3800/10000] train_loss: -21.67037, val_loss: -18.43053, val_recall@20: 0.07707, val_precision@20: 0.01214, val_ndcg@20: 0.04236\n",
            "[Iteration 4000/10000] train_loss: -23.0438, val_loss: -19.39981, val_recall@20: 0.07691, val_precision@20: 0.0121, val_ndcg@20: 0.04233\n",
            "[Iteration 4200/10000] train_loss: -24.81611, val_loss: -20.42274, val_recall@20: 0.07639, val_precision@20: 0.01202, val_ndcg@20: 0.04211\n",
            "[Iteration 4400/10000] train_loss: -24.92897, val_loss: -21.5819, val_recall@20: 0.07644, val_precision@20: 0.01202, val_ndcg@20: 0.0421\n",
            "[Iteration 4600/10000] train_loss: -26.36511, val_loss: -22.77695, val_recall@20: 0.07644, val_precision@20: 0.01202, val_ndcg@20: 0.04204\n",
            "[Iteration 4800/10000] train_loss: -26.54815, val_loss: -23.69189, val_recall@20: 0.07644, val_precision@20: 0.01202, val_ndcg@20: 0.04203\n",
            "[Iteration 5000/10000] train_loss: -30.34183, val_loss: -24.69193, val_recall@20: 0.07685, val_precision@20: 0.0121, val_ndcg@20: 0.04215\n",
            "[Iteration 5200/10000] train_loss: -30.95855, val_loss: -25.53138, val_recall@20: 0.07685, val_precision@20: 0.0121, val_ndcg@20: 0.04215\n",
            "[Iteration 5400/10000] train_loss: -30.39199, val_loss: -26.25331, val_recall@20: 0.0767, val_precision@20: 0.01206, val_ndcg@20: 0.0418\n",
            "[Iteration 5600/10000] train_loss: -31.35178, val_loss: -27.33264, val_recall@20: 0.07644, val_precision@20: 0.01202, val_ndcg@20: 0.04174\n",
            "[Iteration 5800/10000] train_loss: -34.23343, val_loss: -27.82679, val_recall@20: 0.07644, val_precision@20: 0.01202, val_ndcg@20: 0.04189\n",
            "[Iteration 6000/10000] train_loss: -33.34175, val_loss: -29.05717, val_recall@20: 0.07644, val_precision@20: 0.01202, val_ndcg@20: 0.04189\n",
            "[Iteration 6200/10000] train_loss: -34.18158, val_loss: -30.00933, val_recall@20: 0.07644, val_precision@20: 0.01202, val_ndcg@20: 0.04192\n",
            "[Iteration 6400/10000] train_loss: -33.9629, val_loss: -30.52222, val_recall@20: 0.07644, val_precision@20: 0.01202, val_ndcg@20: 0.04162\n",
            "[Iteration 6600/10000] train_loss: -34.75747, val_loss: -31.09514, val_recall@20: 0.07644, val_precision@20: 0.01202, val_ndcg@20: 0.04188\n",
            "[Iteration 6800/10000] train_loss: -38.07801, val_loss: -31.79705, val_recall@20: 0.07644, val_precision@20: 0.01202, val_ndcg@20: 0.04154\n",
            "[Iteration 7000/10000] train_loss: -37.55791, val_loss: -32.59593, val_recall@20: 0.07637, val_precision@20: 0.01198, val_ndcg@20: 0.04178\n",
            "[Iteration 7200/10000] train_loss: -39.65155, val_loss: -32.96456, val_recall@20: 0.07637, val_precision@20: 0.01198, val_ndcg@20: 0.04174\n",
            "[Iteration 7400/10000] train_loss: -38.38775, val_loss: -33.82791, val_recall@20: 0.07637, val_precision@20: 0.01198, val_ndcg@20: 0.04165\n",
            "[Iteration 7600/10000] train_loss: -39.61523, val_loss: -34.30206, val_recall@20: 0.07637, val_precision@20: 0.01198, val_ndcg@20: 0.04157\n",
            "[Iteration 7800/10000] train_loss: -40.31274, val_loss: -34.68063, val_recall@20: 0.07637, val_precision@20: 0.01198, val_ndcg@20: 0.0416\n",
            "[Iteration 8000/10000] train_loss: -39.70879, val_loss: -35.25829, val_recall@20: 0.07637, val_precision@20: 0.01198, val_ndcg@20: 0.04177\n",
            "[Iteration 8200/10000] train_loss: -42.50698, val_loss: -35.40585, val_recall@20: 0.07611, val_precision@20: 0.01194, val_ndcg@20: 0.04169\n",
            "[Iteration 8400/10000] train_loss: -41.75248, val_loss: -35.73204, val_recall@20: 0.07611, val_precision@20: 0.01194, val_ndcg@20: 0.0416\n",
            "[Iteration 8600/10000] train_loss: -42.1615, val_loss: -36.51662, val_recall@20: 0.07611, val_precision@20: 0.01194, val_ndcg@20: 0.04176\n",
            "[Iteration 8800/10000] train_loss: -42.28923, val_loss: -36.66568, val_recall@20: 0.07611, val_precision@20: 0.01194, val_ndcg@20: 0.04173\n",
            "[Iteration 9000/10000] train_loss: -43.5244, val_loss: -37.389, val_recall@20: 0.07611, val_precision@20: 0.01194, val_ndcg@20: 0.0417\n",
            "[Iteration 9200/10000] train_loss: -43.25586, val_loss: -37.77138, val_recall@20: 0.07611, val_precision@20: 0.01194, val_ndcg@20: 0.04166\n",
            "[Iteration 9400/10000] train_loss: -43.25429, val_loss: -37.90337, val_recall@20: 0.07595, val_precision@20: 0.0119, val_ndcg@20: 0.04168\n",
            "[Iteration 9600/10000] train_loss: -42.8783, val_loss: -38.41774, val_recall@20: 0.07611, val_precision@20: 0.01194, val_ndcg@20: 0.04176\n",
            "[Iteration 9800/10000] train_loss: -44.98872, val_loss: -38.27301, val_recall@20: 0.07611, val_precision@20: 0.01194, val_ndcg@20: 0.04166\n"
          ]
        }
      ]
    },
    {
      "cell_type": "code",
      "source": [
        "iters = [iter * ITERS_PER_EVAL for iter in range(len(train_losses))]\n",
        "plt.plot(iters, train_losses, label='train')\n",
        "plt.plot(iters, val_losses, label='validation')\n",
        "plt.xlabel('Iteration')\n",
        "plt.ylabel('Loss')\n",
        "plt.title('Training and validation loss curves')\n",
        "plt.legend()\n",
        "plt.show()"
      ],
      "metadata": {
        "id": "Jzyf1vp_qANk",
        "outputId": "6d01cd97-da42-4c50-bf63-3a66d8f8e209",
        "colab": {
          "base_uri": "https://localhost:8080/",
          "height": 295
        }
      },
      "execution_count": null,
      "outputs": [
        {
          "output_type": "display_data",
          "data": {
            "text/plain": [
              "<Figure size 432x288 with 1 Axes>"
            ],
            "image/png": "[encoded data removed]"
          },
          "metadata": {
            "needs_background": "light"
          }
        }
      ]
    },
    {
      "cell_type": "code",
      "source": [
        "iters = [iter * ITERS_PER_EVAL for iter in range(len(train_losses))]\n",
        "plt.plot(iters, train_losses, label='train')\n",
        "plt.plot(iters, val_losses, label='validation')\n",
        "plt.xlabel('Iteration')\n",
        "plt.ylabel('Loss')\n",
        "plt.title('Training and validation loss curves')\n",
        "plt.legend()\n",
        "plt.show()"
      ],
      "metadata": {
        "colab": {
          "base_uri": "https://localhost:8080/",
          "height": 295
        },
        "id": "ykbgZeYnmYHg",
        "outputId": "d425d352-fbf2-47fd-a061-23f50249873e"
      },
      "execution_count": null,
      "outputs": [
        {
          "output_type": "display_data",
          "data": {
            "text/plain": [
              "<Figure size 432x288 with 1 Axes>"
            ],
            "image/png": "[encoded data removed]"
          },
          "metadata": {
            "needs_background": "light"
          }
        }
      ]
    },
    {
      "cell_type": "markdown",
      "source": [
        "Test set performance should be in line with the following (*K=20*):\n",
        "\n",
        "*Recall@K: 0.13, Precision@K: 0.045, NDCG@K: 0.10*"
      ],
      "metadata": {
        "id": "i-eZ7EPBlkkY"
      }
    },
    {
      "cell_type": "code",
      "source": [
        "# K = 2\n",
        "# evaluate on test set\n",
        "model.eval()\n",
        "test_edge_index = test_edge_index.to(device)\n",
        "test_sparse_edge_index = test_sparse_edge_index.to(device)\n",
        "\n",
        "test_loss, test_recall, test_precision, test_ndcg = evaluation(\n",
        "            model, test_edge_index, test_sparse_edge_index, [train_edge_index, val_edge_index], K, LAMBDA)\n",
        "\n",
        "print(f\"[test_loss: {round(test_loss, 5)}, test_recall@{K}: {round(test_recall, 5)}, test_precision@{K}: {round(test_precision, 5)}, test_ndcg@{K}: {round(test_ndcg, 5)}]\")"
      ],
      "metadata": {
        "colab": {
          "base_uri": "https://localhost:8080/"
        },
        "id": "h_SmlQk_-jRr",
        "outputId": "ddc0c770-6177-4c1c-f74b-021ff63f9bfe"
      },
      "execution_count": null,
      "outputs": [
        {
          "output_type": "stream",
          "name": "stdout",
          "text": [
            "[test_loss: -40.73944, test_recall@20: 0.0656, test_precision@20: 0.01088, test_ndcg@20: 0.03676]\n"
          ]
        }
      ]
    },
    {
      "cell_type": "code",
      "metadata": {
        "id": "G6UjCTMQ_N5e",
        "colab": {
          "base_uri": "https://localhost:8080/"
        },
        "outputId": "a27060e9-693d-42e8-d8d5-265e1ded03e4"
      },
      "source": [
        "# K = 3\n",
        "# Evaluate on test set\n",
        "model.eval()\n",
        "test_edge_index = test_edge_index.to(device)\n",
        "test_sparse_edge_index = test_sparse_edge_index.to(device)\n",
        "\n",
        "test_loss, test_recall, test_precision, test_ndcg = evaluation(\n",
        "            model, test_edge_index, test_sparse_edge_index, [train_edge_index, val_edge_index], K, LAMBDA)\n",
        "\n",
        "print(f\"[test_loss: {round(test_loss, 5)}, test_recall@{K}: {round(test_recall, 5)}, test_precision@{K}: {round(test_precision, 5)}, test_ndcg@{K}: {round(test_ndcg, 5)}\")"
      ],
      "execution_count": null,
      "outputs": [
        {
          "output_type": "stream",
          "name": "stdout",
          "text": [
            "[test_loss: -21.63686, test_recall@20: 0.06651, test_precision@20: 0.01108, test_ndcg@20: 0.03656\n"
          ]
        }
      ]
    },
    {
      "cell_type": "markdown",
      "metadata": {
        "id": "At4zWPfaVW6q"
      },
      "source": [
        "# Make New Recommendatios for a Given User"
      ]
    },
    {
      "cell_type": "code",
      "metadata": {
        "id": "SzuMPxFVZlQn"
      },
      "source": [
        "model.eval()\n",
        "df = pd.read_csv(app_path)\n",
        "appid_title = pd.Series(df.title.values,index=df.appId).to_dict()\n",
        "\n",
        "user_pos_items = get_user_positive_items(edge_index)"
      ],
      "execution_count": null,
      "outputs": []
    },
    {
      "cell_type": "code",
      "source": [
        "df2 = pd.read_csv(rating_path) # 336\n",
        "counts = df2.userId.value_counts().to_dict()#[336]\n",
        "#counts"
      ],
      "metadata": {
        "id": "6NvM9raNRJUt"
      },
      "execution_count": null,
      "outputs": []
    },
    {
      "cell_type": "code",
      "source": [
        "def make_predictions(user_id, num_recs):\n",
        "    user = user_mapping[user_id]\n",
        "    e_u = model.users_emb.weight[user]\n",
        "    scores = model.items_emb.weight @ e_u\n",
        "\n",
        "    values, indices = torch.topk(scores, k=len(user_pos_items[user]) + num_recs)\n",
        "\n",
        "    apps = [index.cpu().item() for index in indices if index in user_pos_items[user]][:num_recs]\n",
        "    app_ids = [list(app_mapping.keys())[list(app_mapping.values()).index(app)] for app in apps]\n",
        "    titles = [appid_title[id] for id in app_ids]\n",
        "    \n",
        "    if len(titles) < num_recs:\n",
        "      n_rec = len(titles)\n",
        "      print(f\"This user highly selected: {n_rec} apps only.\" )\n",
        "    else:\n",
        "      n_rec = num_recs\n",
        "    \n",
        "    print(f\"Here are some apps that user {user_id} rated highly\")\n",
        "    for i in range(n_rec):\n",
        "        print(f\"appId: {titles[i]}\") \n",
        "\n",
        "    print()\n",
        "\n",
        "    apps = [index.cpu().item() for index in indices if index not in user_pos_items[user]][:num_recs]\n",
        "    app_ids = [list(app_mapping.keys())[list(app_mapping.values()).index(app)] for app in apps]\n",
        "    titles = [appid_title[id] for id in app_ids]\n",
        "    \n",
        "    print(f\"Here are some suggested apps for user {user_id}\")\n",
        "    for i in range(num_recs):\n",
        "        print(f\"appId: {titles[i]}\")"
      ],
      "metadata": {
        "id": "oWR-LQUDaqgL"
      },
      "execution_count": null,
      "outputs": []
    },
    {
      "cell_type": "code",
      "source": [
        "USER_ID = 358\n",
        "NUM_RECS = 10\n",
        "\n",
        "make_predictions(USER_ID, NUM_RECS)"
      ],
      "metadata": {
        "id": "7nics4WOA5-q",
        "colab": {
          "base_uri": "https://localhost:8080/"
        },
        "outputId": "839a501c-a444-4299-a29f-09922ba28358"
      },
      "execution_count": null,
      "outputs": [
        {
          "output_type": "stream",
          "name": "stdout",
          "text": [
            "This user highly selected: 4 apps only.\n",
            "Here are some apps that user 358 rated highly\n",
            "appId: B0064X7B4A\n",
            "appId: B004K4RY9M\n",
            "appId: B0063GORYU\n",
            "appId: B007NZV2HK\n",
            "\n",
            "Here are some suggested apps for user 358\n",
            "appId: B004SJ3BCI\n",
            "appId: B00FAPF5U0\n",
            "appId: B005ZXWMUS\n",
            "appId: B008JGSM6G\n",
            "appId: B0086700CM\n",
            "appId: B0063IH60K\n",
            "appId: B005HSL626\n",
            "appId: B00B2V66VS\n",
            "appId: B007ZGO7EM\n",
            "appId: B009UX2YAC\n"
          ]
        }
      ]
    },
    {
      "cell_type": "code",
      "metadata": {
        "id": "hLkRpNldrSQe"
      },
      "source": [],
      "execution_count": null,
      "outputs": []
    }
  ]
}