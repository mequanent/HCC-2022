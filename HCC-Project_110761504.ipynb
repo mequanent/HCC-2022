{
  "nbformat": 4,
  "nbformat_minor": 0,
  "metadata": {
    "colab": {
      "name": "hw1_110761504.ipynb",
      "provenance": [],
      "authorship_tag": "ABX9TyP91ahDSsvc75CrX5isW8D4",
      "include_colab_link": true
    },
    "kernelspec": {
      "name": "python3",
      "display_name": "Python 3"
    },
    "language_info": {
      "name": "python"
    }
  },
  "cells": [
    {
      "cell_type": "markdown",
      "metadata": {
        "id": "view-in-github",
        "colab_type": "text"
      },
      "source": [
        "<a href=\"https://colab.research.google.com/github/mequanent/HCC-2022/blob/main/HCC-Project_110761504.ipynb\" target=\"_parent\"><img src=\"https://colab.research.google.com/assets/colab-badge.svg\" alt=\"Open In Colab\"/></a>"
      ]
    },
    {
      "cell_type": "code",
      "source": [
        "# Clone the repository first using the following command\n",
        "!npx degit https://github.com/mequanent/HCC-2022 -f"
      ],
      "metadata": {
        "colab": {
          "base_uri": "https://localhost:8080/"
        },
        "id": "Eim-tkyVaZrg",
        "outputId": "35d630ac-8cc5-43ba-ecf6-4aacd1506b4e"
      },
      "execution_count": 1,
      "outputs": [
        {
          "output_type": "stream",
          "name": "stdout",
          "text": [
            "\u001b[K\u001b[?25hnpx: installed 1 in 2.137s\n",
            "\u001b[36m> destination directory is not empty. Using --force, continuing\u001b[39m\n",
            "\u001b[36m> cloned \u001b[1mmequanent/HCC-2022\u001b[22m#\u001b[1mHEAD\u001b[22m\u001b[39m\n"
          ]
        }
      ]
    },
    {
      "cell_type": "code",
      "source": [
        "import numpy as np\n",
        "import pandas as pd\n",
        "\n",
        "np.set_printoptions(suppress=True) # Suppress displaying the scientific notation"
      ],
      "metadata": {
        "id": "UlUbMGY6cAcx"
      },
      "execution_count": 2,
      "outputs": []
    },
    {
      "cell_type": "code",
      "source": [
        "data = pd.read_csv(\"AWARE_Comprehensive.csv\")\n",
        "data.info()"
      ],
      "metadata": {
        "id": "cyurrHfhmQ6u",
        "outputId": "168336df-231a-4c98-db8a-5984191cc319",
        "colab": {
          "base_uri": "https://localhost:8080/"
        }
      },
      "execution_count": 5,
      "outputs": [
        {
          "output_type": "stream",
          "name": "stdout",
          "text": [
            "<class 'pandas.core.frame.DataFrame'>\n",
            "RangeIndex: 11321 entries, 0 to 11320\n",
            "Data columns (total 14 columns):\n",
            " #   Column       Non-Null Count  Dtype  \n",
            "---  ------       --------------  -----  \n",
            " 0   domain       11321 non-null  object \n",
            " 1   app          11321 non-null  object \n",
            " 2   review_id    11321 non-null  object \n",
            " 3   sentence_id  11321 non-null  object \n",
            " 4   title        11321 non-null  object \n",
            " 5   review       11321 non-null  object \n",
            " 6   sentence     11321 non-null  object \n",
            " 7   rating       11321 non-null  int64  \n",
            " 8   is_opinion   11321 non-null  bool   \n",
            " 9   category     10601 non-null  object \n",
            " 10  term         6824 non-null   object \n",
            " 11  from         6825 non-null   float64\n",
            " 12  to           6825 non-null   float64\n",
            " 13  sentiment    10601 non-null  object \n",
            "dtypes: bool(1), float64(2), int64(1), object(10)\n",
            "memory usage: 1.1+ MB\n"
          ]
        }
      ]
    },
    {
      "cell_type": "code",
      "source": [
        "data.review_id.value_counts() # How many unique reviewers are there. "
      ],
      "metadata": {
        "id": "6uKoHKQPgEWG",
        "outputId": "8584af0a-ab10-4cbb-eafe-4f42dc408f30",
        "colab": {
          "base_uri": "https://localhost:8080/"
        }
      },
      "execution_count": 6,
      "outputs": [
        {
          "output_type": "execute_result",
          "data": {
            "text/plain": [
              "c8f81cdb-7947-499c-a848-134e20f33309    25\n",
              "0e8274f4-2292-4fd1-ad28-b6f085597ae8    25\n",
              "8d31d8c1-df41-428f-8287-0efa4435c31f    23\n",
              "886241a5-5141-4258-9fe0-0e0c31515ac3    23\n",
              "3c3cd1d9-218b-4120-ac08-cbce67ed96b5    23\n",
              "                                        ..\n",
              "c4f7586b-d8ba-4786-b1b6-226e3561a7d0     1\n",
              "4bd1853f-d26c-4b20-bcd6-200d44be1916     1\n",
              "a5e4f4b3-d4f4-4456-bc6d-2a50054c0255     1\n",
              "22de9dc3-aa56-4c22-bcbb-a678ff91284d     1\n",
              "d2421296-5b87-4b37-944f-b6f8983acd0d     1\n",
              "Name: review_id, Length: 4137, dtype: int64"
            ]
          },
          "metadata": {},
          "execution_count": 6
        }
      ]
    },
    {
      "cell_type": "code",
      "source": [
        "data.app.value_counts() # How many total apps are there in the dataset"
      ],
      "metadata": {
        "id": "Qp0RLZeDgFTe",
        "outputId": "34711d55-72cd-4c61-c190-a73e562229cf",
        "colab": {
          "base_uri": "https://localhost:8080/"
        }
      },
      "execution_count": 7,
      "outputs": [
        {
          "output_type": "execute_result",
          "data": {
            "text/plain": [
              "whatsapp-messenger              706\n",
              "free-tone-calling-texting       705\n",
              "discord                         700\n",
              "evernote-notes-organizer        697\n",
              "microsoft-word                  696\n",
              "gmail-email-by-google           696\n",
              "among-us-                       695\n",
              "notability                      694\n",
              "homescapes                      689\n",
              "minecraft                       679\n",
              "monopoly                        675\n",
              "heads-up                        671\n",
              "subway-surfers                  671\n",
              "facebook                        664\n",
              "things-3                        616\n",
              "forest-stay-focused             447\n",
              "teamspeak-3                     412\n",
              "threema-the-secure-messenger    208\n",
              "Name: app, dtype: int64"
            ]
          },
          "metadata": {},
          "execution_count": 7
        }
      ]
    },
    {
      "cell_type": "code",
      "source": [
        ""
      ],
      "metadata": {
        "id": "glpKemcDpNiM"
      },
      "execution_count": null,
      "outputs": []
    }
  ]
}