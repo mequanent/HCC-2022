{
  "nbformat": 4,
  "nbformat_minor": 0,
  "metadata": {
    "colab": {
      "name": "MovieLens NCF Model.ipynb",
      "provenance": [],
      "collapsed_sections": [],
      "include_colab_link": true
    },
    "kernelspec": {
      "name": "python3",
      "display_name": "Python 3"
    },
    "accelerator": "GPU"
  },
  "cells": [
    {
      "cell_type": "markdown",
      "metadata": {
        "id": "view-in-github",
        "colab_type": "text"
      },
      "source": [
        "<a href=\"https://colab.research.google.com/github/mequanent/Music-Recommendation-Exercises/blob/main/MovieLens_NCF_Model.ipynb\" target=\"_parent\"><img src=\"https://colab.research.google.com/assets/colab-badge.svg\" alt=\"Open In Colab\"/></a>"
      ]
    },
    {
      "cell_type": "markdown",
      "metadata": {
        "id": "LknuzFS4CcqM"
      },
      "source": [
        "# MovieLens Neural Collaborative Filtering (NCF) Model\n",
        "This notebook creates and evaluates a neural network based recommendation model, based on NCF (Neural Collaborative Filtering).\n",
        "\n",
        "We follow these steps:  \n",
        "1. Data preparation - download the raw dataset, and prepare it for training and evaluation.\n",
        "1. Model authoring - build the NCF neural network\n",
        "1. Model training and evaluation - train our new model and benchmark it\n",
        "\n",
        "Let's get to it!"
      ]
    },
    {
      "cell_type": "markdown",
      "metadata": {
        "id": "sS8ZU04gEPDH"
      },
      "source": [
        "## Step 1: Data preparation\n",
        "We will start by loading the dataset"
      ]
    },
    {
      "cell_type": "code",
      "metadata": {
        "colab": {
          "base_uri": "https://localhost:8080/"
        },
        "id": "uwHbxAhlCM94",
        "outputId": "29073c22-1665-4fb5-c52d-59e69f1e5397"
      },
      "source": [
        "from pathlib import Path\n",
        "import shutil\n",
        "import tempfile\n",
        "import urllib.request\n",
        "from urllib.request import urlopen\n",
        "import zipfile\n",
        "import pandas as pd\n",
        "\n",
        "def load_movielens_dataset(dataset_name : str = 'ml-latest', workspace_path : str = Path.home() / 'data//movielens'):\n",
        "  \"\"\"\n",
        "  Downloads, extracts, and loads MovieLens dataset \n",
        "\n",
        "  Args:\n",
        "  dataset_name (string): dataset name to load, defaults to 'ml_latest'. Options listed here: https://grouplens.org/datasets/movielens/\n",
        "  workspace_path (string): workspace path to use for downloading and extracting the archive, defaults to ~/data/movielens\n",
        "  \"\"\"\n",
        "    \n",
        "  archive_url = f'http://files.grouplens.org/datasets/movielens/{dataset_name}.zip'\n",
        "\n",
        "  print(f'Downloading archive from: {archive_url}, this may take a few minutes...')\n",
        "  \n",
        "  with urllib.request.urlopen(archive_url) as response:\n",
        "    with tempfile.NamedTemporaryFile(delete=True) as tmp_file:\n",
        "      shutil.copyfileobj(response, tmp_file)\n",
        "      with zipfile.ZipFile(tmp_file) as archive:\n",
        "        archive.extractall(workspace_path)\n",
        "\n",
        "  print(f'Archive files available at workspace: {workspace_path}')\n",
        "\n",
        "  ratings = pd.read_csv(f'{workspace_path}/{dataset_name}/ratings.csv')\n",
        "  movies = pd.read_csv(f'{workspace_path}/{dataset_name}/movies.csv')\n",
        "\n",
        "  print(f'Loaded {ratings.shape[0]:,} ratings and {movies.shape[0]:,} movies.')\n",
        "\n",
        "  return ratings, movies\n",
        "\n",
        "# Let's load some movie ratings!\n",
        "ratings, movies = load_movielens_dataset(dataset_name='ml-latest')\n",
        "user_count = ratings[\"userId\"].nunique()\n",
        "movie_count = movies[\"movieId\"].nunique()"
      ],
      "execution_count": null,
      "outputs": [
        {
          "output_type": "stream",
          "text": [
            "Downloading archive from: http://files.grouplens.org/datasets/movielens/ml-latest.zip, this may take a few minutes...\n",
            "Archive files available at workspace: /root/data/movielens\n",
            "Loaded 27,753,444 ratings and 58,098 movies.\n"
          ],
          "name": "stdout"
        }
      ]
    },
    {
      "cell_type": "code",
      "metadata": {
        "colab": {
          "base_uri": "https://localhost:8080/"
        },
        "id": "KpV-O70OEgzU",
        "outputId": "d7dd59fa-a252-4de6-acdc-bef796244859"
      },
      "source": [
        "# Let's peek into the loaded DataFrames\n",
        "print('Sneak peek into the ratings DataFrame:\\n\\n', ratings.head(), '\\n')\n",
        "print(f'Number of users: {user_count:,}')\n",
        "print(f'Number of ratings: {ratings.shape[0]:,}')\n",
        "print(f'Number of rated movies: {ratings[\"movieId\"].nunique():,}\\n')\n",
        "print(f'Sneak peek into the movies DataFrame:\\n\\n', movies.head(), '\\n')\n",
        "print(f'Number of movies: {movie_count:,} - notice this is higher than the number of rated movies!')\n"
      ],
      "execution_count": null,
      "outputs": [
        {
          "output_type": "stream",
          "text": [
            "Sneak peek into the ratings DataFrame:\n",
            "\n",
            "    userId  movieId  rating   timestamp\n",
            "0       1      307     3.5  1256677221\n",
            "1       1      481     3.5  1256677456\n",
            "2       1     1091     1.5  1256677471\n",
            "3       1     1257     4.5  1256677460\n",
            "4       1     1449     4.5  1256677264 \n",
            "\n",
            "Number of users: 283,228\n",
            "Number of ratings: 27,753,444\n",
            "Number of rated movies: 53,889\n",
            "\n",
            "Sneak peek into the movies DataFrame:\n",
            "\n",
            "    movieId  ...                                       genres\n",
            "0        1  ...  Adventure|Animation|Children|Comedy|Fantasy\n",
            "1        2  ...                   Adventure|Children|Fantasy\n",
            "2        3  ...                               Comedy|Romance\n",
            "3        4  ...                         Comedy|Drama|Romance\n",
            "4        5  ...                                       Comedy\n",
            "\n",
            "[5 rows x 3 columns] \n",
            "\n",
            "Number of movies: 58,098 - notice this is higher than the number of rated movies!\n"
          ],
          "name": "stdout"
        }
      ]
    },
    {
      "cell_type": "markdown",
      "metadata": {
        "id": "p_luX10eEzs_"
      },
      "source": [
        "Next we divide our dataset into train and test, so we can later train and valuate the model."
      ]
    },
    {
      "cell_type": "code",
      "metadata": {
        "colab": {
          "base_uri": "https://localhost:8080/"
        },
        "id": "h7gg9WPUEkv5",
        "outputId": "0c699534-c516-431b-d2dc-6290a0a7da41"
      },
      "source": [
        "import numpy as np\n",
        "\n",
        "# Define our input and labels data X,Y\n",
        "X = ratings[['userId','movieId']]\n",
        "Y = ratings['rating'].astype(np.float32)\n",
        "\n",
        "# Let's set the split ratio and run the split\n",
        "from sklearn.model_selection import train_test_split\n",
        "random_state = 7\n",
        "test_size = 0.2\n",
        "\n",
        "X_train, X_test, Y_train, Y_test = train_test_split(X, Y, test_size = test_size, random_state = random_state)\n",
        "datasets = {'train': (X_train, Y_train), 'test': (X_test, Y_test)}\n",
        "\n",
        "print(f'Training dataset sample size: {len(X_train):,} positive samples ({len(X_train)/len(X)*100:.0f}%)')\n",
        "print(f'Test dataset sample size: {len(X_test):,} positive samples ({len(X_test)/len(X)*100:.0f}%)')\n",
        "print(f'Total dataset sample size: {len(X):,} positive samples (100%)')"
      ],
      "execution_count": null,
      "outputs": [
        {
          "output_type": "stream",
          "text": [
            "Training dataset sample size: 22,202,755 positive samples (80%)\n",
            "Test dataset sample size: 5,550,689 positive samples (20%)\n",
            "Total dataset sample size: 27,753,444 positive samples (100%)\n"
          ],
          "name": "stdout"
        }
      ]
    },
    {
      "cell_type": "markdown",
      "metadata": {
        "id": "r2LPA8jcFpkj"
      },
      "source": [
        "## Step 2: Model authoring\n",
        "\n",
        "We will move ahead to build the NCF neural network.  \n",
        "\n",
        "Our model will learn to predict a user's rating for a given movie by learning  user and movie representations via dense embeddings, as well as user-item interactions via MLP (Multi Layer Perceptron).\n",
        "\n",
        "Details of the architecture are in the [2017 paper by He et al.](https://dl.acm.org/doi/pdf/10.1145/3038912.3052569)"
      ]
    },
    {
      "cell_type": "code",
      "metadata": {
        "id": "uMfJLjS_GvLw"
      },
      "source": [
        "import torch\n",
        "from torch import nn\n",
        "\n",
        "class NeuralColabFilteringNet(nn.Module):\n",
        "    \"\"\"\n",
        "    Creates an NCF (Neural Collaborative Filtering) network, with configurable model architecture\n",
        "    \n",
        "    Args:\n",
        "    user_count(int): Number of unique users in the dataset\n",
        "    movie_count(int): Number of unique movies in the dataset\n",
        "    embedding_size(int)[Optional]: Size of the user and movie embedding, defaults to 32\n",
        "    hidden_layers(tuple)[Optional]: Tuple of integers defining the number of hidden MLP layers and the number of units in each layer, defaults to (64,32,16,8)\n",
        "    dropout_rate(float)[Optional]: Dropout rate to apply after each layer in the range of [0 1], defaults to None\n",
        "    output_range(tuple)[Optional]: Represents the output range, defaults to (1 5) per the star ratings\n",
        "    \"\"\"\n",
        "    def __init__(self, \n",
        "                 user_count,\n",
        "                 movie_count,\n",
        "                 embedding_size=32,\n",
        "                 hidden_layers=(64, 32, 16, 8),\n",
        "                 dropout_rate=None,\n",
        "                 output_range=(1, 5)):\n",
        "      super().__init__()\n",
        "      \n",
        "      # Initialize embedding hash sizes\n",
        "      self.user_hash_size = user_count\n",
        "      self.movie_hash_size = movie_count\n",
        "\n",
        "      # Initialize the model architecture components\n",
        "      self.user_embedding = nn.Embedding(user_count, embedding_size)\n",
        "      self.movie_embedding = nn.Embedding(movie_count, embedding_size)\n",
        "      self.MLP = self._gen_MLP(embedding_size, hidden_layers, dropout_rate)\n",
        "      if (dropout_rate):\n",
        "        self.dropout = nn.Dropout(dropout_rate)\n",
        "      \n",
        "      # Initialize output normalization parameters \n",
        "      assert output_range and len(output_range) == 2, \"output_range has to be a tuple with two integers\"\n",
        "      self.norm_min = min(output_range)\n",
        "      self.norm_range = abs(output_range[0] - output_range[1]) + 1\n",
        "\n",
        "      self._init_params()\n",
        "    \n",
        "    def _gen_MLP(self, embedding_size, hidden_layers_units, dropout_rate):\n",
        "      \"Generates the MLP portion of the model architecture\"\n",
        "\n",
        "      assert (embedding_size * 2) == hidden_layers_units[0], \"First input layer number of units has to be equal to twice the embedding size!\"\n",
        "      \n",
        "      hidden_layers = []\n",
        "      input_units = hidden_layers_units[0]\n",
        "\n",
        "      for num_units in hidden_layers_units[1:]:\n",
        "        hidden_layers.append(nn.Linear(input_units, num_units))\n",
        "        hidden_layers.append(nn.ReLU())\n",
        "        if (dropout_rate):\n",
        "          hidden_layers.append(nn.Dropout(dropout_rate))\n",
        "        input_units = num_units\n",
        "      \n",
        "      hidden_layers.append(nn.Linear(hidden_layers_units[-1], 1))\n",
        "      hidden_layers.append(nn.Sigmoid())\n",
        "      return nn.Sequential(*hidden_layers)\n",
        "    \n",
        "    def _init_params(self):\n",
        "      \"Initializes model parameters\"\n",
        "      def weights_init(m):\n",
        "          if type(m) == nn.Linear:\n",
        "              torch.nn.init.xavier_uniform_(m.weight)\n",
        "              m.bias.data.fill_(0.01)\n",
        "              \n",
        "      self.user_embedding.weight.data.uniform_(-0.05, 0.05)\n",
        "      self.movie_embedding.weight.data.uniform_(-0.05, 0.05)\n",
        "      self.MLP.apply(weights_init)\n",
        "\n",
        "    def forward(self, user_id, movie_id):\n",
        "      \"Computes forward pass\"\n",
        "      user_features = self.user_embedding(user_id % self.user_hash_size)\n",
        "      movie_features = self.movie_embedding(movie_id % self.movie_hash_size)\n",
        "      x = torch.cat([user_features, movie_features], dim=1)\n",
        "      if hasattr(self, 'dropout'):\n",
        "        x = self.dropout(x)\n",
        "      x = self.MLP(x)\n",
        "      normalized_output = x * self.norm_range + self.norm_min\n",
        "      return normalized_output"
      ],
      "execution_count": null,
      "outputs": []
    },
    {
      "cell_type": "code",
      "metadata": {
        "colab": {
          "base_uri": "https://localhost:8080/"
        },
        "id": "2kXK1BOin3ve",
        "outputId": "c9a0ce61-60d4-4440-8e44-25c2e520637a"
      },
      "source": [
        "# Now let's instantiate an NCF model and try a prediction with uninitialized weights\n",
        "ncf = NeuralColabFilteringNet(user_count, movie_count)\n",
        "print(f\"Our model architecture:\\n\\n{ncf}\\n\")\n",
        "\n",
        "# Let's look at the model size\n",
        "num_params = sum(p.numel() for p in ncf.parameters())\n",
        "print(f'Number of model parameters: {num_params:,}, model training size: {num_params*4/(1024**2):.2f} MB')"
      ],
      "execution_count": null,
      "outputs": [
        {
          "output_type": "stream",
          "text": [
            "Our model architecture:\n",
            "\n",
            "NeuralColabFilteringNet(\n",
            "  (user_embedding): Embedding(283228, 32)\n",
            "  (movie_embedding): Embedding(58098, 32)\n",
            "  (MLP): Sequential(\n",
            "    (0): Linear(in_features=64, out_features=32, bias=True)\n",
            "    (1): ReLU()\n",
            "    (2): Linear(in_features=32, out_features=16, bias=True)\n",
            "    (3): ReLU()\n",
            "    (4): Linear(in_features=16, out_features=8, bias=True)\n",
            "    (5): ReLU()\n",
            "    (6): Linear(in_features=8, out_features=1, bias=True)\n",
            "    (7): Sigmoid()\n",
            "  )\n",
            ")\n",
            "\n",
            "Number of model parameters: 10,925,185, model training size: 41.68 MB\n"
          ],
          "name": "stdout"
        }
      ]
    },
    {
      "cell_type": "code",
      "metadata": {
        "colab": {
          "base_uri": "https://localhost:8080/"
        },
        "id": "pmGZcbvvPiDT",
        "outputId": "f7562ab0-e23d-4512-d96a-3d83fb67b55f"
      },
      "source": [
        "from random import randrange\n",
        "ncf.eval()\n",
        "\n",
        "# Let's try a random prediction\n",
        "ratings_row = randrange(0, ratings.shape[0] - 1)\n",
        "test_user = int(ratings.iloc[ratings_row].userId)\n",
        "test_movie = int(ratings.iloc[ratings_row].movieId)\n",
        "actual_rating = ratings.iloc[ratings_row].rating\n",
        "\n",
        "ncf.to('cpu')\n",
        "predicted_rating = ncf(torch.tensor([test_user]), torch.tensor([test_movie]))\n",
        "print(f\"Dry run prediction for user-id:{test_user} and movie-id:{test_movie} is: {predicted_rating[0][0]}, actual rating is: {actual_rating}\")"
      ],
      "execution_count": null,
      "outputs": [
        {
          "output_type": "stream",
          "text": [
            "Dry run prediction for user-id:47642 and movie-id:648 is: 3.409848213195801, actual rating is: 3.0\n"
          ],
          "name": "stdout"
        }
      ]
    },
    {
      "cell_type": "markdown",
      "metadata": {
        "id": "LwL1IgIyvalx"
      },
      "source": [
        "## Step 3: Model training and evaluation\n",
        "Finally, we will train and evaluate the NCF model we created."
      ]
    },
    {
      "cell_type": "code",
      "metadata": {
        "id": "Y3d9kwzvvhmp"
      },
      "source": [
        "# We define an iterator to go over the dataset in batches\n",
        "import numpy as np\n",
        "import math\n",
        "\n",
        "class DatasetBatchIterator:\n",
        "  \"Iterates over labaled dataset in batches\"\n",
        "  def __init__(self, X, Y, batch_size, shuffle=True):\n",
        "    self.X = np.asarray(X)\n",
        "    self.Y = np.asarray(Y)\n",
        "    \n",
        "    if shuffle:\n",
        "      index = np.random.permutation(X.shape[0])\n",
        "      X = self.X[index]\n",
        "      Y = self.Y[index]\n",
        "\n",
        "    self.batch_size = batch_size\n",
        "    self.n_batches = int(math.ceil(X.shape[0] / batch_size))\n",
        "    self._current = 0 \n",
        "        \n",
        "  def __iter__(self):\n",
        "    return self\n",
        "    \n",
        "  def __next__(self):\n",
        "    return self.next()\n",
        "    \n",
        "  def next(self):\n",
        "    if self._current >= self.n_batches:\n",
        "      raise StopIteration()\n",
        "    k = self._current\n",
        "    self._current += 1\n",
        "    bs = self.batch_size\n",
        "    X_batch = torch.LongTensor(self.X[k*bs:(k + 1)*bs])\n",
        "    Y_batch = torch.FloatTensor(self.Y[k*bs:(k + 1)*bs])\n",
        "\n",
        "    return X_batch, Y_batch.view(-1, 1)"
      ],
      "execution_count": null,
      "outputs": []
    },
    {
      "cell_type": "code",
      "metadata": {
        "colab": {
          "base_uri": "https://localhost:8080/"
        },
        "id": "0KztOQCXWKBu",
        "outputId": "6fbb0d10-891a-4d65-95fb-632e6f890d03"
      },
      "source": [
        "# Reset model's parameters, in case the cell is re-run\n",
        "ncf._init_params()\n",
        "ncf.train()\n",
        "\n",
        "import time\n",
        "from torch import optim\n",
        "import copy\n",
        "\n",
        "# Hyper parameters\n",
        "lr = 1e-3\n",
        "wd = 1e-4\n",
        "batch_size = 2046\n",
        "max_epochs = 50\n",
        "early_stop_epoch_threshold = 3\n",
        "\n",
        "# Training loop control parameters\n",
        "no_loss_reduction_epoch_counter = 0\n",
        "min_loss = np.inf\n",
        "min_loss_model_weights = None\n",
        "history = []\n",
        "iterations_per_epoch = int(math.ceil(len(datasets['train']) // batch_size))\n",
        "min_epoch_number = 1\n",
        "epoch_start_time = 0\n",
        "\n",
        "# Setup GPU, if available, else default to CPU\n",
        "device = torch.device('cuda:0' if torch.cuda.is_available() else 'cpu')\n",
        "ncf.to(device)\n",
        "print(f'Device configured: {device}')\n",
        "\n",
        "# Configure loss and optimizer\n",
        "loss_criterion = nn.MSELoss(reduction='sum')\n",
        "optimizer = optim.Adam(ncf.parameters(), lr=lr, weight_decay=wd)\n",
        "\n",
        "# Training loop - iterate over epochs, with early stopping\n",
        "print(f'Starting training loop...')\n",
        "training_start_time = time.perf_counter()\n",
        "for epoch in range(max_epochs):\n",
        "  stats = {'epoch': epoch + 1, 'total': max_epochs}\n",
        "  epoch_start_time = time.perf_counter()\n",
        "\n",
        "  # Every epoch runs training on train set, followed by eval on test set\n",
        "  for phase in ('train', 'test'):\n",
        "    is_training = phase == 'train'\n",
        "    ncf.train(is_training)\n",
        "    running_loss = 0.0\n",
        "    n_batches = 0\n",
        "      \n",
        "    # Iterate on train/test datasets in batches\n",
        "    for x_batch, y_batch in DatasetBatchIterator(datasets[phase][0], datasets[phase][1], batch_size=batch_size, shuffle=is_training):\n",
        "      x_batch, y_batch = x_batch.to(device), y_batch.to(device)\n",
        "          \n",
        "      # We zero out the loss gradient, since PyTorch by default accumulates gradients  \n",
        "      optimizer.zero_grad()\n",
        "\n",
        "      # We need to compute gradients only during training\n",
        "      with torch.set_grad_enabled(is_training):\n",
        "        outputs = ncf(x_batch[:, 0], x_batch[:, 1])\n",
        "        loss = loss_criterion(outputs, y_batch)\n",
        "\n",
        "        if is_training:\n",
        "          loss.backward()\n",
        "          optimizer.step()\n",
        "          \n",
        "      running_loss += loss.item()\n",
        "        \n",
        "    # Compute overall epoch loss and update history tracker\n",
        "    epoch_loss = running_loss / len(datasets[phase][0])\n",
        "    stats[phase] = epoch_loss\n",
        "    history.append(stats)\n",
        "    \n",
        "    # Handle early stopping\n",
        "    if phase == 'test':\n",
        "      stats['time'] = time.perf_counter() - epoch_start_time\n",
        "      print('Epoch [{epoch:03d}/{total:03d}][Time:{time:.2f} sec] Train Loss: {train:.4f} / Validation Loss: {test:.4f}'.format(**stats))\n",
        "      if epoch_loss < min_loss:\n",
        "        min_loss = epoch_loss\n",
        "        min_loss_model_weights = copy.deepcopy(ncf.state_dict())\n",
        "        no_loss_reduction_epoch_counter = 0\n",
        "        min_epoch_number = epoch + 1\n",
        "      else:\n",
        "        no_loss_reduction_epoch_counter += 1\n",
        "  if no_loss_reduction_epoch_counter >= early_stop_epoch_threshold:\n",
        "    print(f'Early stopping applied. Minimal epoch: {min_epoch_number}')\n",
        "    break\n",
        "\n",
        "print(f'Training completion duration: {(time.perf_counter() - training_start_time):.2f} sec. Validation Loss: {min_loss}')"
      ],
      "execution_count": null,
      "outputs": [
        {
          "output_type": "stream",
          "text": [
            "Device configured: cuda:0\n",
            "Starting training loop...\n",
            "Epoch [001/050][Time:77.25 sec] Train Loss: 0.7508 / Validation Loss: 0.7078\n",
            "Epoch [002/050][Time:77.05 sec] Train Loss: 0.6740 / Validation Loss: 0.6806\n",
            "Epoch [003/050][Time:77.04 sec] Train Loss: 0.6239 / Validation Loss: 0.6772\n",
            "Epoch [004/050][Time:77.01 sec] Train Loss: 0.5847 / Validation Loss: 0.6842\n",
            "Epoch [005/050][Time:76.33 sec] Train Loss: 0.5578 / Validation Loss: 0.6933\n",
            "Epoch [006/050][Time:76.29 sec] Train Loss: 0.5388 / Validation Loss: 0.7037\n",
            "Early stopping applied. Minimal epoch: 3\n",
            "Training completion duration: 460.98 sec. Validation Loss: 0.6772053082155587\n"
          ],
          "name": "stdout"
        }
      ]
    },
    {
      "cell_type": "code",
      "metadata": {
        "colab": {
          "base_uri": "https://localhost:8080/"
        },
        "id": "wDntSeO4nsY1",
        "outputId": "8c65cf6d-44d2-49d2-92a3-671010cf455d"
      },
      "source": [
        "# Now let's check out the learning curves\n",
        "pd.DataFrame(history).drop(columns=['total','time']).plot(x='epoch', figsize=(12,6), title=\"NCF Model Learning Curves\")"
      ],
      "execution_count": null,
      "outputs": [
        {
          "output_type": "execute_result",
          "data": {
            "text/plain": [
              "<matplotlib.axes._subplots.AxesSubplot at 0x7feeb812d5f8>"
            ]
          },
          "metadata": {
            "tags": []
          },
          "execution_count": 9
        },
        {
          "output_type": "display_data",
          "data": {
            "image/png": "[encoded data removed]",
            "text/plain": [
              "<Figure size 864x432 with 1 Axes>"
            ]
          },
          "metadata": {
            "tags": [],
            "needs_background": "light"
          }
        }
      ]
    },
    {
      "cell_type": "code",
      "metadata": {
        "colab": {
          "base_uri": "https://localhost:8080/"
        },
        "id": "Ew4Wq_IRoWQw",
        "outputId": "3c91d723-5be1-47e6-ba83-6e3f6f912402"
      },
      "source": [
        "# Let's go ahead and compute the model accuracy metric, we'll go with RMSE\n",
        "\n",
        "ncf.load_state_dict(min_loss_model_weights)\n",
        "ncf.eval()\n",
        "groud_truth, predictions = [], []\n",
        "\n",
        "with torch.no_grad():\n",
        "    for x_batch, y_batch in DatasetBatchIterator(datasets['test'][0], datasets['test'][1], batch_size=batch_size, shuffle=False):\n",
        "      x_batch, y_batch = x_batch.to(device), y_batch.to(device)\n",
        "      outputs = ncf(x_batch[:, 0], x_batch[:, 1])\n",
        "      groud_truth.extend(y_batch.tolist())\n",
        "      predictions.extend(outputs.tolist())\n",
        "\n",
        "groud_truth = np.asarray(groud_truth).ravel()\n",
        "predictions = np.asarray(predictions).ravel()\n",
        "\n",
        "RMSE = np.sqrt(np.mean((predictions - groud_truth)**2))\n",
        "print(f'Final RMSE: {RMSE:.4f}')"
      ],
      "execution_count": null,
      "outputs": [
        {
          "output_type": "stream",
          "text": [
            "Final RMSE: 0.8208\n"
          ],
          "name": "stdout"
        }
      ]
    },
    {
      "cell_type": "code",
      "metadata": {
        "colab": {
          "base_uri": "https://localhost:8080/"
        },
        "id": "b87Zp1NlZ9Nn",
        "outputId": "24612951-0050-4b84-f148-403e9e1f80b4"
      },
      "source": [
        "# Let's try a few random prediction on the test set, just for fun!\n",
        "\n",
        "from random  import randrange\n",
        "\n",
        "ratings_row = randrange(0, len(datasets['test'][0]) - 1)\n",
        "test_user = int(datasets['test'][0].iloc[ratings_row].userId)\n",
        "test_movie = int(datasets['test'][0].iloc[ratings_row].movieId)\n",
        "actual_rating = datasets['test'][1].iloc[ratings_row]\n",
        "\n",
        "ncf.to('cpu')\n",
        "ncf.eval()\n",
        "predicted_rating = ncf(torch.tensor([test_user]), torch.tensor([test_movie]))\n",
        "print(f\"Dry run prediction for user-id:{test_user} and movie-id:{test_movie} is: {predicted_rating[0][0]}, actual rating is: {actual_rating}\")"
      ],
      "execution_count": null,
      "outputs": [
        {
          "output_type": "stream",
          "text": [
            "Dry run prediction for user-id:239670 and movie-id:1042 is: 3.0937116146087646, actual rating is: 3.0\n"
          ],
          "name": "stdout"
        }
      ]
    }
  ]
}