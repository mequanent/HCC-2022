{
  "nbformat": 4,
  "nbformat_minor": 0,
  "metadata": {
    "colab": {
      "name": "Tutorial.ipynb",
      "provenance": [],
      "collapsed_sections": [],
      "include_colab_link": true
    },
    "kernelspec": {
      "display_name": "Python 3",
      "name": "python3"
    },
    "language_info": {
      "name": "python"
    },
    "widgets": {
      "application/vnd.jupyter.widget-state+json": {
        "b88f1852aa524e4fa5f52942c76b4c6d": {
          "model_module": "@jupyter-widgets/controls",
          "model_name": "HBoxModel",
          "model_module_version": "1.5.0",
          "state": {
            "_dom_classes": [],
            "_model_module": "@jupyter-widgets/controls",
            "_model_module_version": "1.5.0",
            "_model_name": "HBoxModel",
            "_view_count": null,
            "_view_module": "@jupyter-widgets/controls",
            "_view_module_version": "1.5.0",
            "_view_name": "HBoxView",
            "box_style": "",
            "children": [
              "IPY_MODEL_8c1d5816a970401a919da195d74f7d80",
              "IPY_MODEL_932f6e30e90a40468d65e8e18e6429db",
              "IPY_MODEL_fd4528c6560245158a51a9b8eaeb1137"
            ],
            "layout": "IPY_MODEL_c6fdd2321b9d4f7f84ea650524796b79"
          }
        },
        "8c1d5816a970401a919da195d74f7d80": {
          "model_module": "@jupyter-widgets/controls",
          "model_name": "HTMLModel",
          "model_module_version": "1.5.0",
          "state": {
            "_dom_classes": [],
            "_model_module": "@jupyter-widgets/controls",
            "_model_module_version": "1.5.0",
            "_model_name": "HTMLModel",
            "_view_count": null,
            "_view_module": "@jupyter-widgets/controls",
            "_view_module_version": "1.5.0",
            "_view_name": "HTMLView",
            "description": "",
            "description_tooltip": null,
            "layout": "IPY_MODEL_d5e9f59e568944b98b37bf377007bcee",
            "placeholder": "​",
            "style": "IPY_MODEL_16aba4a63ba44d72a9691a289bc0dc7a",
            "value": "100%"
          }
        },
        "932f6e30e90a40468d65e8e18e6429db": {
          "model_module": "@jupyter-widgets/controls",
          "model_name": "FloatProgressModel",
          "model_module_version": "1.5.0",
          "state": {
            "_dom_classes": [],
            "_model_module": "@jupyter-widgets/controls",
            "_model_module_version": "1.5.0",
            "_model_name": "FloatProgressModel",
            "_view_count": null,
            "_view_module": "@jupyter-widgets/controls",
            "_view_module_version": "1.5.0",
            "_view_name": "ProgressView",
            "bar_style": "success",
            "description": "",
            "description_tooltip": null,
            "layout": "IPY_MODEL_82931d3052e24ba0a9cf2a183b72ba75",
            "max": 2,
            "min": 0,
            "orientation": "horizontal",
            "style": "IPY_MODEL_fb72d9b596a64cf38ed74b5459e74ded",
            "value": 2
          }
        },
        "fd4528c6560245158a51a9b8eaeb1137": {
          "model_module": "@jupyter-widgets/controls",
          "model_name": "HTMLModel",
          "model_module_version": "1.5.0",
          "state": {
            "_dom_classes": [],
            "_model_module": "@jupyter-widgets/controls",
            "_model_module_version": "1.5.0",
            "_model_name": "HTMLModel",
            "_view_count": null,
            "_view_module": "@jupyter-widgets/controls",
            "_view_module_version": "1.5.0",
            "_view_name": "HTMLView",
            "description": "",
            "description_tooltip": null,
            "layout": "IPY_MODEL_81ee46329ba64eeca7e16bd42aae8365",
            "placeholder": "​",
            "style": "IPY_MODEL_128849419f68400ab7742e4cda912935",
            "value": " 2/2 [03:09&lt;00:00, 94.78s/it]"
          }
        },
        "c6fdd2321b9d4f7f84ea650524796b79": {
          "model_module": "@jupyter-widgets/base",
          "model_name": "LayoutModel",
          "model_module_version": "1.2.0",
          "state": {
            "_model_module": "@jupyter-widgets/base",
            "_model_module_version": "1.2.0",
            "_model_name": "LayoutModel",
            "_view_count": null,
            "_view_module": "@jupyter-widgets/base",
            "_view_module_version": "1.2.0",
            "_view_name": "LayoutView",
            "align_content": null,
            "align_items": null,
            "align_self": null,
            "border": null,
            "bottom": null,
            "display": null,
            "flex": null,
            "flex_flow": null,
            "grid_area": null,
            "grid_auto_columns": null,
            "grid_auto_flow": null,
            "grid_auto_rows": null,
            "grid_column": null,
            "grid_gap": null,
            "grid_row": null,
            "grid_template_areas": null,
            "grid_template_columns": null,
            "grid_template_rows": null,
            "height": null,
            "justify_content": null,
            "justify_items": null,
            "left": null,
            "margin": null,
            "max_height": null,
            "max_width": null,
            "min_height": null,
            "min_width": null,
            "object_fit": null,
            "object_position": null,
            "order": null,
            "overflow": null,
            "overflow_x": null,
            "overflow_y": null,
            "padding": null,
            "right": null,
            "top": null,
            "visibility": null,
            "width": null
          }
        },
        "d5e9f59e568944b98b37bf377007bcee": {
          "model_module": "@jupyter-widgets/base",
          "model_name": "LayoutModel",
          "model_module_version": "1.2.0",
          "state": {
            "_model_module": "@jupyter-widgets/base",
            "_model_module_version": "1.2.0",
            "_model_name": "LayoutModel",
            "_view_count": null,
            "_view_module": "@jupyter-widgets/base",
            "_view_module_version": "1.2.0",
            "_view_name": "LayoutView",
            "align_content": null,
            "align_items": null,
            "align_self": null,
            "border": null,
            "bottom": null,
            "display": null,
            "flex": null,
            "flex_flow": null,
            "grid_area": null,
            "grid_auto_columns": null,
            "grid_auto_flow": null,
            "grid_auto_rows": null,
            "grid_column": null,
            "grid_gap": null,
            "grid_row": null,
            "grid_template_areas": null,
            "grid_template_columns": null,
            "grid_template_rows": null,
            "height": null,
            "justify_content": null,
            "justify_items": null,
            "left": null,
            "margin": null,
            "max_height": null,
            "max_width": null,
            "min_height": null,
            "min_width": null,
            "object_fit": null,
            "object_position": null,
            "order": null,
            "overflow": null,
            "overflow_x": null,
            "overflow_y": null,
            "padding": null,
            "right": null,
            "top": null,
            "visibility": null,
            "width": null
          }
        },
        "16aba4a63ba44d72a9691a289bc0dc7a": {
          "model_module": "@jupyter-widgets/controls",
          "model_name": "DescriptionStyleModel",
          "model_module_version": "1.5.0",
          "state": {
            "_model_module": "@jupyter-widgets/controls",
            "_model_module_version": "1.5.0",
            "_model_name": "DescriptionStyleModel",
            "_view_count": null,
            "_view_module": "@jupyter-widgets/base",
            "_view_module_version": "1.2.0",
            "_view_name": "StyleView",
            "description_width": ""
          }
        },
        "82931d3052e24ba0a9cf2a183b72ba75": {
          "model_module": "@jupyter-widgets/base",
          "model_name": "LayoutModel",
          "model_module_version": "1.2.0",
          "state": {
            "_model_module": "@jupyter-widgets/base",
            "_model_module_version": "1.2.0",
            "_model_name": "LayoutModel",
            "_view_count": null,
            "_view_module": "@jupyter-widgets/base",
            "_view_module_version": "1.2.0",
            "_view_name": "LayoutView",
            "align_content": null,
            "align_items": null,
            "align_self": null,
            "border": null,
            "bottom": null,
            "display": null,
            "flex": null,
            "flex_flow": null,
            "grid_area": null,
            "grid_auto_columns": null,
            "grid_auto_flow": null,
            "grid_auto_rows": null,
            "grid_column": null,
            "grid_gap": null,
            "grid_row": null,
            "grid_template_areas": null,
            "grid_template_columns": null,
            "grid_template_rows": null,
            "height": null,
            "justify_content": null,
            "justify_items": null,
            "left": null,
            "margin": null,
            "max_height": null,
            "max_width": null,
            "min_height": null,
            "min_width": null,
            "object_fit": null,
            "object_position": null,
            "order": null,
            "overflow": null,
            "overflow_x": null,
            "overflow_y": null,
            "padding": null,
            "right": null,
            "top": null,
            "visibility": null,
            "width": null
          }
        },
        "fb72d9b596a64cf38ed74b5459e74ded": {
          "model_module": "@jupyter-widgets/controls",
          "model_name": "ProgressStyleModel",
          "model_module_version": "1.5.0",
          "state": {
            "_model_module": "@jupyter-widgets/controls",
            "_model_module_version": "1.5.0",
            "_model_name": "ProgressStyleModel",
            "_view_count": null,
            "_view_module": "@jupyter-widgets/base",
            "_view_module_version": "1.2.0",
            "_view_name": "StyleView",
            "bar_color": null,
            "description_width": ""
          }
        },
        "81ee46329ba64eeca7e16bd42aae8365": {
          "model_module": "@jupyter-widgets/base",
          "model_name": "LayoutModel",
          "model_module_version": "1.2.0",
          "state": {
            "_model_module": "@jupyter-widgets/base",
            "_model_module_version": "1.2.0",
            "_model_name": "LayoutModel",
            "_view_count": null,
            "_view_module": "@jupyter-widgets/base",
            "_view_module_version": "1.2.0",
            "_view_name": "LayoutView",
            "align_content": null,
            "align_items": null,
            "align_self": null,
            "border": null,
            "bottom": null,
            "display": null,
            "flex": null,
            "flex_flow": null,
            "grid_area": null,
            "grid_auto_columns": null,
            "grid_auto_flow": null,
            "grid_auto_rows": null,
            "grid_column": null,
            "grid_gap": null,
            "grid_row": null,
            "grid_template_areas": null,
            "grid_template_columns": null,
            "grid_template_rows": null,
            "height": null,
            "justify_content": null,
            "justify_items": null,
            "left": null,
            "margin": null,
            "max_height": null,
            "max_width": null,
            "min_height": null,
            "min_width": null,
            "object_fit": null,
            "object_position": null,
            "order": null,
            "overflow": null,
            "overflow_x": null,
            "overflow_y": null,
            "padding": null,
            "right": null,
            "top": null,
            "visibility": null,
            "width": null
          }
        },
        "128849419f68400ab7742e4cda912935": {
          "model_module": "@jupyter-widgets/controls",
          "model_name": "DescriptionStyleModel",
          "model_module_version": "1.5.0",
          "state": {
            "_model_module": "@jupyter-widgets/controls",
            "_model_module_version": "1.5.0",
            "_model_name": "DescriptionStyleModel",
            "_view_count": null,
            "_view_module": "@jupyter-widgets/base",
            "_view_module_version": "1.2.0",
            "_view_name": "StyleView",
            "description_width": ""
          }
        }
      }
    }
  },
  "cells": [
    {
      "cell_type": "markdown",
      "metadata": {
        "id": "view-in-github",
        "colab_type": "text"
      },
      "source": [
        "<a href=\"https://colab.research.google.com/github/mequanent/Music-Recommendation-Exercises/blob/main/Music%20Recommendation.ipynb\" target=\"_parent\"><img src=\"https://colab.research.google.com/assets/colab-badge.svg\" alt=\"Open In Colab\"/></a>"
      ]
    },
    {
      "cell_type": "markdown",
      "metadata": {
        "id": "NcHNFEcWJOuf"
      },
      "source": [
        "# Trying a Music Recommendation Project"
      ]
    },
    {
      "cell_type": "code",
      "source": [
        "!pip install matplotlib==3.5.0 # Need to restart the kernel "
      ],
      "metadata": {
        "colab": {
          "base_uri": "https://localhost:8080/"
        },
        "id": "mGmLimttpdhF",
        "outputId": "d60272e8-23c0-461c-ffa9-a4974afb8132"
      },
      "execution_count": null,
      "outputs": [
        {
          "output_type": "stream",
          "name": "stdout",
          "text": [
            "Looking in indexes: https://pypi.org/simple, https://us-python.pkg.dev/colab-wheels/public/simple/\n",
            "Requirement already satisfied: matplotlib==3.5.0 in /usr/local/lib/python3.7/dist-packages (3.5.0)\n",
            "Requirement already satisfied: pillow>=6.2.0 in /usr/local/lib/python3.7/dist-packages (from matplotlib==3.5.0) (7.1.2)\n",
            "Requirement already satisfied: fonttools>=4.22.0 in /usr/local/lib/python3.7/dist-packages (from matplotlib==3.5.0) (4.33.3)\n",
            "Requirement already satisfied: setuptools-scm>=4 in /usr/local/lib/python3.7/dist-packages (from matplotlib==3.5.0) (6.4.2)\n",
            "Requirement already satisfied: cycler>=0.10 in /usr/local/lib/python3.7/dist-packages (from matplotlib==3.5.0) (0.11.0)\n",
            "Requirement already satisfied: numpy>=1.17 in /usr/local/lib/python3.7/dist-packages (from matplotlib==3.5.0) (1.21.6)\n",
            "Requirement already satisfied: python-dateutil>=2.7 in /usr/local/lib/python3.7/dist-packages (from matplotlib==3.5.0) (2.8.2)\n",
            "Requirement already satisfied: pyparsing>=2.2.1 in /usr/local/lib/python3.7/dist-packages (from matplotlib==3.5.0) (3.0.9)\n",
            "Requirement already satisfied: kiwisolver>=1.0.1 in /usr/local/lib/python3.7/dist-packages (from matplotlib==3.5.0) (1.4.2)\n",
            "Requirement already satisfied: packaging>=20.0 in /usr/local/lib/python3.7/dist-packages (from matplotlib==3.5.0) (21.3)\n",
            "Requirement already satisfied: typing-extensions in /usr/local/lib/python3.7/dist-packages (from kiwisolver>=1.0.1->matplotlib==3.5.0) (4.2.0)\n",
            "Requirement already satisfied: six>=1.5 in /usr/local/lib/python3.7/dist-packages (from python-dateutil>=2.7->matplotlib==3.5.0) (1.15.0)\n",
            "Requirement already satisfied: tomli>=1.0.0 in /usr/local/lib/python3.7/dist-packages (from setuptools-scm>=4->matplotlib==3.5.0) (2.0.1)\n",
            "Requirement already satisfied: setuptools in /usr/local/lib/python3.7/dist-packages (from setuptools-scm>=4->matplotlib==3.5.0) (57.4.0)\n"
          ]
        }
      ]
    },
    {
      "cell_type": "code",
      "source": [
        "!pip install sklearn -q"
      ],
      "metadata": {
        "id": "eRupmq-OrTdE"
      },
      "execution_count": null,
      "outputs": []
    },
    {
      "cell_type": "code",
      "source": [
        "# This cell is modified from: https://gist.github.com/ameya98/b193856171d11d37ada46458f60e73e7\n",
        "# To install the correct version of Pytorch Geometric.\n",
        "import torch\n",
        "\n",
        "TORCH_version = torch.__version__\n",
        "CUDA_version = torch.version.cuda\n",
        "\n",
        "TORCH = TORCH_version.split('+')[0]\n",
        "CUDA = 'cu' + CUDA_version.replace('.', '')\n",
        "\n",
        "!pip install -q torch-scatter     -f https://pytorch-geometric.com/whl/torch-{TORCH}+{CUDA}.html\n",
        "!pip install -q torch-sparse      -f https://pytorch-geometric.com/whl/torch-{TORCH}+{CUDA}.html\n",
        "!pip install -q torch-cluster     -f https://pytorch-geometric.com/whl/torch-{TORCH}+{CUDA}.html\n",
        "!pip install -q torch-spline-conv -f https://pytorch-geometric.com/whl/torch-{TORCH}+{CUDA}.html\n",
        "!pip install -q torch-geometric "
      ],
      "metadata": {
        "id": "yzuoVFe5z7xa",
        "outputId": "56af14ab-334a-4bc7-e5ff-b7db3f5ed734",
        "colab": {
          "base_uri": "https://localhost:8080/"
        }
      },
      "execution_count": null,
      "outputs": [
        {
          "output_type": "stream",
          "name": "stdout",
          "text": [
            "\u001b[K     |████████████████████████████████| 7.9 MB 41.9 MB/s \n",
            "\u001b[K     |████████████████████████████████| 3.5 MB 35.9 MB/s \n",
            "\u001b[K     |████████████████████████████████| 2.5 MB 31.1 MB/s \n",
            "\u001b[K     |████████████████████████████████| 750 kB 17.4 MB/s \n",
            "\u001b[K     |████████████████████████████████| 407 kB 16.8 MB/s \n",
            "\u001b[?25h  Building wheel for torch-geometric (setup.py) ... \u001b[?25l\u001b[?25hdone\n"
          ]
        }
      ]
    },
    {
      "cell_type": "code",
      "source": [
        "import collections\n",
        "import math\n",
        "import os\n",
        "import os.path as osp\n",
        "from tqdm import tqdm\n",
        "from typing import List\n",
        "import random\n",
        "import time\n",
        "import zipfile\n",
        "\n",
        "%matplotlib inline\n",
        "import matplotlib.pyplot as plt\n",
        "import numpy as np\n",
        "import pandas as pd\n",
        "pd.options.display.max_rows = 10\n",
        "from sklearn import metrics\n",
        "from tensorly import decomposition\n",
        "\n",
        "import torch\n",
        "from torch.functional import tensordot\n",
        "from torch import nn, optim, Tensor\n",
        "from torch.utils.data import Dataset, DataLoader\n",
        "import torch_geometric\n",
        "from torch_geometric.data import Dataset, Data, download_url, extract_zip\n",
        "from torch_geometric.nn import MessagePassing\n",
        "from torch_geometric.typing import Adj"
      ],
      "metadata": {
        "id": "TfvxiF7ZmhRy"
      },
      "execution_count": null,
      "outputs": []
    },
    {
      "cell_type": "code",
      "source": [
        "# Import libraries\n",
        "import pandas as pd\n",
        "pd.set_option('display.max_colwidth', None)\n",
        "import numpy as np \n",
        "import matplotlib.pyplot as plt\n",
        "from scipy.sparse import csr_matrix\n",
        "from scipy.sparse.dok import dok_matrix\n",
        "import scipy.sparse as sp\n",
        "from sklearn.model_selection import train_test_split\n",
        "from sklearn import preprocessing as prep\n",
        "\n",
        "import random\n",
        "import time\n",
        "from tqdm.notebook import tqdm\n",
        "\n",
        "from torch.utils.data import Dataset, DataLoader\n",
        "import torch.nn as nn\n",
        "import torch\n",
        "%matplotlib inline "
      ],
      "metadata": {
        "id": "R0L5WIhiVbcB"
      },
      "execution_count": null,
      "outputs": []
    },
    {
      "cell_type": "code",
      "source": [
        "print(torch.__version__)\n",
        "print(torch.version.cuda)"
      ],
      "metadata": {
        "id": "pgtXDEQppyta"
      },
      "execution_count": null,
      "outputs": []
    },
    {
      "cell_type": "code",
      "source": [
        "source = \"http://deepyeti.ucsd.edu/jianmo/amazon/index.html\" # 2018 version\n",
        "main_source = \"https://nijianmo.github.io/amazon/index.html\"\n",
        "\n",
        "metaurl = \"http://deepyeti.ucsd.edu/jianmo/amazon/metaFiles2/meta_Digital_Music.json.gz\"\n",
        "reviewurl = \"http://deepyeti.ucsd.edu/jianmo/amazon/categoryFiles/Digital_Music.json.gz\"\n",
        "ratingurl = \"http://deepyeti.ucsd.edu/jianmo/amazon/categoryFilesSmall/Digital_Music.csv\"\n",
        "\n",
        "columns = ['asin', 'reviewerID', 'rating', 'reviewTime']\n",
        "rating = pd.read_csv(ratingurl, names=columns, header = None)\n",
        "#meta = pd.read_json(metaurl, lines = True)\n",
        "#review = pd.read_json(reviewurl, lines = True)"
      ],
      "metadata": {
        "id": "OBgzYglpzc9Y"
      },
      "execution_count": null,
      "outputs": []
    },
    {
      "cell_type": "code",
      "source": [
        "\n",
        "# Download MovieLens data.\n",
        "print(\"Downloading movielens data...\")\n",
        "from urllib.request import urlretrieve\n",
        "import zipfile\n",
        "\n",
        "urlretrieve(\"http://files.grouplens.org/datasets/movielens/ml-100k.zip\", \"movielens.zip\")\n",
        "zip_ref = zipfile.ZipFile('movielens.zip', \"r\")\n",
        "zip_ref.extractall()\n",
        "print(\"Done. Dataset contains:\")\n",
        "print(zip_ref.read('ml-100k/u.info'))\n",
        "\n",
        "# Load each data set (users, movies, and ratings).\n",
        "users_cols = ['user_id', 'age', 'sex', 'occupation', 'zip_code']\n",
        "users = pd.read_csv(\n",
        "    'ml-100k/u.user', sep='|', names=users_cols, encoding='latin-1')\n",
        "\n",
        "ratings_cols = ['user_id', 'movie_id', 'rating', 'unix_timestamp']\n",
        "ratings = pd.read_csv(\n",
        "    'ml-100k/u.data', sep='\\t', names=ratings_cols, encoding='latin-1')"
      ],
      "metadata": {
        "id": "BuvlX4L8Z0Ei",
        "outputId": "7d4ab82f-4604-4477-e96d-53a9aab9ea54",
        "colab": {
          "base_uri": "https://localhost:8080/"
        }
      },
      "execution_count": null,
      "outputs": [
        {
          "output_type": "stream",
          "name": "stdout",
          "text": [
            "Downloading movielens data...\n",
            "Done. Dataset contains:\n",
            "b'943 users\\n1682 items\\n100000 ratings\\n'\n"
          ]
        }
      ]
    },
    {
      "cell_type": "code",
      "source": [
        "ratings.head(3)"
      ],
      "metadata": {
        "id": "KWKCU-pTbIvp",
        "outputId": "14b7a535-35a8-4bf9-b186-398d24e4fe84",
        "colab": {
          "base_uri": "https://localhost:8080/",
          "height": 143
        }
      },
      "execution_count": null,
      "outputs": [
        {
          "output_type": "execute_result",
          "data": {
            "text/plain": [
              "   user_id  movie_id  rating  unix_timestamp\n",
              "0      196       242       3       881250949\n",
              "1      186       302       3       891717742\n",
              "2       22       377       1       878887116"
            ],
            "text/html": [
              "\n",
              "  <div id=\"df-3867ccbf-c649-44e4-833b-2047bc2e6c12\">\n",
              "    <div class=\"colab-df-container\">\n",
              "      <div>\n",
              "<style scoped>\n",
              "    .dataframe tbody tr th:only-of-type {\n",
              "        vertical-align: middle;\n",
              "    }\n",
              "\n",
              "    .dataframe tbody tr th {\n",
              "        vertical-align: top;\n",
              "    }\n",
              "\n",
              "    .dataframe thead th {\n",
              "        text-align: right;\n",
              "    }\n",
              "</style>\n",
              "<table border=\"1\" class=\"dataframe\">\n",
              "  <thead>\n",
              "    <tr style=\"text-align: right;\">\n",
              "      <th></th>\n",
              "      <th>user_id</th>\n",
              "      <th>movie_id</th>\n",
              "      <th>rating</th>\n",
              "      <th>unix_timestamp</th>\n",
              "    </tr>\n",
              "  </thead>\n",
              "  <tbody>\n",
              "    <tr>\n",
              "      <th>0</th>\n",
              "      <td>196</td>\n",
              "      <td>242</td>\n",
              "      <td>3</td>\n",
              "      <td>881250949</td>\n",
              "    </tr>\n",
              "    <tr>\n",
              "      <th>1</th>\n",
              "      <td>186</td>\n",
              "      <td>302</td>\n",
              "      <td>3</td>\n",
              "      <td>891717742</td>\n",
              "    </tr>\n",
              "    <tr>\n",
              "      <th>2</th>\n",
              "      <td>22</td>\n",
              "      <td>377</td>\n",
              "      <td>1</td>\n",
              "      <td>878887116</td>\n",
              "    </tr>\n",
              "  </tbody>\n",
              "</table>\n",
              "</div>\n",
              "      <button class=\"colab-df-convert\" onclick=\"convertToInteractive('df-3867ccbf-c649-44e4-833b-2047bc2e6c12')\"\n",
              "              title=\"Convert this dataframe to an interactive table.\"\n",
              "              style=\"display:none;\">\n",
              "        \n",
              "  <svg xmlns=\"http://www.w3.org/2000/svg\" height=\"24px\"viewBox=\"0 0 24 24\"\n",
              "       width=\"24px\">\n",
              "    <path d=\"M0 0h24v24H0V0z\" fill=\"none\"/>\n",
              "    <path d=\"M18.56 5.44l.94 2.06.94-2.06 2.06-.94-2.06-.94-.94-2.06-.94 2.06-2.06.94zm-11 1L8.5 8.5l.94-2.06 2.06-.94-2.06-.94L8.5 2.5l-.94 2.06-2.06.94zm10 10l.94 2.06.94-2.06 2.06-.94-2.06-.94-.94-2.06-.94 2.06-2.06.94z\"/><path d=\"M17.41 7.96l-1.37-1.37c-.4-.4-.92-.59-1.43-.59-.52 0-1.04.2-1.43.59L10.3 9.45l-7.72 7.72c-.78.78-.78 2.05 0 2.83L4 21.41c.39.39.9.59 1.41.59.51 0 1.02-.2 1.41-.59l7.78-7.78 2.81-2.81c.8-.78.8-2.07 0-2.86zM5.41 20L4 18.59l7.72-7.72 1.47 1.35L5.41 20z\"/>\n",
              "  </svg>\n",
              "      </button>\n",
              "      \n",
              "  <style>\n",
              "    .colab-df-container {\n",
              "      display:flex;\n",
              "      flex-wrap:wrap;\n",
              "      gap: 12px;\n",
              "    }\n",
              "\n",
              "    .colab-df-convert {\n",
              "      background-color: #E8F0FE;\n",
              "      border: none;\n",
              "      border-radius: 50%;\n",
              "      cursor: pointer;\n",
              "      display: none;\n",
              "      fill: #1967D2;\n",
              "      height: 32px;\n",
              "      padding: 0 0 0 0;\n",
              "      width: 32px;\n",
              "    }\n",
              "\n",
              "    .colab-df-convert:hover {\n",
              "      background-color: #E2EBFA;\n",
              "      box-shadow: 0px 1px 2px rgba(60, 64, 67, 0.3), 0px 1px 3px 1px rgba(60, 64, 67, 0.15);\n",
              "      fill: #174EA6;\n",
              "    }\n",
              "\n",
              "    [theme=dark] .colab-df-convert {\n",
              "      background-color: #3B4455;\n",
              "      fill: #D2E3FC;\n",
              "    }\n",
              "\n",
              "    [theme=dark] .colab-df-convert:hover {\n",
              "      background-color: #434B5C;\n",
              "      box-shadow: 0px 1px 3px 1px rgba(0, 0, 0, 0.15);\n",
              "      filter: drop-shadow(0px 1px 2px rgba(0, 0, 0, 0.3));\n",
              "      fill: #FFFFFF;\n",
              "    }\n",
              "  </style>\n",
              "\n",
              "      <script>\n",
              "        const buttonEl =\n",
              "          document.querySelector('#df-3867ccbf-c649-44e4-833b-2047bc2e6c12 button.colab-df-convert');\n",
              "        buttonEl.style.display =\n",
              "          google.colab.kernel.accessAllowed ? 'block' : 'none';\n",
              "\n",
              "        async function convertToInteractive(key) {\n",
              "          const element = document.querySelector('#df-3867ccbf-c649-44e4-833b-2047bc2e6c12');\n",
              "          const dataTable =\n",
              "            await google.colab.kernel.invokeFunction('convertToInteractive',\n",
              "                                                     [key], {});\n",
              "          if (!dataTable) return;\n",
              "\n",
              "          const docLinkHtml = 'Like what you see? Visit the ' +\n",
              "            '<a target=\"_blank\" href=https://colab.research.google.com/notebooks/data_table.ipynb>data table notebook</a>'\n",
              "            + ' to learn more about interactive tables.';\n",
              "          element.innerHTML = '';\n",
              "          dataTable['output_type'] = 'display_data';\n",
              "          await google.colab.output.renderOutput(dataTable, element);\n",
              "          const docLink = document.createElement('div');\n",
              "          docLink.innerHTML = docLinkHtml;\n",
              "          element.appendChild(docLink);\n",
              "        }\n",
              "      </script>\n",
              "    </div>\n",
              "  </div>\n",
              "  "
            ]
          },
          "metadata": {},
          "execution_count": 37
        }
      ]
    },
    {
      "cell_type": "code",
      "source": [
        "rating.head(3)"
      ],
      "metadata": {
        "colab": {
          "base_uri": "https://localhost:8080/",
          "height": 143
        },
        "id": "f6HsE-DhFOU_",
        "outputId": "1b8e2fc0-154f-4620-c251-f523bb6a2369"
      },
      "execution_count": null,
      "outputs": [
        {
          "output_type": "execute_result",
          "data": {
            "text/plain": [
              "         asin      reviewerID  rating  reviewTime\n",
              "0  0001388703  A1ZCPG3D3HGRSS     5.0  1387670400\n",
              "1  0001388703   AC2PL52NKPL29     5.0  1378857600\n",
              "2  0001388703  A1SUZXBDZSDQ3A     5.0  1362182400"
            ],
            "text/html": [
              "\n",
              "  <div id=\"df-800f569d-5c86-4546-a016-bc50dd1b223c\">\n",
              "    <div class=\"colab-df-container\">\n",
              "      <div>\n",
              "<style scoped>\n",
              "    .dataframe tbody tr th:only-of-type {\n",
              "        vertical-align: middle;\n",
              "    }\n",
              "\n",
              "    .dataframe tbody tr th {\n",
              "        vertical-align: top;\n",
              "    }\n",
              "\n",
              "    .dataframe thead th {\n",
              "        text-align: right;\n",
              "    }\n",
              "</style>\n",
              "<table border=\"1\" class=\"dataframe\">\n",
              "  <thead>\n",
              "    <tr style=\"text-align: right;\">\n",
              "      <th></th>\n",
              "      <th>asin</th>\n",
              "      <th>reviewerID</th>\n",
              "      <th>rating</th>\n",
              "      <th>reviewTime</th>\n",
              "    </tr>\n",
              "  </thead>\n",
              "  <tbody>\n",
              "    <tr>\n",
              "      <th>0</th>\n",
              "      <td>0001388703</td>\n",
              "      <td>A1ZCPG3D3HGRSS</td>\n",
              "      <td>5.0</td>\n",
              "      <td>1387670400</td>\n",
              "    </tr>\n",
              "    <tr>\n",
              "      <th>1</th>\n",
              "      <td>0001388703</td>\n",
              "      <td>AC2PL52NKPL29</td>\n",
              "      <td>5.0</td>\n",
              "      <td>1378857600</td>\n",
              "    </tr>\n",
              "    <tr>\n",
              "      <th>2</th>\n",
              "      <td>0001388703</td>\n",
              "      <td>A1SUZXBDZSDQ3A</td>\n",
              "      <td>5.0</td>\n",
              "      <td>1362182400</td>\n",
              "    </tr>\n",
              "  </tbody>\n",
              "</table>\n",
              "</div>\n",
              "      <button class=\"colab-df-convert\" onclick=\"convertToInteractive('df-800f569d-5c86-4546-a016-bc50dd1b223c')\"\n",
              "              title=\"Convert this dataframe to an interactive table.\"\n",
              "              style=\"display:none;\">\n",
              "        \n",
              "  <svg xmlns=\"http://www.w3.org/2000/svg\" height=\"24px\"viewBox=\"0 0 24 24\"\n",
              "       width=\"24px\">\n",
              "    <path d=\"M0 0h24v24H0V0z\" fill=\"none\"/>\n",
              "    <path d=\"M18.56 5.44l.94 2.06.94-2.06 2.06-.94-2.06-.94-.94-2.06-.94 2.06-2.06.94zm-11 1L8.5 8.5l.94-2.06 2.06-.94-2.06-.94L8.5 2.5l-.94 2.06-2.06.94zm10 10l.94 2.06.94-2.06 2.06-.94-2.06-.94-.94-2.06-.94 2.06-2.06.94z\"/><path d=\"M17.41 7.96l-1.37-1.37c-.4-.4-.92-.59-1.43-.59-.52 0-1.04.2-1.43.59L10.3 9.45l-7.72 7.72c-.78.78-.78 2.05 0 2.83L4 21.41c.39.39.9.59 1.41.59.51 0 1.02-.2 1.41-.59l7.78-7.78 2.81-2.81c.8-.78.8-2.07 0-2.86zM5.41 20L4 18.59l7.72-7.72 1.47 1.35L5.41 20z\"/>\n",
              "  </svg>\n",
              "      </button>\n",
              "      \n",
              "  <style>\n",
              "    .colab-df-container {\n",
              "      display:flex;\n",
              "      flex-wrap:wrap;\n",
              "      gap: 12px;\n",
              "    }\n",
              "\n",
              "    .colab-df-convert {\n",
              "      background-color: #E8F0FE;\n",
              "      border: none;\n",
              "      border-radius: 50%;\n",
              "      cursor: pointer;\n",
              "      display: none;\n",
              "      fill: #1967D2;\n",
              "      height: 32px;\n",
              "      padding: 0 0 0 0;\n",
              "      width: 32px;\n",
              "    }\n",
              "\n",
              "    .colab-df-convert:hover {\n",
              "      background-color: #E2EBFA;\n",
              "      box-shadow: 0px 1px 2px rgba(60, 64, 67, 0.3), 0px 1px 3px 1px rgba(60, 64, 67, 0.15);\n",
              "      fill: #174EA6;\n",
              "    }\n",
              "\n",
              "    [theme=dark] .colab-df-convert {\n",
              "      background-color: #3B4455;\n",
              "      fill: #D2E3FC;\n",
              "    }\n",
              "\n",
              "    [theme=dark] .colab-df-convert:hover {\n",
              "      background-color: #434B5C;\n",
              "      box-shadow: 0px 1px 3px 1px rgba(0, 0, 0, 0.15);\n",
              "      filter: drop-shadow(0px 1px 2px rgba(0, 0, 0, 0.3));\n",
              "      fill: #FFFFFF;\n",
              "    }\n",
              "  </style>\n",
              "\n",
              "      <script>\n",
              "        const buttonEl =\n",
              "          document.querySelector('#df-800f569d-5c86-4546-a016-bc50dd1b223c button.colab-df-convert');\n",
              "        buttonEl.style.display =\n",
              "          google.colab.kernel.accessAllowed ? 'block' : 'none';\n",
              "\n",
              "        async function convertToInteractive(key) {\n",
              "          const element = document.querySelector('#df-800f569d-5c86-4546-a016-bc50dd1b223c');\n",
              "          const dataTable =\n",
              "            await google.colab.kernel.invokeFunction('convertToInteractive',\n",
              "                                                     [key], {});\n",
              "          if (!dataTable) return;\n",
              "\n",
              "          const docLinkHtml = 'Like what you see? Visit the ' +\n",
              "            '<a target=\"_blank\" href=https://colab.research.google.com/notebooks/data_table.ipynb>data table notebook</a>'\n",
              "            + ' to learn more about interactive tables.';\n",
              "          element.innerHTML = '';\n",
              "          dataTable['output_type'] = 'display_data';\n",
              "          await google.colab.output.renderOutput(dataTable, element);\n",
              "          const docLink = document.createElement('div');\n",
              "          docLink.innerHTML = docLinkHtml;\n",
              "          element.appendChild(docLink);\n",
              "        }\n",
              "      </script>\n",
              "    </div>\n",
              "  </div>\n",
              "  "
            ]
          },
          "metadata": {},
          "execution_count": 4
        }
      ]
    },
    {
      "cell_type": "code",
      "source": [
        "#rating = rating.sample(frac=0.1, replace=True, random_state=1)\n",
        "a = rating['reviewerID'].value_counts().index.tolist()[:1000] # Sample the most frequent reviewers\n",
        "b = rating.loc[rating['reviewerID'].isin(a)]\n",
        "d = b['asin'].value_counts().index.tolist()[:1000] # Sample the most frequent reviewers\n",
        "c = b.loc[rating['asin'].isin(d)]\n",
        "c.asin.value_counts()"
      ],
      "metadata": {
        "id": "02ItbWQt1nfK"
      },
      "execution_count": null,
      "outputs": []
    },
    {
      "cell_type": "code",
      "source": [
        "# Sample users and items having frequencies greater than a threshold, 15\n",
        "a = rating['reviewerID'].value_counts()\n",
        "b = rating['asin'].value_counts()\n",
        "col1, col2, thresh = 'reviewerID', 'asin', 425 \n",
        "#A = [x for x in a.index if a[x]> thresh]\n",
        "B = [x for x in b.index if b[x]> thresh]\n",
        "#rating = rating.loc[(rating[col1].isin(A)) & (rating[col2].isin(B))]\n",
        "#g = rating.loc[(rating[col1].isin(A))] #& (rating[col2].isin(B))]\n",
        "g = rating.loc[(rating[col2].isin(B))]\n",
        "g.shape"
      ],
      "metadata": {
        "colab": {
          "base_uri": "https://localhost:8080/"
        },
        "id": "GDl2pYBXC2N-",
        "outputId": "7939170f-7217-4379-90cd-3e3e9187ef43"
      },
      "execution_count": null,
      "outputs": [
        {
          "output_type": "execute_result",
          "data": {
            "text/plain": [
              "(107495, 4)"
            ]
          },
          "metadata": {},
          "execution_count": 5
        }
      ]
    },
    {
      "cell_type": "code",
      "source": [
        "a = rating[:100000]\n",
        "a.shape"
      ],
      "metadata": {
        "id": "a3eUGlXWsbjH",
        "outputId": "d2949c0b-836c-4aa5-c5ca-86daf698a27f",
        "colab": {
          "base_uri": "https://localhost:8080/"
        }
      },
      "execution_count": null,
      "outputs": [
        {
          "output_type": "execute_result",
          "data": {
            "text/plain": [
              "(100000, 4)"
            ]
          },
          "metadata": {},
          "execution_count": 18
        }
      ]
    },
    {
      "cell_type": "code",
      "source": [
        "a = rating[rating['rating']==5]\n",
        "print(len(a))"
      ],
      "metadata": {
        "id": "PC2AM84_iuai",
        "outputId": "79a38691-7be8-41a9-b800-d0a31ac2e69b",
        "colab": {
          "base_uri": "https://localhost:8080/"
        }
      },
      "execution_count": null,
      "outputs": [
        {
          "output_type": "stream",
          "name": "stdout",
          "text": [
            "1280147\n"
          ]
        }
      ]
    },
    {
      "cell_type": "code",
      "source": [
        "a = a[:100000]\n",
        "a.shape"
      ],
      "metadata": {
        "id": "e5j2vm7XnVaA",
        "outputId": "05f6fcf0-cf56-4bfa-8dba-2ed8d23fe6cc",
        "colab": {
          "base_uri": "https://localhost:8080/"
        }
      },
      "execution_count": null,
      "outputs": [
        {
          "output_type": "execute_result",
          "data": {
            "text/plain": [
              "(100000, 4)"
            ]
          },
          "metadata": {},
          "execution_count": 66
        }
      ]
    },
    {
      "cell_type": "code",
      "source": [
        "a.asin.value_counts()"
      ],
      "metadata": {
        "id": "0PVniWzbngdk",
        "outputId": "b23c48c0-d7d1-4634-db69-455a90f72ca2",
        "colab": {
          "base_uri": "https://localhost:8080/"
        }
      },
      "execution_count": null,
      "outputs": [
        {
          "output_type": "execute_result",
          "data": {
            "text/plain": [
              "9714721180    822\n",
              "B00136NUG6    652\n",
              "B000WLTMPQ    634\n",
              "B00124BPBG    629\n",
              "B000W176MM    606\n",
              "             ... \n",
              "B00137UYVE      1\n",
              "B0012FC5B4      1\n",
              "B0012FCE6U      1\n",
              "B0000AV39Q      1\n",
              "B0002BGOAM      1\n",
              "Name: asin, Length: 5073, dtype: int64"
            ]
          },
          "metadata": {},
          "execution_count": 68
        }
      ]
    },
    {
      "cell_type": "code",
      "source": [
        "# Re-order the user and item columns\n",
        "a = a.reindex(columns=['reviewerID','asin', 'rating','reviewTime']) "
      ],
      "metadata": {
        "id": "oxMHm4cmTI9q"
      },
      "execution_count": null,
      "outputs": []
    },
    {
      "cell_type": "code",
      "source": [
        "#rating = a"
      ],
      "metadata": {
        "id": "beTJMq7Sfs06"
      },
      "execution_count": null,
      "outputs": []
    },
    {
      "cell_type": "code",
      "source": [
        "train, test = train_test_split(a.values, test_size = 0.2, random_state = 16)"
      ],
      "metadata": {
        "id": "WpmjPnk4TU5x"
      },
      "execution_count": null,
      "outputs": []
    },
    {
      "cell_type": "code",
      "source": [
        "train = pd.DataFrame(train, columns = a.columns)\n",
        "test = pd.DataFrame(test, columns = a.columns)\n",
        "print(len(train), len(test), len(train)+len(test))"
      ],
      "metadata": {
        "id": "4knRWGjRTU2k",
        "outputId": "46446d72-a5ee-415e-ae7d-60f89ab6ba40",
        "colab": {
          "base_uri": "https://localhost:8080/"
        }
      },
      "execution_count": null,
      "outputs": [
        {
          "output_type": "stream",
          "name": "stdout",
          "text": [
            "80000 20000 100000\n"
          ]
        }
      ]
    },
    {
      "cell_type": "code",
      "source": [
        "train.head(2)"
      ],
      "metadata": {
        "id": "f34IefiLXHgK",
        "outputId": "75da7fc9-0443-4999-9678-05d6a4db5949",
        "colab": {
          "base_uri": "https://localhost:8080/",
          "height": 112
        }
      },
      "execution_count": null,
      "outputs": [
        {
          "output_type": "execute_result",
          "data": {
            "text/plain": [
              "   user_id  movie_id  rating  unix_timestamp\n",
              "0      770       250       5       875971902\n",
              "1      169       331       5       891268491"
            ],
            "text/html": [
              "\n",
              "  <div id=\"df-e635ad1f-41c0-433e-96b6-f9a67343720e\">\n",
              "    <div class=\"colab-df-container\">\n",
              "      <div>\n",
              "<style scoped>\n",
              "    .dataframe tbody tr th:only-of-type {\n",
              "        vertical-align: middle;\n",
              "    }\n",
              "\n",
              "    .dataframe tbody tr th {\n",
              "        vertical-align: top;\n",
              "    }\n",
              "\n",
              "    .dataframe thead th {\n",
              "        text-align: right;\n",
              "    }\n",
              "</style>\n",
              "<table border=\"1\" class=\"dataframe\">\n",
              "  <thead>\n",
              "    <tr style=\"text-align: right;\">\n",
              "      <th></th>\n",
              "      <th>user_id</th>\n",
              "      <th>movie_id</th>\n",
              "      <th>rating</th>\n",
              "      <th>unix_timestamp</th>\n",
              "    </tr>\n",
              "  </thead>\n",
              "  <tbody>\n",
              "    <tr>\n",
              "      <th>0</th>\n",
              "      <td>770</td>\n",
              "      <td>250</td>\n",
              "      <td>5</td>\n",
              "      <td>875971902</td>\n",
              "    </tr>\n",
              "    <tr>\n",
              "      <th>1</th>\n",
              "      <td>169</td>\n",
              "      <td>331</td>\n",
              "      <td>5</td>\n",
              "      <td>891268491</td>\n",
              "    </tr>\n",
              "  </tbody>\n",
              "</table>\n",
              "</div>\n",
              "      <button class=\"colab-df-convert\" onclick=\"convertToInteractive('df-e635ad1f-41c0-433e-96b6-f9a67343720e')\"\n",
              "              title=\"Convert this dataframe to an interactive table.\"\n",
              "              style=\"display:none;\">\n",
              "        \n",
              "  <svg xmlns=\"http://www.w3.org/2000/svg\" height=\"24px\"viewBox=\"0 0 24 24\"\n",
              "       width=\"24px\">\n",
              "    <path d=\"M0 0h24v24H0V0z\" fill=\"none\"/>\n",
              "    <path d=\"M18.56 5.44l.94 2.06.94-2.06 2.06-.94-2.06-.94-.94-2.06-.94 2.06-2.06.94zm-11 1L8.5 8.5l.94-2.06 2.06-.94-2.06-.94L8.5 2.5l-.94 2.06-2.06.94zm10 10l.94 2.06.94-2.06 2.06-.94-2.06-.94-.94-2.06-.94 2.06-2.06.94z\"/><path d=\"M17.41 7.96l-1.37-1.37c-.4-.4-.92-.59-1.43-.59-.52 0-1.04.2-1.43.59L10.3 9.45l-7.72 7.72c-.78.78-.78 2.05 0 2.83L4 21.41c.39.39.9.59 1.41.59.51 0 1.02-.2 1.41-.59l7.78-7.78 2.81-2.81c.8-.78.8-2.07 0-2.86zM5.41 20L4 18.59l7.72-7.72 1.47 1.35L5.41 20z\"/>\n",
              "  </svg>\n",
              "      </button>\n",
              "      \n",
              "  <style>\n",
              "    .colab-df-container {\n",
              "      display:flex;\n",
              "      flex-wrap:wrap;\n",
              "      gap: 12px;\n",
              "    }\n",
              "\n",
              "    .colab-df-convert {\n",
              "      background-color: #E8F0FE;\n",
              "      border: none;\n",
              "      border-radius: 50%;\n",
              "      cursor: pointer;\n",
              "      display: none;\n",
              "      fill: #1967D2;\n",
              "      height: 32px;\n",
              "      padding: 0 0 0 0;\n",
              "      width: 32px;\n",
              "    }\n",
              "\n",
              "    .colab-df-convert:hover {\n",
              "      background-color: #E2EBFA;\n",
              "      box-shadow: 0px 1px 2px rgba(60, 64, 67, 0.3), 0px 1px 3px 1px rgba(60, 64, 67, 0.15);\n",
              "      fill: #174EA6;\n",
              "    }\n",
              "\n",
              "    [theme=dark] .colab-df-convert {\n",
              "      background-color: #3B4455;\n",
              "      fill: #D2E3FC;\n",
              "    }\n",
              "\n",
              "    [theme=dark] .colab-df-convert:hover {\n",
              "      background-color: #434B5C;\n",
              "      box-shadow: 0px 1px 3px 1px rgba(0, 0, 0, 0.15);\n",
              "      filter: drop-shadow(0px 1px 2px rgba(0, 0, 0, 0.3));\n",
              "      fill: #FFFFFF;\n",
              "    }\n",
              "  </style>\n",
              "\n",
              "      <script>\n",
              "        const buttonEl =\n",
              "          document.querySelector('#df-e635ad1f-41c0-433e-96b6-f9a67343720e button.colab-df-convert');\n",
              "        buttonEl.style.display =\n",
              "          google.colab.kernel.accessAllowed ? 'block' : 'none';\n",
              "\n",
              "        async function convertToInteractive(key) {\n",
              "          const element = document.querySelector('#df-e635ad1f-41c0-433e-96b6-f9a67343720e');\n",
              "          const dataTable =\n",
              "            await google.colab.kernel.invokeFunction('convertToInteractive',\n",
              "                                                     [key], {});\n",
              "          if (!dataTable) return;\n",
              "\n",
              "          const docLinkHtml = 'Like what you see? Visit the ' +\n",
              "            '<a target=\"_blank\" href=https://colab.research.google.com/notebooks/data_table.ipynb>data table notebook</a>'\n",
              "            + ' to learn more about interactive tables.';\n",
              "          element.innerHTML = '';\n",
              "          dataTable['output_type'] = 'display_data';\n",
              "          await google.colab.output.renderOutput(dataTable, element);\n",
              "          const docLink = document.createElement('div');\n",
              "          docLink.innerHTML = docLinkHtml;\n",
              "          element.appendChild(docLink);\n",
              "        }\n",
              "      </script>\n",
              "    </div>\n",
              "  </div>\n",
              "  "
            ]
          },
          "metadata": {},
          "execution_count": 43
        }
      ]
    },
    {
      "cell_type": "code",
      "source": [
        "# Movielens\n",
        "leu = prep.LabelEncoder()\n",
        "lem = prep.LabelEncoder()\n",
        "\n",
        "train['enc_reviewerID'] = leu.fit_transform(train['user_id'].values)\n",
        "train['enc_asin'] = lem.fit_transform(train['movie_id'].values)\n",
        "train.head(2)"
      ],
      "metadata": {
        "id": "TPwFVF55bpj1",
        "outputId": "c7afcaa8-0a3c-4164-ea81-aa50643f98e6",
        "colab": {
          "base_uri": "https://localhost:8080/",
          "height": 112
        }
      },
      "execution_count": null,
      "outputs": [
        {
          "output_type": "execute_result",
          "data": {
            "text/plain": [
              "   user_id  movie_id  rating  unix_timestamp  enc_reviewerID  enc_asin\n",
              "0      770       250       5       875971902             769       249\n",
              "1      169       331       5       891268491             168       329"
            ],
            "text/html": [
              "\n",
              "  <div id=\"df-a1960178-cfdc-4352-8b4a-628c68319f56\">\n",
              "    <div class=\"colab-df-container\">\n",
              "      <div>\n",
              "<style scoped>\n",
              "    .dataframe tbody tr th:only-of-type {\n",
              "        vertical-align: middle;\n",
              "    }\n",
              "\n",
              "    .dataframe tbody tr th {\n",
              "        vertical-align: top;\n",
              "    }\n",
              "\n",
              "    .dataframe thead th {\n",
              "        text-align: right;\n",
              "    }\n",
              "</style>\n",
              "<table border=\"1\" class=\"dataframe\">\n",
              "  <thead>\n",
              "    <tr style=\"text-align: right;\">\n",
              "      <th></th>\n",
              "      <th>user_id</th>\n",
              "      <th>movie_id</th>\n",
              "      <th>rating</th>\n",
              "      <th>unix_timestamp</th>\n",
              "      <th>enc_reviewerID</th>\n",
              "      <th>enc_asin</th>\n",
              "    </tr>\n",
              "  </thead>\n",
              "  <tbody>\n",
              "    <tr>\n",
              "      <th>0</th>\n",
              "      <td>770</td>\n",
              "      <td>250</td>\n",
              "      <td>5</td>\n",
              "      <td>875971902</td>\n",
              "      <td>769</td>\n",
              "      <td>249</td>\n",
              "    </tr>\n",
              "    <tr>\n",
              "      <th>1</th>\n",
              "      <td>169</td>\n",
              "      <td>331</td>\n",
              "      <td>5</td>\n",
              "      <td>891268491</td>\n",
              "      <td>168</td>\n",
              "      <td>329</td>\n",
              "    </tr>\n",
              "  </tbody>\n",
              "</table>\n",
              "</div>\n",
              "      <button class=\"colab-df-convert\" onclick=\"convertToInteractive('df-a1960178-cfdc-4352-8b4a-628c68319f56')\"\n",
              "              title=\"Convert this dataframe to an interactive table.\"\n",
              "              style=\"display:none;\">\n",
              "        \n",
              "  <svg xmlns=\"http://www.w3.org/2000/svg\" height=\"24px\"viewBox=\"0 0 24 24\"\n",
              "       width=\"24px\">\n",
              "    <path d=\"M0 0h24v24H0V0z\" fill=\"none\"/>\n",
              "    <path d=\"M18.56 5.44l.94 2.06.94-2.06 2.06-.94-2.06-.94-.94-2.06-.94 2.06-2.06.94zm-11 1L8.5 8.5l.94-2.06 2.06-.94-2.06-.94L8.5 2.5l-.94 2.06-2.06.94zm10 10l.94 2.06.94-2.06 2.06-.94-2.06-.94-.94-2.06-.94 2.06-2.06.94z\"/><path d=\"M17.41 7.96l-1.37-1.37c-.4-.4-.92-.59-1.43-.59-.52 0-1.04.2-1.43.59L10.3 9.45l-7.72 7.72c-.78.78-.78 2.05 0 2.83L4 21.41c.39.39.9.59 1.41.59.51 0 1.02-.2 1.41-.59l7.78-7.78 2.81-2.81c.8-.78.8-2.07 0-2.86zM5.41 20L4 18.59l7.72-7.72 1.47 1.35L5.41 20z\"/>\n",
              "  </svg>\n",
              "      </button>\n",
              "      \n",
              "  <style>\n",
              "    .colab-df-container {\n",
              "      display:flex;\n",
              "      flex-wrap:wrap;\n",
              "      gap: 12px;\n",
              "    }\n",
              "\n",
              "    .colab-df-convert {\n",
              "      background-color: #E8F0FE;\n",
              "      border: none;\n",
              "      border-radius: 50%;\n",
              "      cursor: pointer;\n",
              "      display: none;\n",
              "      fill: #1967D2;\n",
              "      height: 32px;\n",
              "      padding: 0 0 0 0;\n",
              "      width: 32px;\n",
              "    }\n",
              "\n",
              "    .colab-df-convert:hover {\n",
              "      background-color: #E2EBFA;\n",
              "      box-shadow: 0px 1px 2px rgba(60, 64, 67, 0.3), 0px 1px 3px 1px rgba(60, 64, 67, 0.15);\n",
              "      fill: #174EA6;\n",
              "    }\n",
              "\n",
              "    [theme=dark] .colab-df-convert {\n",
              "      background-color: #3B4455;\n",
              "      fill: #D2E3FC;\n",
              "    }\n",
              "\n",
              "    [theme=dark] .colab-df-convert:hover {\n",
              "      background-color: #434B5C;\n",
              "      box-shadow: 0px 1px 3px 1px rgba(0, 0, 0, 0.15);\n",
              "      filter: drop-shadow(0px 1px 2px rgba(0, 0, 0, 0.3));\n",
              "      fill: #FFFFFF;\n",
              "    }\n",
              "  </style>\n",
              "\n",
              "      <script>\n",
              "        const buttonEl =\n",
              "          document.querySelector('#df-a1960178-cfdc-4352-8b4a-628c68319f56 button.colab-df-convert');\n",
              "        buttonEl.style.display =\n",
              "          google.colab.kernel.accessAllowed ? 'block' : 'none';\n",
              "\n",
              "        async function convertToInteractive(key) {\n",
              "          const element = document.querySelector('#df-a1960178-cfdc-4352-8b4a-628c68319f56');\n",
              "          const dataTable =\n",
              "            await google.colab.kernel.invokeFunction('convertToInteractive',\n",
              "                                                     [key], {});\n",
              "          if (!dataTable) return;\n",
              "\n",
              "          const docLinkHtml = 'Like what you see? Visit the ' +\n",
              "            '<a target=\"_blank\" href=https://colab.research.google.com/notebooks/data_table.ipynb>data table notebook</a>'\n",
              "            + ' to learn more about interactive tables.';\n",
              "          element.innerHTML = '';\n",
              "          dataTable['output_type'] = 'display_data';\n",
              "          await google.colab.output.renderOutput(dataTable, element);\n",
              "          const docLink = document.createElement('div');\n",
              "          docLink.innerHTML = docLinkHtml;\n",
              "          element.appendChild(docLink);\n",
              "        }\n",
              "      </script>\n",
              "    </div>\n",
              "  </div>\n",
              "  "
            ]
          },
          "metadata": {},
          "execution_count": 44
        }
      ]
    },
    {
      "cell_type": "code",
      "source": [
        "# Music\n",
        "leu = prep.LabelEncoder()\n",
        "lem = prep.LabelEncoder()\n",
        "\n",
        "train['enc_reviewerID'] = leu.fit_transform(train['reviewerID'].values)\n",
        "train['enc_asin'] = lem.fit_transform(train['asin'].values)\n",
        "train.head(2)\n"
      ],
      "metadata": {
        "id": "EsgvpJoLTUwf"
      },
      "execution_count": null,
      "outputs": []
    },
    {
      "cell_type": "code",
      "source": [
        "# Movie\n",
        "# Unique users and musics in the training set\n",
        "users_train = train.user_id.unique()\n",
        "musics_train = train.movie_id.unique()\n",
        "\n",
        "# Transform the test IDs\n",
        "test = test[(test['user_id'].isin(users_train)) & (test['movie_id'].isin(musics_train))]\n",
        "print(len(test))"
      ],
      "metadata": {
        "id": "RIWrXv7Acev_",
        "outputId": "465c9d6d-c58d-4b83-b446-2bf33dc8fe38",
        "colab": {
          "base_uri": "https://localhost:8080/"
        }
      },
      "execution_count": null,
      "outputs": [
        {
          "output_type": "stream",
          "name": "stdout",
          "text": [
            "16472\n"
          ]
        }
      ]
    },
    {
      "cell_type": "code",
      "source": [
        "# Music\n",
        "# Unique users and musics in the training set\n",
        "users_train = train.reviewerID.unique()\n",
        "musics_train = train.asin.unique()\n",
        "\n",
        "# Transform the test IDs\n",
        "test = test[(test['reviewerID'].isin(users_train)) & (test['asin'].isin(musics_train))]\n",
        "print(len(test))"
      ],
      "metadata": {
        "id": "RRrx0-tkTUrc",
        "outputId": "5fa321ce-1754-4465-fc02-ec75711c6776",
        "colab": {
          "base_uri": "https://localhost:8080/"
        }
      },
      "execution_count": null,
      "outputs": [
        {
          "output_type": "stream",
          "name": "stdout",
          "text": [
            "11960\n"
          ]
        }
      ]
    },
    {
      "cell_type": "code",
      "source": [
        "# Movie\n",
        "test['enc_reviewerID'] = leu.transform(test['user_id'].values)\n",
        "test['enc_asin'] = lem.transform(test['movie_id'].values)\n",
        "test.head(3)"
      ],
      "metadata": {
        "id": "QIe_tawEc9hU",
        "outputId": "a858d62c-2bff-41df-b904-ae0b00346ff7",
        "colab": {
          "base_uri": "https://localhost:8080/",
          "height": 143
        }
      },
      "execution_count": null,
      "outputs": [
        {
          "output_type": "execute_result",
          "data": {
            "text/plain": [
              "   user_id  movie_id  rating  unix_timestamp  enc_reviewerID  enc_asin\n",
              "0        7       273       3       891351547               6       272\n",
              "1      929         1       3       878402162             928         0\n",
              "2       13       783       3       886304188              12       774"
            ],
            "text/html": [
              "\n",
              "  <div id=\"df-bba7e8e7-3ee3-476a-a066-dc8f77de42f8\">\n",
              "    <div class=\"colab-df-container\">\n",
              "      <div>\n",
              "<style scoped>\n",
              "    .dataframe tbody tr th:only-of-type {\n",
              "        vertical-align: middle;\n",
              "    }\n",
              "\n",
              "    .dataframe tbody tr th {\n",
              "        vertical-align: top;\n",
              "    }\n",
              "\n",
              "    .dataframe thead th {\n",
              "        text-align: right;\n",
              "    }\n",
              "</style>\n",
              "<table border=\"1\" class=\"dataframe\">\n",
              "  <thead>\n",
              "    <tr style=\"text-align: right;\">\n",
              "      <th></th>\n",
              "      <th>user_id</th>\n",
              "      <th>movie_id</th>\n",
              "      <th>rating</th>\n",
              "      <th>unix_timestamp</th>\n",
              "      <th>enc_reviewerID</th>\n",
              "      <th>enc_asin</th>\n",
              "    </tr>\n",
              "  </thead>\n",
              "  <tbody>\n",
              "    <tr>\n",
              "      <th>0</th>\n",
              "      <td>7</td>\n",
              "      <td>273</td>\n",
              "      <td>3</td>\n",
              "      <td>891351547</td>\n",
              "      <td>6</td>\n",
              "      <td>272</td>\n",
              "    </tr>\n",
              "    <tr>\n",
              "      <th>1</th>\n",
              "      <td>929</td>\n",
              "      <td>1</td>\n",
              "      <td>3</td>\n",
              "      <td>878402162</td>\n",
              "      <td>928</td>\n",
              "      <td>0</td>\n",
              "    </tr>\n",
              "    <tr>\n",
              "      <th>2</th>\n",
              "      <td>13</td>\n",
              "      <td>783</td>\n",
              "      <td>3</td>\n",
              "      <td>886304188</td>\n",
              "      <td>12</td>\n",
              "      <td>774</td>\n",
              "    </tr>\n",
              "  </tbody>\n",
              "</table>\n",
              "</div>\n",
              "      <button class=\"colab-df-convert\" onclick=\"convertToInteractive('df-bba7e8e7-3ee3-476a-a066-dc8f77de42f8')\"\n",
              "              title=\"Convert this dataframe to an interactive table.\"\n",
              "              style=\"display:none;\">\n",
              "        \n",
              "  <svg xmlns=\"http://www.w3.org/2000/svg\" height=\"24px\"viewBox=\"0 0 24 24\"\n",
              "       width=\"24px\">\n",
              "    <path d=\"M0 0h24v24H0V0z\" fill=\"none\"/>\n",
              "    <path d=\"M18.56 5.44l.94 2.06.94-2.06 2.06-.94-2.06-.94-.94-2.06-.94 2.06-2.06.94zm-11 1L8.5 8.5l.94-2.06 2.06-.94-2.06-.94L8.5 2.5l-.94 2.06-2.06.94zm10 10l.94 2.06.94-2.06 2.06-.94-2.06-.94-.94-2.06-.94 2.06-2.06.94z\"/><path d=\"M17.41 7.96l-1.37-1.37c-.4-.4-.92-.59-1.43-.59-.52 0-1.04.2-1.43.59L10.3 9.45l-7.72 7.72c-.78.78-.78 2.05 0 2.83L4 21.41c.39.39.9.59 1.41.59.51 0 1.02-.2 1.41-.59l7.78-7.78 2.81-2.81c.8-.78.8-2.07 0-2.86zM5.41 20L4 18.59l7.72-7.72 1.47 1.35L5.41 20z\"/>\n",
              "  </svg>\n",
              "      </button>\n",
              "      \n",
              "  <style>\n",
              "    .colab-df-container {\n",
              "      display:flex;\n",
              "      flex-wrap:wrap;\n",
              "      gap: 12px;\n",
              "    }\n",
              "\n",
              "    .colab-df-convert {\n",
              "      background-color: #E8F0FE;\n",
              "      border: none;\n",
              "      border-radius: 50%;\n",
              "      cursor: pointer;\n",
              "      display: none;\n",
              "      fill: #1967D2;\n",
              "      height: 32px;\n",
              "      padding: 0 0 0 0;\n",
              "      width: 32px;\n",
              "    }\n",
              "\n",
              "    .colab-df-convert:hover {\n",
              "      background-color: #E2EBFA;\n",
              "      box-shadow: 0px 1px 2px rgba(60, 64, 67, 0.3), 0px 1px 3px 1px rgba(60, 64, 67, 0.15);\n",
              "      fill: #174EA6;\n",
              "    }\n",
              "\n",
              "    [theme=dark] .colab-df-convert {\n",
              "      background-color: #3B4455;\n",
              "      fill: #D2E3FC;\n",
              "    }\n",
              "\n",
              "    [theme=dark] .colab-df-convert:hover {\n",
              "      background-color: #434B5C;\n",
              "      box-shadow: 0px 1px 3px 1px rgba(0, 0, 0, 0.15);\n",
              "      filter: drop-shadow(0px 1px 2px rgba(0, 0, 0, 0.3));\n",
              "      fill: #FFFFFF;\n",
              "    }\n",
              "  </style>\n",
              "\n",
              "      <script>\n",
              "        const buttonEl =\n",
              "          document.querySelector('#df-bba7e8e7-3ee3-476a-a066-dc8f77de42f8 button.colab-df-convert');\n",
              "        buttonEl.style.display =\n",
              "          google.colab.kernel.accessAllowed ? 'block' : 'none';\n",
              "\n",
              "        async function convertToInteractive(key) {\n",
              "          const element = document.querySelector('#df-bba7e8e7-3ee3-476a-a066-dc8f77de42f8');\n",
              "          const dataTable =\n",
              "            await google.colab.kernel.invokeFunction('convertToInteractive',\n",
              "                                                     [key], {});\n",
              "          if (!dataTable) return;\n",
              "\n",
              "          const docLinkHtml = 'Like what you see? Visit the ' +\n",
              "            '<a target=\"_blank\" href=https://colab.research.google.com/notebooks/data_table.ipynb>data table notebook</a>'\n",
              "            + ' to learn more about interactive tables.';\n",
              "          element.innerHTML = '';\n",
              "          dataTable['output_type'] = 'display_data';\n",
              "          await google.colab.output.renderOutput(dataTable, element);\n",
              "          const docLink = document.createElement('div');\n",
              "          docLink.innerHTML = docLinkHtml;\n",
              "          element.appendChild(docLink);\n",
              "        }\n",
              "      </script>\n",
              "    </div>\n",
              "  </div>\n",
              "  "
            ]
          },
          "metadata": {},
          "execution_count": 50
        }
      ]
    },
    {
      "cell_type": "code",
      "source": [
        "# Music\n",
        "test['enc_reviewerID'] = leu.transform(test['reviewerID'].values)\n",
        "test['enc_asin'] = lem.transform(test['asin'].values)\n",
        "test.head(3)"
      ],
      "metadata": {
        "id": "DqfCsYreeNIr",
        "outputId": "92b5eee1-98e7-4cde-db7e-6fb2e643fb2d",
        "colab": {
          "base_uri": "https://localhost:8080/",
          "height": 143
        }
      },
      "execution_count": null,
      "outputs": [
        {
          "output_type": "execute_result",
          "data": {
            "text/plain": [
              "       reviewerID        asin rating  reviewTime  enc_reviewerID  enc_asin\n",
              "2  A3BZRIM7SDJJ1L  B000W02O2K    5.0  1346889600           30955      1712\n",
              "3   ANW5096LTXW5O  B000WLQKPQ    5.0  1378944000           45838      2079\n",
              "4  A13URX47E0R3XA  B00136NUG6    5.0  1338076800            1443      3565"
            ],
            "text/html": [
              "\n",
              "  <div id=\"df-9cec4519-c17e-4a75-b29f-79b89062142b\">\n",
              "    <div class=\"colab-df-container\">\n",
              "      <div>\n",
              "<style scoped>\n",
              "    .dataframe tbody tr th:only-of-type {\n",
              "        vertical-align: middle;\n",
              "    }\n",
              "\n",
              "    .dataframe tbody tr th {\n",
              "        vertical-align: top;\n",
              "    }\n",
              "\n",
              "    .dataframe thead th {\n",
              "        text-align: right;\n",
              "    }\n",
              "</style>\n",
              "<table border=\"1\" class=\"dataframe\">\n",
              "  <thead>\n",
              "    <tr style=\"text-align: right;\">\n",
              "      <th></th>\n",
              "      <th>reviewerID</th>\n",
              "      <th>asin</th>\n",
              "      <th>rating</th>\n",
              "      <th>reviewTime</th>\n",
              "      <th>enc_reviewerID</th>\n",
              "      <th>enc_asin</th>\n",
              "    </tr>\n",
              "  </thead>\n",
              "  <tbody>\n",
              "    <tr>\n",
              "      <th>2</th>\n",
              "      <td>A3BZRIM7SDJJ1L</td>\n",
              "      <td>B000W02O2K</td>\n",
              "      <td>5.0</td>\n",
              "      <td>1346889600</td>\n",
              "      <td>30955</td>\n",
              "      <td>1712</td>\n",
              "    </tr>\n",
              "    <tr>\n",
              "      <th>3</th>\n",
              "      <td>ANW5096LTXW5O</td>\n",
              "      <td>B000WLQKPQ</td>\n",
              "      <td>5.0</td>\n",
              "      <td>1378944000</td>\n",
              "      <td>45838</td>\n",
              "      <td>2079</td>\n",
              "    </tr>\n",
              "    <tr>\n",
              "      <th>4</th>\n",
              "      <td>A13URX47E0R3XA</td>\n",
              "      <td>B00136NUG6</td>\n",
              "      <td>5.0</td>\n",
              "      <td>1338076800</td>\n",
              "      <td>1443</td>\n",
              "      <td>3565</td>\n",
              "    </tr>\n",
              "  </tbody>\n",
              "</table>\n",
              "</div>\n",
              "      <button class=\"colab-df-convert\" onclick=\"convertToInteractive('df-9cec4519-c17e-4a75-b29f-79b89062142b')\"\n",
              "              title=\"Convert this dataframe to an interactive table.\"\n",
              "              style=\"display:none;\">\n",
              "        \n",
              "  <svg xmlns=\"http://www.w3.org/2000/svg\" height=\"24px\"viewBox=\"0 0 24 24\"\n",
              "       width=\"24px\">\n",
              "    <path d=\"M0 0h24v24H0V0z\" fill=\"none\"/>\n",
              "    <path d=\"M18.56 5.44l.94 2.06.94-2.06 2.06-.94-2.06-.94-.94-2.06-.94 2.06-2.06.94zm-11 1L8.5 8.5l.94-2.06 2.06-.94-2.06-.94L8.5 2.5l-.94 2.06-2.06.94zm10 10l.94 2.06.94-2.06 2.06-.94-2.06-.94-.94-2.06-.94 2.06-2.06.94z\"/><path d=\"M17.41 7.96l-1.37-1.37c-.4-.4-.92-.59-1.43-.59-.52 0-1.04.2-1.43.59L10.3 9.45l-7.72 7.72c-.78.78-.78 2.05 0 2.83L4 21.41c.39.39.9.59 1.41.59.51 0 1.02-.2 1.41-.59l7.78-7.78 2.81-2.81c.8-.78.8-2.07 0-2.86zM5.41 20L4 18.59l7.72-7.72 1.47 1.35L5.41 20z\"/>\n",
              "  </svg>\n",
              "      </button>\n",
              "      \n",
              "  <style>\n",
              "    .colab-df-container {\n",
              "      display:flex;\n",
              "      flex-wrap:wrap;\n",
              "      gap: 12px;\n",
              "    }\n",
              "\n",
              "    .colab-df-convert {\n",
              "      background-color: #E8F0FE;\n",
              "      border: none;\n",
              "      border-radius: 50%;\n",
              "      cursor: pointer;\n",
              "      display: none;\n",
              "      fill: #1967D2;\n",
              "      height: 32px;\n",
              "      padding: 0 0 0 0;\n",
              "      width: 32px;\n",
              "    }\n",
              "\n",
              "    .colab-df-convert:hover {\n",
              "      background-color: #E2EBFA;\n",
              "      box-shadow: 0px 1px 2px rgba(60, 64, 67, 0.3), 0px 1px 3px 1px rgba(60, 64, 67, 0.15);\n",
              "      fill: #174EA6;\n",
              "    }\n",
              "\n",
              "    [theme=dark] .colab-df-convert {\n",
              "      background-color: #3B4455;\n",
              "      fill: #D2E3FC;\n",
              "    }\n",
              "\n",
              "    [theme=dark] .colab-df-convert:hover {\n",
              "      background-color: #434B5C;\n",
              "      box-shadow: 0px 1px 3px 1px rgba(0, 0, 0, 0.15);\n",
              "      filter: drop-shadow(0px 1px 2px rgba(0, 0, 0, 0.3));\n",
              "      fill: #FFFFFF;\n",
              "    }\n",
              "  </style>\n",
              "\n",
              "      <script>\n",
              "        const buttonEl =\n",
              "          document.querySelector('#df-9cec4519-c17e-4a75-b29f-79b89062142b button.colab-df-convert');\n",
              "        buttonEl.style.display =\n",
              "          google.colab.kernel.accessAllowed ? 'block' : 'none';\n",
              "\n",
              "        async function convertToInteractive(key) {\n",
              "          const element = document.querySelector('#df-9cec4519-c17e-4a75-b29f-79b89062142b');\n",
              "          const dataTable =\n",
              "            await google.colab.kernel.invokeFunction('convertToInteractive',\n",
              "                                                     [key], {});\n",
              "          if (!dataTable) return;\n",
              "\n",
              "          const docLinkHtml = 'Like what you see? Visit the ' +\n",
              "            '<a target=\"_blank\" href=https://colab.research.google.com/notebooks/data_table.ipynb>data table notebook</a>'\n",
              "            + ' to learn more about interactive tables.';\n",
              "          element.innerHTML = '';\n",
              "          dataTable['output_type'] = 'display_data';\n",
              "          await google.colab.output.renderOutput(dataTable, element);\n",
              "          const docLink = document.createElement('div');\n",
              "          docLink.innerHTML = docLinkHtml;\n",
              "          element.appendChild(docLink);\n",
              "        }\n",
              "      </script>\n",
              "    </div>\n",
              "  </div>\n",
              "  "
            ]
          },
          "metadata": {},
          "execution_count": 74
        }
      ]
    },
    {
      "cell_type": "code",
      "source": [
        "# \n",
        "def get_sparse(matrix): \n",
        "  dok_matrx = matrix.tocoo().astype(np.float32)\n",
        "  values = dok_matrx.data\n",
        "  indices = np.mat((dok_matrx.row, dok_matrx.col))\n",
        "\n",
        "  i = torch.LongTensor(indices)\n",
        "  v = torch.FloatTensor(values)\n",
        "  shape = dok_matrx.shape\n",
        "\n",
        "  dok_mtrx_sparse = torch.sparse.FloatTensor(i, v, torch.Size(shape))\n",
        "  return dok_mtrx_sparse"
      ],
      "metadata": {
        "id": "4v2g_U52qJSj"
      },
      "execution_count": null,
      "outputs": []
    },
    {
      "cell_type": "code",
      "source": [
        "\n",
        "items_interacted = []\n",
        "relevant_items = []\n",
        "\n",
        "def metrics(u_w, i_w, n_users, n_items, train, test, K):\n",
        "  u_emb = nn.Embedding(u_w.size()[0], u_w.size()[1], _weight = u_w)\n",
        "  i_emb = nn.Embedding(i_w.size()[0], i_w.size()[1], _weight = i_w)\n",
        "\n",
        "  users_test = torch.LongTensor(test['enc_reviewerID'].unique())\n",
        "  relevance = torch.matmul(u_w, torch.transpose(i_w, 0, 1))\n",
        "\n",
        "  R = sp.dok_matrix((n_users, n_items), dtype = np.float32)\n",
        "  R[train['enc_reviewerID'], train['enc_asin']] = 1.0\n",
        "\n",
        "  R_tensor = get_sparse(R)\n",
        "  R_dense = R_tensor.to_dense()\n",
        "\n",
        "  R_dense = R_dense * (-np.inf)\n",
        "  R_dense = torch.nan_to_num(R_dense, nan = 0.0)      \n",
        "\n",
        "  relevance = relevance + R_dense \n",
        "\n",
        "  top_k_score = torch.topk(relevance, K).values\n",
        "  top_k_indices = torch.topk(relevance, K).indices\n",
        "\n",
        "  top_k_indices_df = pd.DataFrame(top_k_indices.numpy(), columns = ['top_index_'+str(x+1) for x in range(K)])\n",
        "\n",
        "  top_k_indices_df['userID'] = top_k_indices_df.index\n",
        "    \n",
        "  top_k_indices_df['top_relevantI'] = top_k_indices_df[['top_index_'+str(x+1) for x in range(K)]].values.tolist()\n",
        "  #print('top_k_indices_df before selected columns \\n', top_k_indices_df)\n",
        "  top_k_indices_df = top_k_indices_df[['userID', 'top_relevantI']]\n",
        "  #print('top_k_indices_df after selected columns \\n', top_k_indices_df)\n",
        "  test_items_interact = test.groupby('enc_reviewerID')['enc_asin'].apply(list).reset_index()\n",
        "  #print('Test items \\n', test_items_interact)\n",
        "  metrics_df = pd.merge(test_items_interact, top_k_indices_df, how = 'left', left_on = 'enc_reviewerID', right_on = ['userID'])\n",
        "  z = zip(metrics_df.enc_reviewerID, metrics_df.top_relevantI)\n",
        "  #print('Metrics df: \\n', metrics_df)\n",
        "\n",
        "  items_interacted = metrics_df.enc_asin\n",
        "  relevant_items = metrics_df.top_relevantI\n",
        "\n",
        "  metrics_df['intersection'] = [list(set(a).intersection(b)) for a, b in zip(metrics_df.enc_asin, metrics_df.top_relevantI)]\n",
        "  #metrics_df['intersection'] = [list(a.intersection(b)) for a, b in zip(metrics_df.enc_asin, metrics_df.top_relevantI)]\n",
        "  metrics_df['recall'] = metrics_df.apply(lambda x : len(x['intersection'])/len(x['enc_asin']), axis = 1)\n",
        "  metrics_df['precision'] = metrics_df.apply(lambda x : len(x['intersection'])/K, axis = 1)\n",
        "  # metrics_df['precision'] = metrics_df.apply(lambda x : len(x['intrsctn_itm'])/K, axis = 1)\n",
        "  #print(\"Metrics dataframe ******\\n\", metrics_df)\n",
        "  #print(\"Intersection ******\\n\", metrics_df['intersection'])\n",
        "  #print(\"Recall ******\\n\", metrics_df['recall'])\n",
        "\n",
        "  def get_hits(enc_asin, top_relevantI):\n",
        "    return [1 if x in set(enc_asin) else 0 for x in top_relevantI]\n",
        "  metrics_df['hits'] = metrics_df.apply(lambda x : get_hits(x['enc_asin'], x['top_relevantI']), axis = 1)\n",
        "  def getDcgIdcg(enc_asin, hits):\n",
        "    idcg = sum([1 / np.log1p(ix+1) for ix in range(min(len(enc_asin), len(hits)))])\n",
        "    dcg = sum([hit/np.log1p(ix+1) for ix, hit in enumerate(hits)])\n",
        "    return dcg/idcg\n",
        "\n",
        "  def get_cummulative_sum(hits):\n",
        "    return np.cumsum(hits)\n",
        "  \n",
        "  def getmap(enc_asin, hits, hits_cumsum):\n",
        "    return sum([hit_cs*hit/(ix+1) for ix, (hit, hit_cs) in enumerate(zip(hits, hits_cumsum))])/len(enc_asin)\n",
        "  \n",
        "  metrics_df['ndcg'] = metrics_df.apply(lambda x : getDcgIdcg(x['enc_asin'], x['hits']), axis = 1)\n",
        "  metrics_df['hits_cumsum'] = metrics_df.apply(lambda x : get_cummulative_sum(x['hits']), axis = 1)\n",
        "\n",
        "  metrics_df['map'] = metrics_df.apply(lambda x : getmap(x['enc_asin'], x['hits'], x['hits_cumsum']), axis = 1)\n",
        "  return metrics_df['recall'].mean(), metrics_df['precision'].mean(), metrics_df['ndcg'].mean(), metrics_df['map'].mean()\n"
      ],
      "metadata": {
        "id": "_mYTqK-seM-D"
      },
      "execution_count": null,
      "outputs": []
    },
    {
      "cell_type": "code",
      "source": [
        "# The GNN\n",
        "class LightGCN(nn.Module):\n",
        "  def __init__(self, data, n_users, n_items, n_layers, dim) -> None:\n",
        "    super(LightGCN, self).__init__()\n",
        "    self.data = data\n",
        "    self.n_users = n_users\n",
        "    self.n_items = n_items\n",
        "    self.n_layers = n_layers\n",
        "    self.dim = dim\n",
        "    self.init_embed()\n",
        "    self.norm_of_ajmat_sparse = self.get_A_tilda()\n",
        "    \n",
        "  def init_embed(self):\n",
        "    self.E0 = nn.Embedding(self.n_users + self.n_items, self.dim)\n",
        "    nn.init.xavier_uniform_(self.E0.weight)\n",
        "    self.E0.weight = nn.Parameter(self.E0.weight)\n",
        "\n",
        "  def get_A_tilda(self):\n",
        "    R = sp.dok_matrix((self.n_users, self.n_items), dtype = np.float32)\n",
        "    R[self.data['enc_reviewerID'], self.data['enc_asin']] = 1.0\n",
        "\n",
        "    adj_mat = sp.dok_matrix((self.n_users + self.n_items, self.n_users + self.n_items), dtype = np.float32)\n",
        "    adj_mat = adj_mat.tolil()\n",
        "    R = R.tolil()\n",
        "\n",
        "    adj_mat[: n_users, n_users :] = R\n",
        "    adj_mat[n_users :, : n_users] = R.T\n",
        "    adj_mat = adj_mat.todok()\n",
        "\n",
        "    rowsum = np.array(adj_mat.sum(1))\n",
        "    d_inv = np.power(rowsum + 1e-9, -0.5).flatten()\n",
        "    d_inv[np.isinf(d_inv)] = 0.0\n",
        "    d_mat_inv = sp.diags(d_inv)\n",
        "    norm_adj_mat = d_mat_inv.dot(adj_mat)\n",
        "    norm_adj_mat = norm_adj_mat.dot(d_mat_inv)\n",
        "\n",
        "    # Convert to Sparse matrix\n",
        "    norm_adj_mat_coo = norm_adj_mat.tocoo().astype(np.float32)\n",
        "    values = norm_adj_mat_coo.data\n",
        "    indices = np.vstack((norm_adj_mat_coo.row, norm_adj_mat_coo.col))\n",
        "\n",
        "    i = torch.LongTensor(indices)\n",
        "    v = torch.FloatTensor(values)\n",
        "    shape = norm_adj_mat_coo.shape\n",
        "    \n",
        "    norm_adj_mat_sparse = torch.sparse.FloatTensor(i, v, torch.Size(shape))\n",
        "\n",
        "    return norm_adj_mat_sparse\n",
        "\n",
        "  def propagate(self):\n",
        "    all_layers_emb = [self.E0.weight]\n",
        "    emb_layer = self.E0.weight\n",
        "\n",
        "    for layer in range(self.n_layers):\n",
        "      emb_layer = torch.sparse.mm(self.norm_of_ajmat_sparse, emb_layer)\n",
        "      all_layers_emb.append(emb_layer)\n",
        "\n",
        "    all_layers_emb = torch.stack(all_layers_emb)\n",
        "    mean_layers_emb = torch.mean(all_layers_emb, axis = 0)\n",
        "\n",
        "    final_user_emb, final_item_emb = torch.split(mean_layers_emb, [n_users, n_items])\n",
        "    initial_users_emb, initial_itm_emb = torch.split(self.E0.weight, [n_users, n_items])\n",
        "\n",
        "    return final_user_emb, final_item_emb, initial_users_emb, initial_itm_emb\n",
        "  \n",
        "  def forward(self, users, pos_items, neg_items):\n",
        "    final_user_emb, final_item_emb, initial_users_emb, initial_itm_emb = self.propagate()\n",
        "\n",
        "    users_emb, pos_emb, neg_emb = final_user_emb[users], final_item_emb[pos_items], final_item_emb[neg_items]\n",
        "    user_emb0, pos_emb0, neg_emb0 = initial_users_emb[users], initial_itm_emb[pos_items], initial_itm_emb[neg_items]\n",
        "\n",
        "    return users_emb, pos_emb, neg_emb, user_emb0, pos_emb0, neg_emb0"
      ],
      "metadata": {
        "id": "bzllt2hJ-f_A"
      },
      "execution_count": null,
      "outputs": []
    },
    {
      "cell_type": "code",
      "source": [
        "n_users = train['enc_reviewerID'].nunique()\n",
        "n_items = train['enc_asin'].nunique()"
      ],
      "metadata": {
        "id": "U0Gk79WYGXMw"
      },
      "execution_count": null,
      "outputs": []
    },
    {
      "cell_type": "code",
      "source": [
        "n_layers = 3\n",
        "dim = 64\n",
        "\n",
        "lightGCN = LightGCN(train, n_users, n_items, n_layers, dim)\n",
        "print(\"Size of Learnable Embedding: \", list(lightGCN.parameters())[0].size())"
      ],
      "metadata": {
        "id": "bI2qvbdneMxk",
        "colab": {
          "base_uri": "https://localhost:8080/"
        },
        "outputId": "86d0876e-ab8b-4ea0-a868-4030f81fcf8c"
      },
      "execution_count": null,
      "outputs": [
        {
          "output_type": "stream",
          "name": "stdout",
          "text": [
            "Size of Learnable Embedding:  torch.Size([55106, 64])\n"
          ]
        }
      ]
    },
    {
      "cell_type": "code",
      "source": [
        "def bprloss(users, user_emb, pos_emb, neg_emb, user_E0, pos_E0, neg_E0):\n",
        "  reg_loss = 0.5*(user_E0.norm().pow(2) + pos_E0.norm().pow(2) + neg_E0.norm().pow(2))/float(len(users))\n",
        "  pos_score = torch.mul(user_emb, pos_emb)\n",
        "  pos_score = torch.sum(pos_score, dim = 1)\n",
        "  neg_score = torch.mul(user_emb, neg_emb)\n",
        "  neg_score = torch.sum(neg_score, dim = 1)\n",
        "\n",
        "  loss = torch.mean(torch.nn.functional.softplus(neg_score - pos_score))\n",
        "  \n",
        "  return loss, reg_loss"
      ],
      "metadata": {
        "id": "aHH86_A8kUdC"
      },
      "execution_count": null,
      "outputs": []
    },
    {
      "cell_type": "code",
      "source": [
        "def dataloader(data, batch_size, n_users, n_items):\n",
        "  interacted_items = data.groupby('enc_reviewerID')['enc_asin'].apply(list).reset_index()\n",
        "  def sample_negative(x):\n",
        "    while True:\n",
        "      neg_id = random.randint(0, n_items - 1)\n",
        "      if neg_id not in x:\n",
        "        return neg_id\n",
        "  indices = [x for x in range(n_users)]\n",
        "  if n_users < batch_size:\n",
        "    users = [random.choice(indices) for _ in range(batch_size)]\n",
        "  else:\n",
        "    users = random.sample(indices, batch_size)\n",
        "  users.sort()\n",
        "\n",
        "  usersdf = pd.DataFrame(users, columns = ['users'])\n",
        "  interacted_items = pd.merge(interacted_items, usersdf, how = 'right', left_on = 'enc_reviewerID', right_on = 'users')\n",
        "  \n",
        "  posItems = interacted_items['enc_asin'].apply(lambda x : random.choice(x)).values\n",
        "\n",
        "  negItems = interacted_items['enc_asin'].apply(lambda x : sample_negative(x)).values\n",
        "\n",
        "  return list(users), list(posItems), list(negItems)"
      ],
      "metadata": {
        "id": "kUx_kWSNG0A4"
      },
      "execution_count": null,
      "outputs": []
    },
    {
      "cell_type": "code",
      "source": [
        "optimizer = torch.optim.Adam(lightGCN.parameters(), lr = 0.005)\n",
        "epochs = 2\n",
        "batch_size = 1024\n",
        "decay = 0.0001\n",
        "K = 10"
      ],
      "metadata": {
        "id": "ZqLAbnEuGzui"
      },
      "execution_count": null,
      "outputs": []
    },
    {
      "cell_type": "code",
      "source": [
        "loss_list_epoch = []\n",
        "mf_loss_list_epoch = []\n",
        "reg_loss_list_epoch = []\n",
        "\n",
        "recall_list = []\n",
        "precision_list = []\n",
        "ndcg_list = []\n",
        "map_list = []\n",
        "\n",
        "train_time_list = []\n",
        "eval_time_list = []\n",
        "\n",
        "for epoch in tqdm(range(epochs)):\n",
        "  n_batch = int(len(train)/batch_size)\n",
        "\n",
        "  final_loss_list = []\n",
        "  mf_loss_list = []\n",
        "  reg_loss_list = []\n",
        "\n",
        "  best_ndcg = -1\n",
        "\n",
        "  train_start = time.time()\n",
        "  lightGCN.train()\n",
        "  for batch_idx in range(n_batch):\n",
        "    optimizer.zero_grad()\n",
        "\n",
        "    users, posItems, negItems = dataloader(train, batch_size, n_users, n_items)\n",
        "    usersEmb, posEmb, negEmb, userE0, posE0, negE0 = lightGCN.forward(users, posItems, negItems)\n",
        "    mf_loss, reg_loss = bprloss(users, usersEmb, posEmb, negEmb, userE0,  posE0, negE0)\n",
        "\n",
        "    mf_loss = decay * reg_loss\n",
        "    final_loss = mf_loss + reg_loss\n",
        "    final_loss.backward()\n",
        "    optimizer.step()\n",
        "\n",
        "    final_loss_list.append(final_loss.item())\n",
        "    mf_loss_list.append(mf_loss.item())\n",
        "    reg_loss_list.append(reg_loss.item())\n",
        "\n",
        "  train_end = time.time()\n",
        "  train_time = train_end - train_start\n",
        "\n",
        "  lightGCN.eval()\n",
        "  with torch.no_grad():\n",
        "    final_user_emb, final_item_emb, initial_users_emb, initial_itm_emb = lightGCN.propagate()\n",
        "    test_topK_recall, test_topK_precision, test_topK_ndcg, test_topK_map = metrics(final_user_emb, final_item_emb, n_users, n_items, train, test, K)\n",
        "  if test_topK_ndcg > best_ndcg:\n",
        "    best_ndcg = test_topK_ndcg\n",
        "\n",
        "    torch.save(final_user_emb, 'final_user_emb.pt')\n",
        "    torch.save(final_item_emb, 'final_item_emb.pt')\n",
        "    torch.save(initial_users_emb, 'initial_users_emb.pt')\n",
        "    torch.save(initial_users_emb, 'initial_item_emb.pt')\n",
        "  \n",
        "  eval_time = time.time() - train_end\n",
        "\n",
        "  loss_list_epoch.append(round(np.mean(final_loss_list), 4))\n",
        "  mf_loss_list_epoch.append(round(np.mean(mf_loss_list), 4))\n",
        "  reg_loss_list_epoch.append(round(np.mean(final_loss_list), 4))\n",
        "\n",
        "  recall_list.append(round(test_topK_recall, 4))\n",
        "  precision_list.append(round(test_topK_precision))\n",
        "  ndcg_list.append(round(test_topK_ndcg, 4))\n",
        "  map_list.append(round(test_topK_map, 4))\n",
        "\n",
        "  train_time_list.append(train_time)\n",
        "  eval_time_list.append(eval_time) \n"
      ],
      "metadata": {
        "colab": {
          "base_uri": "https://localhost:8080/",
          "height": 1000,
          "referenced_widgets": [
            "b88f1852aa524e4fa5f52942c76b4c6d",
            "8c1d5816a970401a919da195d74f7d80",
            "932f6e30e90a40468d65e8e18e6429db",
            "fd4528c6560245158a51a9b8eaeb1137",
            "c6fdd2321b9d4f7f84ea650524796b79",
            "d5e9f59e568944b98b37bf377007bcee",
            "16aba4a63ba44d72a9691a289bc0dc7a",
            "82931d3052e24ba0a9cf2a183b72ba75",
            "fb72d9b596a64cf38ed74b5459e74ded",
            "81ee46329ba64eeca7e16bd42aae8365",
            "128849419f68400ab7742e4cda912935"
          ]
        },
        "id": "LBC7ty04PChr",
        "outputId": "adec37bd-9461-46dd-b7a5-a33abbb0e3f1"
      },
      "execution_count": null,
      "outputs": [
        {
          "output_type": "display_data",
          "data": {
            "text/plain": [
              "  0%|          | 0/2 [00:00<?, ?it/s]"
            ],
            "application/vnd.jupyter.widget-view+json": {
              "version_major": 2,
              "version_minor": 0,
              "model_id": "b88f1852aa524e4fa5f52942c76b4c6d"
            }
          },
          "metadata": {}
        },
        {
          "output_type": "stream",
          "name": "stdout",
          "text": [
            "Test items \n",
            "       enc_reviewerID      enc_asin\n",
            "0                  1        [2076]\n",
            "1                 25        [2286]\n",
            "2                 28        [3937]\n",
            "3                 38        [1210]\n",
            "4                 44        [2009]\n",
            "...              ...           ...\n",
            "9748           50115        [2647]\n",
            "9749           50119  [3392, 2535]\n",
            "9750           50120        [2347]\n",
            "9751           50137        [3394]\n",
            "9752           50139        [2529]\n",
            "\n",
            "[9753 rows x 2 columns]\n",
            "Metrics df: \n",
            "       enc_reviewerID      enc_asin  userID  \\\n",
            "0                  1        [2076]       1   \n",
            "1                 25        [2286]      25   \n",
            "2                 28        [3937]      28   \n",
            "3                 38        [1210]      38   \n",
            "4                 44        [2009]      44   \n",
            "...              ...           ...     ...   \n",
            "9748           50115        [2647]   50115   \n",
            "9749           50119  [3392, 2535]   50119   \n",
            "9750           50120        [2347]   50120   \n",
            "9751           50137        [3394]   50137   \n",
            "9752           50139        [2529]   50139   \n",
            "\n",
            "                                                    top_relevantI  \n",
            "0     [4778, 2209, 2328, 1800, 2677, 1543, 1462, 2089, 705, 3922]  \n",
            "1      [3044, 221, 2485, 3124, 3206, 4823, 2741, 3525, 362, 4399]  \n",
            "2      [4345, 3199, 1806, 141, 1995, 1988, 458, 4910, 2768, 4808]  \n",
            "3       [451, 808, 4428, 1317, 141, 4445, 2662, 1082, 4248, 2767]  \n",
            "4       [4936, 2158, 52, 4700, 2371, 2113, 2358, 719, 4345, 2433]  \n",
            "...                                                           ...  \n",
            "9748     [3442, 455, 980, 891, 1825, 3811, 3470, 3974, 2708, 365]  \n",
            "9749    [3510, 4778, 4732, 808, 2328, 460, 1373, 353, 2694, 2669]  \n",
            "9750   [4692, 1446, 4615, 3597, 655, 2113, 362, 3016, 4584, 3093]  \n",
            "9751   [2741, 2558, 3374, 1112, 4634, 329, 887, 4001, 2776, 1414]  \n",
            "9752  [4936, 3927, 3693, 4823, 4634, 3713, 1316, 2883, 3243, 782]  \n",
            "\n",
            "[9753 rows x 4 columns]\n",
            "Metrics dataframe ******\n",
            "       enc_reviewerID      enc_asin  userID  \\\n",
            "0                  1        [2076]       1   \n",
            "1                 25        [2286]      25   \n",
            "2                 28        [3937]      28   \n",
            "3                 38        [1210]      38   \n",
            "4                 44        [2009]      44   \n",
            "...              ...           ...     ...   \n",
            "9748           50115        [2647]   50115   \n",
            "9749           50119  [3392, 2535]   50119   \n",
            "9750           50120        [2347]   50120   \n",
            "9751           50137        [3394]   50137   \n",
            "9752           50139        [2529]   50139   \n",
            "\n",
            "                                                    top_relevantI  \\\n",
            "0     [4778, 2209, 2328, 1800, 2677, 1543, 1462, 2089, 705, 3922]   \n",
            "1      [3044, 221, 2485, 3124, 3206, 4823, 2741, 3525, 362, 4399]   \n",
            "2      [4345, 3199, 1806, 141, 1995, 1988, 458, 4910, 2768, 4808]   \n",
            "3       [451, 808, 4428, 1317, 141, 4445, 2662, 1082, 4248, 2767]   \n",
            "4       [4936, 2158, 52, 4700, 2371, 2113, 2358, 719, 4345, 2433]   \n",
            "...                                                           ...   \n",
            "9748     [3442, 455, 980, 891, 1825, 3811, 3470, 3974, 2708, 365]   \n",
            "9749    [3510, 4778, 4732, 808, 2328, 460, 1373, 353, 2694, 2669]   \n",
            "9750   [4692, 1446, 4615, 3597, 655, 2113, 362, 3016, 4584, 3093]   \n",
            "9751   [2741, 2558, 3374, 1112, 4634, 329, 887, 4001, 2776, 1414]   \n",
            "9752  [4936, 3927, 3693, 4823, 4634, 3713, 1316, 2883, 3243, 782]   \n",
            "\n",
            "     intersection  recall  precision  \n",
            "0              []     0.0        0.0  \n",
            "1              []     0.0        0.0  \n",
            "2              []     0.0        0.0  \n",
            "3              []     0.0        0.0  \n",
            "4              []     0.0        0.0  \n",
            "...           ...     ...        ...  \n",
            "9748           []     0.0        0.0  \n",
            "9749           []     0.0        0.0  \n",
            "9750           []     0.0        0.0  \n",
            "9751           []     0.0        0.0  \n",
            "9752           []     0.0        0.0  \n",
            "\n",
            "[9753 rows x 7 columns]\n",
            "Intersection ******\n",
            " 0       []\n",
            "1       []\n",
            "2       []\n",
            "3       []\n",
            "4       []\n",
            "        ..\n",
            "9748    []\n",
            "9749    []\n",
            "9750    []\n",
            "9751    []\n",
            "9752    []\n",
            "Name: intersection, Length: 9753, dtype: object\n",
            "Recall ******\n",
            " 0       0.0\n",
            "1       0.0\n",
            "2       0.0\n",
            "3       0.0\n",
            "4       0.0\n",
            "       ... \n",
            "9748    0.0\n",
            "9749    0.0\n",
            "9750    0.0\n",
            "9751    0.0\n",
            "9752    0.0\n",
            "Name: recall, Length: 9753, dtype: float64\n",
            "Test items \n",
            "       enc_reviewerID      enc_asin\n",
            "0                  1        [2076]\n",
            "1                 25        [2286]\n",
            "2                 28        [3937]\n",
            "3                 38        [1210]\n",
            "4                 44        [2009]\n",
            "...              ...           ...\n",
            "9748           50115        [2647]\n",
            "9749           50119  [3392, 2535]\n",
            "9750           50120        [2347]\n",
            "9751           50137        [3394]\n",
            "9752           50139        [2529]\n",
            "\n",
            "[9753 rows x 2 columns]\n",
            "Metrics df: \n",
            "       enc_reviewerID      enc_asin  userID  \\\n",
            "0                  1        [2076]       1   \n",
            "1                 25        [2286]      25   \n",
            "2                 28        [3937]      28   \n",
            "3                 38        [1210]      38   \n",
            "4                 44        [2009]      44   \n",
            "...              ...           ...     ...   \n",
            "9748           50115        [2647]   50115   \n",
            "9749           50119  [3392, 2535]   50119   \n",
            "9750           50120        [2347]   50120   \n",
            "9751           50137        [3394]   50137   \n",
            "9752           50139        [2529]   50139   \n",
            "\n",
            "                                                    top_relevantI  \n",
            "0        [500, 944, 577, 1358, 455, 2990, 4691, 2558, 4809, 4505]  \n",
            "1      [187, 2694, 4616, 2263, 1559, 1358, 4038, 944, 4323, 4942]  \n",
            "2         [4085, 2990, 280, 1942, 543, 679, 314, 1082, 4038, 455]  \n",
            "3         [500, 4454, 136, 455, 1616, 2990, 288, 170, 2750, 3638]  \n",
            "4      [1425, 2113, 577, 194, 1560, 1094, 3807, 2331, 4364, 4616]  \n",
            "...                                                           ...  \n",
            "9748     [1942, 455, 182, 2239, 2674, 679, 3811, 4691, 288, 2315]  \n",
            "9749    [277, 1425, 3523, 112, 3491, 1617, 288, 2315, 4691, 3482]  \n",
            "9750  [1217, 4934, 2414, 3465, 4085, 4498, 1089, 1448, 4865, 582]  \n",
            "9751     [4691, 1217, 1616, 455, 376, 168, 2374, 3465, 577, 1420]  \n",
            "9752    [3199, 4815, 500, 352, 1097, 1089, 3669, 4035, 387, 1814]  \n",
            "\n",
            "[9753 rows x 4 columns]\n",
            "Metrics dataframe ******\n",
            "       enc_reviewerID      enc_asin  userID  \\\n",
            "0                  1        [2076]       1   \n",
            "1                 25        [2286]      25   \n",
            "2                 28        [3937]      28   \n",
            "3                 38        [1210]      38   \n",
            "4                 44        [2009]      44   \n",
            "...              ...           ...     ...   \n",
            "9748           50115        [2647]   50115   \n",
            "9749           50119  [3392, 2535]   50119   \n",
            "9750           50120        [2347]   50120   \n",
            "9751           50137        [3394]   50137   \n",
            "9752           50139        [2529]   50139   \n",
            "\n",
            "                                                    top_relevantI  \\\n",
            "0        [500, 944, 577, 1358, 455, 2990, 4691, 2558, 4809, 4505]   \n",
            "1      [187, 2694, 4616, 2263, 1559, 1358, 4038, 944, 4323, 4942]   \n",
            "2         [4085, 2990, 280, 1942, 543, 679, 314, 1082, 4038, 455]   \n",
            "3         [500, 4454, 136, 455, 1616, 2990, 288, 170, 2750, 3638]   \n",
            "4      [1425, 2113, 577, 194, 1560, 1094, 3807, 2331, 4364, 4616]   \n",
            "...                                                           ...   \n",
            "9748     [1942, 455, 182, 2239, 2674, 679, 3811, 4691, 288, 2315]   \n",
            "9749    [277, 1425, 3523, 112, 3491, 1617, 288, 2315, 4691, 3482]   \n",
            "9750  [1217, 4934, 2414, 3465, 4085, 4498, 1089, 1448, 4865, 582]   \n",
            "9751     [4691, 1217, 1616, 455, 376, 168, 2374, 3465, 577, 1420]   \n",
            "9752    [3199, 4815, 500, 352, 1097, 1089, 3669, 4035, 387, 1814]   \n",
            "\n",
            "     intersection  recall  precision  \n",
            "0              []     0.0        0.0  \n",
            "1              []     0.0        0.0  \n",
            "2              []     0.0        0.0  \n",
            "3              []     0.0        0.0  \n",
            "4              []     0.0        0.0  \n",
            "...           ...     ...        ...  \n",
            "9748           []     0.0        0.0  \n",
            "9749           []     0.0        0.0  \n",
            "9750           []     0.0        0.0  \n",
            "9751           []     0.0        0.0  \n",
            "9752           []     0.0        0.0  \n",
            "\n",
            "[9753 rows x 7 columns]\n",
            "Intersection ******\n",
            " 0       []\n",
            "1       []\n",
            "2       []\n",
            "3       []\n",
            "4       []\n",
            "        ..\n",
            "9748    []\n",
            "9749    []\n",
            "9750    []\n",
            "9751    []\n",
            "9752    []\n",
            "Name: intersection, Length: 9753, dtype: object\n",
            "Recall ******\n",
            " 0       0.0\n",
            "1       0.0\n",
            "2       0.0\n",
            "3       0.0\n",
            "4       0.0\n",
            "       ... \n",
            "9748    0.0\n",
            "9749    0.0\n",
            "9750    0.0\n",
            "9751    0.0\n",
            "9752    0.0\n",
            "Name: recall, Length: 9753, dtype: float64\n"
          ]
        }
      ]
    },
    {
      "cell_type": "code",
      "source": [
        "#train['enc_reviewerID'] = 57839\n",
        "train. loc[train['enc_reviewerID'] == 57839]['enc_asin'].tolist()"
      ],
      "metadata": {
        "id": "K_gVdot7aLfF",
        "outputId": "338560ea-0b35-4594-96e7-bf588afbf7c6",
        "colab": {
          "base_uri": "https://localhost:8080/"
        }
      },
      "execution_count": null,
      "outputs": [
        {
          "output_type": "execute_result",
          "data": {
            "text/plain": [
              "[3824, 1526, 3522, 1526, 3625]"
            ]
          },
          "metadata": {},
          "execution_count": 69
        }
      ]
    },
    {
      "cell_type": "code",
      "source": [
        "train.head(4)"
      ],
      "metadata": {
        "id": "4Y29YF-wZwnm",
        "outputId": "2c4c9551-230f-4482-e928-6ccc9bcceb2c",
        "colab": {
          "base_uri": "https://localhost:8080/",
          "height": 175
        }
      },
      "execution_count": null,
      "outputs": [
        {
          "output_type": "execute_result",
          "data": {
            "text/plain": [
              "       reviewerID        asin rating  reviewTime  enc_reviewerID  enc_asin\n",
              "0  A3AMABALFJBHDU  B00137KH9S    5.0  1451260800           30476      3884\n",
              "1    AQJ9V8FT3O9U  B00136NFOI    5.0  1452211200           46756      3506\n",
              "2  A31D117768Z6ZE  B00122UNM0    5.0  1337212800           27094      2873\n",
              "3   AVLDLVYXXUTM7  B00123F8Y2    5.0  1471824000           48580      2956"
            ],
            "text/html": [
              "\n",
              "  <div id=\"df-35e50459-de0b-4218-9d37-b71add46ceec\">\n",
              "    <div class=\"colab-df-container\">\n",
              "      <div>\n",
              "<style scoped>\n",
              "    .dataframe tbody tr th:only-of-type {\n",
              "        vertical-align: middle;\n",
              "    }\n",
              "\n",
              "    .dataframe tbody tr th {\n",
              "        vertical-align: top;\n",
              "    }\n",
              "\n",
              "    .dataframe thead th {\n",
              "        text-align: right;\n",
              "    }\n",
              "</style>\n",
              "<table border=\"1\" class=\"dataframe\">\n",
              "  <thead>\n",
              "    <tr style=\"text-align: right;\">\n",
              "      <th></th>\n",
              "      <th>reviewerID</th>\n",
              "      <th>asin</th>\n",
              "      <th>rating</th>\n",
              "      <th>reviewTime</th>\n",
              "      <th>enc_reviewerID</th>\n",
              "      <th>enc_asin</th>\n",
              "    </tr>\n",
              "  </thead>\n",
              "  <tbody>\n",
              "    <tr>\n",
              "      <th>0</th>\n",
              "      <td>A3AMABALFJBHDU</td>\n",
              "      <td>B00137KH9S</td>\n",
              "      <td>5.0</td>\n",
              "      <td>1451260800</td>\n",
              "      <td>30476</td>\n",
              "      <td>3884</td>\n",
              "    </tr>\n",
              "    <tr>\n",
              "      <th>1</th>\n",
              "      <td>AQJ9V8FT3O9U</td>\n",
              "      <td>B00136NFOI</td>\n",
              "      <td>5.0</td>\n",
              "      <td>1452211200</td>\n",
              "      <td>46756</td>\n",
              "      <td>3506</td>\n",
              "    </tr>\n",
              "    <tr>\n",
              "      <th>2</th>\n",
              "      <td>A31D117768Z6ZE</td>\n",
              "      <td>B00122UNM0</td>\n",
              "      <td>5.0</td>\n",
              "      <td>1337212800</td>\n",
              "      <td>27094</td>\n",
              "      <td>2873</td>\n",
              "    </tr>\n",
              "    <tr>\n",
              "      <th>3</th>\n",
              "      <td>AVLDLVYXXUTM7</td>\n",
              "      <td>B00123F8Y2</td>\n",
              "      <td>5.0</td>\n",
              "      <td>1471824000</td>\n",
              "      <td>48580</td>\n",
              "      <td>2956</td>\n",
              "    </tr>\n",
              "  </tbody>\n",
              "</table>\n",
              "</div>\n",
              "      <button class=\"colab-df-convert\" onclick=\"convertToInteractive('df-35e50459-de0b-4218-9d37-b71add46ceec')\"\n",
              "              title=\"Convert this dataframe to an interactive table.\"\n",
              "              style=\"display:none;\">\n",
              "        \n",
              "  <svg xmlns=\"http://www.w3.org/2000/svg\" height=\"24px\"viewBox=\"0 0 24 24\"\n",
              "       width=\"24px\">\n",
              "    <path d=\"M0 0h24v24H0V0z\" fill=\"none\"/>\n",
              "    <path d=\"M18.56 5.44l.94 2.06.94-2.06 2.06-.94-2.06-.94-.94-2.06-.94 2.06-2.06.94zm-11 1L8.5 8.5l.94-2.06 2.06-.94-2.06-.94L8.5 2.5l-.94 2.06-2.06.94zm10 10l.94 2.06.94-2.06 2.06-.94-2.06-.94-.94-2.06-.94 2.06-2.06.94z\"/><path d=\"M17.41 7.96l-1.37-1.37c-.4-.4-.92-.59-1.43-.59-.52 0-1.04.2-1.43.59L10.3 9.45l-7.72 7.72c-.78.78-.78 2.05 0 2.83L4 21.41c.39.39.9.59 1.41.59.51 0 1.02-.2 1.41-.59l7.78-7.78 2.81-2.81c.8-.78.8-2.07 0-2.86zM5.41 20L4 18.59l7.72-7.72 1.47 1.35L5.41 20z\"/>\n",
              "  </svg>\n",
              "      </button>\n",
              "      \n",
              "  <style>\n",
              "    .colab-df-container {\n",
              "      display:flex;\n",
              "      flex-wrap:wrap;\n",
              "      gap: 12px;\n",
              "    }\n",
              "\n",
              "    .colab-df-convert {\n",
              "      background-color: #E8F0FE;\n",
              "      border: none;\n",
              "      border-radius: 50%;\n",
              "      cursor: pointer;\n",
              "      display: none;\n",
              "      fill: #1967D2;\n",
              "      height: 32px;\n",
              "      padding: 0 0 0 0;\n",
              "      width: 32px;\n",
              "    }\n",
              "\n",
              "    .colab-df-convert:hover {\n",
              "      background-color: #E2EBFA;\n",
              "      box-shadow: 0px 1px 2px rgba(60, 64, 67, 0.3), 0px 1px 3px 1px rgba(60, 64, 67, 0.15);\n",
              "      fill: #174EA6;\n",
              "    }\n",
              "\n",
              "    [theme=dark] .colab-df-convert {\n",
              "      background-color: #3B4455;\n",
              "      fill: #D2E3FC;\n",
              "    }\n",
              "\n",
              "    [theme=dark] .colab-df-convert:hover {\n",
              "      background-color: #434B5C;\n",
              "      box-shadow: 0px 1px 3px 1px rgba(0, 0, 0, 0.15);\n",
              "      filter: drop-shadow(0px 1px 2px rgba(0, 0, 0, 0.3));\n",
              "      fill: #FFFFFF;\n",
              "    }\n",
              "  </style>\n",
              "\n",
              "      <script>\n",
              "        const buttonEl =\n",
              "          document.querySelector('#df-35e50459-de0b-4218-9d37-b71add46ceec button.colab-df-convert');\n",
              "        buttonEl.style.display =\n",
              "          google.colab.kernel.accessAllowed ? 'block' : 'none';\n",
              "\n",
              "        async function convertToInteractive(key) {\n",
              "          const element = document.querySelector('#df-35e50459-de0b-4218-9d37-b71add46ceec');\n",
              "          const dataTable =\n",
              "            await google.colab.kernel.invokeFunction('convertToInteractive',\n",
              "                                                     [key], {});\n",
              "          if (!dataTable) return;\n",
              "\n",
              "          const docLinkHtml = 'Like what you see? Visit the ' +\n",
              "            '<a target=\"_blank\" href=https://colab.research.google.com/notebooks/data_table.ipynb>data table notebook</a>'\n",
              "            + ' to learn more about interactive tables.';\n",
              "          element.innerHTML = '';\n",
              "          dataTable['output_type'] = 'display_data';\n",
              "          await google.colab.output.renderOutput(dataTable, element);\n",
              "          const docLink = document.createElement('div');\n",
              "          docLink.innerHTML = docLinkHtml;\n",
              "          element.appendChild(docLink);\n",
              "        }\n",
              "      </script>\n",
              "    </div>\n",
              "  </div>\n",
              "  "
            ]
          },
          "metadata": {},
          "execution_count": 89
        }
      ]
    },
    {
      "cell_type": "code",
      "source": [
        "test.head(4)"
      ],
      "metadata": {
        "id": "5zNWKzc3Z0_0",
        "outputId": "c460b76d-8273-4434-b324-5ff37298b013",
        "colab": {
          "base_uri": "https://localhost:8080/",
          "height": 175
        }
      },
      "execution_count": null,
      "outputs": [
        {
          "output_type": "execute_result",
          "data": {
            "text/plain": [
              "       reviewerID        asin rating  reviewTime  enc_reviewerID  enc_asin\n",
              "0   A34C451H7NK6Y  B0011Z310Y    5.0  1427587200           32463      2519\n",
              "2  A2T0HNDKJ56H6V  B00137SZC4    5.0  1364428800           27607      4230\n",
              "3  A37N7INE811F7P  B000W0112Y    5.0  1446854400           33873      1757\n",
              "7  A1IEIWUCTWZ59M  B000W1AO4Y    1.0  1171324800            7817      1907"
            ],
            "text/html": [
              "\n",
              "  <div id=\"df-7be07f19-fd74-4501-92f2-beea7e96e956\">\n",
              "    <div class=\"colab-df-container\">\n",
              "      <div>\n",
              "<style scoped>\n",
              "    .dataframe tbody tr th:only-of-type {\n",
              "        vertical-align: middle;\n",
              "    }\n",
              "\n",
              "    .dataframe tbody tr th {\n",
              "        vertical-align: top;\n",
              "    }\n",
              "\n",
              "    .dataframe thead th {\n",
              "        text-align: right;\n",
              "    }\n",
              "</style>\n",
              "<table border=\"1\" class=\"dataframe\">\n",
              "  <thead>\n",
              "    <tr style=\"text-align: right;\">\n",
              "      <th></th>\n",
              "      <th>reviewerID</th>\n",
              "      <th>asin</th>\n",
              "      <th>rating</th>\n",
              "      <th>reviewTime</th>\n",
              "      <th>enc_reviewerID</th>\n",
              "      <th>enc_asin</th>\n",
              "    </tr>\n",
              "  </thead>\n",
              "  <tbody>\n",
              "    <tr>\n",
              "      <th>0</th>\n",
              "      <td>A34C451H7NK6Y</td>\n",
              "      <td>B0011Z310Y</td>\n",
              "      <td>5.0</td>\n",
              "      <td>1427587200</td>\n",
              "      <td>32463</td>\n",
              "      <td>2519</td>\n",
              "    </tr>\n",
              "    <tr>\n",
              "      <th>2</th>\n",
              "      <td>A2T0HNDKJ56H6V</td>\n",
              "      <td>B00137SZC4</td>\n",
              "      <td>5.0</td>\n",
              "      <td>1364428800</td>\n",
              "      <td>27607</td>\n",
              "      <td>4230</td>\n",
              "    </tr>\n",
              "    <tr>\n",
              "      <th>3</th>\n",
              "      <td>A37N7INE811F7P</td>\n",
              "      <td>B000W0112Y</td>\n",
              "      <td>5.0</td>\n",
              "      <td>1446854400</td>\n",
              "      <td>33873</td>\n",
              "      <td>1757</td>\n",
              "    </tr>\n",
              "    <tr>\n",
              "      <th>7</th>\n",
              "      <td>A1IEIWUCTWZ59M</td>\n",
              "      <td>B000W1AO4Y</td>\n",
              "      <td>1.0</td>\n",
              "      <td>1171324800</td>\n",
              "      <td>7817</td>\n",
              "      <td>1907</td>\n",
              "    </tr>\n",
              "  </tbody>\n",
              "</table>\n",
              "</div>\n",
              "      <button class=\"colab-df-convert\" onclick=\"convertToInteractive('df-7be07f19-fd74-4501-92f2-beea7e96e956')\"\n",
              "              title=\"Convert this dataframe to an interactive table.\"\n",
              "              style=\"display:none;\">\n",
              "        \n",
              "  <svg xmlns=\"http://www.w3.org/2000/svg\" height=\"24px\"viewBox=\"0 0 24 24\"\n",
              "       width=\"24px\">\n",
              "    <path d=\"M0 0h24v24H0V0z\" fill=\"none\"/>\n",
              "    <path d=\"M18.56 5.44l.94 2.06.94-2.06 2.06-.94-2.06-.94-.94-2.06-.94 2.06-2.06.94zm-11 1L8.5 8.5l.94-2.06 2.06-.94-2.06-.94L8.5 2.5l-.94 2.06-2.06.94zm10 10l.94 2.06.94-2.06 2.06-.94-2.06-.94-.94-2.06-.94 2.06-2.06.94z\"/><path d=\"M17.41 7.96l-1.37-1.37c-.4-.4-.92-.59-1.43-.59-.52 0-1.04.2-1.43.59L10.3 9.45l-7.72 7.72c-.78.78-.78 2.05 0 2.83L4 21.41c.39.39.9.59 1.41.59.51 0 1.02-.2 1.41-.59l7.78-7.78 2.81-2.81c.8-.78.8-2.07 0-2.86zM5.41 20L4 18.59l7.72-7.72 1.47 1.35L5.41 20z\"/>\n",
              "  </svg>\n",
              "      </button>\n",
              "      \n",
              "  <style>\n",
              "    .colab-df-container {\n",
              "      display:flex;\n",
              "      flex-wrap:wrap;\n",
              "      gap: 12px;\n",
              "    }\n",
              "\n",
              "    .colab-df-convert {\n",
              "      background-color: #E8F0FE;\n",
              "      border: none;\n",
              "      border-radius: 50%;\n",
              "      cursor: pointer;\n",
              "      display: none;\n",
              "      fill: #1967D2;\n",
              "      height: 32px;\n",
              "      padding: 0 0 0 0;\n",
              "      width: 32px;\n",
              "    }\n",
              "\n",
              "    .colab-df-convert:hover {\n",
              "      background-color: #E2EBFA;\n",
              "      box-shadow: 0px 1px 2px rgba(60, 64, 67, 0.3), 0px 1px 3px 1px rgba(60, 64, 67, 0.15);\n",
              "      fill: #174EA6;\n",
              "    }\n",
              "\n",
              "    [theme=dark] .colab-df-convert {\n",
              "      background-color: #3B4455;\n",
              "      fill: #D2E3FC;\n",
              "    }\n",
              "\n",
              "    [theme=dark] .colab-df-convert:hover {\n",
              "      background-color: #434B5C;\n",
              "      box-shadow: 0px 1px 3px 1px rgba(0, 0, 0, 0.15);\n",
              "      filter: drop-shadow(0px 1px 2px rgba(0, 0, 0, 0.3));\n",
              "      fill: #FFFFFF;\n",
              "    }\n",
              "  </style>\n",
              "\n",
              "      <script>\n",
              "        const buttonEl =\n",
              "          document.querySelector('#df-7be07f19-fd74-4501-92f2-beea7e96e956 button.colab-df-convert');\n",
              "        buttonEl.style.display =\n",
              "          google.colab.kernel.accessAllowed ? 'block' : 'none';\n",
              "\n",
              "        async function convertToInteractive(key) {\n",
              "          const element = document.querySelector('#df-7be07f19-fd74-4501-92f2-beea7e96e956');\n",
              "          const dataTable =\n",
              "            await google.colab.kernel.invokeFunction('convertToInteractive',\n",
              "                                                     [key], {});\n",
              "          if (!dataTable) return;\n",
              "\n",
              "          const docLinkHtml = 'Like what you see? Visit the ' +\n",
              "            '<a target=\"_blank\" href=https://colab.research.google.com/notebooks/data_table.ipynb>data table notebook</a>'\n",
              "            + ' to learn more about interactive tables.';\n",
              "          element.innerHTML = '';\n",
              "          dataTable['output_type'] = 'display_data';\n",
              "          await google.colab.output.renderOutput(dataTable, element);\n",
              "          const docLink = document.createElement('div');\n",
              "          docLink.innerHTML = docLinkHtml;\n",
              "          element.appendChild(docLink);\n",
              "        }\n",
              "      </script>\n",
              "    </div>\n",
              "  </div>\n",
              "  "
            ]
          },
          "metadata": {},
          "execution_count": 55
        }
      ]
    },
    {
      "cell_type": "code",
      "source": [
        "items_interacted # Check why no intersection is found!\n",
        "#relevant_items\n",
        "#_u6493Interacted = [3103, 2064, 2031, 3626, 2031] \n",
        "_u6493Interacted = [3824, 1526, 3522, 1526, 3625]\n",
        "#_u6493Relevant = [3313, 4915, 3321, 4539, 436, 766, 3974, 5071, 3299, 3879]\n",
        "_u6493Relevant = [4532, 2308, 1428, 1040, 4795, 989, 253, 3227, 1656, 4453]\n",
        "\n",
        "list(set(_u6493Interacted).intersection(_u6493Relevant))"
      ],
      "metadata": {
        "id": "lcf7PfvT8eAq",
        "outputId": "ffb1201d-bc4e-418d-954f-2c90d0a9e4c6",
        "colab": {
          "base_uri": "https://localhost:8080/"
        }
      },
      "execution_count": null,
      "outputs": [
        {
          "output_type": "execute_result",
          "data": {
            "text/plain": [
              "[]"
            ]
          },
          "metadata": {},
          "execution_count": 70
        }
      ]
    },
    {
      "cell_type": "code",
      "source": [
        "epoch_list = [(i + 1) for i in range(epochs)]\n",
        "plt.plot(epoch_list, recall_list, label = 'Recall')\n",
        "plt.plot(epoch_list, precision_list, label = 'Precision')\n",
        "plt.plot(epoch_list, ndcg_list, label = 'NDCG')\n",
        "plt.plot(epoch_list, map_list, label = 'MAP')\n",
        "plt.xlabel('Epochs')\n",
        "plt.ylabel('Metrics')\n",
        "plt.legend()"
      ],
      "metadata": {
        "colab": {
          "base_uri": "https://localhost:8080/",
          "height": 297
        },
        "id": "V6s-6gXYU5-x",
        "outputId": "ffb42815-d78b-4ae3-d952-ea34bd7a3cac"
      },
      "execution_count": null,
      "outputs": [
        {
          "output_type": "execute_result",
          "data": {
            "text/plain": [
              "<matplotlib.legend.Legend at 0x7f1a21700550>"
            ]
          },
          "metadata": {},
          "execution_count": 25
        },
        {
          "output_type": "display_data",
          "data": {
            "text/plain": [
              "<Figure size 432x288 with 1 Axes>"
            ],
            "image/png": "[encoded data removed]"
          },
          "metadata": {
            "needs_background": "light"
          }
        }
      ]
    },
    {
      "cell_type": "code",
      "source": [
        "plt.plot(epoch_list, loss_list_epoch, label = \"Total Training Loss\")\n",
        "plt.plot(epoch_list, mf_loss_list_epoch, label = \"MF Training Loss\")\n",
        "plt.plot(epoch_list, reg_loss_list_epoch, label = \"Reg Training Loss\")\n",
        "\n",
        "plt.xlabel('Epoch')\n",
        "plt.ylabel('Loss')\n",
        "plt.legend()"
      ],
      "metadata": {
        "colab": {
          "base_uri": "https://localhost:8080/",
          "height": 297
        },
        "id": "UQ0iHpxqPCQZ",
        "outputId": "521fa08a-a015-430d-d127-016c7ef5da1e"
      },
      "execution_count": null,
      "outputs": [
        {
          "output_type": "execute_result",
          "data": {
            "text/plain": [
              "<matplotlib.legend.Legend at 0x7f5b4ccae490>"
            ]
          },
          "metadata": {},
          "execution_count": 24
        },
        {
          "output_type": "display_data",
          "data": {
            "text/plain": [
              "<Figure size 432x288 with 1 Axes>"
            ],
            "image/png": "[encoded data removed]"
          },
          "metadata": {
            "needs_background": "light"
          }
        }
      ]
    },
    {
      "cell_type": "code",
      "source": [
        "print(\"Average time taken to train an epoch --> \", round(np.mean(train_time_list), 2), \" seconds\")\n",
        "print(\"Average time taken to evaluate an epoch --> \", round(np.mean(eval_time_list), 2), \" seconds\")"
      ],
      "metadata": {
        "colab": {
          "base_uri": "https://localhost:8080/"
        },
        "id": "OQ8wOe0HPBoG",
        "outputId": "c37aa1fb-5bf4-45c4-fa71-e9aba7d5a3b7"
      },
      "execution_count": null,
      "outputs": [
        {
          "output_type": "stream",
          "name": "stdout",
          "text": [
            "Average time taken to train an epoch -->  15.17  seconds\n",
            "Average time taken to evaluate an epoch -->  2.27  seconds\n"
          ]
        }
      ]
    },
    {
      "cell_type": "code",
      "source": [
        "print(\"Last Epoch's Test Data Recall --> \", recall_list[-1])\n",
        "print(\"Last Epoch's Test Data Precision --> \", precision_list[-1])\n",
        "print(\"Last Epoch's Test Data NDCG --> \", ndcg_list[-1])\n",
        "print(\"Last Epoch's Test Data MAP --> \", map_list[-1])\n",
        "\n",
        "print(\"Last Epoch's Train Data Loss --> \", loss_list_epoch[-1])"
      ],
      "metadata": {
        "colab": {
          "base_uri": "https://localhost:8080/"
        },
        "id": "CRSK_Wjqegqq",
        "outputId": "92ac7592-57fb-4442-f05b-8f1d4c961f5e"
      },
      "execution_count": null,
      "outputs": [
        {
          "output_type": "stream",
          "name": "stdout",
          "text": [
            "Last Epoch's Test Data Recall -->  0.0006\n",
            "Last Epoch's Test Data Precision -->  0\n",
            "Last Epoch's Test Data NDCG -->  0.0005\n",
            "Last Epoch's Test Data MAP -->  0.0003\n",
            "Last Epoch's Train Data Loss -->  0.0023\n"
          ]
        }
      ]
    },
    {
      "cell_type": "code",
      "source": [
        ""
      ],
      "metadata": {
        "id": "v2O4wxRt2SEV"
      },
      "execution_count": null,
      "outputs": []
    },
    {
      "cell_type": "code",
      "source": [
        "#Create the rating matrix\n",
        "rating['reviewerID'] = rating['reviewerID'].astype('category')\n",
        "rating['asin'] = rating['asin'].astype('category')\n",
        "R = csr_matrix((rating['rating'].values, (rating['reviewerID'].cat.codes, rating['asin'].cat.codes)))\n",
        "R.shape[1]\n",
        " \n",
        "# Convert a sparse numpy object to a sparse pytorch tensor.\n",
        "def to_sparse_tensor(X):\n",
        "  \"\"\"\n",
        "  \n",
        "  Note that the tensor does not yet live on the GPU\n",
        "  \"\"\"\n",
        "  coo = X.tocoo().astype(np.float32)\n",
        "  i = torch.LongTensor(np.mat((coo.row, coo.col)))\n",
        "  v = torch.FloatTensor(coo.data)\n",
        "  return torch.sparse.FloatTensor(i, v, coo.shape)\n",
        "r = to_sparse_tensor(R)\n",
        "\n",
        "rating.groupby(['rating'])['rating'].count() # Rating Distribution\n",
        "rating['rating'].value_counts()"
      ],
      "metadata": {
        "id": "zTAjTE50egnO"
      },
      "execution_count": null,
      "outputs": []
    },
    {
      "cell_type": "code",
      "source": [
        ""
      ],
      "metadata": {
        "id": "_fH7Fjvi2TBR"
      },
      "execution_count": null,
      "outputs": []
    },
    {
      "cell_type": "code",
      "source": [
        "import torch\n",
        "from torch.autograd import Variable\n",
        "\n",
        "class MatrixFactorization(torch.nn.Module):\n",
        "    def __init__(self, n_users, n_items, n_factors=20):\n",
        "        super().__init__()\n",
        "\t# create user embeddings\n",
        "        self.user_factors = torch.nn.Embedding(n_users, n_factors, sparse=True)\n",
        "\t# create item embeddings\n",
        "        self.item_factors = torch.nn.Embedding(n_items, n_factors, sparse=True)\n",
        "\n",
        "    def forward(self, user, item):\n",
        "    \t# matrix multiplication\n",
        "        return (self.user_factors(user)*self.item_factors(item)).sum(1)\n",
        "\n",
        "    def predict(self, user, item):\n",
        "        return self.forward(user, item)"
      ],
      "metadata": {
        "id": "WuB13o9UJNc2"
      },
      "execution_count": null,
      "outputs": []
    },
    {
      "cell_type": "code",
      "source": [
        "num_users = rating.reviewerID.nunique()\n",
        "num_musics = rating.asin.nunique()\n",
        "\n",
        "model = MatrixFactorization(num_users, num_musics, n_factors=20)\n",
        "loss_fn = torch.nn.MSELoss() \n",
        "optimizer = torch.optim.SGD(model.parameters(), lr=1e-6)\n",
        "\n",
        "users = rating['reviewerID'].unique()\n",
        "musics = rating['asin'].unique()\n",
        "\n",
        "for user, item in zip(users, musics):\n",
        "    # get user, item and rating data\n",
        "    rating = Variable(torch.FloatTensor([R[user, item]]))\n",
        "    user = Variable(torch.LongTensor([int(user)]))\n",
        "    item = Variable(torch.LongTensor([int(item)]))\n",
        "\n",
        "    # predict\n",
        "    prediction = model(user, item)\n",
        "    loss = loss_fn(prediction, rating)\n",
        "\n",
        "    # backpropagate\n",
        "    loss.backward()\n",
        "\n",
        "    # update weights\n",
        "    optimizer.step()"
      ],
      "metadata": {
        "id": "I4jH98jcyfE7",
        "outputId": "0c28c3a8-580c-45e1-d81d-12c0966d1fcc",
        "colab": {
          "base_uri": "https://localhost:8080/",
          "height": 393
        }
      },
      "execution_count": null,
      "outputs": [
        {
          "output_type": "error",
          "ename": "IndexError",
          "evalue": "ignored",
          "traceback": [
            "\u001b[0;31m---------------------------------------------------------------------------\u001b[0m",
            "\u001b[0;31mIndexError\u001b[0m                                Traceback (most recent call last)",
            "\u001b[0;32m<ipython-input-23-9315023ef81a>\u001b[0m in \u001b[0;36m<module>\u001b[0;34m()\u001b[0m\n\u001b[1;32m     11\u001b[0m \u001b[0;32mfor\u001b[0m \u001b[0muser\u001b[0m\u001b[0;34m,\u001b[0m \u001b[0mitem\u001b[0m \u001b[0;32min\u001b[0m \u001b[0mzip\u001b[0m\u001b[0;34m(\u001b[0m\u001b[0musers\u001b[0m\u001b[0;34m,\u001b[0m \u001b[0mmusics\u001b[0m\u001b[0;34m)\u001b[0m\u001b[0;34m:\u001b[0m\u001b[0;34m\u001b[0m\u001b[0;34m\u001b[0m\u001b[0m\n\u001b[1;32m     12\u001b[0m     \u001b[0;31m# get user, item and rating data\u001b[0m\u001b[0;34m\u001b[0m\u001b[0;34m\u001b[0m\u001b[0;34m\u001b[0m\u001b[0m\n\u001b[0;32m---> 13\u001b[0;31m     \u001b[0mrating\u001b[0m \u001b[0;34m=\u001b[0m \u001b[0mVariable\u001b[0m\u001b[0;34m(\u001b[0m\u001b[0mtorch\u001b[0m\u001b[0;34m.\u001b[0m\u001b[0mFloatTensor\u001b[0m\u001b[0;34m(\u001b[0m\u001b[0;34m[\u001b[0m\u001b[0mR\u001b[0m\u001b[0;34m[\u001b[0m\u001b[0muser\u001b[0m\u001b[0;34m,\u001b[0m \u001b[0mitem\u001b[0m\u001b[0;34m]\u001b[0m\u001b[0;34m]\u001b[0m\u001b[0;34m)\u001b[0m\u001b[0;34m)\u001b[0m\u001b[0;34m\u001b[0m\u001b[0;34m\u001b[0m\u001b[0m\n\u001b[0m\u001b[1;32m     14\u001b[0m     \u001b[0muser\u001b[0m \u001b[0;34m=\u001b[0m \u001b[0mVariable\u001b[0m\u001b[0;34m(\u001b[0m\u001b[0mtorch\u001b[0m\u001b[0;34m.\u001b[0m\u001b[0mLongTensor\u001b[0m\u001b[0;34m(\u001b[0m\u001b[0;34m[\u001b[0m\u001b[0mint\u001b[0m\u001b[0;34m(\u001b[0m\u001b[0muser\u001b[0m\u001b[0;34m)\u001b[0m\u001b[0;34m]\u001b[0m\u001b[0;34m)\u001b[0m\u001b[0;34m)\u001b[0m\u001b[0;34m\u001b[0m\u001b[0;34m\u001b[0m\u001b[0m\n\u001b[1;32m     15\u001b[0m     \u001b[0mitem\u001b[0m \u001b[0;34m=\u001b[0m \u001b[0mVariable\u001b[0m\u001b[0;34m(\u001b[0m\u001b[0mtorch\u001b[0m\u001b[0;34m.\u001b[0m\u001b[0mLongTensor\u001b[0m\u001b[0;34m(\u001b[0m\u001b[0;34m[\u001b[0m\u001b[0mint\u001b[0m\u001b[0;34m(\u001b[0m\u001b[0mitem\u001b[0m\u001b[0;34m)\u001b[0m\u001b[0;34m]\u001b[0m\u001b[0;34m)\u001b[0m\u001b[0;34m)\u001b[0m\u001b[0;34m\u001b[0m\u001b[0;34m\u001b[0m\u001b[0m\n",
            "\u001b[0;32m/usr/local/lib/python3.7/dist-packages/scipy/sparse/_index.py\u001b[0m in \u001b[0;36m__getitem__\u001b[0;34m(self, key)\u001b[0m\n\u001b[1;32m     33\u001b[0m     \"\"\"\n\u001b[1;32m     34\u001b[0m     \u001b[0;32mdef\u001b[0m \u001b[0m__getitem__\u001b[0m\u001b[0;34m(\u001b[0m\u001b[0mself\u001b[0m\u001b[0;34m,\u001b[0m \u001b[0mkey\u001b[0m\u001b[0;34m)\u001b[0m\u001b[0;34m:\u001b[0m\u001b[0;34m\u001b[0m\u001b[0;34m\u001b[0m\u001b[0m\n\u001b[0;32m---> 35\u001b[0;31m         \u001b[0mrow\u001b[0m\u001b[0;34m,\u001b[0m \u001b[0mcol\u001b[0m \u001b[0;34m=\u001b[0m \u001b[0mself\u001b[0m\u001b[0;34m.\u001b[0m\u001b[0m_validate_indices\u001b[0m\u001b[0;34m(\u001b[0m\u001b[0mkey\u001b[0m\u001b[0;34m)\u001b[0m\u001b[0;34m\u001b[0m\u001b[0;34m\u001b[0m\u001b[0m\n\u001b[0m\u001b[1;32m     36\u001b[0m         \u001b[0;31m# Dispatch to specialized methods.\u001b[0m\u001b[0;34m\u001b[0m\u001b[0;34m\u001b[0m\u001b[0;34m\u001b[0m\u001b[0m\n\u001b[1;32m     37\u001b[0m         \u001b[0;32mif\u001b[0m \u001b[0misinstance\u001b[0m\u001b[0;34m(\u001b[0m\u001b[0mrow\u001b[0m\u001b[0;34m,\u001b[0m \u001b[0mINT_TYPES\u001b[0m\u001b[0;34m)\u001b[0m\u001b[0;34m:\u001b[0m\u001b[0;34m\u001b[0m\u001b[0;34m\u001b[0m\u001b[0m\n",
            "\u001b[0;32m/usr/local/lib/python3.7/dist-packages/scipy/sparse/_index.py\u001b[0m in \u001b[0;36m_validate_indices\u001b[0;34m(self, key)\u001b[0m\n\u001b[1;32m    137\u001b[0m                 \u001b[0mrow\u001b[0m \u001b[0;34m+=\u001b[0m \u001b[0mM\u001b[0m\u001b[0;34m\u001b[0m\u001b[0;34m\u001b[0m\u001b[0m\n\u001b[1;32m    138\u001b[0m         \u001b[0;32melif\u001b[0m \u001b[0;32mnot\u001b[0m \u001b[0misinstance\u001b[0m\u001b[0;34m(\u001b[0m\u001b[0mrow\u001b[0m\u001b[0;34m,\u001b[0m \u001b[0mslice\u001b[0m\u001b[0;34m)\u001b[0m\u001b[0;34m:\u001b[0m\u001b[0;34m\u001b[0m\u001b[0;34m\u001b[0m\u001b[0m\n\u001b[0;32m--> 139\u001b[0;31m             \u001b[0mrow\u001b[0m \u001b[0;34m=\u001b[0m \u001b[0mself\u001b[0m\u001b[0;34m.\u001b[0m\u001b[0m_asindices\u001b[0m\u001b[0;34m(\u001b[0m\u001b[0mrow\u001b[0m\u001b[0;34m,\u001b[0m \u001b[0mM\u001b[0m\u001b[0;34m)\u001b[0m\u001b[0;34m\u001b[0m\u001b[0;34m\u001b[0m\u001b[0m\n\u001b[0m\u001b[1;32m    140\u001b[0m \u001b[0;34m\u001b[0m\u001b[0m\n\u001b[1;32m    141\u001b[0m         \u001b[0;32mif\u001b[0m \u001b[0misintlike\u001b[0m\u001b[0;34m(\u001b[0m\u001b[0mcol\u001b[0m\u001b[0;34m)\u001b[0m\u001b[0;34m:\u001b[0m\u001b[0;34m\u001b[0m\u001b[0;34m\u001b[0m\u001b[0m\n",
            "\u001b[0;32m/usr/local/lib/python3.7/dist-packages/scipy/sparse/_index.py\u001b[0m in \u001b[0;36m_asindices\u001b[0;34m(self, idx, length)\u001b[0m\n\u001b[1;32m    161\u001b[0m \u001b[0;34m\u001b[0m\u001b[0m\n\u001b[1;32m    162\u001b[0m         \u001b[0;32mif\u001b[0m \u001b[0mx\u001b[0m\u001b[0;34m.\u001b[0m\u001b[0mndim\u001b[0m \u001b[0;32mnot\u001b[0m \u001b[0;32min\u001b[0m \u001b[0;34m(\u001b[0m\u001b[0;36m1\u001b[0m\u001b[0;34m,\u001b[0m \u001b[0;36m2\u001b[0m\u001b[0;34m)\u001b[0m\u001b[0;34m:\u001b[0m\u001b[0;34m\u001b[0m\u001b[0;34m\u001b[0m\u001b[0m\n\u001b[0;32m--> 163\u001b[0;31m             \u001b[0;32mraise\u001b[0m \u001b[0mIndexError\u001b[0m\u001b[0;34m(\u001b[0m\u001b[0;34m'Index dimension must be <= 2'\u001b[0m\u001b[0;34m)\u001b[0m\u001b[0;34m\u001b[0m\u001b[0;34m\u001b[0m\u001b[0m\n\u001b[0m\u001b[1;32m    164\u001b[0m \u001b[0;34m\u001b[0m\u001b[0m\n\u001b[1;32m    165\u001b[0m         \u001b[0;32mif\u001b[0m \u001b[0mx\u001b[0m\u001b[0;34m.\u001b[0m\u001b[0msize\u001b[0m \u001b[0;34m==\u001b[0m \u001b[0;36m0\u001b[0m\u001b[0;34m:\u001b[0m\u001b[0;34m\u001b[0m\u001b[0;34m\u001b[0m\u001b[0m\n",
            "\u001b[0;31mIndexError\u001b[0m: Index dimension must be <= 2"
          ]
        }
      ]
    },
    {
      "cell_type": "code",
      "source": [
        ""
      ],
      "metadata": {
        "id": "Pt9D3iHyyefR"
      },
      "execution_count": null,
      "outputs": []
    },
    {
      "cell_type": "code",
      "source": [
        "num_users = rating.reviewerID.nunique()\n",
        "num_musics = rating.asin.nunique()\n",
        "\n",
        "users = rating['reviewerID'].unique()\n",
        "musics = rating['asin'].unique()\n",
        "\n",
        "user_ids = range(num_users)\n",
        "music_ids = range(num_musics)\n",
        "\n",
        "user_to_id = dict(zip(users, user_ids))\n",
        "music_to_id = dict(zip(musics, music_ids))\n",
        "\n",
        "# initialize the adjacency matrix\n",
        "rat = torch.zeros(num_users, num_musics)\n",
        "for index, row in rating.iterrows():\n",
        "  music, user, rating = row[:3]\n",
        "  if num_users != -1:\n",
        "    if user not in user_to_id: break\n",
        "            # create ratings matrix where (i, j) entry represents the ratings\n",
        "            # of movie j given by user i.\n",
        "  rat[user_to_id[user], music_to_id[music]] = rating\n",
        "rat"
      ],
      "metadata": {
        "id": "xz85gqAazUO3"
      },
      "execution_count": null,
      "outputs": []
    },
    {
      "cell_type": "code",
      "source": [
        "from scipy.sparse import csr_matrix\n",
        "\n",
        "# preprocess data\n",
        "USER_COL = 'reviewerID'\n",
        "ITEM_COL = 'asin'\n",
        "RATING_COL = 'overall'\n",
        "\n",
        "row = review[USER_COL]\n",
        "col = review[ITEM_COL]\n",
        "data = review[RATING_COL]\n",
        "mat = csr_matrix((data, (row, col)), shape=(users, items))\n",
        "mat.eliminate_zeros()\n",
        "sparsity = float(len(mat.nonzero()[0]))\n",
        "sparsity /= (mat.shape[0] * mat.shape[1])\n",
        "sparsity"
      ],
      "metadata": {
        "id": "MIji8o79ciQu",
        "outputId": "828b5f76-bd47-416e-8f09-b51fbc0fdfb3",
        "colab": {
          "base_uri": "https://localhost:8080/",
          "height": 647
        }
      },
      "execution_count": null,
      "outputs": [
        {
          "output_type": "error",
          "ename": "ValueError",
          "evalue": "ignored",
          "traceback": [
            "\u001b[0;31m---------------------------------------------------------------------------\u001b[0m",
            "\u001b[0;31mValueError\u001b[0m                                Traceback (most recent call last)",
            "\u001b[0;32m<ipython-input-7-317fcfd30b43>\u001b[0m in \u001b[0;36m<module>\u001b[0;34m()\u001b[0m\n\u001b[1;32m      9\u001b[0m \u001b[0mcol\u001b[0m \u001b[0;34m=\u001b[0m \u001b[0mreview\u001b[0m\u001b[0;34m[\u001b[0m\u001b[0mITEM_COL\u001b[0m\u001b[0;34m]\u001b[0m\u001b[0;34m\u001b[0m\u001b[0;34m\u001b[0m\u001b[0m\n\u001b[1;32m     10\u001b[0m \u001b[0mdata\u001b[0m \u001b[0;34m=\u001b[0m \u001b[0mreview\u001b[0m\u001b[0;34m[\u001b[0m\u001b[0mRATING_COL\u001b[0m\u001b[0;34m]\u001b[0m\u001b[0;34m\u001b[0m\u001b[0;34m\u001b[0m\u001b[0m\n\u001b[0;32m---> 11\u001b[0;31m \u001b[0mmat\u001b[0m \u001b[0;34m=\u001b[0m \u001b[0mcsr_matrix\u001b[0m\u001b[0;34m(\u001b[0m\u001b[0;34m(\u001b[0m\u001b[0mdata\u001b[0m\u001b[0;34m,\u001b[0m \u001b[0;34m(\u001b[0m\u001b[0mrow\u001b[0m\u001b[0;34m,\u001b[0m \u001b[0mcol\u001b[0m\u001b[0;34m)\u001b[0m\u001b[0;34m)\u001b[0m\u001b[0;34m,\u001b[0m \u001b[0mshape\u001b[0m\u001b[0;34m=\u001b[0m\u001b[0;34m(\u001b[0m\u001b[0musers\u001b[0m\u001b[0;34m,\u001b[0m \u001b[0mitems\u001b[0m\u001b[0;34m)\u001b[0m\u001b[0;34m)\u001b[0m\u001b[0;34m\u001b[0m\u001b[0;34m\u001b[0m\u001b[0m\n\u001b[0m\u001b[1;32m     12\u001b[0m \u001b[0mmat\u001b[0m\u001b[0;34m.\u001b[0m\u001b[0meliminate_zeros\u001b[0m\u001b[0;34m(\u001b[0m\u001b[0;34m)\u001b[0m\u001b[0;34m\u001b[0m\u001b[0;34m\u001b[0m\u001b[0m\n\u001b[1;32m     13\u001b[0m \u001b[0msparsity\u001b[0m \u001b[0;34m=\u001b[0m \u001b[0mfloat\u001b[0m\u001b[0;34m(\u001b[0m\u001b[0mlen\u001b[0m\u001b[0;34m(\u001b[0m\u001b[0mmat\u001b[0m\u001b[0;34m.\u001b[0m\u001b[0mnonzero\u001b[0m\u001b[0;34m(\u001b[0m\u001b[0;34m)\u001b[0m\u001b[0;34m[\u001b[0m\u001b[0;36m0\u001b[0m\u001b[0;34m]\u001b[0m\u001b[0;34m)\u001b[0m\u001b[0;34m)\u001b[0m\u001b[0;34m\u001b[0m\u001b[0;34m\u001b[0m\u001b[0m\n",
            "\u001b[0;32m/usr/local/lib/python3.7/dist-packages/scipy/sparse/compressed.py\u001b[0m in \u001b[0;36m__init__\u001b[0;34m(self, arg1, shape, dtype, copy)\u001b[0m\n\u001b[1;32m     55\u001b[0m                     \u001b[0;31m# (data, ij) format\u001b[0m\u001b[0;34m\u001b[0m\u001b[0;34m\u001b[0m\u001b[0;34m\u001b[0m\u001b[0m\n\u001b[1;32m     56\u001b[0m                     \u001b[0;32mfrom\u001b[0m \u001b[0;34m.\u001b[0m\u001b[0mcoo\u001b[0m \u001b[0;32mimport\u001b[0m \u001b[0mcoo_matrix\u001b[0m\u001b[0;34m\u001b[0m\u001b[0;34m\u001b[0m\u001b[0m\n\u001b[0;32m---> 57\u001b[0;31m                     \u001b[0mother\u001b[0m \u001b[0;34m=\u001b[0m \u001b[0mself\u001b[0m\u001b[0;34m.\u001b[0m\u001b[0m__class__\u001b[0m\u001b[0;34m(\u001b[0m\u001b[0mcoo_matrix\u001b[0m\u001b[0;34m(\u001b[0m\u001b[0marg1\u001b[0m\u001b[0;34m,\u001b[0m \u001b[0mshape\u001b[0m\u001b[0;34m=\u001b[0m\u001b[0mshape\u001b[0m\u001b[0;34m)\u001b[0m\u001b[0;34m)\u001b[0m\u001b[0;34m\u001b[0m\u001b[0;34m\u001b[0m\u001b[0m\n\u001b[0m\u001b[1;32m     58\u001b[0m                     \u001b[0mself\u001b[0m\u001b[0;34m.\u001b[0m\u001b[0m_set_self\u001b[0m\u001b[0;34m(\u001b[0m\u001b[0mother\u001b[0m\u001b[0;34m)\u001b[0m\u001b[0;34m\u001b[0m\u001b[0;34m\u001b[0m\u001b[0m\n\u001b[1;32m     59\u001b[0m                 \u001b[0;32melif\u001b[0m \u001b[0mlen\u001b[0m\u001b[0;34m(\u001b[0m\u001b[0marg1\u001b[0m\u001b[0;34m)\u001b[0m \u001b[0;34m==\u001b[0m \u001b[0;36m3\u001b[0m\u001b[0;34m:\u001b[0m\u001b[0;34m\u001b[0m\u001b[0;34m\u001b[0m\u001b[0m\n",
            "\u001b[0;32m/usr/local/lib/python3.7/dist-packages/scipy/sparse/coo.py\u001b[0m in \u001b[0;36m__init__\u001b[0;34m(self, arg1, shape, dtype, copy)\u001b[0m\n\u001b[1;32m    157\u001b[0m \u001b[0;34m\u001b[0m\u001b[0m\n\u001b[1;32m    158\u001b[0m                 \u001b[0midx_dtype\u001b[0m \u001b[0;34m=\u001b[0m \u001b[0mget_index_dtype\u001b[0m\u001b[0;34m(\u001b[0m\u001b[0mmaxval\u001b[0m\u001b[0;34m=\u001b[0m\u001b[0mmax\u001b[0m\u001b[0;34m(\u001b[0m\u001b[0mself\u001b[0m\u001b[0;34m.\u001b[0m\u001b[0mshape\u001b[0m\u001b[0;34m)\u001b[0m\u001b[0;34m)\u001b[0m\u001b[0;34m\u001b[0m\u001b[0;34m\u001b[0m\u001b[0m\n\u001b[0;32m--> 159\u001b[0;31m                 \u001b[0mself\u001b[0m\u001b[0;34m.\u001b[0m\u001b[0mrow\u001b[0m \u001b[0;34m=\u001b[0m \u001b[0mnp\u001b[0m\u001b[0;34m.\u001b[0m\u001b[0marray\u001b[0m\u001b[0;34m(\u001b[0m\u001b[0mrow\u001b[0m\u001b[0;34m,\u001b[0m \u001b[0mcopy\u001b[0m\u001b[0;34m=\u001b[0m\u001b[0mcopy\u001b[0m\u001b[0;34m,\u001b[0m \u001b[0mdtype\u001b[0m\u001b[0;34m=\u001b[0m\u001b[0midx_dtype\u001b[0m\u001b[0;34m)\u001b[0m\u001b[0;34m\u001b[0m\u001b[0;34m\u001b[0m\u001b[0m\n\u001b[0m\u001b[1;32m    160\u001b[0m                 \u001b[0mself\u001b[0m\u001b[0;34m.\u001b[0m\u001b[0mcol\u001b[0m \u001b[0;34m=\u001b[0m \u001b[0mnp\u001b[0m\u001b[0;34m.\u001b[0m\u001b[0marray\u001b[0m\u001b[0;34m(\u001b[0m\u001b[0mcol\u001b[0m\u001b[0;34m,\u001b[0m \u001b[0mcopy\u001b[0m\u001b[0;34m=\u001b[0m\u001b[0mcopy\u001b[0m\u001b[0;34m,\u001b[0m \u001b[0mdtype\u001b[0m\u001b[0;34m=\u001b[0m\u001b[0midx_dtype\u001b[0m\u001b[0;34m)\u001b[0m\u001b[0;34m\u001b[0m\u001b[0;34m\u001b[0m\u001b[0m\n\u001b[1;32m    161\u001b[0m                 \u001b[0mself\u001b[0m\u001b[0;34m.\u001b[0m\u001b[0mdata\u001b[0m \u001b[0;34m=\u001b[0m \u001b[0mnp\u001b[0m\u001b[0;34m.\u001b[0m\u001b[0marray\u001b[0m\u001b[0;34m(\u001b[0m\u001b[0mobj\u001b[0m\u001b[0;34m,\u001b[0m \u001b[0mcopy\u001b[0m\u001b[0;34m=\u001b[0m\u001b[0mcopy\u001b[0m\u001b[0;34m)\u001b[0m\u001b[0;34m\u001b[0m\u001b[0;34m\u001b[0m\u001b[0m\n",
            "\u001b[0;32m/usr/local/lib/python3.7/dist-packages/pandas/core/series.py\u001b[0m in \u001b[0;36m__array__\u001b[0;34m(self, dtype)\u001b[0m\n\u001b[1;32m    855\u001b[0m               dtype='datetime64[ns]')\n\u001b[1;32m    856\u001b[0m         \"\"\"\n\u001b[0;32m--> 857\u001b[0;31m         \u001b[0;32mreturn\u001b[0m \u001b[0mnp\u001b[0m\u001b[0;34m.\u001b[0m\u001b[0masarray\u001b[0m\u001b[0;34m(\u001b[0m\u001b[0mself\u001b[0m\u001b[0;34m.\u001b[0m\u001b[0m_values\u001b[0m\u001b[0;34m,\u001b[0m \u001b[0mdtype\u001b[0m\u001b[0;34m)\u001b[0m\u001b[0;34m\u001b[0m\u001b[0;34m\u001b[0m\u001b[0m\n\u001b[0m\u001b[1;32m    858\u001b[0m \u001b[0;34m\u001b[0m\u001b[0m\n\u001b[1;32m    859\u001b[0m     \u001b[0;31m# ----------------------------------------------------------------------\u001b[0m\u001b[0;34m\u001b[0m\u001b[0;34m\u001b[0m\u001b[0;34m\u001b[0m\u001b[0m\n",
            "\u001b[0;31mValueError\u001b[0m: invalid literal for int() with base 10: 'A1ZCPG3D3HGRSS'"
          ]
        }
      ]
    },
    {
      "cell_type": "code",
      "source": [
        "review['reviewTime'] = pd.to_datetime(review['reviewTime'])\n",
        "review['year'] = review['reviewTime'].dt.year"
      ],
      "metadata": {
        "colab": {
          "base_uri": "https://localhost:8080/"
        },
        "id": "-cASGsM69esV",
        "outputId": "b8c129c9-e000-4fd8-fbf7-53dc362c7a85"
      },
      "execution_count": null,
      "outputs": [
        {
          "output_type": "execute_result",
          "data": {
            "text/plain": [
              "0          2013\n",
              "1          2013\n",
              "2          2013\n",
              "3          2012\n",
              "4          2012\n",
              "           ... \n",
              "1584077    2018\n",
              "1584078    2018\n",
              "1584079    2017\n",
              "1584080    2018\n",
              "1584081    2017\n",
              "Name: reviewTime, Length: 1584082, dtype: int64"
            ]
          },
          "metadata": {},
          "execution_count": 5
        }
      ]
    },
    {
      "cell_type": "code",
      "source": [
        ""
      ],
      "metadata": {
        "id": "K6nxEBza9ezd"
      },
      "execution_count": null,
      "outputs": []
    },
    {
      "cell_type": "code",
      "source": [
        ""
      ],
      "metadata": {
        "id": "GQ7Zpbep9e3W"
      },
      "execution_count": null,
      "outputs": []
    },
    {
      "cell_type": "code",
      "source": [
        "# Links for the 2014 version \n",
        "meta_url = \"http://snap.stanford.edu/data/amazon/productGraph/categoryFiles/meta_Digital_Music.json.gz\"\n",
        "ratings_url = \"http://snap.stanford.edu/data/amazon/productGraph/categoryFiles/ratings_Digital_Music.csv\"\n",
        "reviews_url = \"http://snap.stanford.edu/data/amazon/productGraph/categoryFiles/reviews_Digital_Music_5.json.gz\"\n",
        "\n",
        "columns = ['reviewrId', 'musicId', 'rating', 'reviewTime']"
      ],
      "metadata": {
        "id": "q1YFTtiiuTMW"
      },
      "execution_count": null,
      "outputs": []
    },
    {
      "cell_type": "code",
      "source": [
        "music_reviews.rename(columns = {'reviewerID':'reviewerId', 'overall':'rating', 'asin':'musicId'}, inplace = True)\n",
        "music_reviews.head(2)"
      ],
      "metadata": {
        "colab": {
          "base_uri": "https://localhost:8080/",
          "height": 260
        },
        "id": "fih0G3NsKHc6",
        "outputId": "6a61f086-1b96-446b-bd02-5573a52ff370"
      },
      "execution_count": null,
      "outputs": [
        {
          "output_type": "execute_result",
          "data": {
            "text/plain": [
              "       reviewerId     musicId          reviewerName helpful  \\\n",
              "0  A3EBHHCZO6V2A4  5555991584  Amaranth \"music fan\"  [3, 3]   \n",
              "1   AZPWAXJG9OJXV  5555991584             bethtexas  [0, 0]   \n",
              "\n",
              "                                          reviewText  rating  \\\n",
              "0  It's hard to believe \"Memory of Trees\" came ou...       5   \n",
              "1  A clasically-styled and introverted album, Mem...       5   \n",
              "\n",
              "                    summary  unixReviewTime   reviewTime  \n",
              "0   Enya's last great album      1158019200  09 12, 2006  \n",
              "1  Enya at her most elegant       991526400   06 3, 2001  "
            ],
            "text/html": [
              "\n",
              "  <div id=\"df-35da2a42-91ed-42b7-a16b-db85220028ff\">\n",
              "    <div class=\"colab-df-container\">\n",
              "      <div>\n",
              "<style scoped>\n",
              "    .dataframe tbody tr th:only-of-type {\n",
              "        vertical-align: middle;\n",
              "    }\n",
              "\n",
              "    .dataframe tbody tr th {\n",
              "        vertical-align: top;\n",
              "    }\n",
              "\n",
              "    .dataframe thead th {\n",
              "        text-align: right;\n",
              "    }\n",
              "</style>\n",
              "<table border=\"1\" class=\"dataframe\">\n",
              "  <thead>\n",
              "    <tr style=\"text-align: right;\">\n",
              "      <th></th>\n",
              "      <th>reviewerId</th>\n",
              "      <th>musicId</th>\n",
              "      <th>reviewerName</th>\n",
              "      <th>helpful</th>\n",
              "      <th>reviewText</th>\n",
              "      <th>rating</th>\n",
              "      <th>summary</th>\n",
              "      <th>unixReviewTime</th>\n",
              "      <th>reviewTime</th>\n",
              "    </tr>\n",
              "  </thead>\n",
              "  <tbody>\n",
              "    <tr>\n",
              "      <th>0</th>\n",
              "      <td>A3EBHHCZO6V2A4</td>\n",
              "      <td>5555991584</td>\n",
              "      <td>Amaranth \"music fan\"</td>\n",
              "      <td>[3, 3]</td>\n",
              "      <td>It's hard to believe \"Memory of Trees\" came ou...</td>\n",
              "      <td>5</td>\n",
              "      <td>Enya's last great album</td>\n",
              "      <td>1158019200</td>\n",
              "      <td>09 12, 2006</td>\n",
              "    </tr>\n",
              "    <tr>\n",
              "      <th>1</th>\n",
              "      <td>AZPWAXJG9OJXV</td>\n",
              "      <td>5555991584</td>\n",
              "      <td>bethtexas</td>\n",
              "      <td>[0, 0]</td>\n",
              "      <td>A clasically-styled and introverted album, Mem...</td>\n",
              "      <td>5</td>\n",
              "      <td>Enya at her most elegant</td>\n",
              "      <td>991526400</td>\n",
              "      <td>06 3, 2001</td>\n",
              "    </tr>\n",
              "  </tbody>\n",
              "</table>\n",
              "</div>\n",
              "      <button class=\"colab-df-convert\" onclick=\"convertToInteractive('df-35da2a42-91ed-42b7-a16b-db85220028ff')\"\n",
              "              title=\"Convert this dataframe to an interactive table.\"\n",
              "              style=\"display:none;\">\n",
              "        \n",
              "  <svg xmlns=\"http://www.w3.org/2000/svg\" height=\"24px\"viewBox=\"0 0 24 24\"\n",
              "       width=\"24px\">\n",
              "    <path d=\"M0 0h24v24H0V0z\" fill=\"none\"/>\n",
              "    <path d=\"M18.56 5.44l.94 2.06.94-2.06 2.06-.94-2.06-.94-.94-2.06-.94 2.06-2.06.94zm-11 1L8.5 8.5l.94-2.06 2.06-.94-2.06-.94L8.5 2.5l-.94 2.06-2.06.94zm10 10l.94 2.06.94-2.06 2.06-.94-2.06-.94-.94-2.06-.94 2.06-2.06.94z\"/><path d=\"M17.41 7.96l-1.37-1.37c-.4-.4-.92-.59-1.43-.59-.52 0-1.04.2-1.43.59L10.3 9.45l-7.72 7.72c-.78.78-.78 2.05 0 2.83L4 21.41c.39.39.9.59 1.41.59.51 0 1.02-.2 1.41-.59l7.78-7.78 2.81-2.81c.8-.78.8-2.07 0-2.86zM5.41 20L4 18.59l7.72-7.72 1.47 1.35L5.41 20z\"/>\n",
              "  </svg>\n",
              "      </button>\n",
              "      \n",
              "  <style>\n",
              "    .colab-df-container {\n",
              "      display:flex;\n",
              "      flex-wrap:wrap;\n",
              "      gap: 12px;\n",
              "    }\n",
              "\n",
              "    .colab-df-convert {\n",
              "      background-color: #E8F0FE;\n",
              "      border: none;\n",
              "      border-radius: 50%;\n",
              "      cursor: pointer;\n",
              "      display: none;\n",
              "      fill: #1967D2;\n",
              "      height: 32px;\n",
              "      padding: 0 0 0 0;\n",
              "      width: 32px;\n",
              "    }\n",
              "\n",
              "    .colab-df-convert:hover {\n",
              "      background-color: #E2EBFA;\n",
              "      box-shadow: 0px 1px 2px rgba(60, 64, 67, 0.3), 0px 1px 3px 1px rgba(60, 64, 67, 0.15);\n",
              "      fill: #174EA6;\n",
              "    }\n",
              "\n",
              "    [theme=dark] .colab-df-convert {\n",
              "      background-color: #3B4455;\n",
              "      fill: #D2E3FC;\n",
              "    }\n",
              "\n",
              "    [theme=dark] .colab-df-convert:hover {\n",
              "      background-color: #434B5C;\n",
              "      box-shadow: 0px 1px 3px 1px rgba(0, 0, 0, 0.15);\n",
              "      filter: drop-shadow(0px 1px 2px rgba(0, 0, 0, 0.3));\n",
              "      fill: #FFFFFF;\n",
              "    }\n",
              "  </style>\n",
              "\n",
              "      <script>\n",
              "        const buttonEl =\n",
              "          document.querySelector('#df-35da2a42-91ed-42b7-a16b-db85220028ff button.colab-df-convert');\n",
              "        buttonEl.style.display =\n",
              "          google.colab.kernel.accessAllowed ? 'block' : 'none';\n",
              "\n",
              "        async function convertToInteractive(key) {\n",
              "          const element = document.querySelector('#df-35da2a42-91ed-42b7-a16b-db85220028ff');\n",
              "          const dataTable =\n",
              "            await google.colab.kernel.invokeFunction('convertToInteractive',\n",
              "                                                     [key], {});\n",
              "          if (!dataTable) return;\n",
              "\n",
              "          const docLinkHtml = 'Like what you see? Visit the ' +\n",
              "            '<a target=\"_blank\" href=https://colab.research.google.com/notebooks/data_table.ipynb>data table notebook</a>'\n",
              "            + ' to learn more about interactive tables.';\n",
              "          element.innerHTML = '';\n",
              "          dataTable['output_type'] = 'display_data';\n",
              "          await google.colab.output.renderOutput(dataTable, element);\n",
              "          const docLink = document.createElement('div');\n",
              "          docLink.innerHTML = docLinkHtml;\n",
              "          element.appendChild(docLink);\n",
              "        }\n",
              "      </script>\n",
              "    </div>\n",
              "  </div>\n",
              "  "
            ]
          },
          "metadata": {},
          "execution_count": 2
        }
      ]
    },
    {
      "cell_type": "code",
      "source": [
        "music_reviews['rating'].hist()"
      ],
      "metadata": {
        "colab": {
          "base_uri": "https://localhost:8080/",
          "height": 283
        },
        "id": "_ZYBqUg_KHgs",
        "outputId": "1124b126-f43b-47d6-d24f-d9839940e8b2"
      },
      "execution_count": null,
      "outputs": [
        {
          "output_type": "execute_result",
          "data": {
            "text/plain": [
              "<matplotlib.axes._subplots.AxesSubplot at 0x7fa915380d90>"
            ]
          },
          "metadata": {},
          "execution_count": 20
        },
        {
          "output_type": "display_data",
          "data": {
            "text/plain": [
              "<Figure size 432x288 with 1 Axes>"
            ],
            "image/png": "[encoded data removed]"
          },
          "metadata": {
            "needs_background": "light"
          }
        }
      ]
    },
    {
      "cell_type": "code",
      "source": [
        ""
      ],
      "metadata": {
        "id": "6Kc0iYZ9TJSV"
      },
      "execution_count": null,
      "outputs": []
    }
  ]
}