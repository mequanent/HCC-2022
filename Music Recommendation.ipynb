{
  "nbformat": 4,
  "nbformat_minor": 0,
  "metadata": {
    "colab": {
      "name": "Tutorial.ipynb",
      "provenance": [],
      "collapsed_sections": [],
      "include_colab_link": true
    },
    "kernelspec": {
      "display_name": "Python 3",
      "name": "python3"
    },
    "language_info": {
      "name": "python"
    }
  },
  "cells": [
    {
      "cell_type": "markdown",
      "metadata": {
        "id": "view-in-github",
        "colab_type": "text"
      },
      "source": [
        "<a href=\"https://colab.research.google.com/github/mequanent/HCC-2022/blob/main/Music%20Recommendation.ipynb\" target=\"_parent\"><img src=\"https://colab.research.google.com/assets/colab-badge.svg\" alt=\"Open In Colab\"/></a>"
      ]
    },
    {
      "cell_type": "markdown",
      "metadata": {
        "id": "NcHNFEcWJOuf"
      },
      "source": [
        "# Trying a Music Recommendation Project"
      ]
    },
    {
      "cell_type": "code",
      "source": [
        "import pandas as pd\n",
        "import numpy as np \n",
        "\n",
        "source = \"http://deepyeti.ucsd.edu/jianmo/amazon/index.html\" # 2018 version\n",
        "metaurl = \"http://deepyeti.ucsd.edu/jianmo/amazon/metaFiles2/meta_Digital_Music.json.gz\"\n",
        "reviewurl = \"http://deepyeti.ucsd.edu/jianmo/amazon/categoryFiles/Digital_Music.json.gz\"\n",
        "meta = pd.read_json(metaurl, lines = True)\n",
        "review = pd.read_json(reviewurl, lines = True)\n",
        "\n",
        "meta.head(2)\n",
        "meta.shape\n",
        "review.head(2)\n",
        "review.info()\n",
        "meta.info()"
      ],
      "metadata": {
        "id": "OBgzYglpzc9Y",
        "outputId": "d22fbf89-3c67-4aa1-d921-054a5af26649",
        "colab": {
          "base_uri": "https://localhost:8080/"
        }
      },
      "execution_count": 4,
      "outputs": [
        {
          "output_type": "stream",
          "name": "stdout",
          "text": [
            "<class 'pandas.core.frame.DataFrame'>\n",
            "RangeIndex: 1584082 entries, 0 to 1584081\n",
            "Data columns (total 12 columns):\n",
            " #   Column          Non-Null Count    Dtype \n",
            "---  ------          --------------    ----- \n",
            " 0   overall         1584082 non-null  int64 \n",
            " 1   verified        1584082 non-null  bool  \n",
            " 2   reviewTime      1584082 non-null  object\n",
            " 3   reviewerID      1584082 non-null  object\n",
            " 4   asin            1584082 non-null  object\n",
            " 5   style           1310814 non-null  object\n",
            " 6   reviewerName    1584001 non-null  object\n",
            " 7   reviewText      1582629 non-null  object\n",
            " 8   summary         1583547 non-null  object\n",
            " 9   unixReviewTime  1584082 non-null  int64 \n",
            " 10  vote            124722 non-null   object\n",
            " 11  image           6591 non-null     object\n",
            "dtypes: bool(1), int64(2), object(9)\n",
            "memory usage: 134.5+ MB\n",
            "<class 'pandas.core.frame.DataFrame'>\n",
            "RangeIndex: 74347 entries, 0 to 74346\n",
            "Data columns (total 19 columns):\n",
            " #   Column           Non-Null Count  Dtype \n",
            "---  ------           --------------  ----- \n",
            " 0   category         74347 non-null  object\n",
            " 1   tech1            74347 non-null  object\n",
            " 2   description      74347 non-null  object\n",
            " 3   fit              74347 non-null  object\n",
            " 4   title            74347 non-null  object\n",
            " 5   also_buy         74347 non-null  object\n",
            " 6   tech2            74347 non-null  object\n",
            " 7   brand            74347 non-null  object\n",
            " 8   feature          74347 non-null  object\n",
            " 9   rank             74347 non-null  object\n",
            " 10  also_view        74347 non-null  object\n",
            " 11  main_cat         74347 non-null  object\n",
            " 12  similar_item     74347 non-null  object\n",
            " 13  date             74347 non-null  object\n",
            " 14  price            74347 non-null  object\n",
            " 15  asin             74347 non-null  object\n",
            " 16  imageURL         74347 non-null  object\n",
            " 17  imageURLHighRes  74347 non-null  object\n",
            " 18  details          73813 non-null  object\n",
            "dtypes: object(19)\n",
            "memory usage: 10.8+ MB\n"
          ]
        }
      ]
    },
    {
      "cell_type": "code",
      "source": [
        "# Links for the 2014 version \n",
        "meta_url = \"http://snap.stanford.edu/data/amazon/productGraph/categoryFiles/meta_Digital_Music.json.gz\"\n",
        "ratings_url = \"http://snap.stanford.edu/data/amazon/productGraph/categoryFiles/ratings_Digital_Music.csv\"\n",
        "reviews_url = \"http://snap.stanford.edu/data/amazon/productGraph/categoryFiles/reviews_Digital_Music_5.json.gz\"\n",
        "\n",
        "columns = ['reviewrId', 'musicId', 'rating', 'reviewTime']"
      ],
      "metadata": {
        "id": "q1YFTtiiuTMW"
      },
      "execution_count": 5,
      "outputs": []
    },
    {
      "cell_type": "code",
      "source": [
        "music_reviews.rename(columns = {'reviewerID':'reviewerId', 'overall':'rating', 'asin':'musicId'}, inplace = True)\n",
        "music_reviews.head(2)"
      ],
      "metadata": {
        "colab": {
          "base_uri": "https://localhost:8080/",
          "height": 260
        },
        "id": "fih0G3NsKHc6",
        "outputId": "6a61f086-1b96-446b-bd02-5573a52ff370"
      },
      "execution_count": 2,
      "outputs": [
        {
          "output_type": "execute_result",
          "data": {
            "text/plain": [
              "       reviewerId     musicId          reviewerName helpful  \\\n",
              "0  A3EBHHCZO6V2A4  5555991584  Amaranth \"music fan\"  [3, 3]   \n",
              "1   AZPWAXJG9OJXV  5555991584             bethtexas  [0, 0]   \n",
              "\n",
              "                                          reviewText  rating  \\\n",
              "0  It's hard to believe \"Memory of Trees\" came ou...       5   \n",
              "1  A clasically-styled and introverted album, Mem...       5   \n",
              "\n",
              "                    summary  unixReviewTime   reviewTime  \n",
              "0   Enya's last great album      1158019200  09 12, 2006  \n",
              "1  Enya at her most elegant       991526400   06 3, 2001  "
            ],
            "text/html": [
              "\n",
              "  <div id=\"df-35da2a42-91ed-42b7-a16b-db85220028ff\">\n",
              "    <div class=\"colab-df-container\">\n",
              "      <div>\n",
              "<style scoped>\n",
              "    .dataframe tbody tr th:only-of-type {\n",
              "        vertical-align: middle;\n",
              "    }\n",
              "\n",
              "    .dataframe tbody tr th {\n",
              "        vertical-align: top;\n",
              "    }\n",
              "\n",
              "    .dataframe thead th {\n",
              "        text-align: right;\n",
              "    }\n",
              "</style>\n",
              "<table border=\"1\" class=\"dataframe\">\n",
              "  <thead>\n",
              "    <tr style=\"text-align: right;\">\n",
              "      <th></th>\n",
              "      <th>reviewerId</th>\n",
              "      <th>musicId</th>\n",
              "      <th>reviewerName</th>\n",
              "      <th>helpful</th>\n",
              "      <th>reviewText</th>\n",
              "      <th>rating</th>\n",
              "      <th>summary</th>\n",
              "      <th>unixReviewTime</th>\n",
              "      <th>reviewTime</th>\n",
              "    </tr>\n",
              "  </thead>\n",
              "  <tbody>\n",
              "    <tr>\n",
              "      <th>0</th>\n",
              "      <td>A3EBHHCZO6V2A4</td>\n",
              "      <td>5555991584</td>\n",
              "      <td>Amaranth \"music fan\"</td>\n",
              "      <td>[3, 3]</td>\n",
              "      <td>It's hard to believe \"Memory of Trees\" came ou...</td>\n",
              "      <td>5</td>\n",
              "      <td>Enya's last great album</td>\n",
              "      <td>1158019200</td>\n",
              "      <td>09 12, 2006</td>\n",
              "    </tr>\n",
              "    <tr>\n",
              "      <th>1</th>\n",
              "      <td>AZPWAXJG9OJXV</td>\n",
              "      <td>5555991584</td>\n",
              "      <td>bethtexas</td>\n",
              "      <td>[0, 0]</td>\n",
              "      <td>A clasically-styled and introverted album, Mem...</td>\n",
              "      <td>5</td>\n",
              "      <td>Enya at her most elegant</td>\n",
              "      <td>991526400</td>\n",
              "      <td>06 3, 2001</td>\n",
              "    </tr>\n",
              "  </tbody>\n",
              "</table>\n",
              "</div>\n",
              "      <button class=\"colab-df-convert\" onclick=\"convertToInteractive('df-35da2a42-91ed-42b7-a16b-db85220028ff')\"\n",
              "              title=\"Convert this dataframe to an interactive table.\"\n",
              "              style=\"display:none;\">\n",
              "        \n",
              "  <svg xmlns=\"http://www.w3.org/2000/svg\" height=\"24px\"viewBox=\"0 0 24 24\"\n",
              "       width=\"24px\">\n",
              "    <path d=\"M0 0h24v24H0V0z\" fill=\"none\"/>\n",
              "    <path d=\"M18.56 5.44l.94 2.06.94-2.06 2.06-.94-2.06-.94-.94-2.06-.94 2.06-2.06.94zm-11 1L8.5 8.5l.94-2.06 2.06-.94-2.06-.94L8.5 2.5l-.94 2.06-2.06.94zm10 10l.94 2.06.94-2.06 2.06-.94-2.06-.94-.94-2.06-.94 2.06-2.06.94z\"/><path d=\"M17.41 7.96l-1.37-1.37c-.4-.4-.92-.59-1.43-.59-.52 0-1.04.2-1.43.59L10.3 9.45l-7.72 7.72c-.78.78-.78 2.05 0 2.83L4 21.41c.39.39.9.59 1.41.59.51 0 1.02-.2 1.41-.59l7.78-7.78 2.81-2.81c.8-.78.8-2.07 0-2.86zM5.41 20L4 18.59l7.72-7.72 1.47 1.35L5.41 20z\"/>\n",
              "  </svg>\n",
              "      </button>\n",
              "      \n",
              "  <style>\n",
              "    .colab-df-container {\n",
              "      display:flex;\n",
              "      flex-wrap:wrap;\n",
              "      gap: 12px;\n",
              "    }\n",
              "\n",
              "    .colab-df-convert {\n",
              "      background-color: #E8F0FE;\n",
              "      border: none;\n",
              "      border-radius: 50%;\n",
              "      cursor: pointer;\n",
              "      display: none;\n",
              "      fill: #1967D2;\n",
              "      height: 32px;\n",
              "      padding: 0 0 0 0;\n",
              "      width: 32px;\n",
              "    }\n",
              "\n",
              "    .colab-df-convert:hover {\n",
              "      background-color: #E2EBFA;\n",
              "      box-shadow: 0px 1px 2px rgba(60, 64, 67, 0.3), 0px 1px 3px 1px rgba(60, 64, 67, 0.15);\n",
              "      fill: #174EA6;\n",
              "    }\n",
              "\n",
              "    [theme=dark] .colab-df-convert {\n",
              "      background-color: #3B4455;\n",
              "      fill: #D2E3FC;\n",
              "    }\n",
              "\n",
              "    [theme=dark] .colab-df-convert:hover {\n",
              "      background-color: #434B5C;\n",
              "      box-shadow: 0px 1px 3px 1px rgba(0, 0, 0, 0.15);\n",
              "      filter: drop-shadow(0px 1px 2px rgba(0, 0, 0, 0.3));\n",
              "      fill: #FFFFFF;\n",
              "    }\n",
              "  </style>\n",
              "\n",
              "      <script>\n",
              "        const buttonEl =\n",
              "          document.querySelector('#df-35da2a42-91ed-42b7-a16b-db85220028ff button.colab-df-convert');\n",
              "        buttonEl.style.display =\n",
              "          google.colab.kernel.accessAllowed ? 'block' : 'none';\n",
              "\n",
              "        async function convertToInteractive(key) {\n",
              "          const element = document.querySelector('#df-35da2a42-91ed-42b7-a16b-db85220028ff');\n",
              "          const dataTable =\n",
              "            await google.colab.kernel.invokeFunction('convertToInteractive',\n",
              "                                                     [key], {});\n",
              "          if (!dataTable) return;\n",
              "\n",
              "          const docLinkHtml = 'Like what you see? Visit the ' +\n",
              "            '<a target=\"_blank\" href=https://colab.research.google.com/notebooks/data_table.ipynb>data table notebook</a>'\n",
              "            + ' to learn more about interactive tables.';\n",
              "          element.innerHTML = '';\n",
              "          dataTable['output_type'] = 'display_data';\n",
              "          await google.colab.output.renderOutput(dataTable, element);\n",
              "          const docLink = document.createElement('div');\n",
              "          docLink.innerHTML = docLinkHtml;\n",
              "          element.appendChild(docLink);\n",
              "        }\n",
              "      </script>\n",
              "    </div>\n",
              "  </div>\n",
              "  "
            ]
          },
          "metadata": {},
          "execution_count": 2
        }
      ]
    },
    {
      "cell_type": "code",
      "source": [
        "music_reviews['rating'].hist()"
      ],
      "metadata": {
        "colab": {
          "base_uri": "https://localhost:8080/",
          "height": 283
        },
        "id": "_ZYBqUg_KHgs",
        "outputId": "1124b126-f43b-47d6-d24f-d9839940e8b2"
      },
      "execution_count": null,
      "outputs": [
        {
          "output_type": "execute_result",
          "data": {
            "text/plain": [
              "<matplotlib.axes._subplots.AxesSubplot at 0x7fa915380d90>"
            ]
          },
          "metadata": {},
          "execution_count": 20
        },
        {
          "output_type": "display_data",
          "data": {
            "text/plain": [
              "<Figure size 432x288 with 1 Axes>"
            ],
            "image/png": "[encoded data removed]"
          },
          "metadata": {
            "needs_background": "light"
          }
        }
      ]
    },
    {
      "cell_type": "code",
      "source": [
        ""
      ],
      "metadata": {
        "id": "6Kc0iYZ9TJSV"
      },
      "execution_count": null,
      "outputs": []
    },
    {
      "cell_type": "code",
      "source": [
        "#meta = pd.read_json(meta_url, lines = True)"
      ],
      "metadata": {
        "id": "aKELA4NAL8Rl"
      },
      "execution_count": null,
      "outputs": []
    },
    {
      "cell_type": "code",
      "source": [
        "music_reviews.musicId.value_counts()"
      ],
      "metadata": {
        "colab": {
          "base_uri": "https://localhost:8080/"
        },
        "id": "zjOSqp4SL8Yi",
        "outputId": "5397d519-959d-4dec-d50e-677f4df2dc3d"
      },
      "execution_count": null,
      "outputs": [
        {
          "output_type": "execute_result",
          "data": {
            "text/plain": [
              "B0007NFL18    272\n",
              "B000084T18    271\n",
              "B00006690F    204\n",
              "B00004T9UF    202\n",
              "B00005YW4H    190\n",
              "             ... \n",
              "B0002OOUS2      5\n",
              "B0002XEDJE      5\n",
              "B00064183I      5\n",
              "B00064AEJM      5\n",
              "B00KILDVEI      5\n",
              "Name: musicId, Length: 3568, dtype: int64"
            ]
          },
          "metadata": {},
          "execution_count": 21
        }
      ]
    },
    {
      "cell_type": "code",
      "source": [
        "music_reviews.reviewerId.value_counts()"
      ],
      "metadata": {
        "colab": {
          "base_uri": "https://localhost:8080/"
        },
        "id": "0wNKvON9KHlE",
        "outputId": "edaaf578-b581-462b-93f7-88b5e3f88868"
      },
      "execution_count": null,
      "outputs": [
        {
          "output_type": "execute_result",
          "data": {
            "text/plain": [
              "A9Q28YTLYREO7     578\n",
              "A3HU0B9XUEVHIM    375\n",
              "A3KJ6JAZPH382D    301\n",
              "A3C6ZCBUNXUT7V    261\n",
              "A8IFUOL8S9BZC     256\n",
              "                 ... \n",
              "A3MHB30XYTWSIC      5\n",
              "AAQ992EC4K6U8       5\n",
              "A26DPJ5DLJOT2O      5\n",
              "A2H22I2RWE0HOV      5\n",
              "ASOK6X7HSN7S9       5\n",
              "Name: reviewerId, Length: 5541, dtype: int64"
            ]
          },
          "metadata": {},
          "execution_count": 22
        }
      ]
    },
    {
      "cell_type": "code",
      "source": [
        "music_reviews.reviewerName.value_counts()"
      ],
      "metadata": {
        "colab": {
          "base_uri": "https://localhost:8080/"
        },
        "id": "fZMKVf6NNxZa",
        "outputId": "1674a790-9de9-4271-acff-44dc20ae63fb"
      },
      "execution_count": null,
      "outputs": [
        {
          "output_type": "execute_result",
          "data": {
            "text/plain": [
              "mistermaxxx08 \"mistermaxxx08\"            575\n",
              "Andre S. Grindle \"Andre' Grindle\"        375\n",
              "Tim Brough \"author and music buff\"       301\n",
              "G$ \"Z-Wad\"                               261\n",
              "IRate                                    256\n",
              "                                        ... \n",
              "C.C. Arty (whoa-oa-oa) \"feenikslintu\"      2\n",
              "meeshy_a                                   2\n",
              "Barb23091                                  1\n",
              "Victor Ochoa \"fan of music\"                1\n",
              "Robert 3086                                1\n",
              "Name: reviewerName, Length: 5426, dtype: int64"
            ]
          },
          "metadata": {},
          "execution_count": 23
        }
      ]
    },
    {
      "cell_type": "code",
      "source": [
        "music_reviews.loc[:,['reviewerId', 'musicId', 'rating']]"
      ],
      "metadata": {
        "colab": {
          "base_uri": "https://localhost:8080/",
          "height": 423
        },
        "id": "qdR9GjysZqnz",
        "outputId": "58a39a29-e84d-4813-f486-aedf4ddbd614"
      },
      "execution_count": null,
      "outputs": [
        {
          "output_type": "execute_result",
          "data": {
            "text/plain": [
              "           reviewerId     musicId  rating\n",
              "0      A3EBHHCZO6V2A4  5555991584       5\n",
              "1       AZPWAXJG9OJXV  5555991584       5\n",
              "2      A38IRL0X2T4DPF  5555991584       5\n",
              "3      A22IK3I6U76GX0  5555991584       5\n",
              "4      A1AISPOIIHTHXX  5555991584       4\n",
              "...               ...         ...     ...\n",
              "64701  A1PQ1PESSO8CMO  B00KILDVEI       4\n",
              "64702  A120RH58WVY4W6  B00KILDVEI       5\n",
              "64703  A19VJ2IQLO50G0  B00KILDVEI       5\n",
              "64704   AUDSM2CTLLW1Q  B00KILDVEI       3\n",
              "64705  A1GN8UJIZLCA59  B00KILDVEI       1\n",
              "\n",
              "[64706 rows x 3 columns]"
            ],
            "text/html": [
              "\n",
              "  <div id=\"df-4ff686d9-3298-4152-bf37-77f9264d8595\">\n",
              "    <div class=\"colab-df-container\">\n",
              "      <div>\n",
              "<style scoped>\n",
              "    .dataframe tbody tr th:only-of-type {\n",
              "        vertical-align: middle;\n",
              "    }\n",
              "\n",
              "    .dataframe tbody tr th {\n",
              "        vertical-align: top;\n",
              "    }\n",
              "\n",
              "    .dataframe thead th {\n",
              "        text-align: right;\n",
              "    }\n",
              "</style>\n",
              "<table border=\"1\" class=\"dataframe\">\n",
              "  <thead>\n",
              "    <tr style=\"text-align: right;\">\n",
              "      <th></th>\n",
              "      <th>reviewerId</th>\n",
              "      <th>musicId</th>\n",
              "      <th>rating</th>\n",
              "    </tr>\n",
              "  </thead>\n",
              "  <tbody>\n",
              "    <tr>\n",
              "      <th>0</th>\n",
              "      <td>A3EBHHCZO6V2A4</td>\n",
              "      <td>5555991584</td>\n",
              "      <td>5</td>\n",
              "    </tr>\n",
              "    <tr>\n",
              "      <th>1</th>\n",
              "      <td>AZPWAXJG9OJXV</td>\n",
              "      <td>5555991584</td>\n",
              "      <td>5</td>\n",
              "    </tr>\n",
              "    <tr>\n",
              "      <th>2</th>\n",
              "      <td>A38IRL0X2T4DPF</td>\n",
              "      <td>5555991584</td>\n",
              "      <td>5</td>\n",
              "    </tr>\n",
              "    <tr>\n",
              "      <th>3</th>\n",
              "      <td>A22IK3I6U76GX0</td>\n",
              "      <td>5555991584</td>\n",
              "      <td>5</td>\n",
              "    </tr>\n",
              "    <tr>\n",
              "      <th>4</th>\n",
              "      <td>A1AISPOIIHTHXX</td>\n",
              "      <td>5555991584</td>\n",
              "      <td>4</td>\n",
              "    </tr>\n",
              "    <tr>\n",
              "      <th>...</th>\n",
              "      <td>...</td>\n",
              "      <td>...</td>\n",
              "      <td>...</td>\n",
              "    </tr>\n",
              "    <tr>\n",
              "      <th>64701</th>\n",
              "      <td>A1PQ1PESSO8CMO</td>\n",
              "      <td>B00KILDVEI</td>\n",
              "      <td>4</td>\n",
              "    </tr>\n",
              "    <tr>\n",
              "      <th>64702</th>\n",
              "      <td>A120RH58WVY4W6</td>\n",
              "      <td>B00KILDVEI</td>\n",
              "      <td>5</td>\n",
              "    </tr>\n",
              "    <tr>\n",
              "      <th>64703</th>\n",
              "      <td>A19VJ2IQLO50G0</td>\n",
              "      <td>B00KILDVEI</td>\n",
              "      <td>5</td>\n",
              "    </tr>\n",
              "    <tr>\n",
              "      <th>64704</th>\n",
              "      <td>AUDSM2CTLLW1Q</td>\n",
              "      <td>B00KILDVEI</td>\n",
              "      <td>3</td>\n",
              "    </tr>\n",
              "    <tr>\n",
              "      <th>64705</th>\n",
              "      <td>A1GN8UJIZLCA59</td>\n",
              "      <td>B00KILDVEI</td>\n",
              "      <td>1</td>\n",
              "    </tr>\n",
              "  </tbody>\n",
              "</table>\n",
              "<p>64706 rows × 3 columns</p>\n",
              "</div>\n",
              "      <button class=\"colab-df-convert\" onclick=\"convertToInteractive('df-4ff686d9-3298-4152-bf37-77f9264d8595')\"\n",
              "              title=\"Convert this dataframe to an interactive table.\"\n",
              "              style=\"display:none;\">\n",
              "        \n",
              "  <svg xmlns=\"http://www.w3.org/2000/svg\" height=\"24px\"viewBox=\"0 0 24 24\"\n",
              "       width=\"24px\">\n",
              "    <path d=\"M0 0h24v24H0V0z\" fill=\"none\"/>\n",
              "    <path d=\"M18.56 5.44l.94 2.06.94-2.06 2.06-.94-2.06-.94-.94-2.06-.94 2.06-2.06.94zm-11 1L8.5 8.5l.94-2.06 2.06-.94-2.06-.94L8.5 2.5l-.94 2.06-2.06.94zm10 10l.94 2.06.94-2.06 2.06-.94-2.06-.94-.94-2.06-.94 2.06-2.06.94z\"/><path d=\"M17.41 7.96l-1.37-1.37c-.4-.4-.92-.59-1.43-.59-.52 0-1.04.2-1.43.59L10.3 9.45l-7.72 7.72c-.78.78-.78 2.05 0 2.83L4 21.41c.39.39.9.59 1.41.59.51 0 1.02-.2 1.41-.59l7.78-7.78 2.81-2.81c.8-.78.8-2.07 0-2.86zM5.41 20L4 18.59l7.72-7.72 1.47 1.35L5.41 20z\"/>\n",
              "  </svg>\n",
              "      </button>\n",
              "      \n",
              "  <style>\n",
              "    .colab-df-container {\n",
              "      display:flex;\n",
              "      flex-wrap:wrap;\n",
              "      gap: 12px;\n",
              "    }\n",
              "\n",
              "    .colab-df-convert {\n",
              "      background-color: #E8F0FE;\n",
              "      border: none;\n",
              "      border-radius: 50%;\n",
              "      cursor: pointer;\n",
              "      display: none;\n",
              "      fill: #1967D2;\n",
              "      height: 32px;\n",
              "      padding: 0 0 0 0;\n",
              "      width: 32px;\n",
              "    }\n",
              "\n",
              "    .colab-df-convert:hover {\n",
              "      background-color: #E2EBFA;\n",
              "      box-shadow: 0px 1px 2px rgba(60, 64, 67, 0.3), 0px 1px 3px 1px rgba(60, 64, 67, 0.15);\n",
              "      fill: #174EA6;\n",
              "    }\n",
              "\n",
              "    [theme=dark] .colab-df-convert {\n",
              "      background-color: #3B4455;\n",
              "      fill: #D2E3FC;\n",
              "    }\n",
              "\n",
              "    [theme=dark] .colab-df-convert:hover {\n",
              "      background-color: #434B5C;\n",
              "      box-shadow: 0px 1px 3px 1px rgba(0, 0, 0, 0.15);\n",
              "      filter: drop-shadow(0px 1px 2px rgba(0, 0, 0, 0.3));\n",
              "      fill: #FFFFFF;\n",
              "    }\n",
              "  </style>\n",
              "\n",
              "      <script>\n",
              "        const buttonEl =\n",
              "          document.querySelector('#df-4ff686d9-3298-4152-bf37-77f9264d8595 button.colab-df-convert');\n",
              "        buttonEl.style.display =\n",
              "          google.colab.kernel.accessAllowed ? 'block' : 'none';\n",
              "\n",
              "        async function convertToInteractive(key) {\n",
              "          const element = document.querySelector('#df-4ff686d9-3298-4152-bf37-77f9264d8595');\n",
              "          const dataTable =\n",
              "            await google.colab.kernel.invokeFunction('convertToInteractive',\n",
              "                                                     [key], {});\n",
              "          if (!dataTable) return;\n",
              "\n",
              "          const docLinkHtml = 'Like what you see? Visit the ' +\n",
              "            '<a target=\"_blank\" href=https://colab.research.google.com/notebooks/data_table.ipynb>data table notebook</a>'\n",
              "            + ' to learn more about interactive tables.';\n",
              "          element.innerHTML = '';\n",
              "          dataTable['output_type'] = 'display_data';\n",
              "          await google.colab.output.renderOutput(dataTable, element);\n",
              "          const docLink = document.createElement('div');\n",
              "          docLink.innerHTML = docLinkHtml;\n",
              "          element.appendChild(docLink);\n",
              "        }\n",
              "      </script>\n",
              "    </div>\n",
              "  </div>\n",
              "  "
            ]
          },
          "metadata": {},
          "execution_count": 24
        }
      ]
    },
    {
      "cell_type": "code",
      "source": [
        ""
      ],
      "metadata": {
        "id": "I3owdiSbSP5J"
      },
      "execution_count": 1,
      "outputs": []
    },
    {
      "cell_type": "code",
      "source": [
        "softwarelink = \"http://deepyeti.ucsd.edu/jianmo/amazon/categoryFiles/Software.json.gz\"\n",
        "software = pd.read_json(softwarelink, lines = True)\n",
        "software.info()"
      ],
      "metadata": {
        "colab": {
          "base_uri": "https://localhost:8080/"
        },
        "id": "bE9OGex8haUJ",
        "outputId": "1ec3a23d-df42-46c9-8ac7-31b3fa26bc55"
      },
      "execution_count": 14,
      "outputs": [
        {
          "output_type": "stream",
          "name": "stdout",
          "text": [
            "<class 'pandas.core.frame.DataFrame'>\n",
            "RangeIndex: 459436 entries, 0 to 459435\n",
            "Data columns (total 12 columns):\n",
            " #   Column          Non-Null Count   Dtype \n",
            "---  ------          --------------   ----- \n",
            " 0   overall         459436 non-null  int64 \n",
            " 1   verified        459436 non-null  bool  \n",
            " 2   reviewTime      459436 non-null  object\n",
            " 3   reviewerID      459436 non-null  object\n",
            " 4   asin            459436 non-null  object\n",
            " 5   style           234401 non-null  object\n",
            " 6   reviewerName    459412 non-null  object\n",
            " 7   reviewText      459370 non-null  object\n",
            " 8   summary         459380 non-null  object\n",
            " 9   unixReviewTime  459436 non-null  int64 \n",
            " 10  vote            127853 non-null  object\n",
            " 11  image           1508 non-null    object\n",
            "dtypes: bool(1), int64(2), object(9)\n",
            "memory usage: 39.0+ MB\n"
          ]
        }
      ]
    },
    {
      "cell_type": "code",
      "source": [
        "metasoftlink = \"http://deepyeti.ucsd.edu/jianmo/amazon/metaFiles2/meta_Software.json.gz\"\n",
        "meta_software = pd.read_json(metasoftlink, lines = True)\n",
        "meta_software.info()"
      ],
      "metadata": {
        "colab": {
          "base_uri": "https://localhost:8080/"
        },
        "id": "y05RzboXotpo",
        "outputId": "86e6881b-2b6f-4e84-de13-b7dd25e5aa12"
      },
      "execution_count": 15,
      "outputs": [
        {
          "output_type": "stream",
          "name": "stdout",
          "text": [
            "<class 'pandas.core.frame.DataFrame'>\n",
            "RangeIndex: 26790 entries, 0 to 26789\n",
            "Data columns (total 19 columns):\n",
            " #   Column           Non-Null Count  Dtype \n",
            "---  ------           --------------  ----- \n",
            " 0   category         26790 non-null  object\n",
            " 1   tech1            26790 non-null  object\n",
            " 2   description      26790 non-null  object\n",
            " 3   fit              26790 non-null  object\n",
            " 4   title            26790 non-null  object\n",
            " 5   also_buy         26790 non-null  object\n",
            " 6   tech2            26790 non-null  object\n",
            " 7   brand            26790 non-null  object\n",
            " 8   feature          26790 non-null  object\n",
            " 9   rank             26790 non-null  object\n",
            " 10  also_view        26790 non-null  object\n",
            " 11  main_cat         26790 non-null  object\n",
            " 12  similar_item     26790 non-null  object\n",
            " 13  date             26790 non-null  object\n",
            " 14  price            26790 non-null  object\n",
            " 15  asin             26790 non-null  object\n",
            " 16  imageURL         26790 non-null  object\n",
            " 17  imageURLHighRes  26790 non-null  object\n",
            " 18  details          25938 non-null  object\n",
            "dtypes: object(19)\n",
            "memory usage: 3.9+ MB\n"
          ]
        }
      ]
    },
    {
      "cell_type": "code",
      "source": [
        "meta_software.main_cat.value_counts()"
      ],
      "metadata": {
        "colab": {
          "base_uri": "https://localhost:8080/"
        },
        "id": "HhZfYo__pXC9",
        "outputId": "15bfc85c-aa48-4e2f-bd45-70e9f316bed9"
      },
      "execution_count": 19,
      "outputs": [
        {
          "output_type": "execute_result",
          "data": {
            "text/plain": [
              "Software                                                                                                                                                                      23771\n",
              "Video Games                                                                                                                                                                    1373\n",
              "All Electronics                                                                                                                                                                 282\n",
              "Cell Phones & Accessories                                                                                                                                                       203\n",
              "Office Products                                                                                                                                                                 203\n",
              "Musical Instruments                                                                                                                                                             150\n",
              "Books                                                                                                                                                                           143\n",
              "Toys & Games                                                                                                                                                                     83\n",
              "Computers                                                                                                                                                                        79\n",
              "Cell Phones &amp; Accessories                                                                                                                                                    73\n",
              "Movies & TV                                                                                                                                                                      71\n",
              "                                                                                                                                                                                 50\n",
              "GPS & Navigation                                                                                                                                                                 36\n",
              "Home Audio & Theater                                                                                                                                                             31\n",
              "Sports & Outdoors                                                                                                                                                                30\n",
              "Camera & Photo                                                                                                                                                                   26\n",
              "Amazon Home                                                                                                                                                                      26\n",
              "Industrial & Scientific                                                                                                                                                          22\n",
              "Arts, Crafts & Sewing                                                                                                                                                            14\n",
              "Movies &amp; TV                                                                                                                                                                  13\n",
              "<img src=\"https://images-na.ssl-images-amazon.com/images/G/01/digital/music/logos/amzn_music_logo_subnav._CB471835632_.png\" class=\"nav-categ-image\" alt=\"Digital Music\"/>        12\n",
              "Automotive                                                                                                                                                                       12\n",
              "Toys &amp; Games                                                                                                                                                                 12\n",
              "Health & Personal Care                                                                                                                                                           11\n",
              "<img src=\"https://images-na.ssl-images-amazon.com/images/G/01/nav2/images/gui/amazon-fashion-store-new._CB520838675_.png\" class=\"nav-categ-image\" alt=\"AMAZON FASHION\"/>         10\n",
              "Baby                                                                                                                                                                              8\n",
              "Pet Supplies                                                                                                                                                                      7\n",
              "Home Audio &amp; Theater                                                                                                                                                          7\n",
              "Tools & Home Improvement                                                                                                                                                          6\n",
              "Health &amp; Personal Care                                                                                                                                                        3\n",
              "Car Electronics                                                                                                                                                                   3\n",
              "Sports &amp; Outdoors                                                                                                                                                             3\n",
              "All Beauty                                                                                                                                                                        2\n",
              "Portable Audio & Accessories                                                                                                                                                      2\n",
              "Tools &amp; Home Improvement                                                                                                                                                      2\n",
              "Arts, Crafts &amp; Sewing                                                                                                                                                         2\n",
              "GPS &amp; Navigation                                                                                                                                                              2\n",
              "Camera &amp; Photo                                                                                                                                                                2\n",
              "<img src=\"https://m.media-amazon.com/images/G/01/digital/music/logos/amzn_music_logo_subnav._CB471835632_.png\" class=\"nav-categ-image\" alt=\"Digital Music\"/>                      1\n",
              "Audible Audiobooks                                                                                                                                                                1\n",
              "Industrial &amp; Scientific                                                                                                                                                       1\n",
              "<img src=\"https://images-na.ssl-images-amazon.com/images/G/01/digital/music/logos/amzn_music_logo_subnav._CB471835632_.png\" class=\"nav-categ-image\" alt=\"Digital Music\" />        1\n",
              "Grocery                                                                                                                                                                           1\n",
              "Name: main_cat, dtype: int64"
            ]
          },
          "metadata": {},
          "execution_count": 19
        }
      ]
    },
    {
      "cell_type": "code",
      "source": [
        "import pandas as pd\n",
        "\n",
        "metagameslink = \"http://deepyeti.ucsd.edu/jianmo/amazon/metaFiles2/meta_Video_Games.json.gz\"\n",
        "meta_games = pd.read_json(metagameslink, lines = True)\n",
        "meta_games.info()"
      ],
      "metadata": {
        "colab": {
          "base_uri": "https://localhost:8080/"
        },
        "id": "Ni3od_BAprTh",
        "outputId": "4a5f466e-7c36-48e6-fafe-1b6d345a4745"
      },
      "execution_count": 2,
      "outputs": [
        {
          "output_type": "stream",
          "name": "stdout",
          "text": [
            "<class 'pandas.core.frame.DataFrame'>\n",
            "RangeIndex: 84819 entries, 0 to 84818\n",
            "Data columns (total 19 columns):\n",
            " #   Column           Non-Null Count  Dtype \n",
            "---  ------           --------------  ----- \n",
            " 0   category         84819 non-null  object\n",
            " 1   tech1            84819 non-null  object\n",
            " 2   description      84819 non-null  object\n",
            " 3   fit              84819 non-null  object\n",
            " 4   title            84819 non-null  object\n",
            " 5   also_buy         84819 non-null  object\n",
            " 6   tech2            84819 non-null  object\n",
            " 7   brand            84819 non-null  object\n",
            " 8   feature          84819 non-null  object\n",
            " 9   rank             84819 non-null  object\n",
            " 10  also_view        84819 non-null  object\n",
            " 11  main_cat         84819 non-null  object\n",
            " 12  similar_item     84819 non-null  object\n",
            " 13  date             84819 non-null  object\n",
            " 14  price            84819 non-null  object\n",
            " 15  asin             84819 non-null  object\n",
            " 16  imageURL         84819 non-null  object\n",
            " 17  imageURLHighRes  84819 non-null  object\n",
            " 18  details          84712 non-null  object\n",
            "dtypes: object(19)\n",
            "memory usage: 12.3+ MB\n"
          ]
        }
      ]
    },
    {
      "cell_type": "code",
      "source": [
        "meta_games.title"
      ],
      "metadata": {
        "colab": {
          "base_uri": "https://localhost:8080/"
        },
        "id": "mLwKwm-Vriwe",
        "outputId": "2c675963-9218-48d6-b28e-cf9baa98ba1f"
      },
      "execution_count": 3,
      "outputs": [
        {
          "output_type": "execute_result",
          "data": {
            "text/plain": [
              "0                               Reversi Sensory Challenger\n",
              "1        Medal of Honor: Warfighter - Includes Battlefi...\n",
              "2        street fighter 2 II turbo super nintendo snes ...\n",
              "3                                       Xbox 360 MAS STICK\n",
              "4                            Phonics Alive! 3: The Speller\n",
              "                               ...                        \n",
              "84814    Lego Star Wars: The Force Awakens - PS Vita [D...\n",
              "84815    Lego Star Wars: The Force Awakens  Season Pass...\n",
              "84816                The Technomancer - PS4 [Digital Code]\n",
              "84817    Repair T8 T6 Tools for XBOX One Xbox 360, YTTL...\n",
              "84818    Zelotes 4000 DPI Programmable Gaming Mouse for...\n",
              "Name: title, Length: 84819, dtype: object"
            ]
          },
          "metadata": {},
          "execution_count": 3
        }
      ]
    },
    {
      "cell_type": "code",
      "source": [
        ""
      ],
      "metadata": {
        "id": "YzOX0ns9vgTg"
      },
      "execution_count": null,
      "outputs": []
    }
  ]
}