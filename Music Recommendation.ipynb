{
  "nbformat": 4,
  "nbformat_minor": 0,
  "metadata": {
    "colab": {
      "name": "Tutorial.ipynb",
      "provenance": [],
      "collapsed_sections": [],
      "include_colab_link": true
    },
    "kernelspec": {
      "display_name": "Python 3",
      "name": "python3"
    },
    "language_info": {
      "name": "python"
    },
    "accelerator": "GPU",
    "widgets": {
      "application/vnd.jupyter.widget-state+json": {
        "b19f50e1752546b683a35d56a8fc2e57": {
          "model_module": "@jupyter-widgets/controls",
          "model_name": "HBoxModel",
          "model_module_version": "1.5.0",
          "state": {
            "_dom_classes": [],
            "_model_module": "@jupyter-widgets/controls",
            "_model_module_version": "1.5.0",
            "_model_name": "HBoxModel",
            "_view_count": null,
            "_view_module": "@jupyter-widgets/controls",
            "_view_module_version": "1.5.0",
            "_view_name": "HBoxView",
            "box_style": "",
            "children": [
              "IPY_MODEL_c71635d50a8b424b836b9fb128cf5779",
              "IPY_MODEL_5ea6842a867b428b83ae368b5524e70c",
              "IPY_MODEL_24453199f58f41da83b330d262199605"
            ],
            "layout": "IPY_MODEL_62ed91b1951d49d483cdee8113728a49"
          }
        },
        "c71635d50a8b424b836b9fb128cf5779": {
          "model_module": "@jupyter-widgets/controls",
          "model_name": "HTMLModel",
          "model_module_version": "1.5.0",
          "state": {
            "_dom_classes": [],
            "_model_module": "@jupyter-widgets/controls",
            "_model_module_version": "1.5.0",
            "_model_name": "HTMLModel",
            "_view_count": null,
            "_view_module": "@jupyter-widgets/controls",
            "_view_module_version": "1.5.0",
            "_view_name": "HTMLView",
            "description": "",
            "description_tooltip": null,
            "layout": "IPY_MODEL_e5cc7b685df24ee9bcef74e0988e8ed2",
            "placeholder": "​",
            "style": "IPY_MODEL_6e7bd6d6822b422b853c7b2c1725012a",
            "value": " 16%"
          }
        },
        "5ea6842a867b428b83ae368b5524e70c": {
          "model_module": "@jupyter-widgets/controls",
          "model_name": "FloatProgressModel",
          "model_module_version": "1.5.0",
          "state": {
            "_dom_classes": [],
            "_model_module": "@jupyter-widgets/controls",
            "_model_module_version": "1.5.0",
            "_model_name": "FloatProgressModel",
            "_view_count": null,
            "_view_module": "@jupyter-widgets/controls",
            "_view_module_version": "1.5.0",
            "_view_name": "ProgressView",
            "bar_style": "",
            "description": "",
            "description_tooltip": null,
            "layout": "IPY_MODEL_8242f7a05fd5497293fd8d881b8b66b9",
            "max": 50,
            "min": 0,
            "orientation": "horizontal",
            "style": "IPY_MODEL_1310aa9b5b5542da95f92ebef4cbb87a",
            "value": 8
          }
        },
        "24453199f58f41da83b330d262199605": {
          "model_module": "@jupyter-widgets/controls",
          "model_name": "HTMLModel",
          "model_module_version": "1.5.0",
          "state": {
            "_dom_classes": [],
            "_model_module": "@jupyter-widgets/controls",
            "_model_module_version": "1.5.0",
            "_model_name": "HTMLModel",
            "_view_count": null,
            "_view_module": "@jupyter-widgets/controls",
            "_view_module_version": "1.5.0",
            "_view_name": "HTMLView",
            "description": "",
            "description_tooltip": null,
            "layout": "IPY_MODEL_3ded24b87123406294b0c85bd61df6d7",
            "placeholder": "​",
            "style": "IPY_MODEL_8d75474edc9f42de8042a7b15a855542",
            "value": " 8/50 [13:45&lt;1:12:03, 102.95s/it]"
          }
        },
        "62ed91b1951d49d483cdee8113728a49": {
          "model_module": "@jupyter-widgets/base",
          "model_name": "LayoutModel",
          "model_module_version": "1.2.0",
          "state": {
            "_model_module": "@jupyter-widgets/base",
            "_model_module_version": "1.2.0",
            "_model_name": "LayoutModel",
            "_view_count": null,
            "_view_module": "@jupyter-widgets/base",
            "_view_module_version": "1.2.0",
            "_view_name": "LayoutView",
            "align_content": null,
            "align_items": null,
            "align_self": null,
            "border": null,
            "bottom": null,
            "display": null,
            "flex": null,
            "flex_flow": null,
            "grid_area": null,
            "grid_auto_columns": null,
            "grid_auto_flow": null,
            "grid_auto_rows": null,
            "grid_column": null,
            "grid_gap": null,
            "grid_row": null,
            "grid_template_areas": null,
            "grid_template_columns": null,
            "grid_template_rows": null,
            "height": null,
            "justify_content": null,
            "justify_items": null,
            "left": null,
            "margin": null,
            "max_height": null,
            "max_width": null,
            "min_height": null,
            "min_width": null,
            "object_fit": null,
            "object_position": null,
            "order": null,
            "overflow": null,
            "overflow_x": null,
            "overflow_y": null,
            "padding": null,
            "right": null,
            "top": null,
            "visibility": null,
            "width": null
          }
        },
        "e5cc7b685df24ee9bcef74e0988e8ed2": {
          "model_module": "@jupyter-widgets/base",
          "model_name": "LayoutModel",
          "model_module_version": "1.2.0",
          "state": {
            "_model_module": "@jupyter-widgets/base",
            "_model_module_version": "1.2.0",
            "_model_name": "LayoutModel",
            "_view_count": null,
            "_view_module": "@jupyter-widgets/base",
            "_view_module_version": "1.2.0",
            "_view_name": "LayoutView",
            "align_content": null,
            "align_items": null,
            "align_self": null,
            "border": null,
            "bottom": null,
            "display": null,
            "flex": null,
            "flex_flow": null,
            "grid_area": null,
            "grid_auto_columns": null,
            "grid_auto_flow": null,
            "grid_auto_rows": null,
            "grid_column": null,
            "grid_gap": null,
            "grid_row": null,
            "grid_template_areas": null,
            "grid_template_columns": null,
            "grid_template_rows": null,
            "height": null,
            "justify_content": null,
            "justify_items": null,
            "left": null,
            "margin": null,
            "max_height": null,
            "max_width": null,
            "min_height": null,
            "min_width": null,
            "object_fit": null,
            "object_position": null,
            "order": null,
            "overflow": null,
            "overflow_x": null,
            "overflow_y": null,
            "padding": null,
            "right": null,
            "top": null,
            "visibility": null,
            "width": null
          }
        },
        "6e7bd6d6822b422b853c7b2c1725012a": {
          "model_module": "@jupyter-widgets/controls",
          "model_name": "DescriptionStyleModel",
          "model_module_version": "1.5.0",
          "state": {
            "_model_module": "@jupyter-widgets/controls",
            "_model_module_version": "1.5.0",
            "_model_name": "DescriptionStyleModel",
            "_view_count": null,
            "_view_module": "@jupyter-widgets/base",
            "_view_module_version": "1.2.0",
            "_view_name": "StyleView",
            "description_width": ""
          }
        },
        "8242f7a05fd5497293fd8d881b8b66b9": {
          "model_module": "@jupyter-widgets/base",
          "model_name": "LayoutModel",
          "model_module_version": "1.2.0",
          "state": {
            "_model_module": "@jupyter-widgets/base",
            "_model_module_version": "1.2.0",
            "_model_name": "LayoutModel",
            "_view_count": null,
            "_view_module": "@jupyter-widgets/base",
            "_view_module_version": "1.2.0",
            "_view_name": "LayoutView",
            "align_content": null,
            "align_items": null,
            "align_self": null,
            "border": null,
            "bottom": null,
            "display": null,
            "flex": null,
            "flex_flow": null,
            "grid_area": null,
            "grid_auto_columns": null,
            "grid_auto_flow": null,
            "grid_auto_rows": null,
            "grid_column": null,
            "grid_gap": null,
            "grid_row": null,
            "grid_template_areas": null,
            "grid_template_columns": null,
            "grid_template_rows": null,
            "height": null,
            "justify_content": null,
            "justify_items": null,
            "left": null,
            "margin": null,
            "max_height": null,
            "max_width": null,
            "min_height": null,
            "min_width": null,
            "object_fit": null,
            "object_position": null,
            "order": null,
            "overflow": null,
            "overflow_x": null,
            "overflow_y": null,
            "padding": null,
            "right": null,
            "top": null,
            "visibility": null,
            "width": null
          }
        },
        "1310aa9b5b5542da95f92ebef4cbb87a": {
          "model_module": "@jupyter-widgets/controls",
          "model_name": "ProgressStyleModel",
          "model_module_version": "1.5.0",
          "state": {
            "_model_module": "@jupyter-widgets/controls",
            "_model_module_version": "1.5.0",
            "_model_name": "ProgressStyleModel",
            "_view_count": null,
            "_view_module": "@jupyter-widgets/base",
            "_view_module_version": "1.2.0",
            "_view_name": "StyleView",
            "bar_color": null,
            "description_width": ""
          }
        },
        "3ded24b87123406294b0c85bd61df6d7": {
          "model_module": "@jupyter-widgets/base",
          "model_name": "LayoutModel",
          "model_module_version": "1.2.0",
          "state": {
            "_model_module": "@jupyter-widgets/base",
            "_model_module_version": "1.2.0",
            "_model_name": "LayoutModel",
            "_view_count": null,
            "_view_module": "@jupyter-widgets/base",
            "_view_module_version": "1.2.0",
            "_view_name": "LayoutView",
            "align_content": null,
            "align_items": null,
            "align_self": null,
            "border": null,
            "bottom": null,
            "display": null,
            "flex": null,
            "flex_flow": null,
            "grid_area": null,
            "grid_auto_columns": null,
            "grid_auto_flow": null,
            "grid_auto_rows": null,
            "grid_column": null,
            "grid_gap": null,
            "grid_row": null,
            "grid_template_areas": null,
            "grid_template_columns": null,
            "grid_template_rows": null,
            "height": null,
            "justify_content": null,
            "justify_items": null,
            "left": null,
            "margin": null,
            "max_height": null,
            "max_width": null,
            "min_height": null,
            "min_width": null,
            "object_fit": null,
            "object_position": null,
            "order": null,
            "overflow": null,
            "overflow_x": null,
            "overflow_y": null,
            "padding": null,
            "right": null,
            "top": null,
            "visibility": null,
            "width": null
          }
        },
        "8d75474edc9f42de8042a7b15a855542": {
          "model_module": "@jupyter-widgets/controls",
          "model_name": "DescriptionStyleModel",
          "model_module_version": "1.5.0",
          "state": {
            "_model_module": "@jupyter-widgets/controls",
            "_model_module_version": "1.5.0",
            "_model_name": "DescriptionStyleModel",
            "_view_count": null,
            "_view_module": "@jupyter-widgets/base",
            "_view_module_version": "1.2.0",
            "_view_name": "StyleView",
            "description_width": ""
          }
        }
      }
    }
  },
  "cells": [
    {
      "cell_type": "markdown",
      "metadata": {
        "id": "view-in-github",
        "colab_type": "text"
      },
      "source": [
        "<a href=\"https://colab.research.google.com/github/mequanent/Music-Recommendation-Exercises/blob/main/Music%20Recommendation.ipynb\" target=\"_parent\"><img src=\"https://colab.research.google.com/assets/colab-badge.svg\" alt=\"Open In Colab\"/></a>"
      ]
    },
    {
      "cell_type": "markdown",
      "metadata": {
        "id": "NcHNFEcWJOuf"
      },
      "source": [
        "# Trying a Music Recommendation Project"
      ]
    },
    {
      "cell_type": "code",
      "source": [
        "!pip install matplotlib==3.5.0 -q# Need to restart the kernel"
      ],
      "metadata": {
        "colab": {
          "base_uri": "https://localhost:8080/"
        },
        "id": "mGmLimttpdhF",
        "outputId": "58263bb0-98d4-4bd4-afc9-7202ff3e2287"
      },
      "execution_count": 1,
      "outputs": [
        {
          "output_type": "stream",
          "name": "stdout",
          "text": [
            "\n",
            "Usage:   \n",
            "  pip3 install [options] <requirement specifier> [package-index-options] ...\n",
            "  pip3 install [options] -r <requirements file> [package-index-options] ...\n",
            "  pip3 install [options] [-e] <vcs project url> ...\n",
            "  pip3 install [options] [-e] <local project path> ...\n",
            "  pip3 install [options] <archive url/path> ...\n",
            "\n",
            "no such option: -#\n"
          ]
        }
      ]
    },
    {
      "cell_type": "code",
      "source": [
        "!pip install sklearn -q"
      ],
      "metadata": {
        "id": "eRupmq-OrTdE"
      },
      "execution_count": 2,
      "outputs": []
    },
    {
      "cell_type": "code",
      "source": [
        "# This cell is modified from: https://gist.github.com/ameya98/b193856171d11d37ada46458f60e73e7\n",
        "# To install the correct version of Pytorch Geometric.\n",
        "import torch\n",
        "\n",
        "TORCH_version = torch.__version__\n",
        "CUDA_version = torch.version.cuda\n",
        "\n",
        "TORCH = TORCH_version.split('+')[0]\n",
        "CUDA = 'cu' + CUDA_version.replace('.', '')\n",
        "\n",
        "!pip install -q torch-scatter     -f https://pytorch-geometric.com/whl/torch-{TORCH}+{CUDA}.html\n",
        "!pip install -q torch-sparse      -f https://pytorch-geometric.com/whl/torch-{TORCH}+{CUDA}.html\n",
        "!pip install -q torch-cluster     -f https://pytorch-geometric.com/whl/torch-{TORCH}+{CUDA}.html\n",
        "!pip install -q torch-spline-conv -f https://pytorch-geometric.com/whl/torch-{TORCH}+{CUDA}.html\n",
        "!pip install -q torch-geometric "
      ],
      "metadata": {
        "id": "yzuoVFe5z7xa",
        "outputId": "56af14ab-334a-4bc7-e5ff-b7db3f5ed734",
        "colab": {
          "base_uri": "https://localhost:8080/"
        }
      },
      "execution_count": 3,
      "outputs": [
        {
          "output_type": "stream",
          "name": "stdout",
          "text": [
            "\u001b[K     |████████████████████████████████| 7.9 MB 41.9 MB/s \n",
            "\u001b[K     |████████████████████████████████| 3.5 MB 35.9 MB/s \n",
            "\u001b[K     |████████████████████████████████| 2.5 MB 31.1 MB/s \n",
            "\u001b[K     |████████████████████████████████| 750 kB 17.4 MB/s \n",
            "\u001b[K     |████████████████████████████████| 407 kB 16.8 MB/s \n",
            "\u001b[?25h  Building wheel for torch-geometric (setup.py) ... \u001b[?25l\u001b[?25hdone\n"
          ]
        }
      ]
    },
    {
      "cell_type": "code",
      "source": [
        "import collections\n",
        "import math\n",
        "import os\n",
        "import os.path as osp\n",
        "from tqdm import tqdm\n",
        "from typing import List\n",
        "import random\n",
        "import time\n",
        "import zipfile\n",
        "\n",
        "%matplotlib inline\n",
        "import matplotlib.pyplot as plt\n",
        "import numpy as np\n",
        "import pandas as pd\n",
        "pd.options.display.max_rows = 10\n",
        "from sklearn import metrics\n",
        "from tensorly import decomposition\n",
        "\n",
        "import torch\n",
        "from torch.functional import tensordot\n",
        "from torch import nn, optim, Tensor\n",
        "from torch.utils.data import Dataset, DataLoader\n",
        "import torch_geometric\n",
        "from torch_geometric.data import Dataset, Data, download_url, extract_zip\n",
        "from torch_geometric.nn import MessagePassing\n",
        "from torch_geometric.typing import Adj"
      ],
      "metadata": {
        "id": "TfvxiF7ZmhRy"
      },
      "execution_count": null,
      "outputs": []
    },
    {
      "cell_type": "code",
      "source": [
        "# Import libraries\n",
        "import pandas as pd\n",
        "pd.set_option('display.max_colwidth', None)\n",
        "import numpy as np \n",
        "import matplotlib.pyplot as plt\n",
        "from scipy.sparse import csr_matrix\n",
        "from scipy.sparse.dok import dok_matrix\n",
        "import scipy.sparse as sp\n",
        "from sklearn.model_selection import train_test_split\n",
        "from sklearn import preprocessing as prep\n",
        "\n",
        "import torch\n",
        "#import torch_geometric\n",
        "%matplotlib inline "
      ],
      "metadata": {
        "id": "R0L5WIhiVbcB"
      },
      "execution_count": 2,
      "outputs": []
    },
    {
      "cell_type": "code",
      "source": [
        "print(torch.__version__)\n",
        "print(torch.version.cuda)"
      ],
      "metadata": {
        "id": "pgtXDEQppyta"
      },
      "execution_count": null,
      "outputs": []
    },
    {
      "cell_type": "code",
      "source": [
        "source = \"http://deepyeti.ucsd.edu/jianmo/amazon/index.html\" # 2018 version\n",
        "main_source = \"https://nijianmo.github.io/amazon/index.html\"\n",
        "\n",
        "metaurl = \"http://deepyeti.ucsd.edu/jianmo/amazon/metaFiles2/meta_Digital_Music.json.gz\"\n",
        "reviewurl = \"http://deepyeti.ucsd.edu/jianmo/amazon/categoryFiles/Digital_Music.json.gz\"\n",
        "ratingurl = \"http://deepyeti.ucsd.edu/jianmo/amazon/categoryFilesSmall/Digital_Music.csv\"\n",
        "\n",
        "columns = ['asin', 'reviewerID', 'rating', 'reviewTime']\n",
        "rating = pd.read_csv(ratingurl, names=columns, header = None)\n",
        "#meta = pd.read_json(metaurl, lines = True)\n",
        "#review = pd.read_json(reviewurl, lines = True)"
      ],
      "metadata": {
        "id": "OBgzYglpzc9Y"
      },
      "execution_count": 34,
      "outputs": []
    },
    {
      "cell_type": "code",
      "source": [
        "rating.head(3)"
      ],
      "metadata": {
        "colab": {
          "base_uri": "https://localhost:8080/",
          "height": 143
        },
        "id": "f6HsE-DhFOU_",
        "outputId": "b58a193a-4b15-450b-b36a-204a9afcadd5"
      },
      "execution_count": 3,
      "outputs": [
        {
          "output_type": "execute_result",
          "data": {
            "text/plain": [
              "         asin      reviewerID  rating  reviewTime\n",
              "0  0001388703  A1ZCPG3D3HGRSS     5.0  1387670400\n",
              "1  0001388703   AC2PL52NKPL29     5.0  1378857600\n",
              "2  0001388703  A1SUZXBDZSDQ3A     5.0  1362182400"
            ],
            "text/html": [
              "\n",
              "  <div id=\"df-8d538e02-9f09-4c03-a7d2-2ae14b5a8a6c\">\n",
              "    <div class=\"colab-df-container\">\n",
              "      <div>\n",
              "<style scoped>\n",
              "    .dataframe tbody tr th:only-of-type {\n",
              "        vertical-align: middle;\n",
              "    }\n",
              "\n",
              "    .dataframe tbody tr th {\n",
              "        vertical-align: top;\n",
              "    }\n",
              "\n",
              "    .dataframe thead th {\n",
              "        text-align: right;\n",
              "    }\n",
              "</style>\n",
              "<table border=\"1\" class=\"dataframe\">\n",
              "  <thead>\n",
              "    <tr style=\"text-align: right;\">\n",
              "      <th></th>\n",
              "      <th>asin</th>\n",
              "      <th>reviewerID</th>\n",
              "      <th>rating</th>\n",
              "      <th>reviewTime</th>\n",
              "    </tr>\n",
              "  </thead>\n",
              "  <tbody>\n",
              "    <tr>\n",
              "      <th>0</th>\n",
              "      <td>0001388703</td>\n",
              "      <td>A1ZCPG3D3HGRSS</td>\n",
              "      <td>5.0</td>\n",
              "      <td>1387670400</td>\n",
              "    </tr>\n",
              "    <tr>\n",
              "      <th>1</th>\n",
              "      <td>0001388703</td>\n",
              "      <td>AC2PL52NKPL29</td>\n",
              "      <td>5.0</td>\n",
              "      <td>1378857600</td>\n",
              "    </tr>\n",
              "    <tr>\n",
              "      <th>2</th>\n",
              "      <td>0001388703</td>\n",
              "      <td>A1SUZXBDZSDQ3A</td>\n",
              "      <td>5.0</td>\n",
              "      <td>1362182400</td>\n",
              "    </tr>\n",
              "  </tbody>\n",
              "</table>\n",
              "</div>\n",
              "      <button class=\"colab-df-convert\" onclick=\"convertToInteractive('df-8d538e02-9f09-4c03-a7d2-2ae14b5a8a6c')\"\n",
              "              title=\"Convert this dataframe to an interactive table.\"\n",
              "              style=\"display:none;\">\n",
              "        \n",
              "  <svg xmlns=\"http://www.w3.org/2000/svg\" height=\"24px\"viewBox=\"0 0 24 24\"\n",
              "       width=\"24px\">\n",
              "    <path d=\"M0 0h24v24H0V0z\" fill=\"none\"/>\n",
              "    <path d=\"M18.56 5.44l.94 2.06.94-2.06 2.06-.94-2.06-.94-.94-2.06-.94 2.06-2.06.94zm-11 1L8.5 8.5l.94-2.06 2.06-.94-2.06-.94L8.5 2.5l-.94 2.06-2.06.94zm10 10l.94 2.06.94-2.06 2.06-.94-2.06-.94-.94-2.06-.94 2.06-2.06.94z\"/><path d=\"M17.41 7.96l-1.37-1.37c-.4-.4-.92-.59-1.43-.59-.52 0-1.04.2-1.43.59L10.3 9.45l-7.72 7.72c-.78.78-.78 2.05 0 2.83L4 21.41c.39.39.9.59 1.41.59.51 0 1.02-.2 1.41-.59l7.78-7.78 2.81-2.81c.8-.78.8-2.07 0-2.86zM5.41 20L4 18.59l7.72-7.72 1.47 1.35L5.41 20z\"/>\n",
              "  </svg>\n",
              "      </button>\n",
              "      \n",
              "  <style>\n",
              "    .colab-df-container {\n",
              "      display:flex;\n",
              "      flex-wrap:wrap;\n",
              "      gap: 12px;\n",
              "    }\n",
              "\n",
              "    .colab-df-convert {\n",
              "      background-color: #E8F0FE;\n",
              "      border: none;\n",
              "      border-radius: 50%;\n",
              "      cursor: pointer;\n",
              "      display: none;\n",
              "      fill: #1967D2;\n",
              "      height: 32px;\n",
              "      padding: 0 0 0 0;\n",
              "      width: 32px;\n",
              "    }\n",
              "\n",
              "    .colab-df-convert:hover {\n",
              "      background-color: #E2EBFA;\n",
              "      box-shadow: 0px 1px 2px rgba(60, 64, 67, 0.3), 0px 1px 3px 1px rgba(60, 64, 67, 0.15);\n",
              "      fill: #174EA6;\n",
              "    }\n",
              "\n",
              "    [theme=dark] .colab-df-convert {\n",
              "      background-color: #3B4455;\n",
              "      fill: #D2E3FC;\n",
              "    }\n",
              "\n",
              "    [theme=dark] .colab-df-convert:hover {\n",
              "      background-color: #434B5C;\n",
              "      box-shadow: 0px 1px 3px 1px rgba(0, 0, 0, 0.15);\n",
              "      filter: drop-shadow(0px 1px 2px rgba(0, 0, 0, 0.3));\n",
              "      fill: #FFFFFF;\n",
              "    }\n",
              "  </style>\n",
              "\n",
              "      <script>\n",
              "        const buttonEl =\n",
              "          document.querySelector('#df-8d538e02-9f09-4c03-a7d2-2ae14b5a8a6c button.colab-df-convert');\n",
              "        buttonEl.style.display =\n",
              "          google.colab.kernel.accessAllowed ? 'block' : 'none';\n",
              "\n",
              "        async function convertToInteractive(key) {\n",
              "          const element = document.querySelector('#df-8d538e02-9f09-4c03-a7d2-2ae14b5a8a6c');\n",
              "          const dataTable =\n",
              "            await google.colab.kernel.invokeFunction('convertToInteractive',\n",
              "                                                     [key], {});\n",
              "          if (!dataTable) return;\n",
              "\n",
              "          const docLinkHtml = 'Like what you see? Visit the ' +\n",
              "            '<a target=\"_blank\" href=https://colab.research.google.com/notebooks/data_table.ipynb>data table notebook</a>'\n",
              "            + ' to learn more about interactive tables.';\n",
              "          element.innerHTML = '';\n",
              "          dataTable['output_type'] = 'display_data';\n",
              "          await google.colab.output.renderOutput(dataTable, element);\n",
              "          const docLink = document.createElement('div');\n",
              "          docLink.innerHTML = docLinkHtml;\n",
              "          element.appendChild(docLink);\n",
              "        }\n",
              "      </script>\n",
              "    </div>\n",
              "  </div>\n",
              "  "
            ]
          },
          "metadata": {},
          "execution_count": 3
        }
      ]
    },
    {
      "cell_type": "code",
      "source": [
        "#rating = rating.sample(frac=0.1, replace=True, random_state=1)\n",
        "a = rating['reviewerID'].value_counts().index.tolist()[:1000] # Sample the most frequent reviewers\n",
        "b = rating.loc[rating['reviewerID'].isin(a)]\n",
        "d = b['asin'].value_counts().index.tolist()[:1000] # Sample the most frequent reviewers\n",
        "c = b.loc[rating['asin'].isin(d)]\n",
        "c.asin.value_counts()"
      ],
      "metadata": {
        "id": "02ItbWQt1nfK"
      },
      "execution_count": null,
      "outputs": []
    },
    {
      "cell_type": "code",
      "source": [
        "# Sample users and items having frequencies greater than a threshold, 15\n",
        "a = rating['reviewerID'].value_counts()\n",
        "b = rating['asin'].value_counts()\n",
        "col1, col2, thresh = 'reviewerID', 'asin', 425 \n",
        "#A = [x for x in a.index if a[x]> thresh]\n",
        "B = [x for x in b.index if b[x]> thresh]\n",
        "#rating = rating.loc[(rating[col1].isin(A)) & (rating[col2].isin(B))]\n",
        "#g = rating.loc[(rating[col1].isin(A))] #& (rating[col2].isin(B))]\n",
        "g = rating.loc[(rating[col2].isin(B))]\n",
        "g.shape"
      ],
      "metadata": {
        "colab": {
          "base_uri": "https://localhost:8080/"
        },
        "id": "GDl2pYBXC2N-",
        "outputId": "50f59c9c-50d3-4f19-8bbd-ec8a92e3ed13"
      },
      "execution_count": 45,
      "outputs": [
        {
          "output_type": "execute_result",
          "data": {
            "text/plain": [
              "(107495, 4)"
            ]
          },
          "metadata": {},
          "execution_count": 45
        }
      ]
    },
    {
      "cell_type": "code",
      "source": [
        "rating = g"
      ],
      "metadata": {
        "id": "beTJMq7Sfs06"
      },
      "execution_count": 46,
      "outputs": []
    },
    {
      "cell_type": "code",
      "source": [
        "#Create the rating matrix\n",
        "rating['reviewerID'] = rating['reviewerID'].astype('category')\n",
        "rating['asin'] = rating['asin'].astype('category')\n",
        "R = csr_matrix((rating['rating'].values, (rating['reviewerID'].cat.codes, rating['asin'].cat.codes)))"
      ],
      "metadata": {
        "id": "hyBG7BfjULDz"
      },
      "execution_count": null,
      "outputs": []
    },
    {
      "cell_type": "code",
      "source": [
        "R.shape[1]"
      ],
      "metadata": {
        "colab": {
          "base_uri": "https://localhost:8080/"
        },
        "id": "AJE3SheVVNh5",
        "outputId": "77bb9d87-5685-467c-d054-801e11b4741b"
      },
      "execution_count": null,
      "outputs": [
        {
          "output_type": "execute_result",
          "data": {
            "text/plain": [
              "456992"
            ]
          },
          "metadata": {},
          "execution_count": 9
        }
      ]
    },
    {
      "cell_type": "code",
      "source": [
        "# \n",
        "# Convert a sparse numpy object to a sparse pytorch tensor.\n",
        "def to_sparse_tensor(X):\n",
        "  \"\"\"\n",
        "  \n",
        "  Note that the tensor does not yet live on the GPU\n",
        "  \"\"\"\n",
        "  coo = X.tocoo().astype(np.float32)\n",
        "  i = torch.LongTensor(np.mat((coo.row, coo.col)))\n",
        "  v = torch.FloatTensor(coo.data)\n",
        "  return torch.sparse.FloatTensor(i, v, coo.shape)"
      ],
      "metadata": {
        "id": "FDzmpkG8V830"
      },
      "execution_count": null,
      "outputs": []
    },
    {
      "cell_type": "code",
      "source": [
        "r = to_sparse_tensor(R)"
      ],
      "metadata": {
        "id": "kcdAiYr8V8RL"
      },
      "execution_count": null,
      "outputs": []
    },
    {
      "cell_type": "code",
      "source": [
        "r"
      ],
      "metadata": {
        "id": "5SXmkyVJWOPK",
        "outputId": "9002810a-83fa-4900-8720-5bdb57ad053c",
        "colab": {
          "base_uri": "https://localhost:8080/"
        }
      },
      "execution_count": null,
      "outputs": [
        {
          "output_type": "execute_result",
          "data": {
            "text/plain": [
              "tensor(indices=tensor([[ 18381,  54293,  84418,  ..., 397627, 630527, 482209],\n",
              "                       [     0,      0,      0,  ..., 456990, 456990, 456991]]),\n",
              "       values=tensor([5., 5., 5.,  ..., 5., 5., 5.]),\n",
              "       size=(840372, 456992), nnz=1516551, layout=torch.sparse_coo)"
            ]
          },
          "metadata": {},
          "execution_count": 9
        }
      ]
    },
    {
      "cell_type": "code",
      "source": [
        "rating.groupby(['rating'])['rating'].count() # Rating Distribution\n",
        "rating['rating'].value_counts()"
      ],
      "metadata": {
        "id": "8g9nonEvXCqc",
        "outputId": "7edf3e95-5343-4248-8f70-773274fc8ca1",
        "colab": {
          "base_uri": "https://localhost:8080/"
        }
      },
      "execution_count": null,
      "outputs": [
        {
          "output_type": "execute_result",
          "data": {
            "text/plain": [
              "5.0    1280147\n",
              "4.0     179929\n",
              "3.0      57347\n",
              "1.0      43108\n",
              "2.0      23551\n",
              "Name: rating, dtype: int64"
            ]
          },
          "metadata": {},
          "execution_count": 14
        }
      ]
    },
    {
      "cell_type": "code",
      "source": [
        "# If want to ignore ratings, e.g. < 3\n",
        "rating = rating[rating['rating'] < 4]\n",
        "rating.rating.value_counts()"
      ],
      "metadata": {
        "id": "PpYpW_YoSzhc",
        "outputId": "0d7f2df7-7201-46d1-fc7f-c62ed30ace9c",
        "colab": {
          "base_uri": "https://localhost:8080/"
        }
      },
      "execution_count": 44,
      "outputs": [
        {
          "output_type": "execute_result",
          "data": {
            "text/plain": [
              "3.0    57347\n",
              "1.0    43108\n",
              "2.0    23551\n",
              "Name: rating, dtype: int64"
            ]
          },
          "metadata": {},
          "execution_count": 44
        }
      ]
    },
    {
      "cell_type": "code",
      "source": [
        "train, test = train_test_split(rating.values, test_size = 0.2, random_state = 16)"
      ],
      "metadata": {
        "id": "WpmjPnk4TU5x"
      },
      "execution_count": 47,
      "outputs": []
    },
    {
      "cell_type": "code",
      "source": [
        ""
      ],
      "metadata": {
        "id": "kZqPbwkjg1iE"
      },
      "execution_count": 47,
      "outputs": []
    },
    {
      "cell_type": "code",
      "source": [
        "train = pd.DataFrame(train, columns = rating.columns)\n",
        "test = pd.DataFrame(test, columns = rating.columns)\n",
        "print(len(train), len(test), len(train)+len(test))"
      ],
      "metadata": {
        "id": "4knRWGjRTU2k",
        "outputId": "c2a6635e-9802-4eeb-bab6-44c6cc0c40f6",
        "colab": {
          "base_uri": "https://localhost:8080/"
        }
      },
      "execution_count": 48,
      "outputs": [
        {
          "output_type": "stream",
          "name": "stdout",
          "text": [
            "85996 21499 107495\n"
          ]
        }
      ]
    },
    {
      "cell_type": "code",
      "source": [
        "train.head(2)"
      ],
      "metadata": {
        "id": "f34IefiLXHgK",
        "outputId": "0f6c2742-59c7-44b9-fe7c-103cb95f44d4",
        "colab": {
          "base_uri": "https://localhost:8080/",
          "height": 112
        }
      },
      "execution_count": 49,
      "outputs": [
        {
          "output_type": "execute_result",
          "data": {
            "text/plain": [
              "         asin      reviewerID rating  reviewTime\n",
              "0  B0092MKTL2  A284Z39SH7BJIC    1.0  1376438400\n",
              "1  B004BRP7R4  A14XZUXGKOVWUC    4.0  1400371200"
            ],
            "text/html": [
              "\n",
              "  <div id=\"df-96309510-6475-40d3-86ff-079ba1577d4e\">\n",
              "    <div class=\"colab-df-container\">\n",
              "      <div>\n",
              "<style scoped>\n",
              "    .dataframe tbody tr th:only-of-type {\n",
              "        vertical-align: middle;\n",
              "    }\n",
              "\n",
              "    .dataframe tbody tr th {\n",
              "        vertical-align: top;\n",
              "    }\n",
              "\n",
              "    .dataframe thead th {\n",
              "        text-align: right;\n",
              "    }\n",
              "</style>\n",
              "<table border=\"1\" class=\"dataframe\">\n",
              "  <thead>\n",
              "    <tr style=\"text-align: right;\">\n",
              "      <th></th>\n",
              "      <th>asin</th>\n",
              "      <th>reviewerID</th>\n",
              "      <th>rating</th>\n",
              "      <th>reviewTime</th>\n",
              "    </tr>\n",
              "  </thead>\n",
              "  <tbody>\n",
              "    <tr>\n",
              "      <th>0</th>\n",
              "      <td>B0092MKTL2</td>\n",
              "      <td>A284Z39SH7BJIC</td>\n",
              "      <td>1.0</td>\n",
              "      <td>1376438400</td>\n",
              "    </tr>\n",
              "    <tr>\n",
              "      <th>1</th>\n",
              "      <td>B004BRP7R4</td>\n",
              "      <td>A14XZUXGKOVWUC</td>\n",
              "      <td>4.0</td>\n",
              "      <td>1400371200</td>\n",
              "    </tr>\n",
              "  </tbody>\n",
              "</table>\n",
              "</div>\n",
              "      <button class=\"colab-df-convert\" onclick=\"convertToInteractive('df-96309510-6475-40d3-86ff-079ba1577d4e')\"\n",
              "              title=\"Convert this dataframe to an interactive table.\"\n",
              "              style=\"display:none;\">\n",
              "        \n",
              "  <svg xmlns=\"http://www.w3.org/2000/svg\" height=\"24px\"viewBox=\"0 0 24 24\"\n",
              "       width=\"24px\">\n",
              "    <path d=\"M0 0h24v24H0V0z\" fill=\"none\"/>\n",
              "    <path d=\"M18.56 5.44l.94 2.06.94-2.06 2.06-.94-2.06-.94-.94-2.06-.94 2.06-2.06.94zm-11 1L8.5 8.5l.94-2.06 2.06-.94-2.06-.94L8.5 2.5l-.94 2.06-2.06.94zm10 10l.94 2.06.94-2.06 2.06-.94-2.06-.94-.94-2.06-.94 2.06-2.06.94z\"/><path d=\"M17.41 7.96l-1.37-1.37c-.4-.4-.92-.59-1.43-.59-.52 0-1.04.2-1.43.59L10.3 9.45l-7.72 7.72c-.78.78-.78 2.05 0 2.83L4 21.41c.39.39.9.59 1.41.59.51 0 1.02-.2 1.41-.59l7.78-7.78 2.81-2.81c.8-.78.8-2.07 0-2.86zM5.41 20L4 18.59l7.72-7.72 1.47 1.35L5.41 20z\"/>\n",
              "  </svg>\n",
              "      </button>\n",
              "      \n",
              "  <style>\n",
              "    .colab-df-container {\n",
              "      display:flex;\n",
              "      flex-wrap:wrap;\n",
              "      gap: 12px;\n",
              "    }\n",
              "\n",
              "    .colab-df-convert {\n",
              "      background-color: #E8F0FE;\n",
              "      border: none;\n",
              "      border-radius: 50%;\n",
              "      cursor: pointer;\n",
              "      display: none;\n",
              "      fill: #1967D2;\n",
              "      height: 32px;\n",
              "      padding: 0 0 0 0;\n",
              "      width: 32px;\n",
              "    }\n",
              "\n",
              "    .colab-df-convert:hover {\n",
              "      background-color: #E2EBFA;\n",
              "      box-shadow: 0px 1px 2px rgba(60, 64, 67, 0.3), 0px 1px 3px 1px rgba(60, 64, 67, 0.15);\n",
              "      fill: #174EA6;\n",
              "    }\n",
              "\n",
              "    [theme=dark] .colab-df-convert {\n",
              "      background-color: #3B4455;\n",
              "      fill: #D2E3FC;\n",
              "    }\n",
              "\n",
              "    [theme=dark] .colab-df-convert:hover {\n",
              "      background-color: #434B5C;\n",
              "      box-shadow: 0px 1px 3px 1px rgba(0, 0, 0, 0.15);\n",
              "      filter: drop-shadow(0px 1px 2px rgba(0, 0, 0, 0.3));\n",
              "      fill: #FFFFFF;\n",
              "    }\n",
              "  </style>\n",
              "\n",
              "      <script>\n",
              "        const buttonEl =\n",
              "          document.querySelector('#df-96309510-6475-40d3-86ff-079ba1577d4e button.colab-df-convert');\n",
              "        buttonEl.style.display =\n",
              "          google.colab.kernel.accessAllowed ? 'block' : 'none';\n",
              "\n",
              "        async function convertToInteractive(key) {\n",
              "          const element = document.querySelector('#df-96309510-6475-40d3-86ff-079ba1577d4e');\n",
              "          const dataTable =\n",
              "            await google.colab.kernel.invokeFunction('convertToInteractive',\n",
              "                                                     [key], {});\n",
              "          if (!dataTable) return;\n",
              "\n",
              "          const docLinkHtml = 'Like what you see? Visit the ' +\n",
              "            '<a target=\"_blank\" href=https://colab.research.google.com/notebooks/data_table.ipynb>data table notebook</a>'\n",
              "            + ' to learn more about interactive tables.';\n",
              "          element.innerHTML = '';\n",
              "          dataTable['output_type'] = 'display_data';\n",
              "          await google.colab.output.renderOutput(dataTable, element);\n",
              "          const docLink = document.createElement('div');\n",
              "          docLink.innerHTML = docLinkHtml;\n",
              "          element.appendChild(docLink);\n",
              "        }\n",
              "      </script>\n",
              "    </div>\n",
              "  </div>\n",
              "  "
            ]
          },
          "metadata": {},
          "execution_count": 49
        }
      ]
    },
    {
      "cell_type": "code",
      "source": [
        "leu = prep.LabelEncoder()\n",
        "lem = prep.LabelEncoder()\n",
        "\n",
        "train['enc_reviewerID'] = leu.fit_transform(train['reviewerID'].values)\n",
        "train['enc_asin'] = lem.fit_transform(train['asin'].values)\n",
        "train.head(2)\n"
      ],
      "metadata": {
        "id": "EsgvpJoLTUwf",
        "outputId": "0c287b00-55e4-47ef-921d-77836eb58ab9",
        "colab": {
          "base_uri": "https://localhost:8080/",
          "height": 112
        }
      },
      "execution_count": 50,
      "outputs": [
        {
          "output_type": "execute_result",
          "data": {
            "text/plain": [
              "         asin      reviewerID rating  reviewTime  enc_reviewerID  enc_asin\n",
              "0  B0092MKTL2  A284Z39SH7BJIC    1.0  1376438400           25046        42\n",
              "1  B004BRP7R4  A14XZUXGKOVWUC    4.0  1400371200            2910        31"
            ],
            "text/html": [
              "\n",
              "  <div id=\"df-2df73a4a-4dc5-40e0-89ba-f96eb1369985\">\n",
              "    <div class=\"colab-df-container\">\n",
              "      <div>\n",
              "<style scoped>\n",
              "    .dataframe tbody tr th:only-of-type {\n",
              "        vertical-align: middle;\n",
              "    }\n",
              "\n",
              "    .dataframe tbody tr th {\n",
              "        vertical-align: top;\n",
              "    }\n",
              "\n",
              "    .dataframe thead th {\n",
              "        text-align: right;\n",
              "    }\n",
              "</style>\n",
              "<table border=\"1\" class=\"dataframe\">\n",
              "  <thead>\n",
              "    <tr style=\"text-align: right;\">\n",
              "      <th></th>\n",
              "      <th>asin</th>\n",
              "      <th>reviewerID</th>\n",
              "      <th>rating</th>\n",
              "      <th>reviewTime</th>\n",
              "      <th>enc_reviewerID</th>\n",
              "      <th>enc_asin</th>\n",
              "    </tr>\n",
              "  </thead>\n",
              "  <tbody>\n",
              "    <tr>\n",
              "      <th>0</th>\n",
              "      <td>B0092MKTL2</td>\n",
              "      <td>A284Z39SH7BJIC</td>\n",
              "      <td>1.0</td>\n",
              "      <td>1376438400</td>\n",
              "      <td>25046</td>\n",
              "      <td>42</td>\n",
              "    </tr>\n",
              "    <tr>\n",
              "      <th>1</th>\n",
              "      <td>B004BRP7R4</td>\n",
              "      <td>A14XZUXGKOVWUC</td>\n",
              "      <td>4.0</td>\n",
              "      <td>1400371200</td>\n",
              "      <td>2910</td>\n",
              "      <td>31</td>\n",
              "    </tr>\n",
              "  </tbody>\n",
              "</table>\n",
              "</div>\n",
              "      <button class=\"colab-df-convert\" onclick=\"convertToInteractive('df-2df73a4a-4dc5-40e0-89ba-f96eb1369985')\"\n",
              "              title=\"Convert this dataframe to an interactive table.\"\n",
              "              style=\"display:none;\">\n",
              "        \n",
              "  <svg xmlns=\"http://www.w3.org/2000/svg\" height=\"24px\"viewBox=\"0 0 24 24\"\n",
              "       width=\"24px\">\n",
              "    <path d=\"M0 0h24v24H0V0z\" fill=\"none\"/>\n",
              "    <path d=\"M18.56 5.44l.94 2.06.94-2.06 2.06-.94-2.06-.94-.94-2.06-.94 2.06-2.06.94zm-11 1L8.5 8.5l.94-2.06 2.06-.94-2.06-.94L8.5 2.5l-.94 2.06-2.06.94zm10 10l.94 2.06.94-2.06 2.06-.94-2.06-.94-.94-2.06-.94 2.06-2.06.94z\"/><path d=\"M17.41 7.96l-1.37-1.37c-.4-.4-.92-.59-1.43-.59-.52 0-1.04.2-1.43.59L10.3 9.45l-7.72 7.72c-.78.78-.78 2.05 0 2.83L4 21.41c.39.39.9.59 1.41.59.51 0 1.02-.2 1.41-.59l7.78-7.78 2.81-2.81c.8-.78.8-2.07 0-2.86zM5.41 20L4 18.59l7.72-7.72 1.47 1.35L5.41 20z\"/>\n",
              "  </svg>\n",
              "      </button>\n",
              "      \n",
              "  <style>\n",
              "    .colab-df-container {\n",
              "      display:flex;\n",
              "      flex-wrap:wrap;\n",
              "      gap: 12px;\n",
              "    }\n",
              "\n",
              "    .colab-df-convert {\n",
              "      background-color: #E8F0FE;\n",
              "      border: none;\n",
              "      border-radius: 50%;\n",
              "      cursor: pointer;\n",
              "      display: none;\n",
              "      fill: #1967D2;\n",
              "      height: 32px;\n",
              "      padding: 0 0 0 0;\n",
              "      width: 32px;\n",
              "    }\n",
              "\n",
              "    .colab-df-convert:hover {\n",
              "      background-color: #E2EBFA;\n",
              "      box-shadow: 0px 1px 2px rgba(60, 64, 67, 0.3), 0px 1px 3px 1px rgba(60, 64, 67, 0.15);\n",
              "      fill: #174EA6;\n",
              "    }\n",
              "\n",
              "    [theme=dark] .colab-df-convert {\n",
              "      background-color: #3B4455;\n",
              "      fill: #D2E3FC;\n",
              "    }\n",
              "\n",
              "    [theme=dark] .colab-df-convert:hover {\n",
              "      background-color: #434B5C;\n",
              "      box-shadow: 0px 1px 3px 1px rgba(0, 0, 0, 0.15);\n",
              "      filter: drop-shadow(0px 1px 2px rgba(0, 0, 0, 0.3));\n",
              "      fill: #FFFFFF;\n",
              "    }\n",
              "  </style>\n",
              "\n",
              "      <script>\n",
              "        const buttonEl =\n",
              "          document.querySelector('#df-2df73a4a-4dc5-40e0-89ba-f96eb1369985 button.colab-df-convert');\n",
              "        buttonEl.style.display =\n",
              "          google.colab.kernel.accessAllowed ? 'block' : 'none';\n",
              "\n",
              "        async function convertToInteractive(key) {\n",
              "          const element = document.querySelector('#df-2df73a4a-4dc5-40e0-89ba-f96eb1369985');\n",
              "          const dataTable =\n",
              "            await google.colab.kernel.invokeFunction('convertToInteractive',\n",
              "                                                     [key], {});\n",
              "          if (!dataTable) return;\n",
              "\n",
              "          const docLinkHtml = 'Like what you see? Visit the ' +\n",
              "            '<a target=\"_blank\" href=https://colab.research.google.com/notebooks/data_table.ipynb>data table notebook</a>'\n",
              "            + ' to learn more about interactive tables.';\n",
              "          element.innerHTML = '';\n",
              "          dataTable['output_type'] = 'display_data';\n",
              "          await google.colab.output.renderOutput(dataTable, element);\n",
              "          const docLink = document.createElement('div');\n",
              "          docLink.innerHTML = docLinkHtml;\n",
              "          element.appendChild(docLink);\n",
              "        }\n",
              "      </script>\n",
              "    </div>\n",
              "  </div>\n",
              "  "
            ]
          },
          "metadata": {},
          "execution_count": 50
        }
      ]
    },
    {
      "cell_type": "code",
      "source": [
        "# Unique users and musics in the training set\n",
        "users_train = train.reviewerID.unique()\n",
        "musics_train = train.asin.unique()\n",
        "\n",
        "# Transform the test IDs\n",
        "test = test[(test['reviewerID'].isin(users_train)) & (test['asin'].isin(musics_train))]\n",
        "print(len(test))"
      ],
      "metadata": {
        "id": "RRrx0-tkTUrc",
        "outputId": "23fb8c80-96bb-4886-d7af-18f208f954d0",
        "colab": {
          "base_uri": "https://localhost:8080/"
        }
      },
      "execution_count": 51,
      "outputs": [
        {
          "output_type": "stream",
          "name": "stdout",
          "text": [
            "4502\n"
          ]
        }
      ]
    },
    {
      "cell_type": "code",
      "source": [
        "test['enc_reviewerID'] = leu.transform(test['reviewerID'].values)\n",
        "test['enc_asin'] = lem.transform(test['asin'].values)\n",
        "test.head(2)"
      ],
      "metadata": {
        "id": "DqfCsYreeNIr",
        "outputId": "d6695075-a95d-4d92-b04b-11e790b8d186",
        "colab": {
          "base_uri": "https://localhost:8080/",
          "height": 112
        }
      },
      "execution_count": 52,
      "outputs": [
        {
          "output_type": "execute_result",
          "data": {
            "text/plain": [
              "         asin      reviewerID rating  reviewTime  enc_reviewerID  enc_asin\n",
              "1  B00OXE38D0  A3IAD1Q7NT0HSR    5.0  1438905600           50947        92\n",
              "3  B00ZF3SIDI  A3ILAQLFSIQEQR    5.0  1457654400           51116       115"
            ],
            "text/html": [
              "\n",
              "  <div id=\"df-8da47959-f9d1-4bfc-9712-dc313588229a\">\n",
              "    <div class=\"colab-df-container\">\n",
              "      <div>\n",
              "<style scoped>\n",
              "    .dataframe tbody tr th:only-of-type {\n",
              "        vertical-align: middle;\n",
              "    }\n",
              "\n",
              "    .dataframe tbody tr th {\n",
              "        vertical-align: top;\n",
              "    }\n",
              "\n",
              "    .dataframe thead th {\n",
              "        text-align: right;\n",
              "    }\n",
              "</style>\n",
              "<table border=\"1\" class=\"dataframe\">\n",
              "  <thead>\n",
              "    <tr style=\"text-align: right;\">\n",
              "      <th></th>\n",
              "      <th>asin</th>\n",
              "      <th>reviewerID</th>\n",
              "      <th>rating</th>\n",
              "      <th>reviewTime</th>\n",
              "      <th>enc_reviewerID</th>\n",
              "      <th>enc_asin</th>\n",
              "    </tr>\n",
              "  </thead>\n",
              "  <tbody>\n",
              "    <tr>\n",
              "      <th>1</th>\n",
              "      <td>B00OXE38D0</td>\n",
              "      <td>A3IAD1Q7NT0HSR</td>\n",
              "      <td>5.0</td>\n",
              "      <td>1438905600</td>\n",
              "      <td>50947</td>\n",
              "      <td>92</td>\n",
              "    </tr>\n",
              "    <tr>\n",
              "      <th>3</th>\n",
              "      <td>B00ZF3SIDI</td>\n",
              "      <td>A3ILAQLFSIQEQR</td>\n",
              "      <td>5.0</td>\n",
              "      <td>1457654400</td>\n",
              "      <td>51116</td>\n",
              "      <td>115</td>\n",
              "    </tr>\n",
              "  </tbody>\n",
              "</table>\n",
              "</div>\n",
              "      <button class=\"colab-df-convert\" onclick=\"convertToInteractive('df-8da47959-f9d1-4bfc-9712-dc313588229a')\"\n",
              "              title=\"Convert this dataframe to an interactive table.\"\n",
              "              style=\"display:none;\">\n",
              "        \n",
              "  <svg xmlns=\"http://www.w3.org/2000/svg\" height=\"24px\"viewBox=\"0 0 24 24\"\n",
              "       width=\"24px\">\n",
              "    <path d=\"M0 0h24v24H0V0z\" fill=\"none\"/>\n",
              "    <path d=\"M18.56 5.44l.94 2.06.94-2.06 2.06-.94-2.06-.94-.94-2.06-.94 2.06-2.06.94zm-11 1L8.5 8.5l.94-2.06 2.06-.94-2.06-.94L8.5 2.5l-.94 2.06-2.06.94zm10 10l.94 2.06.94-2.06 2.06-.94-2.06-.94-.94-2.06-.94 2.06-2.06.94z\"/><path d=\"M17.41 7.96l-1.37-1.37c-.4-.4-.92-.59-1.43-.59-.52 0-1.04.2-1.43.59L10.3 9.45l-7.72 7.72c-.78.78-.78 2.05 0 2.83L4 21.41c.39.39.9.59 1.41.59.51 0 1.02-.2 1.41-.59l7.78-7.78 2.81-2.81c.8-.78.8-2.07 0-2.86zM5.41 20L4 18.59l7.72-7.72 1.47 1.35L5.41 20z\"/>\n",
              "  </svg>\n",
              "      </button>\n",
              "      \n",
              "  <style>\n",
              "    .colab-df-container {\n",
              "      display:flex;\n",
              "      flex-wrap:wrap;\n",
              "      gap: 12px;\n",
              "    }\n",
              "\n",
              "    .colab-df-convert {\n",
              "      background-color: #E8F0FE;\n",
              "      border: none;\n",
              "      border-radius: 50%;\n",
              "      cursor: pointer;\n",
              "      display: none;\n",
              "      fill: #1967D2;\n",
              "      height: 32px;\n",
              "      padding: 0 0 0 0;\n",
              "      width: 32px;\n",
              "    }\n",
              "\n",
              "    .colab-df-convert:hover {\n",
              "      background-color: #E2EBFA;\n",
              "      box-shadow: 0px 1px 2px rgba(60, 64, 67, 0.3), 0px 1px 3px 1px rgba(60, 64, 67, 0.15);\n",
              "      fill: #174EA6;\n",
              "    }\n",
              "\n",
              "    [theme=dark] .colab-df-convert {\n",
              "      background-color: #3B4455;\n",
              "      fill: #D2E3FC;\n",
              "    }\n",
              "\n",
              "    [theme=dark] .colab-df-convert:hover {\n",
              "      background-color: #434B5C;\n",
              "      box-shadow: 0px 1px 3px 1px rgba(0, 0, 0, 0.15);\n",
              "      filter: drop-shadow(0px 1px 2px rgba(0, 0, 0, 0.3));\n",
              "      fill: #FFFFFF;\n",
              "    }\n",
              "  </style>\n",
              "\n",
              "      <script>\n",
              "        const buttonEl =\n",
              "          document.querySelector('#df-8da47959-f9d1-4bfc-9712-dc313588229a button.colab-df-convert');\n",
              "        buttonEl.style.display =\n",
              "          google.colab.kernel.accessAllowed ? 'block' : 'none';\n",
              "\n",
              "        async function convertToInteractive(key) {\n",
              "          const element = document.querySelector('#df-8da47959-f9d1-4bfc-9712-dc313588229a');\n",
              "          const dataTable =\n",
              "            await google.colab.kernel.invokeFunction('convertToInteractive',\n",
              "                                                     [key], {});\n",
              "          if (!dataTable) return;\n",
              "\n",
              "          const docLinkHtml = 'Like what you see? Visit the ' +\n",
              "            '<a target=\"_blank\" href=https://colab.research.google.com/notebooks/data_table.ipynb>data table notebook</a>'\n",
              "            + ' to learn more about interactive tables.';\n",
              "          element.innerHTML = '';\n",
              "          dataTable['output_type'] = 'display_data';\n",
              "          await google.colab.output.renderOutput(dataTable, element);\n",
              "          const docLink = document.createElement('div');\n",
              "          docLink.innerHTML = docLinkHtml;\n",
              "          element.appendChild(docLink);\n",
              "        }\n",
              "      </script>\n",
              "    </div>\n",
              "  </div>\n",
              "  "
            ]
          },
          "metadata": {},
          "execution_count": 52
        }
      ]
    },
    {
      "cell_type": "code",
      "source": [
        "# !Pass this one\n",
        "def get_sparse(matrix): \n",
        "  dok_matrx = matrix.tocoo().astype(np.float32)\n",
        "  values = dok_matrx.data\n",
        "  indices = np.vstack((dok_matrx.row, dok_matrx.col))\n",
        "\n",
        "  i = torch.LongTensor(indices)\n",
        "  v = torch.FloatTensor(values)\n",
        "  shape = dok_matrx.shape\n",
        "\n",
        "  dok_mtrx_sparse = torch.FloatTensor(i, v, torch.Size(shape))\n",
        "  return dok_mtrx_sparse\n",
        "\n",
        "  #return torch.sparse.FloatTensor(i, v, coo.shape)"
      ],
      "metadata": {
        "id": "nqCPUa1feNEc"
      },
      "execution_count": 53,
      "outputs": []
    },
    {
      "cell_type": "code",
      "source": [
        "# Modified\n",
        "def get_sparse(matrix): \n",
        "  dok_matrx = matrix.tocoo().astype(np.float32)\n",
        "  values = dok_matrx.data\n",
        "  indices = np.mat((dok_matrx.row, dok_matrx.col))\n",
        "\n",
        "  i = torch.LongTensor(indices)\n",
        "  v = torch.FloatTensor(values)\n",
        "  shape = dok_matrx.shape\n",
        "\n",
        "  #dok_mtrx_sparse = torch.sparse.FloatTensor(i, v, torch.Size(shape))\n",
        "  dok_mtrx_sparse = torch.sparse.FloatTensor(i, v, torch.Size(shape))\n",
        "  return dok_mtrx_sparse"
      ],
      "metadata": {
        "id": "4v2g_U52qJSj"
      },
      "execution_count": 54,
      "outputs": []
    },
    {
      "cell_type": "code",
      "source": [
        "def metrics(u_w, i_w, n_users, n_items, train, test, K):\n",
        "  u_emb = nn.Embedding(u_w.size()[0], u_w.size()[1], _weight = u_w)\n",
        "  i_emb = nn.Embedding(i_w.size()[0], i_w.size()[1], _weight = i_w)\n",
        "  users_test = torch.LongTensor(test['enc_reviewerID'].unique())\n",
        "  relevance = torch.matmul(u_w, torch.transpose(i_w, 0, 1))\n",
        "\n",
        "  R = sp.dok_matrix((n_users, n_items), dtype = np.float32)\n",
        "  R[train['enc_reviewerID'], train['enc_asin']] = 1.0\n",
        "\n",
        "  R_tensor = get_sparse(R)\n",
        "  R_dense = R_tensor.to_dense()\n",
        "\n",
        "  R_dense = R_dense * (-np.inf)\n",
        "  R_dense = torch.nan_to_num(R_dense, nan = 0.0)\n",
        "\n",
        "  relevance = relevance + R_dense\n",
        "\n",
        "  top_k_score = torch.topk(relevance, K).values\n",
        "  top_k_indices = torch.topk(relevance, K).indices\n",
        "\n",
        "  top_k_indices_df = pd.DataFrame(top_k_indices.numpy(), columns = ['top_index_'+str(x+1) for x in range(K)])\n",
        "\n",
        "  top_k_indices_df['userID'] = top_k_indices_df.index\n",
        "  top_k_indices_df['top_relevantI'] = top_k_indices_df[['top_index_'+str(x+1) for x in range(K)]].values.tolist()\n",
        "  #print('top_k_indices_df before selected columns \\n', top_k_indices_df)\n",
        "  top_k_indices_df = top_k_indices_df[['userID', 'top_relevantI']]\n",
        "  #print('top_k_indices_df after selected columns \\n', top_k_indices_df)\n",
        "  test_items_interact = test.groupby('enc_reviewerID')['enc_asin'].apply(list).reset_index()\n",
        "  #print('Test items \\n', test_items_interact)\n",
        "  metrics_df = pd.merge(test_items_interact, top_k_indices_df, how = 'left', left_on = 'enc_reviewerID', right_on = ['userID'])\n",
        "  z = zip(metrics_df.enc_reviewerID, metrics_df.top_relevantI)\n",
        "  #print('Metrics df: \\n', metrics_df)\n",
        "  #a = set([x for x in metrics_df.enc_reviewerID])\n",
        "  #print('Reviewers*************************************************************************')\n",
        "  #print(a)\n",
        "  #b = set([x for x in metrics_df.top_relevantI])\n",
        "  #print('Top items--*************************************************************************')\n",
        "  #print(b)\n",
        "\n",
        "  metrics_df['intersection'] = [list(set(a).intersection(b)) for a, b in zip(metrics_df.enc_asin, metrics_df.top_relevantI)]\n",
        "  #metrics_df['intersection'] = [list(a.intersection(b)) for a, b in zip(metrics_df.enc_asin, metrics_df.top_relevantI)]\n",
        "  metrics_df['recall'] = metrics_df.apply(lambda x : len(x['intersection'])/len(x['enc_asin']), axis = 1)\n",
        "  metrics_df['precision'] = metrics_df.apply(lambda x : len(x['intersection'])/K, axis = 1)\n",
        "\n",
        "  def get_hits(enc_asin, top_relevantI):\n",
        "    return [1 if x in set(enc_asin) else 0 for x in top_relevantI]\n",
        "  metrics_df['hits'] = metrics_df.apply(lambda x : get_hits(x['enc_asin'], x['top_relevantI']), axis = 1)\n",
        "  def getDcgIdcg(enc_asin, hits):\n",
        "    idcg = sum([1 / np.log1p(ix+1) for ix in range(min(len(enc_asin), len(hits)))])\n",
        "    dcg = sum([hit/np.log1p(ix+1) for ix, hit in enumerate(hits)])\n",
        "    return dcg/idcg\n",
        "\n",
        "  def get_cummulative_sum(hits):\n",
        "    return np.cumsum(hits)\n",
        "  \n",
        "  def getmap(enc_asin, hits, hits_cumsum):\n",
        "    return sum([hit_cs*hit/(ix+1) for ix, (hit, hit_cs) in enumerate(zip(hits, hits_cumsum))])/len(enc_asin)\n",
        "  \n",
        "  metrics_df['ndcg'] = metrics_df.apply(lambda x : getDcgIdcg(x['enc_asin'], x['hits']), axis = 1)\n",
        "  metrics_df['hits_cumsum'] = metrics_df.apply(lambda x : get_cummulative_sum(x['hits']), axis = 1)\n",
        "\n",
        "  metrics_df['map'] = metrics_df.apply(lambda x : getmap(x['enc_asin'], x['hits'], x['hits_cumsum']), axis = 1)\n",
        "  return metrics_df['recall'].mean(), metrics_df['precision'].mean(), metrics_df['ndcg'].mean(), metrics_df['map'].mean()\n"
      ],
      "metadata": {
        "id": "_mYTqK-seM-D"
      },
      "execution_count": 55,
      "outputs": []
    },
    {
      "cell_type": "code",
      "source": [
        "import random\n",
        "\n",
        "from torch.utils.data import Dataset, DataLoader\n",
        "import time\n",
        "from tqdm.notebook import tqdm"
      ],
      "metadata": {
        "id": "kElT_pBLqk11"
      },
      "execution_count": 56,
      "outputs": []
    },
    {
      "cell_type": "code",
      "source": [
        "import torch.nn as nn"
      ],
      "metadata": {
        "id": "0oFLz8IAtaXo"
      },
      "execution_count": 57,
      "outputs": []
    },
    {
      "cell_type": "code",
      "source": [
        "#from torch._C import float32\n",
        "class LightGCN(nn.Module):\n",
        "  def __init__(self, data, n_users, n_items, n_layers, dim) -> None:\n",
        "    super(LightGCN, self).__init__()\n",
        "    self.data = data\n",
        "    self.n_users = n_users\n",
        "    self.n_items = n_items\n",
        "    self.n_layers = n_layers\n",
        "    self.dim = dim\n",
        "    self.init_embed()\n",
        "    self.norm_of_ajmat_sparse = self.get_A_tilda()\n",
        "    \n",
        "  def init_embed(self):\n",
        "    self.E0 = nn.Embedding(self.n_users + self.n_items, self.dim)\n",
        "    nn.init.xavier_uniform_(self.E0.weight)\n",
        "    self.E0.weight = nn.Parameter(self.E0.weight)\n",
        "\n",
        "  def get_A_tilda(self):\n",
        "    R = sp.dok_matrix((self.n_users, self.n_items), dtype = np.float32)\n",
        "    R[self.data['enc_reviewerID'], self.data['enc_asin']] = 1.0\n",
        "\n",
        "    adj_mat = sp.dok_matrix((self.n_users + self.n_items, self.n_users + self.n_items), dtype = np.float32)\n",
        "    adj_mat = adj_mat.tolil()\n",
        "    R = R.tolil()\n",
        "\n",
        "    adj_mat[: n_users, n_users :] = R\n",
        "    adj_mat[n_users :, : n_users] = R.T\n",
        "    adj_mat = adj_mat.todok()\n",
        "\n",
        "    rowsum = np.array(adj_mat.sum(1))\n",
        "    d_inv = np.power(rowsum + 1e-9, -0.5).flatten()\n",
        "    d_inv[np.isinf(d_inv)] = 0.0\n",
        "    d_mat_inv = sp.diags(d_inv)\n",
        "    norm_adj_mat = d_mat_inv.dot(adj_mat)\n",
        "    norm_adj_mat = norm_adj_mat.dot(d_mat_inv)\n",
        "\n",
        "    # Convert to Sparse matrix\n",
        "    norm_adj_mat_coo = norm_adj_mat.tocoo().astype(np.float32)\n",
        "    values = norm_adj_mat_coo.data\n",
        "    indices = np.vstack((norm_adj_mat_coo.row, norm_adj_mat_coo.col))\n",
        "\n",
        "    i = torch.LongTensor(indices)\n",
        "    v = torch.FloatTensor(values)\n",
        "    shape = norm_adj_mat_coo.shape\n",
        "    \n",
        "    norm_adj_mat_sparse = torch.sparse.FloatTensor(i, v, torch.Size(shape))\n",
        "\n",
        "    return norm_adj_mat_sparse\n",
        "\n",
        "  def propagate(self):\n",
        "    all_layers_emb = [self.E0.weight]\n",
        "    emb_layer = self.E0.weight\n",
        "\n",
        "    for layer in range(self.n_layers):\n",
        "      emb_layer = torch.sparse.mm(self.norm_of_ajmat_sparse, emb_layer)\n",
        "      all_layers_emb.append(emb_layer)\n",
        "\n",
        "    all_layers_emb = torch.stack(all_layers_emb)\n",
        "    mean_layers_emb = torch.mean(all_layers_emb, axis = 0)\n",
        "\n",
        "    final_user_emb, final_item_emb = torch.split(mean_layers_emb, [n_users, n_items])\n",
        "    initial_users_emb, initial_itm_emb = torch.split(self.E0.weight, [n_users, n_items])\n",
        "\n",
        "    return final_user_emb, final_item_emb, initial_users_emb, initial_itm_emb\n",
        "  \n",
        "  def forward(self, users, pos_items, neg_items):\n",
        "    final_user_emb, final_item_emb, initial_users_emb, initial_itm_emb = self.propagate()\n",
        "\n",
        "    users_emb, pos_emb, neg_emb = final_user_emb[users], final_item_emb[pos_items], final_item_emb[neg_items]\n",
        "    user_emb0, pos_emb0, neg_emb0 = initial_users_emb[users], initial_itm_emb[pos_items], initial_itm_emb[neg_items]\n",
        "\n",
        "    return users_emb, pos_emb, neg_emb, user_emb0, pos_emb0, neg_emb0"
      ],
      "metadata": {
        "id": "bzllt2hJ-f_A"
      },
      "execution_count": 58,
      "outputs": []
    },
    {
      "cell_type": "code",
      "source": [
        "n_users = train['enc_reviewerID'].nunique()\n",
        "n_items = train['enc_asin'].nunique()"
      ],
      "metadata": {
        "id": "U0Gk79WYGXMw"
      },
      "execution_count": 59,
      "outputs": []
    },
    {
      "cell_type": "code",
      "source": [
        "n_layers = 3\n",
        "dim = 64\n",
        "\n",
        "lightGCN = LightGCN(train, n_users, n_items, n_layers, dim)\n",
        "print(\"Size of Learnable Embedding: \", list(lightGCN.parameters())[0].size())"
      ],
      "metadata": {
        "id": "bI2qvbdneMxk",
        "colab": {
          "base_uri": "https://localhost:8080/"
        },
        "outputId": "678cd872-8d4a-4c2a-a46a-f0daa7d0ae3f"
      },
      "execution_count": 60,
      "outputs": [
        {
          "output_type": "stream",
          "name": "stdout",
          "text": [
            "Size of Learnable Embedding:  torch.Size([76619, 64])\n"
          ]
        }
      ]
    },
    {
      "cell_type": "code",
      "source": [
        "def bprloss(users, user_emb, pos_emb, neg_emb, user_E0, pos_E0, neg_E0):\n",
        "  reg_loss = 0.5*(user_E0.norm().pow(2) + pos_E0.norm().pow(2) + neg_E0.norm().pow(2))/float(len(users))\n",
        "  pos_score = torch.mul(user_emb, pos_emb)\n",
        "  pos_score = torch.sum(pos_score, dim = 1)\n",
        "  neg_score = torch.mul(user_emb, neg_emb)\n",
        "  neg_score = torch.sum(neg_score, dim = 1)\n",
        "\n",
        "  loss = torch.mean(torch.nn.functional.softplus(neg_score - pos_score))\n",
        "  \n",
        "  return loss, reg_loss"
      ],
      "metadata": {
        "id": "aHH86_A8kUdC"
      },
      "execution_count": 61,
      "outputs": []
    },
    {
      "cell_type": "code",
      "source": [
        "def dataloader(data, batch_size, n_users, n_items):\n",
        "  interacted_items = data.groupby('enc_reviewerID')['enc_asin'].apply(list).reset_index()\n",
        "  def sample_negative(x):\n",
        "    while True:\n",
        "      neg_id = random.randint(0, n_items - 1)\n",
        "      if neg_id not in x:\n",
        "        return neg_id\n",
        "  indices = [x for x in range(n_users)]\n",
        "  if n_users < batch_size:\n",
        "    users = [random.choice(indices) for _ in range(batch_size)]\n",
        "  else:\n",
        "    users = random.sample(indices, batch_size)\n",
        "  users.sort()\n",
        "\n",
        "  usersdf = pd.DataFrame(users, columns = ['users'])\n",
        "  interacted_items = pd.merge(interacted_items, usersdf, how = 'right', left_on = 'enc_reviewerID', right_on = 'users')\n",
        "  \n",
        "  posItems = interacted_items['enc_asin'].apply(lambda x : random.choice(x)).values\n",
        "\n",
        "  negItems = interacted_items['enc_asin'].apply(lambda x : sample_negative(x)).values\n",
        "\n",
        "  return list(users), list(posItems), list(negItems)"
      ],
      "metadata": {
        "id": "kUx_kWSNG0A4"
      },
      "execution_count": 62,
      "outputs": []
    },
    {
      "cell_type": "code",
      "source": [
        "optimizer = torch.optim.Adam(lightGCN.parameters(), lr = 0.005)\n",
        "epochs = 50\n",
        "batch_size = 1024\n",
        "decay = 0.0001\n",
        "K = 10"
      ],
      "metadata": {
        "id": "ZqLAbnEuGzui"
      },
      "execution_count": 63,
      "outputs": []
    },
    {
      "cell_type": "code",
      "source": [
        "loss_list_epoch = []\n",
        "mf_loss_list_epoch = []\n",
        "reg_loss_list_epoch = []\n",
        "\n",
        "recall_list = []\n",
        "precision_list = []\n",
        "ndcg_list = []\n",
        "map_list = []\n",
        "\n",
        "train_time_list = []\n",
        "eval_time_list = []\n",
        "\n",
        "for epoch in tqdm(range(epochs)):\n",
        "  n_batch = int(len(train)/batch_size)\n",
        "\n",
        "  final_loss_list = []\n",
        "  mf_loss_list = []\n",
        "  reg_loss_list = []\n",
        "\n",
        "  best_ndcg = -1\n",
        "\n",
        "  train_start = time.time()\n",
        "  lightGCN.train()\n",
        "  for batch_idx in range(n_batch):\n",
        "    optimizer.zero_grad()\n",
        "\n",
        "    users, posItems, negItems = dataloader(train, batch_size, n_users, n_items)\n",
        "    usersEmb, posEmb, negEmb, userE0, posE0, negE0 = lightGCN.forward(users, posItems, negItems)\n",
        "    mf_loss, reg_loss = bprloss(users, usersEmb, posEmb, negEmb, userE0,  posE0, negE0)\n",
        "\n",
        "    mf_loss = decay * reg_loss\n",
        "    final_loss = mf_loss + reg_loss\n",
        "    final_loss.backward()\n",
        "    optimizer.step()\n",
        "\n",
        "    final_loss_list.append(final_loss.item())\n",
        "    mf_loss_list.append(mf_loss.item())\n",
        "    reg_loss_list.append(reg_loss.item())\n",
        "\n",
        "  train_end = time.time()\n",
        "  train_time = train_end - train_start\n",
        "\n",
        "  lightGCN.eval()\n",
        "  with torch.no_grad():\n",
        "    final_user_emb, final_item_emb, initial_users_emb, initial_itm_emb = lightGCN.propagate()\n",
        "    test_topK_recall, test_topK_precision, test_topK_ndcg, test_topK_map = metrics(final_user_emb, final_item_emb, n_users, n_items, train, test, K)\n",
        "  if test_topK_ndcg > best_ndcg:\n",
        "    best_ndcg = test_topK_ndcg\n",
        "\n",
        "    torch.save(final_user_emb, 'final_user_emb.pt')\n",
        "    torch.save(final_item_emb, 'final_item_emb.pt')\n",
        "    torch.save(initial_users_emb, 'initial_users_emb.pt')\n",
        "    torch.save(initial_users_emb, 'initial_item_emb.pt')\n",
        "  \n",
        "  eval_time = time.time() - train_end\n",
        "\n",
        "  loss_list_epoch.append(round(np.mean(final_loss_list), 4))\n",
        "  mf_loss_list_epoch.append(round(np.mean(mf_loss_list), 4))\n",
        "  reg_loss_list_epoch.append(round(np.mean(final_loss_list), 4))\n",
        "\n",
        "  recall_list.append(round(test_topK_recall, 4))\n",
        "  precision_list.append(round(test_topK_precision))\n",
        "  ndcg_list.append(round(test_topK_ndcg, 4))\n",
        "  map_list.append(round(test_topK_map, 4))\n",
        "\n",
        "  train_time_list.append(train_time)\n",
        "  eval_time_list.append(eval_time) \n"
      ],
      "metadata": {
        "colab": {
          "base_uri": "https://localhost:8080/",
          "height": 49,
          "referenced_widgets": [
            "b19f50e1752546b683a35d56a8fc2e57",
            "c71635d50a8b424b836b9fb128cf5779",
            "5ea6842a867b428b83ae368b5524e70c",
            "24453199f58f41da83b330d262199605",
            "62ed91b1951d49d483cdee8113728a49",
            "e5cc7b685df24ee9bcef74e0988e8ed2",
            "6e7bd6d6822b422b853c7b2c1725012a",
            "8242f7a05fd5497293fd8d881b8b66b9",
            "1310aa9b5b5542da95f92ebef4cbb87a",
            "3ded24b87123406294b0c85bd61df6d7",
            "8d75474edc9f42de8042a7b15a855542"
          ]
        },
        "id": "LBC7ty04PChr",
        "outputId": "4853384b-2157-447b-9b37-ed54fa04aaae"
      },
      "execution_count": null,
      "outputs": [
        {
          "output_type": "display_data",
          "data": {
            "text/plain": [
              "  0%|          | 0/50 [00:00<?, ?it/s]"
            ],
            "application/vnd.jupyter.widget-view+json": {
              "version_major": 2,
              "version_minor": 0,
              "model_id": "b19f50e1752546b683a35d56a8fc2e57"
            }
          },
          "metadata": {}
        }
      ]
    },
    {
      "cell_type": "code",
      "source": [
        "epoch_list = [(i + 1) for i in range(epochs)]\n",
        "plt.plot(epoch_list, recall_list, label = 'Recall')\n",
        "plt.plot(epoch_list, precision_list, label = 'Precision')\n",
        "plt.plot(epoch_list, ndcg_list, label = 'NDCG')\n",
        "plt.plot(epoch_list, map_list, label = 'MAP')\n",
        "plt.xlabel('Epochs')\n",
        "plt.ylabel('Metrics')\n",
        "plt.legend()"
      ],
      "metadata": {
        "colab": {
          "base_uri": "https://localhost:8080/",
          "height": 297
        },
        "id": "V6s-6gXYU5-x",
        "outputId": "053a0488-9306-4674-afc6-32c7fa49c9c3"
      },
      "execution_count": 31,
      "outputs": [
        {
          "output_type": "execute_result",
          "data": {
            "text/plain": [
              "<matplotlib.legend.Legend at 0x7f9ba0644d10>"
            ]
          },
          "metadata": {},
          "execution_count": 31
        },
        {
          "output_type": "display_data",
          "data": {
            "text/plain": [
              "<Figure size 432x288 with 1 Axes>"
            ],
            "image/png": "[encoded data removed]"
          },
          "metadata": {
            "needs_background": "light"
          }
        }
      ]
    },
    {
      "cell_type": "code",
      "source": [
        "plt.plot(epoch_list, loss_list_epoch, label = \"Total Training Loss\")\n",
        "plt.plot(epoch_list, mf_loss_list_epoch, label = \"MF Training Loss\")\n",
        "plt.plot(epoch_list, reg_loss_list_epoch, label = \"Reg Training Loss\")\n",
        "\n",
        "plt.xlabel('Epoch')\n",
        "plt.ylabel('Loss')\n",
        "plt.legend()"
      ],
      "metadata": {
        "colab": {
          "base_uri": "https://localhost:8080/",
          "height": 297
        },
        "id": "UQ0iHpxqPCQZ",
        "outputId": "cabc7fc8-1ebc-463b-e1e6-699b90db6d1e"
      },
      "execution_count": 38,
      "outputs": [
        {
          "output_type": "execute_result",
          "data": {
            "text/plain": [
              "<matplotlib.legend.Legend at 0x7fdf7ea25210>"
            ]
          },
          "metadata": {},
          "execution_count": 38
        },
        {
          "output_type": "display_data",
          "data": {
            "text/plain": [
              "<Figure size 432x288 with 1 Axes>"
            ],
            "image/png": "[encoded data removed]"
          },
          "metadata": {
            "needs_background": "light"
          }
        }
      ]
    },
    {
      "cell_type": "code",
      "source": [
        "print(\"Average time taken to train an epoch --> \", round(np.mean(train_time_list), 2), \" seconds\")\n",
        "print(\"Average time taken to evaluate an epoch --> \", round(np.mean(eval_time_list), 2), \" seconds\")"
      ],
      "metadata": {
        "colab": {
          "base_uri": "https://localhost:8080/"
        },
        "id": "OQ8wOe0HPBoG",
        "outputId": "c37aa1fb-5bf4-45c4-fa71-e9aba7d5a3b7"
      },
      "execution_count": 39,
      "outputs": [
        {
          "output_type": "stream",
          "name": "stdout",
          "text": [
            "Average time taken to train an epoch -->  15.17  seconds\n",
            "Average time taken to evaluate an epoch -->  2.27  seconds\n"
          ]
        }
      ]
    },
    {
      "cell_type": "code",
      "source": [
        "print(\"Last Epoch's Test Data Recall --> \", recall_list[-1])\n",
        "print(\"Last Epoch's Test Data Precision --> \", precision_list[-1])\n",
        "print(\"Last Epoch's Test Data NDCG --> \", ndcg_list[-1])\n",
        "print(\"Last Epoch's Test Data MAP --> \", map_list[-1])\n",
        "\n",
        "print(\"Last Epoch's Train Data Loss --> \", loss_list_epoch[-1])"
      ],
      "metadata": {
        "colab": {
          "base_uri": "https://localhost:8080/"
        },
        "id": "CRSK_Wjqegqq",
        "outputId": "92ac7592-57fb-4442-f05b-8f1d4c961f5e"
      },
      "execution_count": 40,
      "outputs": [
        {
          "output_type": "stream",
          "name": "stdout",
          "text": [
            "Last Epoch's Test Data Recall -->  0.0006\n",
            "Last Epoch's Test Data Precision -->  0\n",
            "Last Epoch's Test Data NDCG -->  0.0005\n",
            "Last Epoch's Test Data MAP -->  0.0003\n",
            "Last Epoch's Train Data Loss -->  0.0023\n"
          ]
        }
      ]
    },
    {
      "cell_type": "code",
      "source": [
        ""
      ],
      "metadata": {
        "id": "zTAjTE50egnO"
      },
      "execution_count": null,
      "outputs": []
    },
    {
      "cell_type": "code",
      "source": [
        "import torch\n",
        "from torch.autograd import Variable\n",
        "\n",
        "class MatrixFactorization(torch.nn.Module):\n",
        "    def __init__(self, n_users, n_items, n_factors=20):\n",
        "        super().__init__()\n",
        "\t# create user embeddings\n",
        "        self.user_factors = torch.nn.Embedding(n_users, n_factors, sparse=True)\n",
        "\t# create item embeddings\n",
        "        self.item_factors = torch.nn.Embedding(n_items, n_factors, sparse=True)\n",
        "\n",
        "    def forward(self, user, item):\n",
        "    \t# matrix multiplication\n",
        "        return (self.user_factors(user)*self.item_factors(item)).sum(1)\n",
        "\n",
        "    def predict(self, user, item):\n",
        "        return self.forward(user, item)"
      ],
      "metadata": {
        "id": "WuB13o9UJNc2"
      },
      "execution_count": null,
      "outputs": []
    },
    {
      "cell_type": "code",
      "source": [
        "num_users = rating.reviewerID.nunique()\n",
        "num_musics = rating.asin.nunique()\n",
        "\n",
        "model = MatrixFactorization(num_users, num_musics, n_factors=20)\n",
        "loss_fn = torch.nn.MSELoss() \n",
        "optimizer = torch.optim.SGD(model.parameters(), lr=1e-6)\n",
        "\n",
        "users = rating['reviewerID'].unique()\n",
        "musics = rating['asin'].unique()\n",
        "\n",
        "for user, item in zip(users, musics):\n",
        "    # get user, item and rating data\n",
        "    rating = Variable(torch.FloatTensor([R[user, item]]))\n",
        "    user = Variable(torch.LongTensor([int(user)]))\n",
        "    item = Variable(torch.LongTensor([int(item)]))\n",
        "\n",
        "    # predict\n",
        "    prediction = model(user, item)\n",
        "    loss = loss_fn(prediction, rating)\n",
        "\n",
        "    # backpropagate\n",
        "    loss.backward()\n",
        "\n",
        "    # update weights\n",
        "    optimizer.step()"
      ],
      "metadata": {
        "id": "I4jH98jcyfE7",
        "outputId": "0c28c3a8-580c-45e1-d81d-12c0966d1fcc",
        "colab": {
          "base_uri": "https://localhost:8080/",
          "height": 393
        }
      },
      "execution_count": null,
      "outputs": [
        {
          "output_type": "error",
          "ename": "IndexError",
          "evalue": "ignored",
          "traceback": [
            "\u001b[0;31m---------------------------------------------------------------------------\u001b[0m",
            "\u001b[0;31mIndexError\u001b[0m                                Traceback (most recent call last)",
            "\u001b[0;32m<ipython-input-23-9315023ef81a>\u001b[0m in \u001b[0;36m<module>\u001b[0;34m()\u001b[0m\n\u001b[1;32m     11\u001b[0m \u001b[0;32mfor\u001b[0m \u001b[0muser\u001b[0m\u001b[0;34m,\u001b[0m \u001b[0mitem\u001b[0m \u001b[0;32min\u001b[0m \u001b[0mzip\u001b[0m\u001b[0;34m(\u001b[0m\u001b[0musers\u001b[0m\u001b[0;34m,\u001b[0m \u001b[0mmusics\u001b[0m\u001b[0;34m)\u001b[0m\u001b[0;34m:\u001b[0m\u001b[0;34m\u001b[0m\u001b[0;34m\u001b[0m\u001b[0m\n\u001b[1;32m     12\u001b[0m     \u001b[0;31m# get user, item and rating data\u001b[0m\u001b[0;34m\u001b[0m\u001b[0;34m\u001b[0m\u001b[0;34m\u001b[0m\u001b[0m\n\u001b[0;32m---> 13\u001b[0;31m     \u001b[0mrating\u001b[0m \u001b[0;34m=\u001b[0m \u001b[0mVariable\u001b[0m\u001b[0;34m(\u001b[0m\u001b[0mtorch\u001b[0m\u001b[0;34m.\u001b[0m\u001b[0mFloatTensor\u001b[0m\u001b[0;34m(\u001b[0m\u001b[0;34m[\u001b[0m\u001b[0mR\u001b[0m\u001b[0;34m[\u001b[0m\u001b[0muser\u001b[0m\u001b[0;34m,\u001b[0m \u001b[0mitem\u001b[0m\u001b[0;34m]\u001b[0m\u001b[0;34m]\u001b[0m\u001b[0;34m)\u001b[0m\u001b[0;34m)\u001b[0m\u001b[0;34m\u001b[0m\u001b[0;34m\u001b[0m\u001b[0m\n\u001b[0m\u001b[1;32m     14\u001b[0m     \u001b[0muser\u001b[0m \u001b[0;34m=\u001b[0m \u001b[0mVariable\u001b[0m\u001b[0;34m(\u001b[0m\u001b[0mtorch\u001b[0m\u001b[0;34m.\u001b[0m\u001b[0mLongTensor\u001b[0m\u001b[0;34m(\u001b[0m\u001b[0;34m[\u001b[0m\u001b[0mint\u001b[0m\u001b[0;34m(\u001b[0m\u001b[0muser\u001b[0m\u001b[0;34m)\u001b[0m\u001b[0;34m]\u001b[0m\u001b[0;34m)\u001b[0m\u001b[0;34m)\u001b[0m\u001b[0;34m\u001b[0m\u001b[0;34m\u001b[0m\u001b[0m\n\u001b[1;32m     15\u001b[0m     \u001b[0mitem\u001b[0m \u001b[0;34m=\u001b[0m \u001b[0mVariable\u001b[0m\u001b[0;34m(\u001b[0m\u001b[0mtorch\u001b[0m\u001b[0;34m.\u001b[0m\u001b[0mLongTensor\u001b[0m\u001b[0;34m(\u001b[0m\u001b[0;34m[\u001b[0m\u001b[0mint\u001b[0m\u001b[0;34m(\u001b[0m\u001b[0mitem\u001b[0m\u001b[0;34m)\u001b[0m\u001b[0;34m]\u001b[0m\u001b[0;34m)\u001b[0m\u001b[0;34m)\u001b[0m\u001b[0;34m\u001b[0m\u001b[0;34m\u001b[0m\u001b[0m\n",
            "\u001b[0;32m/usr/local/lib/python3.7/dist-packages/scipy/sparse/_index.py\u001b[0m in \u001b[0;36m__getitem__\u001b[0;34m(self, key)\u001b[0m\n\u001b[1;32m     33\u001b[0m     \"\"\"\n\u001b[1;32m     34\u001b[0m     \u001b[0;32mdef\u001b[0m \u001b[0m__getitem__\u001b[0m\u001b[0;34m(\u001b[0m\u001b[0mself\u001b[0m\u001b[0;34m,\u001b[0m \u001b[0mkey\u001b[0m\u001b[0;34m)\u001b[0m\u001b[0;34m:\u001b[0m\u001b[0;34m\u001b[0m\u001b[0;34m\u001b[0m\u001b[0m\n\u001b[0;32m---> 35\u001b[0;31m         \u001b[0mrow\u001b[0m\u001b[0;34m,\u001b[0m \u001b[0mcol\u001b[0m \u001b[0;34m=\u001b[0m \u001b[0mself\u001b[0m\u001b[0;34m.\u001b[0m\u001b[0m_validate_indices\u001b[0m\u001b[0;34m(\u001b[0m\u001b[0mkey\u001b[0m\u001b[0;34m)\u001b[0m\u001b[0;34m\u001b[0m\u001b[0;34m\u001b[0m\u001b[0m\n\u001b[0m\u001b[1;32m     36\u001b[0m         \u001b[0;31m# Dispatch to specialized methods.\u001b[0m\u001b[0;34m\u001b[0m\u001b[0;34m\u001b[0m\u001b[0;34m\u001b[0m\u001b[0m\n\u001b[1;32m     37\u001b[0m         \u001b[0;32mif\u001b[0m \u001b[0misinstance\u001b[0m\u001b[0;34m(\u001b[0m\u001b[0mrow\u001b[0m\u001b[0;34m,\u001b[0m \u001b[0mINT_TYPES\u001b[0m\u001b[0;34m)\u001b[0m\u001b[0;34m:\u001b[0m\u001b[0;34m\u001b[0m\u001b[0;34m\u001b[0m\u001b[0m\n",
            "\u001b[0;32m/usr/local/lib/python3.7/dist-packages/scipy/sparse/_index.py\u001b[0m in \u001b[0;36m_validate_indices\u001b[0;34m(self, key)\u001b[0m\n\u001b[1;32m    137\u001b[0m                 \u001b[0mrow\u001b[0m \u001b[0;34m+=\u001b[0m \u001b[0mM\u001b[0m\u001b[0;34m\u001b[0m\u001b[0;34m\u001b[0m\u001b[0m\n\u001b[1;32m    138\u001b[0m         \u001b[0;32melif\u001b[0m \u001b[0;32mnot\u001b[0m \u001b[0misinstance\u001b[0m\u001b[0;34m(\u001b[0m\u001b[0mrow\u001b[0m\u001b[0;34m,\u001b[0m \u001b[0mslice\u001b[0m\u001b[0;34m)\u001b[0m\u001b[0;34m:\u001b[0m\u001b[0;34m\u001b[0m\u001b[0;34m\u001b[0m\u001b[0m\n\u001b[0;32m--> 139\u001b[0;31m             \u001b[0mrow\u001b[0m \u001b[0;34m=\u001b[0m \u001b[0mself\u001b[0m\u001b[0;34m.\u001b[0m\u001b[0m_asindices\u001b[0m\u001b[0;34m(\u001b[0m\u001b[0mrow\u001b[0m\u001b[0;34m,\u001b[0m \u001b[0mM\u001b[0m\u001b[0;34m)\u001b[0m\u001b[0;34m\u001b[0m\u001b[0;34m\u001b[0m\u001b[0m\n\u001b[0m\u001b[1;32m    140\u001b[0m \u001b[0;34m\u001b[0m\u001b[0m\n\u001b[1;32m    141\u001b[0m         \u001b[0;32mif\u001b[0m \u001b[0misintlike\u001b[0m\u001b[0;34m(\u001b[0m\u001b[0mcol\u001b[0m\u001b[0;34m)\u001b[0m\u001b[0;34m:\u001b[0m\u001b[0;34m\u001b[0m\u001b[0;34m\u001b[0m\u001b[0m\n",
            "\u001b[0;32m/usr/local/lib/python3.7/dist-packages/scipy/sparse/_index.py\u001b[0m in \u001b[0;36m_asindices\u001b[0;34m(self, idx, length)\u001b[0m\n\u001b[1;32m    161\u001b[0m \u001b[0;34m\u001b[0m\u001b[0m\n\u001b[1;32m    162\u001b[0m         \u001b[0;32mif\u001b[0m \u001b[0mx\u001b[0m\u001b[0;34m.\u001b[0m\u001b[0mndim\u001b[0m \u001b[0;32mnot\u001b[0m \u001b[0;32min\u001b[0m \u001b[0;34m(\u001b[0m\u001b[0;36m1\u001b[0m\u001b[0;34m,\u001b[0m \u001b[0;36m2\u001b[0m\u001b[0;34m)\u001b[0m\u001b[0;34m:\u001b[0m\u001b[0;34m\u001b[0m\u001b[0;34m\u001b[0m\u001b[0m\n\u001b[0;32m--> 163\u001b[0;31m             \u001b[0;32mraise\u001b[0m \u001b[0mIndexError\u001b[0m\u001b[0;34m(\u001b[0m\u001b[0;34m'Index dimension must be <= 2'\u001b[0m\u001b[0;34m)\u001b[0m\u001b[0;34m\u001b[0m\u001b[0;34m\u001b[0m\u001b[0m\n\u001b[0m\u001b[1;32m    164\u001b[0m \u001b[0;34m\u001b[0m\u001b[0m\n\u001b[1;32m    165\u001b[0m         \u001b[0;32mif\u001b[0m \u001b[0mx\u001b[0m\u001b[0;34m.\u001b[0m\u001b[0msize\u001b[0m \u001b[0;34m==\u001b[0m \u001b[0;36m0\u001b[0m\u001b[0;34m:\u001b[0m\u001b[0;34m\u001b[0m\u001b[0;34m\u001b[0m\u001b[0m\n",
            "\u001b[0;31mIndexError\u001b[0m: Index dimension must be <= 2"
          ]
        }
      ]
    },
    {
      "cell_type": "code",
      "source": [
        ""
      ],
      "metadata": {
        "id": "Pt9D3iHyyefR"
      },
      "execution_count": null,
      "outputs": []
    },
    {
      "cell_type": "code",
      "source": [
        "num_users = rating.reviewerID.nunique()\n",
        "num_musics = rating.asin.nunique()\n",
        "\n",
        "users = rating['reviewerID'].unique()\n",
        "musics = rating['asin'].unique()\n",
        "\n",
        "user_ids = range(num_users)\n",
        "music_ids = range(num_musics)\n",
        "\n",
        "user_to_id = dict(zip(users, user_ids))\n",
        "music_to_id = dict(zip(musics, music_ids))\n",
        "\n",
        "# initialize the adjacency matrix\n",
        "rat = torch.zeros(num_users, num_musics)\n",
        "for index, row in rating.iterrows():\n",
        "  music, user, rating = row[:3]\n",
        "  if num_users != -1:\n",
        "    if user not in user_to_id: break\n",
        "            # create ratings matrix where (i, j) entry represents the ratings\n",
        "            # of movie j given by user i.\n",
        "  rat[user_to_id[user], music_to_id[music]] = rating\n",
        "rat"
      ],
      "metadata": {
        "id": "xz85gqAazUO3"
      },
      "execution_count": null,
      "outputs": []
    },
    {
      "cell_type": "code",
      "source": [
        "from scipy.sparse import csr_matrix\n",
        "\n",
        "# preprocess data\n",
        "USER_COL = 'reviewerID'\n",
        "ITEM_COL = 'asin'\n",
        "RATING_COL = 'overall'\n",
        "\n",
        "row = review[USER_COL]\n",
        "col = review[ITEM_COL]\n",
        "data = review[RATING_COL]\n",
        "mat = csr_matrix((data, (row, col)), shape=(users, items))\n",
        "mat.eliminate_zeros()\n",
        "sparsity = float(len(mat.nonzero()[0]))\n",
        "sparsity /= (mat.shape[0] * mat.shape[1])\n",
        "sparsity"
      ],
      "metadata": {
        "id": "MIji8o79ciQu",
        "outputId": "828b5f76-bd47-416e-8f09-b51fbc0fdfb3",
        "colab": {
          "base_uri": "https://localhost:8080/",
          "height": 647
        }
      },
      "execution_count": null,
      "outputs": [
        {
          "output_type": "error",
          "ename": "ValueError",
          "evalue": "ignored",
          "traceback": [
            "\u001b[0;31m---------------------------------------------------------------------------\u001b[0m",
            "\u001b[0;31mValueError\u001b[0m                                Traceback (most recent call last)",
            "\u001b[0;32m<ipython-input-7-317fcfd30b43>\u001b[0m in \u001b[0;36m<module>\u001b[0;34m()\u001b[0m\n\u001b[1;32m      9\u001b[0m \u001b[0mcol\u001b[0m \u001b[0;34m=\u001b[0m \u001b[0mreview\u001b[0m\u001b[0;34m[\u001b[0m\u001b[0mITEM_COL\u001b[0m\u001b[0;34m]\u001b[0m\u001b[0;34m\u001b[0m\u001b[0;34m\u001b[0m\u001b[0m\n\u001b[1;32m     10\u001b[0m \u001b[0mdata\u001b[0m \u001b[0;34m=\u001b[0m \u001b[0mreview\u001b[0m\u001b[0;34m[\u001b[0m\u001b[0mRATING_COL\u001b[0m\u001b[0;34m]\u001b[0m\u001b[0;34m\u001b[0m\u001b[0;34m\u001b[0m\u001b[0m\n\u001b[0;32m---> 11\u001b[0;31m \u001b[0mmat\u001b[0m \u001b[0;34m=\u001b[0m \u001b[0mcsr_matrix\u001b[0m\u001b[0;34m(\u001b[0m\u001b[0;34m(\u001b[0m\u001b[0mdata\u001b[0m\u001b[0;34m,\u001b[0m \u001b[0;34m(\u001b[0m\u001b[0mrow\u001b[0m\u001b[0;34m,\u001b[0m \u001b[0mcol\u001b[0m\u001b[0;34m)\u001b[0m\u001b[0;34m)\u001b[0m\u001b[0;34m,\u001b[0m \u001b[0mshape\u001b[0m\u001b[0;34m=\u001b[0m\u001b[0;34m(\u001b[0m\u001b[0musers\u001b[0m\u001b[0;34m,\u001b[0m \u001b[0mitems\u001b[0m\u001b[0;34m)\u001b[0m\u001b[0;34m)\u001b[0m\u001b[0;34m\u001b[0m\u001b[0;34m\u001b[0m\u001b[0m\n\u001b[0m\u001b[1;32m     12\u001b[0m \u001b[0mmat\u001b[0m\u001b[0;34m.\u001b[0m\u001b[0meliminate_zeros\u001b[0m\u001b[0;34m(\u001b[0m\u001b[0;34m)\u001b[0m\u001b[0;34m\u001b[0m\u001b[0;34m\u001b[0m\u001b[0m\n\u001b[1;32m     13\u001b[0m \u001b[0msparsity\u001b[0m \u001b[0;34m=\u001b[0m \u001b[0mfloat\u001b[0m\u001b[0;34m(\u001b[0m\u001b[0mlen\u001b[0m\u001b[0;34m(\u001b[0m\u001b[0mmat\u001b[0m\u001b[0;34m.\u001b[0m\u001b[0mnonzero\u001b[0m\u001b[0;34m(\u001b[0m\u001b[0;34m)\u001b[0m\u001b[0;34m[\u001b[0m\u001b[0;36m0\u001b[0m\u001b[0;34m]\u001b[0m\u001b[0;34m)\u001b[0m\u001b[0;34m)\u001b[0m\u001b[0;34m\u001b[0m\u001b[0;34m\u001b[0m\u001b[0m\n",
            "\u001b[0;32m/usr/local/lib/python3.7/dist-packages/scipy/sparse/compressed.py\u001b[0m in \u001b[0;36m__init__\u001b[0;34m(self, arg1, shape, dtype, copy)\u001b[0m\n\u001b[1;32m     55\u001b[0m                     \u001b[0;31m# (data, ij) format\u001b[0m\u001b[0;34m\u001b[0m\u001b[0;34m\u001b[0m\u001b[0;34m\u001b[0m\u001b[0m\n\u001b[1;32m     56\u001b[0m                     \u001b[0;32mfrom\u001b[0m \u001b[0;34m.\u001b[0m\u001b[0mcoo\u001b[0m \u001b[0;32mimport\u001b[0m \u001b[0mcoo_matrix\u001b[0m\u001b[0;34m\u001b[0m\u001b[0;34m\u001b[0m\u001b[0m\n\u001b[0;32m---> 57\u001b[0;31m                     \u001b[0mother\u001b[0m \u001b[0;34m=\u001b[0m \u001b[0mself\u001b[0m\u001b[0;34m.\u001b[0m\u001b[0m__class__\u001b[0m\u001b[0;34m(\u001b[0m\u001b[0mcoo_matrix\u001b[0m\u001b[0;34m(\u001b[0m\u001b[0marg1\u001b[0m\u001b[0;34m,\u001b[0m \u001b[0mshape\u001b[0m\u001b[0;34m=\u001b[0m\u001b[0mshape\u001b[0m\u001b[0;34m)\u001b[0m\u001b[0;34m)\u001b[0m\u001b[0;34m\u001b[0m\u001b[0;34m\u001b[0m\u001b[0m\n\u001b[0m\u001b[1;32m     58\u001b[0m                     \u001b[0mself\u001b[0m\u001b[0;34m.\u001b[0m\u001b[0m_set_self\u001b[0m\u001b[0;34m(\u001b[0m\u001b[0mother\u001b[0m\u001b[0;34m)\u001b[0m\u001b[0;34m\u001b[0m\u001b[0;34m\u001b[0m\u001b[0m\n\u001b[1;32m     59\u001b[0m                 \u001b[0;32melif\u001b[0m \u001b[0mlen\u001b[0m\u001b[0;34m(\u001b[0m\u001b[0marg1\u001b[0m\u001b[0;34m)\u001b[0m \u001b[0;34m==\u001b[0m \u001b[0;36m3\u001b[0m\u001b[0;34m:\u001b[0m\u001b[0;34m\u001b[0m\u001b[0;34m\u001b[0m\u001b[0m\n",
            "\u001b[0;32m/usr/local/lib/python3.7/dist-packages/scipy/sparse/coo.py\u001b[0m in \u001b[0;36m__init__\u001b[0;34m(self, arg1, shape, dtype, copy)\u001b[0m\n\u001b[1;32m    157\u001b[0m \u001b[0;34m\u001b[0m\u001b[0m\n\u001b[1;32m    158\u001b[0m                 \u001b[0midx_dtype\u001b[0m \u001b[0;34m=\u001b[0m \u001b[0mget_index_dtype\u001b[0m\u001b[0;34m(\u001b[0m\u001b[0mmaxval\u001b[0m\u001b[0;34m=\u001b[0m\u001b[0mmax\u001b[0m\u001b[0;34m(\u001b[0m\u001b[0mself\u001b[0m\u001b[0;34m.\u001b[0m\u001b[0mshape\u001b[0m\u001b[0;34m)\u001b[0m\u001b[0;34m)\u001b[0m\u001b[0;34m\u001b[0m\u001b[0;34m\u001b[0m\u001b[0m\n\u001b[0;32m--> 159\u001b[0;31m                 \u001b[0mself\u001b[0m\u001b[0;34m.\u001b[0m\u001b[0mrow\u001b[0m \u001b[0;34m=\u001b[0m \u001b[0mnp\u001b[0m\u001b[0;34m.\u001b[0m\u001b[0marray\u001b[0m\u001b[0;34m(\u001b[0m\u001b[0mrow\u001b[0m\u001b[0;34m,\u001b[0m \u001b[0mcopy\u001b[0m\u001b[0;34m=\u001b[0m\u001b[0mcopy\u001b[0m\u001b[0;34m,\u001b[0m \u001b[0mdtype\u001b[0m\u001b[0;34m=\u001b[0m\u001b[0midx_dtype\u001b[0m\u001b[0;34m)\u001b[0m\u001b[0;34m\u001b[0m\u001b[0;34m\u001b[0m\u001b[0m\n\u001b[0m\u001b[1;32m    160\u001b[0m                 \u001b[0mself\u001b[0m\u001b[0;34m.\u001b[0m\u001b[0mcol\u001b[0m \u001b[0;34m=\u001b[0m \u001b[0mnp\u001b[0m\u001b[0;34m.\u001b[0m\u001b[0marray\u001b[0m\u001b[0;34m(\u001b[0m\u001b[0mcol\u001b[0m\u001b[0;34m,\u001b[0m \u001b[0mcopy\u001b[0m\u001b[0;34m=\u001b[0m\u001b[0mcopy\u001b[0m\u001b[0;34m,\u001b[0m \u001b[0mdtype\u001b[0m\u001b[0;34m=\u001b[0m\u001b[0midx_dtype\u001b[0m\u001b[0;34m)\u001b[0m\u001b[0;34m\u001b[0m\u001b[0;34m\u001b[0m\u001b[0m\n\u001b[1;32m    161\u001b[0m                 \u001b[0mself\u001b[0m\u001b[0;34m.\u001b[0m\u001b[0mdata\u001b[0m \u001b[0;34m=\u001b[0m \u001b[0mnp\u001b[0m\u001b[0;34m.\u001b[0m\u001b[0marray\u001b[0m\u001b[0;34m(\u001b[0m\u001b[0mobj\u001b[0m\u001b[0;34m,\u001b[0m \u001b[0mcopy\u001b[0m\u001b[0;34m=\u001b[0m\u001b[0mcopy\u001b[0m\u001b[0;34m)\u001b[0m\u001b[0;34m\u001b[0m\u001b[0;34m\u001b[0m\u001b[0m\n",
            "\u001b[0;32m/usr/local/lib/python3.7/dist-packages/pandas/core/series.py\u001b[0m in \u001b[0;36m__array__\u001b[0;34m(self, dtype)\u001b[0m\n\u001b[1;32m    855\u001b[0m               dtype='datetime64[ns]')\n\u001b[1;32m    856\u001b[0m         \"\"\"\n\u001b[0;32m--> 857\u001b[0;31m         \u001b[0;32mreturn\u001b[0m \u001b[0mnp\u001b[0m\u001b[0;34m.\u001b[0m\u001b[0masarray\u001b[0m\u001b[0;34m(\u001b[0m\u001b[0mself\u001b[0m\u001b[0;34m.\u001b[0m\u001b[0m_values\u001b[0m\u001b[0;34m,\u001b[0m \u001b[0mdtype\u001b[0m\u001b[0;34m)\u001b[0m\u001b[0;34m\u001b[0m\u001b[0;34m\u001b[0m\u001b[0m\n\u001b[0m\u001b[1;32m    858\u001b[0m \u001b[0;34m\u001b[0m\u001b[0m\n\u001b[1;32m    859\u001b[0m     \u001b[0;31m# ----------------------------------------------------------------------\u001b[0m\u001b[0;34m\u001b[0m\u001b[0;34m\u001b[0m\u001b[0;34m\u001b[0m\u001b[0m\n",
            "\u001b[0;31mValueError\u001b[0m: invalid literal for int() with base 10: 'A1ZCPG3D3HGRSS'"
          ]
        }
      ]
    },
    {
      "cell_type": "code",
      "source": [
        "review['reviewTime'] = pd.to_datetime(review['reviewTime'])\n",
        "review['year'] = review['reviewTime'].dt.year"
      ],
      "metadata": {
        "colab": {
          "base_uri": "https://localhost:8080/"
        },
        "id": "-cASGsM69esV",
        "outputId": "b8c129c9-e000-4fd8-fbf7-53dc362c7a85"
      },
      "execution_count": null,
      "outputs": [
        {
          "output_type": "execute_result",
          "data": {
            "text/plain": [
              "0          2013\n",
              "1          2013\n",
              "2          2013\n",
              "3          2012\n",
              "4          2012\n",
              "           ... \n",
              "1584077    2018\n",
              "1584078    2018\n",
              "1584079    2017\n",
              "1584080    2018\n",
              "1584081    2017\n",
              "Name: reviewTime, Length: 1584082, dtype: int64"
            ]
          },
          "metadata": {},
          "execution_count": 5
        }
      ]
    },
    {
      "cell_type": "code",
      "source": [
        ""
      ],
      "metadata": {
        "id": "K6nxEBza9ezd"
      },
      "execution_count": null,
      "outputs": []
    },
    {
      "cell_type": "code",
      "source": [
        ""
      ],
      "metadata": {
        "id": "GQ7Zpbep9e3W"
      },
      "execution_count": null,
      "outputs": []
    },
    {
      "cell_type": "code",
      "source": [
        "# Links for the 2014 version \n",
        "meta_url = \"http://snap.stanford.edu/data/amazon/productGraph/categoryFiles/meta_Digital_Music.json.gz\"\n",
        "ratings_url = \"http://snap.stanford.edu/data/amazon/productGraph/categoryFiles/ratings_Digital_Music.csv\"\n",
        "reviews_url = \"http://snap.stanford.edu/data/amazon/productGraph/categoryFiles/reviews_Digital_Music_5.json.gz\"\n",
        "\n",
        "columns = ['reviewrId', 'musicId', 'rating', 'reviewTime']"
      ],
      "metadata": {
        "id": "q1YFTtiiuTMW"
      },
      "execution_count": null,
      "outputs": []
    },
    {
      "cell_type": "code",
      "source": [
        "music_reviews.rename(columns = {'reviewerID':'reviewerId', 'overall':'rating', 'asin':'musicId'}, inplace = True)\n",
        "music_reviews.head(2)"
      ],
      "metadata": {
        "colab": {
          "base_uri": "https://localhost:8080/",
          "height": 260
        },
        "id": "fih0G3NsKHc6",
        "outputId": "6a61f086-1b96-446b-bd02-5573a52ff370"
      },
      "execution_count": null,
      "outputs": [
        {
          "output_type": "execute_result",
          "data": {
            "text/plain": [
              "       reviewerId     musicId          reviewerName helpful  \\\n",
              "0  A3EBHHCZO6V2A4  5555991584  Amaranth \"music fan\"  [3, 3]   \n",
              "1   AZPWAXJG9OJXV  5555991584             bethtexas  [0, 0]   \n",
              "\n",
              "                                          reviewText  rating  \\\n",
              "0  It's hard to believe \"Memory of Trees\" came ou...       5   \n",
              "1  A clasically-styled and introverted album, Mem...       5   \n",
              "\n",
              "                    summary  unixReviewTime   reviewTime  \n",
              "0   Enya's last great album      1158019200  09 12, 2006  \n",
              "1  Enya at her most elegant       991526400   06 3, 2001  "
            ],
            "text/html": [
              "\n",
              "  <div id=\"df-35da2a42-91ed-42b7-a16b-db85220028ff\">\n",
              "    <div class=\"colab-df-container\">\n",
              "      <div>\n",
              "<style scoped>\n",
              "    .dataframe tbody tr th:only-of-type {\n",
              "        vertical-align: middle;\n",
              "    }\n",
              "\n",
              "    .dataframe tbody tr th {\n",
              "        vertical-align: top;\n",
              "    }\n",
              "\n",
              "    .dataframe thead th {\n",
              "        text-align: right;\n",
              "    }\n",
              "</style>\n",
              "<table border=\"1\" class=\"dataframe\">\n",
              "  <thead>\n",
              "    <tr style=\"text-align: right;\">\n",
              "      <th></th>\n",
              "      <th>reviewerId</th>\n",
              "      <th>musicId</th>\n",
              "      <th>reviewerName</th>\n",
              "      <th>helpful</th>\n",
              "      <th>reviewText</th>\n",
              "      <th>rating</th>\n",
              "      <th>summary</th>\n",
              "      <th>unixReviewTime</th>\n",
              "      <th>reviewTime</th>\n",
              "    </tr>\n",
              "  </thead>\n",
              "  <tbody>\n",
              "    <tr>\n",
              "      <th>0</th>\n",
              "      <td>A3EBHHCZO6V2A4</td>\n",
              "      <td>5555991584</td>\n",
              "      <td>Amaranth \"music fan\"</td>\n",
              "      <td>[3, 3]</td>\n",
              "      <td>It's hard to believe \"Memory of Trees\" came ou...</td>\n",
              "      <td>5</td>\n",
              "      <td>Enya's last great album</td>\n",
              "      <td>1158019200</td>\n",
              "      <td>09 12, 2006</td>\n",
              "    </tr>\n",
              "    <tr>\n",
              "      <th>1</th>\n",
              "      <td>AZPWAXJG9OJXV</td>\n",
              "      <td>5555991584</td>\n",
              "      <td>bethtexas</td>\n",
              "      <td>[0, 0]</td>\n",
              "      <td>A clasically-styled and introverted album, Mem...</td>\n",
              "      <td>5</td>\n",
              "      <td>Enya at her most elegant</td>\n",
              "      <td>991526400</td>\n",
              "      <td>06 3, 2001</td>\n",
              "    </tr>\n",
              "  </tbody>\n",
              "</table>\n",
              "</div>\n",
              "      <button class=\"colab-df-convert\" onclick=\"convertToInteractive('df-35da2a42-91ed-42b7-a16b-db85220028ff')\"\n",
              "              title=\"Convert this dataframe to an interactive table.\"\n",
              "              style=\"display:none;\">\n",
              "        \n",
              "  <svg xmlns=\"http://www.w3.org/2000/svg\" height=\"24px\"viewBox=\"0 0 24 24\"\n",
              "       width=\"24px\">\n",
              "    <path d=\"M0 0h24v24H0V0z\" fill=\"none\"/>\n",
              "    <path d=\"M18.56 5.44l.94 2.06.94-2.06 2.06-.94-2.06-.94-.94-2.06-.94 2.06-2.06.94zm-11 1L8.5 8.5l.94-2.06 2.06-.94-2.06-.94L8.5 2.5l-.94 2.06-2.06.94zm10 10l.94 2.06.94-2.06 2.06-.94-2.06-.94-.94-2.06-.94 2.06-2.06.94z\"/><path d=\"M17.41 7.96l-1.37-1.37c-.4-.4-.92-.59-1.43-.59-.52 0-1.04.2-1.43.59L10.3 9.45l-7.72 7.72c-.78.78-.78 2.05 0 2.83L4 21.41c.39.39.9.59 1.41.59.51 0 1.02-.2 1.41-.59l7.78-7.78 2.81-2.81c.8-.78.8-2.07 0-2.86zM5.41 20L4 18.59l7.72-7.72 1.47 1.35L5.41 20z\"/>\n",
              "  </svg>\n",
              "      </button>\n",
              "      \n",
              "  <style>\n",
              "    .colab-df-container {\n",
              "      display:flex;\n",
              "      flex-wrap:wrap;\n",
              "      gap: 12px;\n",
              "    }\n",
              "\n",
              "    .colab-df-convert {\n",
              "      background-color: #E8F0FE;\n",
              "      border: none;\n",
              "      border-radius: 50%;\n",
              "      cursor: pointer;\n",
              "      display: none;\n",
              "      fill: #1967D2;\n",
              "      height: 32px;\n",
              "      padding: 0 0 0 0;\n",
              "      width: 32px;\n",
              "    }\n",
              "\n",
              "    .colab-df-convert:hover {\n",
              "      background-color: #E2EBFA;\n",
              "      box-shadow: 0px 1px 2px rgba(60, 64, 67, 0.3), 0px 1px 3px 1px rgba(60, 64, 67, 0.15);\n",
              "      fill: #174EA6;\n",
              "    }\n",
              "\n",
              "    [theme=dark] .colab-df-convert {\n",
              "      background-color: #3B4455;\n",
              "      fill: #D2E3FC;\n",
              "    }\n",
              "\n",
              "    [theme=dark] .colab-df-convert:hover {\n",
              "      background-color: #434B5C;\n",
              "      box-shadow: 0px 1px 3px 1px rgba(0, 0, 0, 0.15);\n",
              "      filter: drop-shadow(0px 1px 2px rgba(0, 0, 0, 0.3));\n",
              "      fill: #FFFFFF;\n",
              "    }\n",
              "  </style>\n",
              "\n",
              "      <script>\n",
              "        const buttonEl =\n",
              "          document.querySelector('#df-35da2a42-91ed-42b7-a16b-db85220028ff button.colab-df-convert');\n",
              "        buttonEl.style.display =\n",
              "          google.colab.kernel.accessAllowed ? 'block' : 'none';\n",
              "\n",
              "        async function convertToInteractive(key) {\n",
              "          const element = document.querySelector('#df-35da2a42-91ed-42b7-a16b-db85220028ff');\n",
              "          const dataTable =\n",
              "            await google.colab.kernel.invokeFunction('convertToInteractive',\n",
              "                                                     [key], {});\n",
              "          if (!dataTable) return;\n",
              "\n",
              "          const docLinkHtml = 'Like what you see? Visit the ' +\n",
              "            '<a target=\"_blank\" href=https://colab.research.google.com/notebooks/data_table.ipynb>data table notebook</a>'\n",
              "            + ' to learn more about interactive tables.';\n",
              "          element.innerHTML = '';\n",
              "          dataTable['output_type'] = 'display_data';\n",
              "          await google.colab.output.renderOutput(dataTable, element);\n",
              "          const docLink = document.createElement('div');\n",
              "          docLink.innerHTML = docLinkHtml;\n",
              "          element.appendChild(docLink);\n",
              "        }\n",
              "      </script>\n",
              "    </div>\n",
              "  </div>\n",
              "  "
            ]
          },
          "metadata": {},
          "execution_count": 2
        }
      ]
    },
    {
      "cell_type": "code",
      "source": [
        "music_reviews['rating'].hist()"
      ],
      "metadata": {
        "colab": {
          "base_uri": "https://localhost:8080/",
          "height": 283
        },
        "id": "_ZYBqUg_KHgs",
        "outputId": "1124b126-f43b-47d6-d24f-d9839940e8b2"
      },
      "execution_count": null,
      "outputs": [
        {
          "output_type": "execute_result",
          "data": {
            "text/plain": [
              "<matplotlib.axes._subplots.AxesSubplot at 0x7fa915380d90>"
            ]
          },
          "metadata": {},
          "execution_count": 20
        },
        {
          "output_type": "display_data",
          "data": {
            "text/plain": [
              "<Figure size 432x288 with 1 Axes>"
            ],
            "image/png": "[encoded data removed]"
          },
          "metadata": {
            "needs_background": "light"
          }
        }
      ]
    },
    {
      "cell_type": "code",
      "source": [
        ""
      ],
      "metadata": {
        "id": "6Kc0iYZ9TJSV"
      },
      "execution_count": null,
      "outputs": []
    }
  ]
}