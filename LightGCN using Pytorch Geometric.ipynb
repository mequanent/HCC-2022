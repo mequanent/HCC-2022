{
  "nbformat": 4,
  "nbformat_minor": 0,
  "metadata": {
    "colab": {
      "name": "lightgcn_pyg.ipynb",
      "provenance": [],
      "collapsed_sections": [],
      "include_colab_link": true
    },
    "kernelspec": {
      "display_name": "Python 3",
      "name": "python3"
    },
    "language_info": {
      "name": "python"
    }
  },
  "cells": [
    {
      "cell_type": "markdown",
      "metadata": {
        "id": "view-in-github",
        "colab_type": "text"
      },
      "source": [
        "<a href=\"https://colab.research.google.com/github/mequanent/Music-Recommendation-Exercises/blob/main/LightGCN%20using%20Pytorch%20Geometric.ipynb\" target=\"_parent\"><img src=\"https://colab.research.google.com/assets/colab-badge.svg\" alt=\"Open In Colab\"/></a>"
      ]
    },
    {
      "cell_type": "markdown",
      "source": [
        "Reference: LightGCN with PyTorch Geometric from [Medium](https://medium.com/stanford-cs224w/lightgcn-with-pytorch-geometric-91bab836471e).\n",
        "\n",
        "@hhotta@stanford.edu"
      ],
      "metadata": {
        "id": "-HEi2gj_sPQD"
      }
    },
    {
      "cell_type": "code",
      "source": [
        "# To install the correct version of Pytorch Geometric.\n",
        "# This cell is modified from: https://gist.github.com/ameya98/b193856171d11d37ada46458f60e73e7\n",
        "\n",
        "import torch\n",
        "\n",
        "TORCH_version = torch.__version__\n",
        "CUDA_version = torch.version.cuda\n",
        "\n",
        "TORCH = TORCH_version.split('+')[0]\n",
        "CUDA = 'cu' + CUDA_version.replace('.', '')\n",
        "\n",
        "!pip install -q torch-scatter     -f https://pytorch-geometric.com/whl/torch-{TORCH}+{CUDA}.html\n",
        "!pip install -q torch-sparse      -f https://pytorch-geometric.com/whl/torch-{TORCH}+{CUDA}.html\n",
        "!pip install -q torch-cluster     -f https://pytorch-geometric.com/whl/torch-{TORCH}+{CUDA}.html\n",
        "!pip install -q torch-spline-conv -f https://pytorch-geometric.com/whl/torch-{TORCH}+{CUDA}.html\n",
        "!pip install -q torch-geometric "
      ],
      "metadata": {
        "id": "EGuLx-U-krHR",
        "outputId": "d13cd64e-3a4a-40ef-c3a1-3a7570d4b7f4",
        "colab": {
          "base_uri": "https://localhost:8080/"
        }
      },
      "execution_count": 1,
      "outputs": [
        {
          "output_type": "stream",
          "name": "stdout",
          "text": [
            "\u001b[K     |████████████████████████████████| 7.9 MB 11.4 MB/s \n",
            "\u001b[K     |████████████████████████████████| 3.5 MB 15.1 MB/s \n",
            "\u001b[K     |████████████████████████████████| 2.5 MB 14.6 MB/s \n",
            "\u001b[K     |████████████████████████████████| 750 kB 16.3 MB/s \n",
            "\u001b[K     |████████████████████████████████| 407 kB 14.0 MB/s \n",
            "\u001b[?25h  Building wheel for torch-geometric (setup.py) ... \u001b[?25l\u001b[?25hdone\n"
          ]
        }
      ]
    },
    {
      "cell_type": "markdown",
      "metadata": {
        "id": "rWkNAZvtNQ6R"
      },
      "source": [
        "# Implementing a Recommender System using LightGCN\n",
        "\n",
        "In this colab, we explain how to set up a graph recommender system using the [LighGCN](https://arxiv.org/abs/2002.02126) model. Specifically, we apply LightGCN to a movie recommendation task using [PyTorch](https://pytorch.org/) and [PyTorch Geometric](https://pytorch-geometric.readthedocs.io/en/latest/).\n",
        "\n",
        "We use the [MovieLens](https://grouplens.org/datasets/movielens/) (*small*) dataset which has 100,000 ratings applied to 9,000 movies by 600 users. \n",
        "\n",
        "Our implementation was inspired by the following documentation and repositories:\n",
        "- https://github.com/gusye1234/LightGCN-PyTorch\n",
        "- https://www.kaggle.com/dipanjandas96/lightgcn-pytorch-from-scratch\n",
        "- https://pytorch-geometric.readthedocs.io/en/latest/notes/load_csv.html"
      ]
    },
    {
      "cell_type": "code",
      "metadata": {
        "id": "5OBSacx6Q03m"
      },
      "source": [
        "# import required modules\n",
        "from pathlib import Path\n",
        "import random\n",
        "from tqdm import tqdm\n",
        "import pandas as pd\n",
        "import numpy as np\n",
        "import matplotlib.pyplot as plt\n",
        "from sklearn.model_selection import train_test_split\n",
        "from sklearn import preprocessing as prep\n",
        "\n",
        "import torch\n",
        "from torch import nn, optim, Tensor\n",
        "\n",
        "from torch_sparse import SparseTensor, matmul\n",
        "\n",
        "from torch_geometric.utils import structured_negative_sampling\n",
        "from torch_geometric.data import download_url, extract_zip\n",
        "from torch_geometric.nn.conv.gcn_conv import gcn_norm\n",
        "from torch_geometric.nn.conv import MessagePassing\n",
        "from torch_geometric.typing import Adj"
      ],
      "execution_count": 2,
      "outputs": []
    },
    {
      "cell_type": "markdown",
      "metadata": {
        "id": "8mZ6-zPxPklE"
      },
      "source": [
        "# Loading the Dataset\n",
        "\n",
        "We load the dataset and set ratings >=4 on a 0.5 ~ 5 scale as an edge between users and movies.\n",
        "\n",
        "We split the edges of the graph using a 80/10/10 train/validation/test split."
      ]
    },
    {
      "cell_type": "code",
      "metadata": {
        "colab": {
          "base_uri": "https://localhost:8080/"
        },
        "id": "6cRC_IazQ4Oj",
        "outputId": "016702ed-e8fc-494f-8e4d-2a3b5d7f8bf3"
      },
      "source": [
        "# Movie\n",
        "# download the dataset\n",
        "url = 'https://files.grouplens.org/datasets/movielens/ml-latest-small.zip'\n",
        "extract_zip(download_url(url, '.'), '.')\n",
        "\n",
        "movie_path = './ml-latest-small/movies.csv'\n",
        "rating_path = './ml-latest-small/ratings.csv'"
      ],
      "execution_count": 61,
      "outputs": [
        {
          "output_type": "stream",
          "name": "stderr",
          "text": [
            "Using existing file ml-latest-small.zip\n",
            "Extracting ./ml-latest-small.zip\n"
          ]
        }
      ]
    },
    {
      "cell_type": "code",
      "source": [
        "# Music\n",
        "metaurl = \"http://deepyeti.ucsd.edu/jianmo/amazon/metaFiles2/meta_Digital_Music.json.gz\"\n",
        "reviewurl = \"http://deepyeti.ucsd.edu/jianmo/amazon/categoryFiles/Digital_Music.json.gz\"\n",
        "ratingurl = \"http://deepyeti.ucsd.edu/jianmo/amazon/categoryFilesSmall/Digital_Music.csv\"\n",
        "\n",
        "meta = pd.read_json(metaurl, lines = True)\n",
        "\n",
        "moviecols = ['movieId',\t'title',\t'genres'] # For music review"
      ],
      "metadata": {
        "id": "Gw2NNxgbv2tP"
      },
      "execution_count": 7,
      "outputs": []
    },
    {
      "cell_type": "code",
      "source": [
        "review = pd.read_json(reviewurl, lines = True)"
      ],
      "metadata": {
        "id": "_yKGskeVqngx"
      },
      "execution_count": 8,
      "outputs": []
    },
    {
      "cell_type": "code",
      "source": [
        "\n",
        "columns = ['movieId','userId','rating','timestamp']\n",
        "rating = pd.read_csv(ratingurl, names=columns, header = None)\n",
        "# Re-order the user and item columns\n",
        "columns = ['userId','movieId','rating','timestamp']\n",
        "rating = rating.reindex(columns=columns)\n",
        "rating.head(2)"
      ],
      "metadata": {
        "id": "qN6hjodymO7p",
        "outputId": "0b0ee429-45e0-44ba-84eb-06864a668e1a",
        "colab": {
          "base_uri": "https://localhost:8080/",
          "height": 112
        }
      },
      "execution_count": 9,
      "outputs": [
        {
          "output_type": "execute_result",
          "data": {
            "text/plain": [
              "           userId     movieId  rating   timestamp\n",
              "0  A1ZCPG3D3HGRSS  0001388703     5.0  1387670400\n",
              "1   AC2PL52NKPL29  0001388703     5.0  1378857600"
            ],
            "text/html": [
              "\n",
              "  <div id=\"df-5c2a678c-3b81-47ff-8059-aa872aeb92f7\">\n",
              "    <div class=\"colab-df-container\">\n",
              "      <div>\n",
              "<style scoped>\n",
              "    .dataframe tbody tr th:only-of-type {\n",
              "        vertical-align: middle;\n",
              "    }\n",
              "\n",
              "    .dataframe tbody tr th {\n",
              "        vertical-align: top;\n",
              "    }\n",
              "\n",
              "    .dataframe thead th {\n",
              "        text-align: right;\n",
              "    }\n",
              "</style>\n",
              "<table border=\"1\" class=\"dataframe\">\n",
              "  <thead>\n",
              "    <tr style=\"text-align: right;\">\n",
              "      <th></th>\n",
              "      <th>userId</th>\n",
              "      <th>movieId</th>\n",
              "      <th>rating</th>\n",
              "      <th>timestamp</th>\n",
              "    </tr>\n",
              "  </thead>\n",
              "  <tbody>\n",
              "    <tr>\n",
              "      <th>0</th>\n",
              "      <td>A1ZCPG3D3HGRSS</td>\n",
              "      <td>0001388703</td>\n",
              "      <td>5.0</td>\n",
              "      <td>1387670400</td>\n",
              "    </tr>\n",
              "    <tr>\n",
              "      <th>1</th>\n",
              "      <td>AC2PL52NKPL29</td>\n",
              "      <td>0001388703</td>\n",
              "      <td>5.0</td>\n",
              "      <td>1378857600</td>\n",
              "    </tr>\n",
              "  </tbody>\n",
              "</table>\n",
              "</div>\n",
              "      <button class=\"colab-df-convert\" onclick=\"convertToInteractive('df-5c2a678c-3b81-47ff-8059-aa872aeb92f7')\"\n",
              "              title=\"Convert this dataframe to an interactive table.\"\n",
              "              style=\"display:none;\">\n",
              "        \n",
              "  <svg xmlns=\"http://www.w3.org/2000/svg\" height=\"24px\"viewBox=\"0 0 24 24\"\n",
              "       width=\"24px\">\n",
              "    <path d=\"M0 0h24v24H0V0z\" fill=\"none\"/>\n",
              "    <path d=\"M18.56 5.44l.94 2.06.94-2.06 2.06-.94-2.06-.94-.94-2.06-.94 2.06-2.06.94zm-11 1L8.5 8.5l.94-2.06 2.06-.94-2.06-.94L8.5 2.5l-.94 2.06-2.06.94zm10 10l.94 2.06.94-2.06 2.06-.94-2.06-.94-.94-2.06-.94 2.06-2.06.94z\"/><path d=\"M17.41 7.96l-1.37-1.37c-.4-.4-.92-.59-1.43-.59-.52 0-1.04.2-1.43.59L10.3 9.45l-7.72 7.72c-.78.78-.78 2.05 0 2.83L4 21.41c.39.39.9.59 1.41.59.51 0 1.02-.2 1.41-.59l7.78-7.78 2.81-2.81c.8-.78.8-2.07 0-2.86zM5.41 20L4 18.59l7.72-7.72 1.47 1.35L5.41 20z\"/>\n",
              "  </svg>\n",
              "      </button>\n",
              "      \n",
              "  <style>\n",
              "    .colab-df-container {\n",
              "      display:flex;\n",
              "      flex-wrap:wrap;\n",
              "      gap: 12px;\n",
              "    }\n",
              "\n",
              "    .colab-df-convert {\n",
              "      background-color: #E8F0FE;\n",
              "      border: none;\n",
              "      border-radius: 50%;\n",
              "      cursor: pointer;\n",
              "      display: none;\n",
              "      fill: #1967D2;\n",
              "      height: 32px;\n",
              "      padding: 0 0 0 0;\n",
              "      width: 32px;\n",
              "    }\n",
              "\n",
              "    .colab-df-convert:hover {\n",
              "      background-color: #E2EBFA;\n",
              "      box-shadow: 0px 1px 2px rgba(60, 64, 67, 0.3), 0px 1px 3px 1px rgba(60, 64, 67, 0.15);\n",
              "      fill: #174EA6;\n",
              "    }\n",
              "\n",
              "    [theme=dark] .colab-df-convert {\n",
              "      background-color: #3B4455;\n",
              "      fill: #D2E3FC;\n",
              "    }\n",
              "\n",
              "    [theme=dark] .colab-df-convert:hover {\n",
              "      background-color: #434B5C;\n",
              "      box-shadow: 0px 1px 3px 1px rgba(0, 0, 0, 0.15);\n",
              "      filter: drop-shadow(0px 1px 2px rgba(0, 0, 0, 0.3));\n",
              "      fill: #FFFFFF;\n",
              "    }\n",
              "  </style>\n",
              "\n",
              "      <script>\n",
              "        const buttonEl =\n",
              "          document.querySelector('#df-5c2a678c-3b81-47ff-8059-aa872aeb92f7 button.colab-df-convert');\n",
              "        buttonEl.style.display =\n",
              "          google.colab.kernel.accessAllowed ? 'block' : 'none';\n",
              "\n",
              "        async function convertToInteractive(key) {\n",
              "          const element = document.querySelector('#df-5c2a678c-3b81-47ff-8059-aa872aeb92f7');\n",
              "          const dataTable =\n",
              "            await google.colab.kernel.invokeFunction('convertToInteractive',\n",
              "                                                     [key], {});\n",
              "          if (!dataTable) return;\n",
              "\n",
              "          const docLinkHtml = 'Like what you see? Visit the ' +\n",
              "            '<a target=\"_blank\" href=https://colab.research.google.com/notebooks/data_table.ipynb>data table notebook</a>'\n",
              "            + ' to learn more about interactive tables.';\n",
              "          element.innerHTML = '';\n",
              "          dataTable['output_type'] = 'display_data';\n",
              "          await google.colab.output.renderOutput(dataTable, element);\n",
              "          const docLink = document.createElement('div');\n",
              "          docLink.innerHTML = docLinkHtml;\n",
              "          element.appendChild(docLink);\n",
              "        }\n",
              "      </script>\n",
              "    </div>\n",
              "  </div>\n",
              "  "
            ]
          },
          "metadata": {},
          "execution_count": 9
        }
      ]
    },
    {
      "cell_type": "code",
      "source": [
        "reviews = review[['reviewerID', 'asin', 'overall', 'reviewerName']]"
      ],
      "metadata": {
        "id": "Sn4j_9BYmhY-"
      },
      "execution_count": 10,
      "outputs": []
    },
    {
      "cell_type": "code",
      "source": [
        "df = rating[rating['rating']>=2]\n",
        "df.shape"
      ],
      "metadata": {
        "id": "WUrz-DUGE_qM",
        "outputId": "e0f552f0-3afb-4abf-bcda-7ac4625ec1db",
        "colab": {
          "base_uri": "https://localhost:8080/"
        }
      },
      "execution_count": 32,
      "outputs": [
        {
          "output_type": "execute_result",
          "data": {
            "text/plain": [
              "(1540974, 4)"
            ]
          },
          "metadata": {},
          "execution_count": 32
        }
      ]
    },
    {
      "cell_type": "code",
      "source": [
        "len(df['userId'].value_counts().index.tolist())"
      ],
      "metadata": {
        "id": "AhdAnGvGKiEP",
        "outputId": "1784a47c-55aa-481b-88a2-de85e3f36467",
        "colab": {
          "base_uri": "https://localhost:8080/"
        }
      },
      "execution_count": 22,
      "outputs": [
        {
          "output_type": "execute_result",
          "data": {
            "text/plain": [
              "803369"
            ]
          },
          "metadata": {},
          "execution_count": 22
        }
      ]
    },
    {
      "cell_type": "code",
      "source": [
        "a = df['userId'].value_counts().index.tolist()[:60000]\n",
        "#a = df['userId'].value_counts().index.tolist()[48000:]\n",
        "df = df.loc[df['userId'].isin(a)]\n",
        "df.shape"
      ],
      "metadata": {
        "id": "T5PjX0AHIoWr",
        "outputId": "0ff1fe49-cea4-4593-8bd8-b779f3b2bfd9",
        "colab": {
          "base_uri": "https://localhost:8080/"
        }
      },
      "execution_count": 33,
      "outputs": [
        {
          "output_type": "execute_result",
          "data": {
            "text/plain": [
              "(557943, 4)"
            ]
          },
          "metadata": {},
          "execution_count": 33
        }
      ]
    },
    {
      "cell_type": "code",
      "source": [
        "print(len(rating), len(reviews))\n",
        "#rating = rating.groupby(['userId', 'movieId']).max()['rating'].reset_index() # drop multiple ratings\n",
        "#reviews = reviews.groupby(['reviewerID', 'asin']).max()['overall'].reset_index()\n",
        "R = rating.drop_duplicates(subset=['userId', 'movieId'], keep=False)\n",
        "Rvs = reviews.drop_duplicates(subset=['reviewerID', 'asin'], keep=False)\n",
        "R.rating.value_counts()\n",
        "print(len(R), len(Rvs))"
      ],
      "metadata": {
        "id": "YytDB7ULjv7N",
        "outputId": "4a995d4a-7461-4729-ae6e-e403c31a57f2",
        "colab": {
          "base_uri": "https://localhost:8080/"
        }
      },
      "execution_count": 11,
      "outputs": [
        {
          "output_type": "stream",
          "name": "stdout",
          "text": [
            "1584082 1584082\n",
            "1449926 1449926\n"
          ]
        }
      ]
    },
    {
      "cell_type": "code",
      "source": [
        "u = Rvs.asin.unique().tolist()\n",
        "v = meta.asin.unique().tolist()\n",
        "n = R.movieId.unique().tolist()\n",
        "m = set(n).intersection(v, u)\n",
        "\n",
        "print(len(u), len(n), len(v), len(m))\n",
        "\n",
        "met = meta.loc[meta['asin'].isin(m)]\n",
        "rev = Rvs.loc[review['asin'].isin(m)]\n",
        "rat = R.loc[rating['movieId'].isin(m)]\n",
        "print(len(rev), len(rat), len(met))"
      ],
      "metadata": {
        "id": "UlVBY8chn7Ck",
        "outputId": "ff6976dd-e817-4619-e216-29cc62c9142d",
        "colab": {
          "base_uri": "https://localhost:8080/"
        }
      },
      "execution_count": 12,
      "outputs": [
        {
          "output_type": "stream",
          "name": "stdout",
          "text": [
            "456471 456471 66013 65779\n",
            "160563 160563 74095\n"
          ]
        }
      ]
    },
    {
      "cell_type": "code",
      "source": [
        "rat[:2]"
      ],
      "metadata": {
        "id": "cG73wEULsaRn",
        "outputId": "51db6d46-a871-42eb-e590-12a06e1db0fd",
        "colab": {
          "base_uri": "https://localhost:8080/",
          "height": 112
        }
      },
      "execution_count": 125,
      "outputs": [
        {
          "output_type": "execute_result",
          "data": {
            "text/plain": [
              "           userId     movieId  rating   timestamp\n",
              "0  A1ZCPG3D3HGRSS  0001388703     5.0  1387670400\n",
              "1   AC2PL52NKPL29  0001388703     5.0  1378857600"
            ],
            "text/html": [
              "\n",
              "  <div id=\"df-e9eda936-f506-41e8-bd4b-8e553e5e6e9b\">\n",
              "    <div class=\"colab-df-container\">\n",
              "      <div>\n",
              "<style scoped>\n",
              "    .dataframe tbody tr th:only-of-type {\n",
              "        vertical-align: middle;\n",
              "    }\n",
              "\n",
              "    .dataframe tbody tr th {\n",
              "        vertical-align: top;\n",
              "    }\n",
              "\n",
              "    .dataframe thead th {\n",
              "        text-align: right;\n",
              "    }\n",
              "</style>\n",
              "<table border=\"1\" class=\"dataframe\">\n",
              "  <thead>\n",
              "    <tr style=\"text-align: right;\">\n",
              "      <th></th>\n",
              "      <th>userId</th>\n",
              "      <th>movieId</th>\n",
              "      <th>rating</th>\n",
              "      <th>timestamp</th>\n",
              "    </tr>\n",
              "  </thead>\n",
              "  <tbody>\n",
              "    <tr>\n",
              "      <th>0</th>\n",
              "      <td>A1ZCPG3D3HGRSS</td>\n",
              "      <td>0001388703</td>\n",
              "      <td>5.0</td>\n",
              "      <td>1387670400</td>\n",
              "    </tr>\n",
              "    <tr>\n",
              "      <th>1</th>\n",
              "      <td>AC2PL52NKPL29</td>\n",
              "      <td>0001388703</td>\n",
              "      <td>5.0</td>\n",
              "      <td>1378857600</td>\n",
              "    </tr>\n",
              "  </tbody>\n",
              "</table>\n",
              "</div>\n",
              "      <button class=\"colab-df-convert\" onclick=\"convertToInteractive('df-e9eda936-f506-41e8-bd4b-8e553e5e6e9b')\"\n",
              "              title=\"Convert this dataframe to an interactive table.\"\n",
              "              style=\"display:none;\">\n",
              "        \n",
              "  <svg xmlns=\"http://www.w3.org/2000/svg\" height=\"24px\"viewBox=\"0 0 24 24\"\n",
              "       width=\"24px\">\n",
              "    <path d=\"M0 0h24v24H0V0z\" fill=\"none\"/>\n",
              "    <path d=\"M18.56 5.44l.94 2.06.94-2.06 2.06-.94-2.06-.94-.94-2.06-.94 2.06-2.06.94zm-11 1L8.5 8.5l.94-2.06 2.06-.94-2.06-.94L8.5 2.5l-.94 2.06-2.06.94zm10 10l.94 2.06.94-2.06 2.06-.94-2.06-.94-.94-2.06-.94 2.06-2.06.94z\"/><path d=\"M17.41 7.96l-1.37-1.37c-.4-.4-.92-.59-1.43-.59-.52 0-1.04.2-1.43.59L10.3 9.45l-7.72 7.72c-.78.78-.78 2.05 0 2.83L4 21.41c.39.39.9.59 1.41.59.51 0 1.02-.2 1.41-.59l7.78-7.78 2.81-2.81c.8-.78.8-2.07 0-2.86zM5.41 20L4 18.59l7.72-7.72 1.47 1.35L5.41 20z\"/>\n",
              "  </svg>\n",
              "      </button>\n",
              "      \n",
              "  <style>\n",
              "    .colab-df-container {\n",
              "      display:flex;\n",
              "      flex-wrap:wrap;\n",
              "      gap: 12px;\n",
              "    }\n",
              "\n",
              "    .colab-df-convert {\n",
              "      background-color: #E8F0FE;\n",
              "      border: none;\n",
              "      border-radius: 50%;\n",
              "      cursor: pointer;\n",
              "      display: none;\n",
              "      fill: #1967D2;\n",
              "      height: 32px;\n",
              "      padding: 0 0 0 0;\n",
              "      width: 32px;\n",
              "    }\n",
              "\n",
              "    .colab-df-convert:hover {\n",
              "      background-color: #E2EBFA;\n",
              "      box-shadow: 0px 1px 2px rgba(60, 64, 67, 0.3), 0px 1px 3px 1px rgba(60, 64, 67, 0.15);\n",
              "      fill: #174EA6;\n",
              "    }\n",
              "\n",
              "    [theme=dark] .colab-df-convert {\n",
              "      background-color: #3B4455;\n",
              "      fill: #D2E3FC;\n",
              "    }\n",
              "\n",
              "    [theme=dark] .colab-df-convert:hover {\n",
              "      background-color: #434B5C;\n",
              "      box-shadow: 0px 1px 3px 1px rgba(0, 0, 0, 0.15);\n",
              "      filter: drop-shadow(0px 1px 2px rgba(0, 0, 0, 0.3));\n",
              "      fill: #FFFFFF;\n",
              "    }\n",
              "  </style>\n",
              "\n",
              "      <script>\n",
              "        const buttonEl =\n",
              "          document.querySelector('#df-e9eda936-f506-41e8-bd4b-8e553e5e6e9b button.colab-df-convert');\n",
              "        buttonEl.style.display =\n",
              "          google.colab.kernel.accessAllowed ? 'block' : 'none';\n",
              "\n",
              "        async function convertToInteractive(key) {\n",
              "          const element = document.querySelector('#df-e9eda936-f506-41e8-bd4b-8e553e5e6e9b');\n",
              "          const dataTable =\n",
              "            await google.colab.kernel.invokeFunction('convertToInteractive',\n",
              "                                                     [key], {});\n",
              "          if (!dataTable) return;\n",
              "\n",
              "          const docLinkHtml = 'Like what you see? Visit the ' +\n",
              "            '<a target=\"_blank\" href=https://colab.research.google.com/notebooks/data_table.ipynb>data table notebook</a>'\n",
              "            + ' to learn more about interactive tables.';\n",
              "          element.innerHTML = '';\n",
              "          dataTable['output_type'] = 'display_data';\n",
              "          await google.colab.output.renderOutput(dataTable, element);\n",
              "          const docLink = document.createElement('div');\n",
              "          docLink.innerHTML = docLinkHtml;\n",
              "          element.appendChild(docLink);\n",
              "        }\n",
              "      </script>\n",
              "    </div>\n",
              "  </div>\n",
              "  "
            ]
          },
          "metadata": {},
          "execution_count": 125
        }
      ]
    },
    {
      "cell_type": "code",
      "source": [
        "a = rev[['asin']]\n",
        "b = met[['asin', 'title', 'brand']]\n",
        "a_b = pd.merge(a, b, on = 'asin', how = 'inner').drop_duplicates()\n",
        "a_b.rename(columns = {'asin': 'movieId', 'brand': 'genres'}, inplace = True) \n",
        "ratng = pd.merge(rat, a_b, on = 'movieId', how = 'inner')\n",
        "#ratng = ratng[:100000]"
      ],
      "metadata": {
        "id": "UXNR9hohGDay"
      },
      "execution_count": 13,
      "outputs": []
    },
    {
      "cell_type": "code",
      "source": [
        "leu = prep.LabelEncoder() # ['userId','movieId','rating','timestamp']\n",
        "lem = prep.LabelEncoder()\n",
        "\n",
        "ratng['movieId'] = leu.fit_transform(ratng['movieId'].values)\n",
        "ratng['userId'] = lem.fit_transform(ratng['userId'].values)\n",
        "ratng.head(2)"
      ],
      "metadata": {
        "id": "dJhfhHmbbkTK",
        "outputId": "c757d90a-b840-4fa2-c9a6-0a9a5a06dd9f",
        "colab": {
          "base_uri": "https://localhost:8080/",
          "height": 112
        }
      },
      "execution_count": 14,
      "outputs": [
        {
          "output_type": "execute_result",
          "data": {
            "text/plain": [
              "   userId  movieId  rating   timestamp                          title  \\\n",
              "0   32685        1     5.0  1387670400  So You Wanna Go Back to Egypt   \n",
              "1  104143        1     5.0  1378857600  So You Wanna Go Back to Egypt   \n",
              "\n",
              "        genres  \n",
              "0  Keith Green  \n",
              "1  Keith Green  "
            ],
            "text/html": [
              "\n",
              "  <div id=\"df-9e3c6c41-26d5-4c2e-b5e2-55f95dc76e76\">\n",
              "    <div class=\"colab-df-container\">\n",
              "      <div>\n",
              "<style scoped>\n",
              "    .dataframe tbody tr th:only-of-type {\n",
              "        vertical-align: middle;\n",
              "    }\n",
              "\n",
              "    .dataframe tbody tr th {\n",
              "        vertical-align: top;\n",
              "    }\n",
              "\n",
              "    .dataframe thead th {\n",
              "        text-align: right;\n",
              "    }\n",
              "</style>\n",
              "<table border=\"1\" class=\"dataframe\">\n",
              "  <thead>\n",
              "    <tr style=\"text-align: right;\">\n",
              "      <th></th>\n",
              "      <th>userId</th>\n",
              "      <th>movieId</th>\n",
              "      <th>rating</th>\n",
              "      <th>timestamp</th>\n",
              "      <th>title</th>\n",
              "      <th>genres</th>\n",
              "    </tr>\n",
              "  </thead>\n",
              "  <tbody>\n",
              "    <tr>\n",
              "      <th>0</th>\n",
              "      <td>32685</td>\n",
              "      <td>1</td>\n",
              "      <td>5.0</td>\n",
              "      <td>1387670400</td>\n",
              "      <td>So You Wanna Go Back to Egypt</td>\n",
              "      <td>Keith Green</td>\n",
              "    </tr>\n",
              "    <tr>\n",
              "      <th>1</th>\n",
              "      <td>104143</td>\n",
              "      <td>1</td>\n",
              "      <td>5.0</td>\n",
              "      <td>1378857600</td>\n",
              "      <td>So You Wanna Go Back to Egypt</td>\n",
              "      <td>Keith Green</td>\n",
              "    </tr>\n",
              "  </tbody>\n",
              "</table>\n",
              "</div>\n",
              "      <button class=\"colab-df-convert\" onclick=\"convertToInteractive('df-9e3c6c41-26d5-4c2e-b5e2-55f95dc76e76')\"\n",
              "              title=\"Convert this dataframe to an interactive table.\"\n",
              "              style=\"display:none;\">\n",
              "        \n",
              "  <svg xmlns=\"http://www.w3.org/2000/svg\" height=\"24px\"viewBox=\"0 0 24 24\"\n",
              "       width=\"24px\">\n",
              "    <path d=\"M0 0h24v24H0V0z\" fill=\"none\"/>\n",
              "    <path d=\"M18.56 5.44l.94 2.06.94-2.06 2.06-.94-2.06-.94-.94-2.06-.94 2.06-2.06.94zm-11 1L8.5 8.5l.94-2.06 2.06-.94-2.06-.94L8.5 2.5l-.94 2.06-2.06.94zm10 10l.94 2.06.94-2.06 2.06-.94-2.06-.94-.94-2.06-.94 2.06-2.06.94z\"/><path d=\"M17.41 7.96l-1.37-1.37c-.4-.4-.92-.59-1.43-.59-.52 0-1.04.2-1.43.59L10.3 9.45l-7.72 7.72c-.78.78-.78 2.05 0 2.83L4 21.41c.39.39.9.59 1.41.59.51 0 1.02-.2 1.41-.59l7.78-7.78 2.81-2.81c.8-.78.8-2.07 0-2.86zM5.41 20L4 18.59l7.72-7.72 1.47 1.35L5.41 20z\"/>\n",
              "  </svg>\n",
              "      </button>\n",
              "      \n",
              "  <style>\n",
              "    .colab-df-container {\n",
              "      display:flex;\n",
              "      flex-wrap:wrap;\n",
              "      gap: 12px;\n",
              "    }\n",
              "\n",
              "    .colab-df-convert {\n",
              "      background-color: #E8F0FE;\n",
              "      border: none;\n",
              "      border-radius: 50%;\n",
              "      cursor: pointer;\n",
              "      display: none;\n",
              "      fill: #1967D2;\n",
              "      height: 32px;\n",
              "      padding: 0 0 0 0;\n",
              "      width: 32px;\n",
              "    }\n",
              "\n",
              "    .colab-df-convert:hover {\n",
              "      background-color: #E2EBFA;\n",
              "      box-shadow: 0px 1px 2px rgba(60, 64, 67, 0.3), 0px 1px 3px 1px rgba(60, 64, 67, 0.15);\n",
              "      fill: #174EA6;\n",
              "    }\n",
              "\n",
              "    [theme=dark] .colab-df-convert {\n",
              "      background-color: #3B4455;\n",
              "      fill: #D2E3FC;\n",
              "    }\n",
              "\n",
              "    [theme=dark] .colab-df-convert:hover {\n",
              "      background-color: #434B5C;\n",
              "      box-shadow: 0px 1px 3px 1px rgba(0, 0, 0, 0.15);\n",
              "      filter: drop-shadow(0px 1px 2px rgba(0, 0, 0, 0.3));\n",
              "      fill: #FFFFFF;\n",
              "    }\n",
              "  </style>\n",
              "\n",
              "      <script>\n",
              "        const buttonEl =\n",
              "          document.querySelector('#df-9e3c6c41-26d5-4c2e-b5e2-55f95dc76e76 button.colab-df-convert');\n",
              "        buttonEl.style.display =\n",
              "          google.colab.kernel.accessAllowed ? 'block' : 'none';\n",
              "\n",
              "        async function convertToInteractive(key) {\n",
              "          const element = document.querySelector('#df-9e3c6c41-26d5-4c2e-b5e2-55f95dc76e76');\n",
              "          const dataTable =\n",
              "            await google.colab.kernel.invokeFunction('convertToInteractive',\n",
              "                                                     [key], {});\n",
              "          if (!dataTable) return;\n",
              "\n",
              "          const docLinkHtml = 'Like what you see? Visit the ' +\n",
              "            '<a target=\"_blank\" href=https://colab.research.google.com/notebooks/data_table.ipynb>data table notebook</a>'\n",
              "            + ' to learn more about interactive tables.';\n",
              "          element.innerHTML = '';\n",
              "          dataTable['output_type'] = 'display_data';\n",
              "          await google.colab.output.renderOutput(dataTable, element);\n",
              "          const docLink = document.createElement('div');\n",
              "          docLink.innerHTML = docLinkHtml;\n",
              "          element.appendChild(docLink);\n",
              "        }\n",
              "      </script>\n",
              "    </div>\n",
              "  </div>\n",
              "  "
            ]
          },
          "metadata": {},
          "execution_count": 14
        }
      ]
    },
    {
      "cell_type": "code",
      "source": [
        "ratings = ratng[['userId', 'movieId',\t'rating',\t'timestamp']]\n",
        "movie = ratng[['movieId',\t'title',\t'genres'\t]].drop_duplicates()"
      ],
      "metadata": {
        "id": "Vg6i_1sdh5AO"
      },
      "execution_count": 15,
      "outputs": []
    },
    {
      "cell_type": "code",
      "source": [
        "ratings"
      ],
      "metadata": {
        "id": "4OCKoldlqUeF"
      },
      "execution_count": null,
      "outputs": []
    },
    {
      "cell_type": "code",
      "source": [
        "#path = Path('/content/drive/MyDrive/Colab Notebooks/') \n",
        "path = Path('./ml-latest-small/')\n",
        "movie_file = path/'movie.csv'\n",
        "rating_file = path/'rating.csv'\n",
        "\n",
        "#movie.to_csv(movie_file,columns = ['movieId',\t'title',\t'genres'], index=False)#  sep=' ')\n",
        "movie.to_csv(movie_file, index=False)\n",
        "ratings.to_csv(rating_file, index=False)\n",
        "#ratings.to_csv(rating_file, columns = ['userId',\t'movieId',\t'rating',\t'timestamp'])#, sep=' ')\n"
      ],
      "metadata": {
        "id": "vVD-GitQOonp"
      },
      "execution_count": 18,
      "outputs": []
    },
    {
      "cell_type": "code",
      "source": [
        "movie_path = './ml-latest-small/movie.csv'\n",
        "rating_path = './ml-latest-small/rating.csv'"
      ],
      "metadata": {
        "id": "cMGO9I8EaCPf"
      },
      "execution_count": 46,
      "outputs": []
    },
    {
      "cell_type": "code",
      "source": [
        "r = pd.read_csv(rating_path)\n",
        "r.shape"
      ],
      "metadata": {
        "id": "BAR03PlVrs3p",
        "outputId": "1afe9cb6-98cf-4c15-ca44-bbfad086225b",
        "colab": {
          "base_uri": "https://localhost:8080/"
        }
      },
      "execution_count": 24,
      "outputs": [
        {
          "output_type": "execute_result",
          "data": {
            "text/plain": [
              "(160563, 4)"
            ]
          },
          "metadata": {},
          "execution_count": 24
        }
      ]
    },
    {
      "cell_type": "code",
      "metadata": {
        "id": "o2P3zYR8Q8EX"
      },
      "source": [
        "# load user and movie nodes\n",
        "def load_node_csv(path, index_col):\n",
        "    \"\"\"Loads csv containing node information\n",
        "\n",
        "    Args:\n",
        "        path (str): path to csv file\n",
        "        index_col (str): column name of index column\n",
        "\n",
        "    Returns:\n",
        "        dict: mapping of csv row to node id\n",
        "    \"\"\" \n",
        "    df = pd.read_csv(path, index_col=index_col)\n",
        "    mapping = {index: i for i, index in enumerate(df.index.unique())}\n",
        "    return mapping\n",
        "\n",
        "\n",
        "user_mapping = load_node_csv(rating_path, index_col='userId')\n",
        "movie_mapping = load_node_csv(movie_path, index_col='movieId')"
      ],
      "execution_count": 62,
      "outputs": []
    },
    {
      "cell_type": "code",
      "metadata": {
        "id": "BkJzQlxSRDEq"
      },
      "source": [
        "# load edges between users and movies\n",
        "def load_edge_csv(path, src_index_col, src_mapping, dst_index_col, dst_mapping, link_index_col, rating_threshold=4):\n",
        "    \"\"\"Loads csv containing edges between users and items\n",
        "\n",
        "    Args:\n",
        "        path (str): path to csv file\n",
        "        src_index_col (str): column name of users\n",
        "        src_mapping (dict): mapping between row number and user id\n",
        "        dst_index_col (str): column name of items\n",
        "        dst_mapping (dict): mapping between row number and item id\n",
        "        link_index_col (str): column name of user item interaction\n",
        "        rating_threshold (int, optional): Threshold to determine positivity of edge. Defaults to 4.\n",
        "\n",
        "    Returns:\n",
        "        torch.Tensor: 2 by N matrix containing the node ids of N user-item edges\n",
        "    \"\"\"\n",
        "    df = pd.read_csv(path)\n",
        "    edge_index = None\n",
        "    src = [src_mapping[index] for index in df[src_index_col]]\n",
        "    dst = [dst_mapping[index] for index in df[dst_index_col]]\n",
        "    edge_attr = torch.from_numpy(df[link_index_col].values).view(-1, 1).to(torch.long) >= rating_threshold\n",
        "\n",
        "\n",
        "    edge_index = [[], []]\n",
        "    for i in range(edge_attr.shape[0]):\n",
        "        if edge_attr[i]:\n",
        "            edge_index[0].append(src[i])\n",
        "            edge_index[1].append(dst[i])\n",
        "\n",
        "    return torch.tensor(edge_index)\n",
        "\n",
        "\n",
        "edge_index = load_edge_csv(\n",
        "    rating_path,\n",
        "    src_index_col='userId',\n",
        "    src_mapping=user_mapping,\n",
        "    dst_index_col='movieId',\n",
        "    dst_mapping=movie_mapping,\n",
        "    link_index_col='rating',\n",
        "    rating_threshold=4,\n",
        ")"
      ],
      "execution_count": 63,
      "outputs": []
    },
    {
      "cell_type": "code",
      "source": [
        "edge_index"
      ],
      "metadata": {
        "id": "QMyx3TGF151J",
        "outputId": "d59373d3-a49b-489f-c4b1-cac946a6eb94",
        "colab": {
          "base_uri": "https://localhost:8080/"
        }
      },
      "execution_count": 51,
      "outputs": [
        {
          "output_type": "execute_result",
          "data": {
            "text/plain": [
              "tensor([[     0,      1,      2,  ..., 126114, 126115, 126116],\n",
              "        [     0,      0,      0,  ...,  65778,  65778,  65778]])"
            ]
          },
          "metadata": {},
          "execution_count": 51
        }
      ]
    },
    {
      "cell_type": "code",
      "source": [
        "edge_index"
      ],
      "metadata": {
        "id": "NW3D3RZpbKiv",
        "outputId": "d291df11-99fd-4079-8575-6300ff4b32d9",
        "colab": {
          "base_uri": "https://localhost:8080/"
        }
      },
      "execution_count": 6,
      "outputs": [
        {
          "output_type": "execute_result",
          "data": {
            "text/plain": [
              "tensor([[   0,    0,    0,  ...,  609,  609,  609],\n",
              "        [   0,    2,    5,  ..., 9461, 9462, 9463]])"
            ]
          },
          "metadata": {},
          "execution_count": 6
        }
      ]
    },
    {
      "cell_type": "code",
      "source": [
        "num_interactions = edge_index.shape[1]"
      ],
      "metadata": {
        "id": "-JlSZlcG8X5Z"
      },
      "execution_count": 30,
      "outputs": []
    },
    {
      "cell_type": "code",
      "source": [
        "edge_index.shape[1]"
      ],
      "metadata": {
        "id": "vTSgYZi16-gr",
        "outputId": "7859e261-8b1d-4a9b-9d2f-b1f980eef563",
        "colab": {
          "base_uri": "https://localhost:8080/"
        }
      },
      "execution_count": 23,
      "outputs": [
        {
          "output_type": "execute_result",
          "data": {
            "text/plain": [
              "141992"
            ]
          },
          "metadata": {},
          "execution_count": 23
        }
      ]
    },
    {
      "cell_type": "code",
      "source": [
        "edge_index.shape[1]"
      ],
      "metadata": {
        "id": "Y378F3A1cIrF",
        "outputId": "698598dc-85bd-4825-bc44-141d0e48968f",
        "colab": {
          "base_uri": "https://localhost:8080/"
        }
      },
      "execution_count": 81,
      "outputs": [
        {
          "output_type": "execute_result",
          "data": {
            "text/plain": [
              "145420"
            ]
          },
          "metadata": {},
          "execution_count": 81
        }
      ]
    },
    {
      "cell_type": "code",
      "source": [
        "all_indices = [i for i in range(num_interactions)]\n",
        "len(all_indices)"
      ],
      "metadata": {
        "id": "9UHhTH138nh5",
        "outputId": "c2684579-618e-4f3d-df4d-9d324a5207bc",
        "colab": {
          "base_uri": "https://localhost:8080/"
        }
      },
      "execution_count": 32,
      "outputs": [
        {
          "output_type": "execute_result",
          "data": {
            "text/plain": [
              "48580"
            ]
          },
          "metadata": {},
          "execution_count": 32
        }
      ]
    },
    {
      "cell_type": "code",
      "metadata": {
        "id": "wIueYZfaT6_H"
      },
      "source": [
        "# split the edges of the graph using a 80/10/10 train/validation/test split\n",
        "num_users, num_movies = len(user_mapping), len(movie_mapping)\n",
        "num_interactions = edge_index.shape[1]\n",
        "all_indices = [i for i in range(num_interactions)]\n",
        "\n",
        "train_indices, test_indices = train_test_split(\n",
        "    all_indices, test_size=0.2, random_state=1)\n",
        "val_indices, test_indices = train_test_split(\n",
        "    test_indices, test_size=0.5, random_state=1)\n",
        "\n",
        "train_edge_index = edge_index[:, train_indices]\n",
        "val_edge_index = edge_index[:, val_indices]\n",
        "test_edge_index = edge_index[:, test_indices]"
      ],
      "execution_count": 64,
      "outputs": []
    },
    {
      "cell_type": "code",
      "metadata": {
        "id": "U5yKILBJUAN6"
      },
      "source": [
        "# convert edge indices into Sparse Tensors: https://pytorch-geometric.readthedocs.io/en/latest/notes/sparse_tensor.html\n",
        "train_sparse_edge_index = SparseTensor(row=train_edge_index[0], col=train_edge_index[1], sparse_sizes=(\n",
        "    num_users + num_movies, num_users + num_movies))\n",
        "val_sparse_edge_index = SparseTensor(row=val_edge_index[0], col=val_edge_index[1], sparse_sizes=(\n",
        "    num_users + num_movies, num_users + num_movies))\n",
        "test_sparse_edge_index = SparseTensor(row=test_edge_index[0], col=test_edge_index[1], sparse_sizes=(\n",
        "    num_users + num_movies, num_users + num_movies))"
      ],
      "execution_count": 65,
      "outputs": []
    },
    {
      "cell_type": "code",
      "metadata": {
        "id": "KqKI1VduKcwf"
      },
      "source": [
        "# function which random samples a mini-batch of positive and negative samples\n",
        "def sample_mini_batch(batch_size, edge_index):\n",
        "    \"\"\"Randomly samples indices of a minibatch given an adjacency matrix\n",
        "\n",
        "    Args:\n",
        "        batch_size (int): minibatch size\n",
        "        edge_index (torch.Tensor): 2 by N list of edges\n",
        "\n",
        "    Returns:\n",
        "        tuple: user indices, positive item indices, negative item indices\n",
        "    \"\"\"\n",
        "    edges = structured_negative_sampling(edge_index)\n",
        "    edges = torch.stack(edges, dim=0)\n",
        "    indices = random.choices(\n",
        "        [i for i in range(edges[0].shape[0])], k=batch_size)\n",
        "    batch = edges[:, indices]\n",
        "    user_indices, pos_item_indices, neg_item_indices = batch[0], batch[1], batch[2]\n",
        "    return user_indices, pos_item_indices, neg_item_indices"
      ],
      "execution_count": 66,
      "outputs": []
    },
    {
      "cell_type": "code",
      "source": [
        "batch_size = 1024\n",
        "edges = structured_negative_sampling(edge_index)\n",
        "print('edges before \\n', edges)\n",
        "edges = torch.stack(edges, dim=0)\n",
        "print('edges after \\n', edges)\n",
        "indices = random.choices([i for i in range(edges[0].shape[0])], k=batch_size)\n",
        "print('Indices  \\n', indices)\n",
        "batch = edges[:, indices]\n",
        "print('Batch \\n', batch)"
      ],
      "metadata": {
        "id": "CJqUS8g0D2Q1",
        "outputId": "22180e61-5ea6-4a03-ff6f-7c7efaaaaa2a",
        "colab": {
          "base_uri": "https://localhost:8080/"
        }
      },
      "execution_count": 67,
      "outputs": [
        {
          "output_type": "stream",
          "name": "stdout",
          "text": [
            "edges before \n",
            " (tensor([  0,   0,   0,  ..., 609, 609, 609]), tensor([   0,    2,    5,  ..., 9461, 9462, 9463]), tensor([6463, 5367, 4745,  ..., 7485, 1305, 2579]))\n",
            "edges after \n",
            " tensor([[   0,    0,    0,  ...,  609,  609,  609],\n",
            "        [   0,    2,    5,  ..., 9461, 9462, 9463],\n",
            "        [6463, 5367, 4745,  ..., 7485, 1305, 2579]])\n",
            "Indices  \n",
            " [38379, 28911, 35298, 38135, 2996, 33022, 31747, 35255, 17130, 20995, 42173, 21586, 30237, 2354, 24377, 41468, 29222, 24592, 13800, 972, 23501, 16195, 3208, 46284, 10528, 2871, 12209, 8271, 35058, 30308, 16376, 48480, 34720, 8851, 23452, 44617, 11811, 4922, 29086, 21939, 22645, 36751, 29680, 24918, 1152, 44862, 8261, 24586, 26512, 2262, 27608, 13547, 31135, 26924, 25350, 41100, 17336, 41675, 46489, 20852, 46685, 22634, 12046, 5428, 36120, 35391, 21639, 11527, 42027, 47962, 40941, 323, 1997, 9481, 33338, 11839, 16619, 40591, 32900, 12328, 41568, 39420, 46546, 36041, 35004, 2717, 3434, 43190, 2343, 31772, 40818, 14695, 27059, 20744, 25729, 34248, 20493, 45829, 29992, 22992, 42229, 40547, 13343, 8511, 8549, 12389, 38193, 45086, 16434, 25929, 36147, 7187, 41729, 24749, 44398, 40730, 20832, 31810, 9463, 19973, 10772, 10265, 47128, 33795, 747, 11326, 44807, 29751, 41172, 45180, 21989, 43447, 34405, 26608, 16187, 29084, 40599, 44812, 15801, 31134, 4768, 12346, 47772, 38397, 35795, 10172, 38186, 2283, 45482, 8028, 26862, 21314, 43648, 42026, 47158, 34186, 9134, 4384, 35565, 13374, 2717, 20097, 14640, 32990, 39827, 5784, 48560, 42538, 31913, 18106, 47274, 2939, 3741, 13642, 7301, 44392, 6175, 8153, 25374, 47480, 6135, 35608, 39353, 21810, 20591, 33978, 34136, 16831, 37120, 16389, 6576, 46002, 28088, 39538, 29353, 34040, 7424, 250, 40714, 25518, 22029, 24914, 8981, 30225, 31144, 11932, 28904, 14764, 22146, 12495, 20011, 28374, 46259, 2869, 22360, 34742, 28894, 22839, 47211, 16278, 46954, 30709, 5207, 31058, 3880, 30941, 40656, 41638, 30945, 28927, 12621, 7520, 17082, 14431, 5313, 39675, 16145, 8822, 14115, 34763, 19368, 3696, 3938, 33924, 19673, 12878, 15379, 2289, 18635, 19119, 32643, 14185, 27178, 24707, 41998, 25982, 3872, 11885, 39708, 32279, 25778, 4530, 13665, 18315, 29408, 40609, 44728, 32470, 46243, 17621, 32289, 27225, 12127, 34729, 37236, 5019, 17920, 7434, 19622, 19166, 48213, 42283, 22761, 22196, 30755, 32345, 11598, 42331, 2955, 14111, 4869, 20662, 20261, 37500, 2413, 44725, 23030, 4577, 42202, 27696, 34256, 11854, 4181, 15536, 838, 41448, 48258, 29423, 1555, 12298, 37033, 21460, 17611, 38410, 2564, 14883, 6784, 5736, 9887, 24312, 27597, 47201, 17245, 33074, 383, 39572, 39723, 457, 4604, 26140, 48509, 47704, 31345, 4400, 16726, 38793, 7694, 46355, 47896, 42841, 14582, 19858, 5335, 31694, 41374, 44816, 7553, 32540, 40048, 38411, 30029, 36396, 43609, 47110, 15319, 2489, 24360, 30775, 46018, 15452, 20408, 10241, 21104, 47607, 1116, 16406, 15360, 42372, 29414, 39549, 12460, 16534, 12131, 11337, 45091, 15726, 38063, 39277, 41142, 14327, 46433, 29008, 40618, 12023, 2528, 41719, 22594, 2824, 19368, 32379, 2043, 21349, 1607, 29716, 22777, 4666, 41486, 21951, 27938, 43921, 113, 31257, 1784, 31078, 18248, 48004, 126, 33876, 17201, 11893, 10713, 12158, 40334, 5743, 6507, 24654, 11627, 32829, 41320, 21811, 8139, 25663, 45029, 24855, 20956, 3419, 37063, 47398, 14326, 25238, 21263, 15232, 36776, 22543, 31709, 19087, 25578, 38430, 38048, 23395, 37641, 20542, 40680, 21459, 25695, 39694, 23198, 7439, 20357, 41483, 17907, 6571, 6617, 46354, 39107, 24244, 9882, 35304, 6886, 38963, 46062, 37300, 45228, 10058, 27353, 28183, 31416, 41633, 19558, 1033, 36956, 14544, 19766, 12540, 27496, 41739, 43402, 43801, 9061, 39095, 9811, 33878, 21242, 15310, 43593, 517, 1547, 10283, 11642, 30619, 14413, 24198, 20575, 3871, 45082, 48049, 42588, 42332, 26645, 42326, 25613, 31228, 18505, 4850, 1410, 22085, 6174, 22454, 20862, 7646, 10331, 6913, 4459, 31637, 45071, 6441, 6301, 45430, 17093, 13015, 41553, 23886, 45241, 41313, 3851, 42417, 4956, 608, 37309, 14814, 32406, 965, 11139, 27041, 24875, 27097, 2199, 471, 30530, 39100, 22612, 8932, 47519, 41755, 13548, 30130, 15831, 14691, 22914, 13886, 5156, 6712, 10268, 3392, 32743, 35969, 7278, 7784, 34203, 33311, 3263, 37375, 17714, 25546, 9581, 44713, 23677, 42397, 1711, 37264, 7853, 8488, 15440, 40132, 13288, 43661, 3213, 22265, 37743, 18249, 4014, 15673, 45296, 47603, 33457, 14056, 19375, 5492, 23357, 7013, 20723, 11260, 32588, 1593, 16469, 20139, 41879, 3116, 43104, 43069, 44623, 41536, 4923, 16178, 47142, 36270, 41856, 38283, 6544, 45371, 48418, 24198, 19185, 7377, 22237, 7116, 10531, 30603, 21635, 17092, 10347, 36878, 20907, 40975, 42029, 6505, 32271, 37383, 26798, 40880, 27392, 30628, 33628, 5142, 1520, 24802, 16896, 43321, 11632, 20913, 3102, 32305, 33811, 42945, 6511, 15376, 1425, 27661, 13301, 8994, 43010, 28421, 28733, 38715, 34239, 38430, 35625, 26668, 10962, 36999, 20042, 31778, 29294, 46508, 13712, 25753, 20023, 24854, 3518, 46761, 45118, 47359, 43386, 14298, 38050, 2796, 45348, 45519, 23331, 25252, 23458, 18855, 17048, 7242, 19581, 11671, 6930, 34876, 31424, 29509, 24778, 43958, 27800, 386, 23494, 17768, 26555, 31893, 19166, 10054, 17058, 24547, 4297, 1343, 43690, 25508, 19126, 35198, 26351, 34443, 6030, 33751, 20822, 24060, 16778, 22789, 9308, 15053, 34333, 6907, 29232, 13708, 43519, 34547, 41572, 14450, 6105, 30891, 33267, 25715, 47510, 46471, 2203, 30223, 4152, 24032, 13370, 35628, 15940, 35192, 42699, 3726, 47435, 18141, 6886, 8875, 43465, 21855, 28812, 23619, 22179, 29972, 3227, 12710, 3940, 38328, 1024, 28746, 34343, 45763, 14732, 2974, 19550, 21285, 17563, 46702, 39427, 20166, 21963, 40678, 9039, 38719, 28133, 32657, 14246, 19652, 37405, 37388, 44204, 44542, 20530, 13075, 8849, 29867, 5138, 21585, 37969, 22916, 20764, 683, 30336, 42336, 9729, 18794, 42741, 13066, 20647, 36220, 23657, 237, 22161, 29097, 4600, 14599, 26587, 33736, 1570, 22962, 28584, 21984, 33111, 24117, 40967, 33456, 27394, 269, 47057, 19225, 2823, 37987, 47141, 36839, 38055, 11908, 16585, 40341, 21322, 5469, 3568, 22562, 7358, 22706, 28292, 12704, 9681, 6154, 23100, 22471, 37976, 14170, 22973, 36527, 10224, 3469, 30267, 13223, 42468, 24609, 36120, 15250, 30118, 5057, 33368, 36496, 47416, 37529, 11432, 11443, 9159, 18278, 44934, 9909, 46762, 43180, 43175, 44648, 23251, 364, 32900, 33735, 18987, 1266, 12334, 29658, 21716, 35871, 45004, 7073, 29026, 46778, 29665, 22562, 21397, 17789, 7373, 1690, 42769, 25553, 3815, 35117, 17378, 1943, 32027, 646, 18540, 38997, 14422, 36573, 11902, 46924, 47056, 53, 28367, 31446, 40372, 30716, 40277, 37256, 7150, 31984, 44754, 22368, 36853, 12265, 9841, 39388, 27044, 3529, 39891, 29551, 27156, 5173, 8193, 43945, 6189, 3662, 29036, 26640, 22556, 7742, 46062, 30181, 23717, 16736, 24252, 27254, 44631, 16526, 2451, 12132, 37452, 39277, 16926, 34169, 46606, 45784, 20854, 34027, 34375, 22843, 7269, 28906, 44174, 13018, 34012, 23789, 39183, 3003, 38039, 36475, 1188, 37757, 48079, 11009, 2230, 34068, 6757, 24503, 28950, 28406, 23984, 1565, 19734, 34903, 43003, 4366, 13557, 42653, 786, 569, 4327, 34079, 32186, 7531, 45295, 15990, 47114, 15194, 6537, 42651, 19477, 34584, 30494, 36397, 6615, 37152, 19454, 40470, 26763, 23695, 40498, 27131, 38003, 9280, 17685, 11219, 30454, 2105, 15237, 44451, 46653, 27047, 40800, 23098, 37270, 45357, 34227, 27118, 35789, 32676, 35581, 19510, 21900, 21702]\n",
            "Batch \n",
            " tensor([[ 483,  379,  461,  ...,  253,  287,  287],\n",
            "        [2608, 7946, 2265,  ..., 4935, 4547,  467],\n",
            "        [8846, 3480, 5512,  ...,  188,  120, 1358]])\n"
          ]
        }
      ]
    },
    {
      "cell_type": "code",
      "source": [
        "edge_index"
      ],
      "metadata": {
        "id": "gOPcqwmmHeYm",
        "outputId": "d0cfaeaf-9f9f-4ea0-98b0-aaafda2808cd",
        "colab": {
          "base_uri": "https://localhost:8080/"
        }
      },
      "execution_count": 56,
      "outputs": [
        {
          "output_type": "execute_result",
          "data": {
            "text/plain": [
              "tensor([[     0,      1,      2,  ..., 126114, 126115, 126116],\n",
              "        [     0,      0,      0,  ...,  65778,  65778,  65778]])"
            ]
          },
          "metadata": {},
          "execution_count": 56
        }
      ]
    },
    {
      "cell_type": "code",
      "source": [
        "all_indices = [i for i in range(num_interactions)]\n",
        "len(all_indices)"
      ],
      "metadata": {
        "id": "vFxIZmRwH4Sg",
        "outputId": "b4951c94-b230-4df4-ca6a-f8912385e034",
        "colab": {
          "base_uri": "https://localhost:8080/"
        }
      },
      "execution_count": 60,
      "outputs": [
        {
          "output_type": "execute_result",
          "data": {
            "text/plain": [
              "141992"
            ]
          },
          "metadata": {},
          "execution_count": 60
        }
      ]
    },
    {
      "cell_type": "code",
      "source": [
        "batch_size = 1024\n",
        "edges = structured_negative_sampling(edge_index)\n",
        "print('edges before \\n', edges)\n",
        "edges = torch.stack(edges, dim=0)\n",
        "print('edges after \\n', edges)\n",
        "indices = random.choices([i for i in range(edges[0].shape[0])], k=batch_size)\n",
        "print('Indices  \\n', indices)\n",
        "batch = edges[:, indices]\n",
        "print('Batch \\n', batch)"
      ],
      "metadata": {
        "id": "n91HXzw5GisT",
        "outputId": "3fd4a24e-4a8f-4f8d-9372-8be9434dec25",
        "colab": {
          "base_uri": "https://localhost:8080/"
        }
      },
      "execution_count": 54,
      "outputs": [
        {
          "output_type": "stream",
          "name": "stdout",
          "text": [
            "edges before \n",
            " (tensor([     0,      1,      2,  ..., 126114, 126115, 126116]), tensor([    0,     0,     0,  ..., 65778, 65778, 65778]), tensor([ 3784, 66090, 84503,  ..., 46448, 11433, 46479]))\n",
            "edges after \n",
            " tensor([[     0,      1,      2,  ..., 126114, 126115, 126116],\n",
            "        [     0,      0,      0,  ...,  65778,  65778,  65778],\n",
            "        [  3784,  66090,  84503,  ...,  46448,  11433,  46479]])\n",
            "Indices  \n",
            " [89836, 1624, 98249, 111436, 126240, 86749, 74662, 112577, 7708, 44744, 138159, 35222, 116383, 56012, 113468, 336, 7820, 14229, 71895, 101571, 96517, 26149, 123145, 107555, 107059, 30221, 50175, 61171, 13536, 107687, 122984, 63829, 81807, 136178, 116134, 71663, 27124, 27460, 51057, 36114, 45403, 32234, 29471, 60791, 76476, 81726, 76851, 54881, 120961, 87396, 58948, 87463, 74533, 36330, 18689, 31135, 101948, 96310, 85153, 64692, 44726, 106319, 54562, 75128, 92295, 5188, 56952, 38136, 2303, 128662, 129247, 17448, 22543, 127967, 8226, 29862, 109415, 57434, 140322, 124890, 72827, 37689, 108187, 132414, 94323, 137196, 128348, 60618, 10630, 3777, 59604, 99138, 87635, 46265, 52843, 130497, 106359, 16729, 19620, 102383, 68707, 11248, 110083, 31050, 62171, 11358, 63374, 65225, 31318, 25904, 134455, 76901, 22480, 21655, 72469, 93086, 86412, 88012, 28525, 45578, 91993, 104350, 50364, 125104, 106321, 67004, 121911, 48953, 106772, 50540, 4761, 64757, 90379, 73903, 46914, 122772, 3288, 95339, 76806, 129093, 69655, 21455, 70888, 16911, 58988, 55184, 24832, 10912, 53020, 63994, 122513, 14058, 117918, 24299, 25025, 75463, 31683, 27167, 124633, 86534, 7721, 95796, 120949, 128698, 107751, 36549, 50692, 93179, 555, 10601, 141286, 96039, 115893, 87601, 43346, 22491, 34529, 31505, 33610, 75655, 51840, 95314, 27070, 47703, 140847, 54950, 69345, 73307, 137603, 42890, 122784, 39802, 36017, 2060, 110349, 97313, 89328, 126501, 77888, 10444, 111904, 42838, 128299, 138614, 72107, 21830, 140127, 100823, 116051, 59984, 131494, 103630, 90698, 129182, 51946, 101734, 57564, 128022, 88824, 138387, 107015, 27118, 61457, 22311, 39950, 24391, 3748, 30746, 114379, 36071, 111462, 16165, 38702, 20041, 36137, 11913, 44416, 49034, 42274, 96385, 49204, 92129, 63887, 83541, 95791, 128885, 23212, 128752, 374, 16481, 83579, 110364, 94330, 15711, 1735, 98997, 7110, 46067, 67478, 97803, 46360, 49969, 124520, 110907, 134653, 140409, 12171, 74839, 8727, 65356, 95994, 25522, 69783, 73751, 39724, 43819, 129012, 116474, 71758, 88783, 88083, 102934, 124119, 94268, 32887, 102020, 94736, 73279, 35007, 4909, 4618, 135700, 82675, 122265, 121032, 126576, 84154, 113132, 44019, 48222, 9192, 111633, 60575, 75806, 79313, 19386, 43464, 117125, 128006, 92979, 95237, 23808, 63745, 75905, 4927, 103673, 127447, 62419, 129825, 88287, 55625, 137021, 116381, 26986, 105169, 5138, 121656, 3360, 53986, 62109, 120174, 32079, 58808, 127877, 43285, 95366, 53900, 79996, 49083, 36365, 111244, 80652, 118221, 139384, 59756, 21824, 74591, 21076, 25320, 139796, 50364, 30765, 111866, 91613, 48290, 31449, 128934, 5335, 148, 117060, 45713, 12568, 129593, 137829, 134684, 43575, 87208, 56848, 2073, 118762, 8839, 29004, 2792, 6281, 132513, 75646, 54870, 139427, 111382, 65692, 99511, 62830, 30466, 28751, 46724, 113756, 140794, 74410, 84322, 128036, 2602, 59359, 134355, 54940, 72488, 133364, 85511, 14825, 21140, 87450, 73313, 1116, 108320, 75117, 10023, 107212, 60334, 20946, 131156, 13078, 111287, 44330, 25079, 107240, 17700, 111815, 140749, 60845, 88074, 15116, 37427, 28204, 16834, 140946, 49916, 21833, 35725, 26261, 94509, 62608, 25831, 114229, 89875, 1965, 141133, 5262, 23070, 120886, 45279, 48151, 15077, 15695, 119777, 44988, 124645, 26136, 128088, 85447, 476, 40227, 9627, 127317, 19261, 1671, 121619, 53264, 81736, 59646, 22027, 102683, 51223, 77405, 68156, 51267, 40262, 95887, 116174, 52679, 85438, 53163, 5082, 102716, 136653, 100892, 10621, 109193, 77538, 123538, 66710, 82714, 21333, 82929, 29623, 30308, 102006, 50829, 85871, 52762, 105239, 92400, 137679, 103868, 139264, 16668, 79125, 114526, 18123, 28308, 8931, 124292, 116261, 21153, 92380, 75530, 125886, 46425, 44288, 118527, 67492, 113699, 124015, 4052, 79897, 19631, 89868, 62835, 52593, 38870, 74221, 47526, 131124, 87457, 118463, 77058, 105498, 91335, 67654, 126503, 1710, 13988, 104882, 131406, 27255, 84934, 19588, 105683, 134639, 104438, 9485, 51529, 15863, 119944, 131321, 71009, 51213, 80002, 141840, 71706, 71534, 100353, 53800, 34742, 26924, 60296, 60001, 74377, 110057, 40874, 13404, 16780, 62265, 73865, 79194, 82835, 59838, 5202, 49890, 73695, 81202, 11703, 109545, 125737, 49956, 59706, 43171, 36416, 56355, 92141, 54309, 141951, 39903, 81466, 109799, 123715, 111116, 138223, 37831, 12171, 44810, 29574, 52166, 54788, 70409, 41955, 74558, 70387, 72110, 93025, 58016, 5193, 136809, 80591, 80645, 140484, 3765, 127580, 127556, 12049, 119124, 138989, 63068, 53445, 120406, 17053, 116616, 48371, 131623, 32889, 100013, 74626, 85406, 52539, 24835, 59687, 56886, 6281, 85087, 44841, 141407, 136943, 141983, 3852, 30718, 10546, 103109, 129420, 73177, 41068, 82217, 95020, 68795, 52278, 119299, 56791, 14154, 27216, 24639, 64543, 117524, 7402, 88607, 65826, 108480, 135418, 87579, 17427, 28906, 3082, 70499, 51532, 60630, 85067, 18463, 104338, 5505, 36526, 84787, 98071, 56887, 75596, 126671, 27726, 61143, 73836, 62450, 97796, 49588, 35583, 89140, 15521, 113304, 128691, 62919, 20087, 131979, 59730, 99557, 125403, 84893, 78935, 87182, 94358, 102539, 117103, 67081, 3623, 44897, 41188, 63977, 44566, 119301, 100151, 125492, 131110, 36692, 17209, 51473, 15086, 4729, 85561, 35774, 132687, 68238, 138484, 11883, 10683, 102635, 86028, 89590, 140887, 32479, 6348, 33101, 120735, 65036, 7994, 93225, 46754, 67656, 69434, 11394, 65458, 76524, 40767, 11557, 103370, 40800, 13557, 17541, 140159, 70483, 85920, 134312, 85240, 133814, 59921, 40286, 93592, 67987, 57843, 105812, 140038, 71556, 129925, 134527, 115452, 41432, 54369, 6660, 55772, 74558, 139719, 136535, 136958, 44942, 100140, 99124, 15144, 73017, 138590, 41012, 51510, 103210, 106497, 11523, 89820, 81441, 27686, 17797, 7448, 129038, 21652, 135196, 43507, 44430, 34816, 139201, 37056, 60374, 48524, 35784, 66928, 124509, 37760, 56874, 138926, 59102, 89111, 80240, 60067, 71138, 138419, 3902, 73970, 36709, 109955, 134500, 121033, 136342, 80222, 73250, 12662, 43310, 17613, 136711, 7608, 54212, 42588, 25862, 117515, 63598, 118792, 84537, 19852, 98997, 82571, 84532, 114234, 115435, 115562, 32352, 20248, 131550, 100679, 48916, 115330, 9471, 89987, 140944, 62581, 22959, 93224, 81011, 17075, 110101, 6638, 54414, 109775, 138687, 82984, 108282, 115209, 133411, 56615, 28414, 26476, 6246, 134731, 67070, 79310, 60718, 122796, 3668, 70554, 140783, 45362, 136059, 99509, 88513, 52746, 125269, 105674, 94670, 50021, 137630, 84138, 125583, 57397, 119973, 5225, 139329, 37743, 115579, 33707, 13765, 114292, 141880, 66884, 51315, 91547, 9588, 106749, 29206, 123342, 120337, 76173, 75517, 6355, 106234, 90608, 44261, 61246, 109646, 38032, 39934, 3393, 108285, 67982, 136819, 53404, 81178, 112130, 89307, 137129, 70848, 133579, 95442, 136351, 46351, 128718, 14597, 60561, 110114, 124513, 2840, 45707, 41688, 28047, 60786, 103145, 51247, 2184, 105577, 98804, 54194, 41662, 132643, 10523, 25951, 95231, 15378, 67831, 92632, 123584, 140136, 76459, 80094, 99572, 29682, 120371, 120929, 16593, 35057, 65394, 64804, 139662, 4252, 47368, 74094, 47953, 127126, 77587, 42417, 18351, 38432, 138618, 23585, 61521, 56187, 76669, 101999, 101341, 102593, 75589, 125319, 71572, 30516, 91350, 60882, 55366, 2298, 28517, 40279, 17677, 20111, 87480, 114144, 139391, 31440, 96983, 138611, 104942, 52736, 59232, 49081, 89188, 119537, 123978, 47661, 14795, 12324, 136754, 31676, 61278, 81927, 30669, 88601, 90526, 90358, 67300, 107420, 34334, 140168, 103021, 53991, 33855, 92511, 8439, 139547, 80322, 110360, 52000, 84764, 92883]\n",
            "Batch \n",
            " tensor([[ 78642,   1755,  90799,  ...,  54539,   5068,  86760],\n",
            "        [ 27818,     45,  33880,  ...,   5396,  24352,  30005],\n",
            "        [ 87383, 109291,  65036,  ...,  81279,    773, 124207]])\n"
          ]
        }
      ]
    },
    {
      "cell_type": "code",
      "source": [
        "user_indices, pos_item_indices, neg_item_indices = batch[0], batch[1], batch[2]\n",
        "neg_item_indices\n"
      ],
      "metadata": {
        "id": "K0taKYduEzM1",
        "outputId": "45e54e1c-e2a3-402f-9510-96d95e7b2b76",
        "colab": {
          "base_uri": "https://localhost:8080/"
        }
      },
      "execution_count": 45,
      "outputs": [
        {
          "output_type": "execute_result",
          "data": {
            "text/plain": [
              "tensor([ 545, 1742, 1885,  ..., 5385, 7376, 8645])"
            ]
          },
          "metadata": {},
          "execution_count": 45
        }
      ]
    },
    {
      "cell_type": "code",
      "source": [
        "sample_mini_batch(1024, edge_index)"
      ],
      "metadata": {
        "id": "8JiyGfTPBfIa",
        "outputId": "5945f770-9265-47ce-e2a1-cc2d291de326",
        "colab": {
          "base_uri": "https://localhost:8080/"
        }
      },
      "execution_count": 39,
      "outputs": [
        {
          "output_type": "execute_result",
          "data": {
            "text/plain": [
              "(tensor([304, 448, 519,  ...,  26, 542,  67]),\n",
              " tensor([7700,   46, 1904,  ...,  773, 4301, 5309]),\n",
              " tensor([4226, 5253, 8104,  ..., 9470, 8178, 3954]))"
            ]
          },
          "metadata": {},
          "execution_count": 39
        }
      ]
    },
    {
      "cell_type": "code",
      "source": [
        "structured_negative_sampling(edge_index)"
      ],
      "metadata": {
        "id": "jAUWY04JB0GK",
        "outputId": "250c487e-de76-469b-d4da-db083d1e1644",
        "colab": {
          "base_uri": "https://localhost:8080/"
        }
      },
      "execution_count": 40,
      "outputs": [
        {
          "output_type": "execute_result",
          "data": {
            "text/plain": [
              "(tensor([  0,   0,   0,  ..., 609, 609, 609]),\n",
              " tensor([   0,    2,    5,  ..., 9461, 9462, 9463]),\n",
              " tensor([7601, 7188, 6784,  ..., 1535, 2317, 2443]))"
            ]
          },
          "metadata": {},
          "execution_count": 40
        }
      ]
    },
    {
      "cell_type": "code",
      "source": [
        "torch.stack(structured_negative_sampling(edge_index), dim=1)"
      ],
      "metadata": {
        "id": "-SBGF5a8XxCl",
        "outputId": "29a59521-78f1-4118-a295-b5f038f1744d",
        "colab": {
          "base_uri": "https://localhost:8080/"
        }
      },
      "execution_count": 93,
      "outputs": [
        {
          "output_type": "execute_result",
          "data": {
            "text/plain": [
              "tensor([[   0,    0, 4336],\n",
              "        [   0,    2, 8800],\n",
              "        [   0,    5, 2031],\n",
              "        ...,\n",
              "        [ 609, 9461, 6941],\n",
              "        [ 609, 9462, 8085],\n",
              "        [ 609, 9463, 7156]])"
            ]
          },
          "metadata": {},
          "execution_count": 93
        }
      ]
    },
    {
      "cell_type": "code",
      "source": [
        "torch.stack(structured_negative_sampling(edge_index), dim=0)"
      ],
      "metadata": {
        "id": "CPizOSlHCL67",
        "outputId": "a8812872-c8c2-4c6e-d0a4-ae1c70592484",
        "colab": {
          "base_uri": "https://localhost:8080/"
        }
      },
      "execution_count": 94,
      "outputs": [
        {
          "output_type": "execute_result",
          "data": {
            "text/plain": [
              "tensor([[   0,    0,    0,  ...,  609,  609,  609],\n",
              "        [   0,    2,    5,  ..., 9461, 9462, 9463],\n",
              "        [3419, 8313, 3434,  ..., 5005, 1736, 9130]])"
            ]
          },
          "metadata": {},
          "execution_count": 94
        }
      ]
    },
    {
      "cell_type": "markdown",
      "metadata": {
        "id": "JOB5kDmtUrUY"
      },
      "source": [
        "# Implementing LightGCN\n",
        "\n",
        "## Light Graph Convolution\n",
        "Between each layer, LightGCN uses the following propagation rule for user and item embeddings.\n",
        "\n",
        "\\begin{equation}\n",
        "e_u^{(k+1)} = \\sum_{i \\in N_u} \\frac{1}{\\sqrt{|N_u|}\\sqrt{|N_i|}} e_i^{(k)} \\quad e_i^{(k+1)} = \\sum_{u \\in N_i} \\frac{1}{\\sqrt{|N_i|}\\sqrt{|N_u|}} e_u^{(k)}\n",
        "\\end{equation}\n",
        "\n",
        "$N_u$: the set of all neighbors of user $u$ (items liked by $u$)\n",
        "\n",
        "$N_i$: the set of all neighbors of item $i$ (users who liked $i$)\n",
        "\n",
        "$e_u^{(k)}$ : k-th layer user embedding\n",
        "\n",
        "$e_i^{(k)}$ : k-th layer item embedding\n",
        "\n",
        "\n",
        "\n",
        "## Layer Combination and Model Prediction\n",
        "The only trainable parameters of LightGCN are the 0-th layer embeddings $e_u^{(0)}$ and $e_i^{(0)}$ for each user and item. We combine the embeddings obtained at each layer of propagation to form the final embeddings for all user and item, $e_u$ and $e_i$ via the follwing equation.\n",
        "\n",
        "\n",
        "\\begin{equation}\n",
        "e_u = \\sum_{k = 0}^K \\alpha_k e_u^{(k)} \\quad e_i = \\sum_{k = 0}^K \\alpha_k e_i^{(k)}\n",
        "\\end{equation}\n",
        "\n",
        "$\\alpha_k$ : hyperparameter which weights the contribution of the k-th layer embedding to the final embedding\n",
        "\n",
        "The model prediction is obtained by taking the inner product of the final user and item embeddings.\n",
        "\n",
        "\\begin{equation}\n",
        "\\hat{y}_{ui} = e_u^Te_i\n",
        "\\end{equation}\n",
        "\n",
        "## Matrix Form\n",
        "In our implementation, we utilize the matrix form of LightGCN. We perform multi-scale diffusion to obtain the final embedding, which sums embeddings diffused across multi-hop scales. \n",
        "\n",
        "\\begin{equation}\n",
        "E^{(K)} = \\alpha_0 E^{(0)} + \\alpha_1 \\tilde{A}^1 E^{(0)} + \\alpha_2 \\tilde{A}^2 E^{(0)} + \\cdot \\cdot \\cdot + \\alpha_K \\tilde{A}^K \\tilde{A} E^{(0)}\n",
        "\\end{equation}\n",
        "\n",
        "$E^{(0)} \\in \\mathcal{R}^{(M + N)} \\times T$ : stacked initial item and user embeddings where $M$, $N$, and $T$ denote the number of users, number of items, and the dimension of each embedding respectively\n",
        "\n",
        "$\\tilde{A} = D^{-\\frac{1}{2}}AD^{-\\frac{1}{2}}$ : symmetrically normalized adjacency matrix\n",
        "\n"
      ]
    },
    {
      "cell_type": "code",
      "source": [
        "# Modified Aggregation\n",
        "# defines LightGCN model\n",
        "class LightGCN(MessagePassing):\n",
        "    \"\"\"LightGCN Model as proposed in https://arxiv.org/abs/2002.02126\n",
        "    \"\"\"\n",
        "\n",
        "    def __init__(self, num_users, num_items, embedding_dim=64, K=3, add_self_loops=True): # add_self_loops=False originally\n",
        "        \"\"\"Initializes LightGCN Model\n",
        "\n",
        "        Args:\n",
        "            num_users (int): Number of users\n",
        "            num_items (int): Number of items\n",
        "            embedding_dim (int, optional): Dimensionality of embeddings. Defaults to 8.\n",
        "            K (int, optional): Number of message passing layers. Defaults to 3.\n",
        "            add_self_loops (bool, optional): Whether to add self loops for message passing. Defaults to False.\n",
        "        \"\"\"\n",
        "    #def __init__(self, nn, embedding_dim=32, **kwargs):\n",
        "        #super(GINPNAConv, self).__init__(nn, **kwargs)\n",
        "        super().__init__()\n",
        "        self.mlp = nn.Linear(embedding_dim*12, embedding_dim) # modification\n",
        "        self.delta = 2.5749     # modification\n",
        "\n",
        "        self.num_users, self.num_items = num_users, num_items\n",
        "        self.embedding_dim, self.K = embedding_dim, K\n",
        "        self.add_self_loops = add_self_loops\n",
        "\n",
        "        self.users_emb = nn.Embedding(\n",
        "            num_embeddings=self.num_users, embedding_dim=self.embedding_dim) # e_u^0\n",
        "        self.items_emb = nn.Embedding(\n",
        "            num_embeddings=self.num_items, embedding_dim=self.embedding_dim) # e_i^0\n",
        "\n",
        "        nn.init.normal_(self.users_emb.weight, std=0.1)\n",
        "        nn.init.normal_(self.items_emb.weight, std=0.1)\n",
        "\n",
        "    def forward(self, edge_index: SparseTensor):\n",
        "        \"\"\"Forward propagation of LightGCN Model.\n",
        "\n",
        "        Args:\n",
        "            edge_index (SparseTensor): adjacency matrix\n",
        "\n",
        "        Returns:\n",
        "            tuple (Tensor): e_u_k, e_u_0, e_i_k, e_i_0\n",
        "        \"\"\"\n",
        "        # compute \\tilde{A}: symmetrically normalized adjacency matrix\n",
        "        edge_index_norm = gcn_norm(\n",
        "            edge_index, add_self_loops=self.add_self_loops)\n",
        "\n",
        "        emb_0 = torch.cat([self.users_emb.weight, self.items_emb.weight]) # E^0\n",
        "        embs = [emb_0]\n",
        "        emb_k = emb_0\n",
        "\n",
        "        # multi-scale diffusion\n",
        "        for i in range(self.K):\n",
        "            emb_k = self.propagate(edge_index_norm, x=emb_k)\n",
        "            embs.append(emb_k)\n",
        "\n",
        "        embs = torch.stack(embs, dim=1)\n",
        "        emb_sum = torch.sum(embs, dim=1) # E^K\n",
        "        emb_mean = torch.mean(embs, dim=1)\n",
        "        emb_max = torch.max(embs, dim=1)[0]\n",
        "        #emb_final_min = torch.min(embs, dim=1)[0]\n",
        "        emb_std = torch.std(embs, dim=1)\n",
        "\n",
        "        aggrs = [emb_sum, emb_max, emb_mean, emb_std]\n",
        "        c_idx = index.bincount().float().view(-1, 1)\n",
        "        l_idx = torch.log(c_idx + 1.)\n",
        "        \n",
        "        amplification_scaler = [c_idx / self.delta * a for a in aggrs]\n",
        "        attenuation_scaler = [self.delta / c_idx * a for a in aggrs]\n",
        "        combinations = torch.cat(aggrs+ amplification_scaler+ attenuation_scaler, dim=1)\n",
        "        emb_final = self.mlp(combinations)\n",
        "    \n",
        "\n",
        "\n",
        "        users_emb_final, items_emb_final = torch.split(\n",
        "            emb_final, [self.num_users, self.num_items]) # splits into e_u^K and e_i^K\n",
        "\n",
        "        # returns e_u^K, e_u^0, e_i^K, e_i^0\n",
        "        return users_emb_final, self.users_emb.weight, items_emb_final, self.items_emb.weight\n",
        "\n",
        "    def message(self, x_j: Tensor) -> Tensor:\n",
        "        return x_j\n",
        "\n",
        "    def message_and_aggregate(self, adj_t: SparseTensor, x: Tensor) -> Tensor:\n",
        "        # computes \\tilde{A} @ x\n",
        "        return matmul(adj_t, x)\n",
        "\n",
        "model = LightGCN(num_users, num_movies)"
      ],
      "metadata": {
        "id": "gjamYbIV2IYV"
      },
      "execution_count": null,
      "outputs": []
    },
    {
      "cell_type": "code",
      "source": [
        "torch.stack((edge_index[0], edge_index[1]), dim = 0)#.bincount()\n"
      ],
      "metadata": {
        "id": "bB6li1MMjgB-",
        "outputId": "6098b4d5-6480-407c-d09b-dbddfac4ff2a",
        "colab": {
          "base_uri": "https://localhost:8080/"
        }
      },
      "execution_count": 99,
      "outputs": [
        {
          "output_type": "execute_result",
          "data": {
            "text/plain": [
              "tensor([[   0,    0,    0,  ...,  609,  609,  609],\n",
              "        [   0,    2,    5,  ..., 9461, 9462, 9463]])"
            ]
          },
          "metadata": {},
          "execution_count": 99
        }
      ]
    },
    {
      "cell_type": "code",
      "source": [
        "s = torch.sum(b, dim = 1)\n",
        "mn = torch.mean(b, dim = 1)\n",
        "mx = torch.max(b, dim = 1)[0]\n",
        "st = torch.std(b, dim = 1)"
      ],
      "metadata": {
        "id": "BUMF6INsa1Ez"
      },
      "execution_count": null,
      "outputs": []
    },
    {
      "cell_type": "code",
      "source": [
        "mlp = nn.Linear(64*12, 64) # modification\n",
        "delta = 2.5749"
      ],
      "metadata": {
        "id": "yyh3gtj1vz8p"
      },
      "execution_count": 86,
      "outputs": []
    },
    {
      "cell_type": "code",
      "source": [
        "index = torch.min(b, dim = 1)[1]\n",
        "index"
      ],
      "metadata": {
        "id": "SCc1NAK2z7gb",
        "outputId": "07a024b9-faea-47c9-fdd6-dd7285fbe5d4",
        "colab": {
          "base_uri": "https://localhost:8080/"
        }
      },
      "execution_count": 88,
      "outputs": [
        {
          "output_type": "execute_result",
          "data": {
            "text/plain": [
              "tensor([0, 0, 0, 0, 0, 0, 0, 0, 0, 0, 0, 0, 0, 0, 0, 0, 0, 0, 0, 0, 0, 0, 0, 0,\n",
              "        0, 0, 0, 0, 0, 0, 0, 0, 0, 0, 0, 0, 0, 0, 0, 0, 0, 0, 0, 0, 0, 0, 0, 0,\n",
              "        0, 0])"
            ]
          },
          "metadata": {},
          "execution_count": 88
        }
      ]
    },
    {
      "cell_type": "code",
      "source": [
        "aggrs = [s, mx, mn, st]\n",
        "c_idx = index.bincount().float().view(-1, 1)\n",
        "l_idx = torch.log(c_idx + 1.)\n",
        "        \n",
        "amplification_scaler = [c_idx / delta * a for a in aggrs]\n",
        "attenuation_scaler = [delta / c_idx * a for a in aggrs]\n",
        "combinations = torch.cat(aggrs + amplification_scaler + attenuation_scaler, dim=1)\n",
        "x = mlp(combinations)\n",
        "x"
      ],
      "metadata": {
        "id": "7yPaOhWa0HC9"
      },
      "execution_count": null,
      "outputs": []
    },
    {
      "cell_type": "code",
      "source": [
        "a = torch.randint(10, (5,))\n",
        "b = a + (torch.randn(50, 1) * 5).float()"
      ],
      "metadata": {
        "id": "zxd_OzdnY1ag"
      },
      "execution_count": 87,
      "outputs": []
    },
    {
      "cell_type": "code",
      "metadata": {
        "id": "o9GvYg9ehDOX"
      },
      "source": [
        "# Original\n",
        "# defines LightGCN model\n",
        "class LightGCN(MessagePassing):\n",
        "    \"\"\"LightGCN Model as proposed in https://arxiv.org/abs/2002.02126\n",
        "    \"\"\"\n",
        "\n",
        "    def __init__(self, num_users, num_items, embedding_dim=64, K=3, add_self_loops=False):\n",
        "        \"\"\"Initializes LightGCN Model\n",
        "\n",
        "        Args:\n",
        "            num_users (int): Number of users\n",
        "            num_items (int): Number of items\n",
        "            embedding_dim (int, optional): Dimensionality of embeddings. Defaults to 8.\n",
        "            K (int, optional): Number of message passing layers. Defaults to 3.\n",
        "            add_self_loops (bool, optional): Whether to add self loops for message passing. Defaults to False.\n",
        "        \"\"\"\n",
        "        super().__init__()\n",
        "        self.num_users, self.num_items = num_users, num_items\n",
        "        self.embedding_dim, self.K = embedding_dim, K\n",
        "        self.add_self_loops = add_self_loops\n",
        "\n",
        "        self.users_emb = nn.Embedding(\n",
        "            num_embeddings=self.num_users, embedding_dim=self.embedding_dim) # e_u^0\n",
        "        self.items_emb = nn.Embedding(\n",
        "            num_embeddings=self.num_items, embedding_dim=self.embedding_dim) # e_i^0\n",
        "\n",
        "        nn.init.normal_(self.users_emb.weight, std=0.1)\n",
        "        nn.init.normal_(self.items_emb.weight, std=0.1)\n",
        "\n",
        "    def forward(self, edge_index: SparseTensor):\n",
        "        \"\"\"Forward propagation of LightGCN Model.\n",
        "\n",
        "        Args:\n",
        "            edge_index (SparseTensor): adjacency matrix\n",
        "\n",
        "        Returns:\n",
        "            tuple (Tensor): e_u_k, e_u_0, e_i_k, e_i_0\n",
        "        \"\"\"\n",
        "        # compute \\tilde{A}: symmetrically normalized adjacency matrix\n",
        "        edge_index_norm = gcn_norm(\n",
        "            edge_index, add_self_loops=self.add_self_loops)\n",
        "\n",
        "        emb_0 = torch.cat([self.users_emb.weight, self.items_emb.weight]) # E^0\n",
        "        embs = [emb_0]\n",
        "        emb_k = emb_0\n",
        "\n",
        "        # multi-scale diffusion\n",
        "        for i in range(self.K):\n",
        "            emb_k = self.propagate(edge_index_norm, x=emb_k)\n",
        "            embs.append(emb_k)\n",
        "\n",
        "        embs = torch.stack(embs, dim=1)\n",
        "        emb_final = torch.mean(embs, dim=1) # E^K\n",
        "\n",
        "        users_emb_final, items_emb_final = torch.split(\n",
        "            emb_final, [self.num_users, self.num_items]) # splits into e_u^K and e_i^K\n",
        "\n",
        "        # returns e_u^K, e_u^0, e_i^K, e_i^0\n",
        "        return users_emb_final, self.users_emb.weight, items_emb_final, self.items_emb.weight\n",
        "\n",
        "    def message(self, x_j: Tensor) -> Tensor:\n",
        "        return x_j\n",
        "\n",
        "    def message_and_aggregate(self, adj_t: SparseTensor, x: Tensor) -> Tensor:\n",
        "        # computes \\tilde{A} @ x\n",
        "        return matmul(adj_t, x)\n",
        "\n",
        "model = LightGCN(num_users, num_movies)"
      ],
      "execution_count": 68,
      "outputs": []
    },
    {
      "cell_type": "markdown",
      "metadata": {
        "id": "My8eqloiBccE"
      },
      "source": [
        "# Loss Function\n",
        "\n",
        "\n",
        "\n",
        "We utilize a Bayesian Personalized Ranking (BPR) loss, a pairwise objective which encourages the predictions of positive samples to be higher than negative samples for each user.\n",
        "\n",
        "\\begin{equation}\n",
        "L_{BPR} = -\\sum_{u = 1}^M \\sum_{i \\in N_u} \\sum_{j \\notin N_u} \\ln{\\sigma(\\hat{y}_{ui} - \\hat{y}_{uj})} + \\lambda ||E^{(0)}||^2 \n",
        "\\end{equation}\n",
        "\n",
        "$\\hat{y}_{u}$: predicted score of a positive sample\n",
        "\n",
        "$\\hat{y}_{uj}$: predicted score of a negative sample\n",
        "\n",
        "$\\lambda$: hyperparameter which controls the L2 regularization strength"
      ]
    },
    {
      "cell_type": "code",
      "metadata": {
        "id": "QmPs1xS-BYfe"
      },
      "source": [
        "def bpr_loss(users_emb_final, users_emb_0, pos_items_emb_final, pos_items_emb_0, neg_items_emb_final, neg_items_emb_0, lambda_val):\n",
        "    \"\"\"Bayesian Personalized Ranking Loss as described in https://arxiv.org/abs/1205.2618\n",
        "\n",
        "    Args:\n",
        "        users_emb_final (torch.Tensor): e_u_k\n",
        "        users_emb_0 (torch.Tensor): e_u_0\n",
        "        pos_items_emb_final (torch.Tensor): positive e_i_k\n",
        "        pos_items_emb_0 (torch.Tensor): positive e_i_0\n",
        "        neg_items_emb_final (torch.Tensor): negative e_i_k\n",
        "        neg_items_emb_0 (torch.Tensor): negative e_i_0\n",
        "        lambda_val (float): lambda value for regularization loss term\n",
        "\n",
        "    Returns:\n",
        "        torch.Tensor: scalar bpr loss value\n",
        "    \"\"\"\n",
        "    reg_loss = lambda_val * (users_emb_0.norm(2).pow(2) +\n",
        "                             pos_items_emb_0.norm(2).pow(2) +\n",
        "                             neg_items_emb_0.norm(2).pow(2)) # L2 loss\n",
        "\n",
        "    pos_scores = torch.mul(users_emb_final, pos_items_emb_final)\n",
        "    pos_scores = torch.sum(pos_scores, dim=-1) # predicted scores of positive samples\n",
        "    neg_scores = torch.mul(users_emb_final, neg_items_emb_final)\n",
        "    neg_scores = torch.sum(neg_scores, dim=-1) # predicted scores of negative samples\n",
        "\n",
        "    loss = -torch.mean(torch.nn.functional.softplus(pos_scores - neg_scores)) + reg_loss\n",
        "\n",
        "    return loss"
      ],
      "execution_count": 69,
      "outputs": []
    },
    {
      "cell_type": "markdown",
      "metadata": {
        "id": "CS7HVr3qLQGx"
      },
      "source": [
        "# Evaluation Metrics\n",
        "\n",
        "We evalaluate our model using the following metrics\n",
        "\n",
        "\\begin{equation}\n",
        "\\text{Recall} = \\frac{TP}{TP + FP}\n",
        "\\end{equation}\n",
        "\n",
        "\\begin{equation}\n",
        "\\text{Precision} = \\frac{TP}{TP + FN}\n",
        "\\end{equation}\n",
        "\n",
        "**Dicounted Cumulative Gain (DCG)** at rank position p is defined as:\n",
        "\n",
        "\\begin{equation}\n",
        "\\text{DCG}_\\text{p} = \\sum_{i = 1}^p \\frac{2^{rel_i} - 1}{\\log_2{(i + 1)}}\n",
        "\\end{equation}\n",
        "\n",
        "p: a particular rank position\n",
        "\n",
        "$rel_i \\in \\{0, 1\\}$ : graded relevance of the result at position $i$\n",
        "\n",
        "**Idealised Dicounted Cumulative Gain (IDCG)**, namely the maximum possible DCG, at rank position $p$ is defined as:\n",
        "\n",
        "\\begin{equation}\n",
        "\\text{IDCG}_\\text{p} = \\sum_{i = 1}^{|REL_p|} \\frac{2^{rel_i} - 1}{\\log_2{(i + 1)}}\n",
        "\\end{equation}\n",
        "\n",
        "$|REL_p|$ : list of items ordered by their relevance up to position p\n",
        "\n",
        "**Normalized Dicounted Cumulative Gain (NDCG)** at rank position $p$ is defined as:\n",
        "\n",
        "\\begin{equation}\n",
        "\\text{nDCG}_\\text{p} = \\frac{\\text{DCG}_p}{\\text{nDCG}_p}\n",
        "\\end{equation}\n",
        "\n",
        "Specifically, we use the metrics recall@K, precision@K, and NDCG@K. @K indicates that these metrics are computed on the top K recommendations."
      ]
    },
    {
      "cell_type": "code",
      "metadata": {
        "id": "nHO2gdhRSwzJ"
      },
      "source": [
        "# helper function to get N_u\n",
        "def get_user_positive_items(edge_index):\n",
        "    \"\"\"Generates dictionary of positive items for each user\n",
        "\n",
        "    Args:\n",
        "        edge_index (torch.Tensor): 2 by N list of edges\n",
        "\n",
        "    Returns:\n",
        "        dict: dictionary of positive items for each user\n",
        "    \"\"\"\n",
        "    user_pos_items = {}\n",
        "    for i in range(edge_index.shape[1]):\n",
        "        user = edge_index[0][i].item()\n",
        "        item = edge_index[1][i].item()\n",
        "        if user not in user_pos_items:\n",
        "            user_pos_items[user] = []\n",
        "        user_pos_items[user].append(item)\n",
        "    return user_pos_items"
      ],
      "execution_count": 140,
      "outputs": []
    },
    {
      "cell_type": "code",
      "metadata": {
        "id": "8We4BTtfS4NV"
      },
      "source": [
        "# computes recall@K and precision@K\n",
        "def RecallPrecision_ATk(groundTruth, r, k):\n",
        "    \"\"\"Computers recall @ k and precision @ k\n",
        "\n",
        "    Args:\n",
        "        groundTruth (list): list of lists containing highly rated items of each user\n",
        "        r (list): list of lists indicating whether each top k item recommended to each user\n",
        "            is a top k ground truth item or not\n",
        "        k (intg): determines the top k items to compute precision and recall on\n",
        "\n",
        "    Returns:\n",
        "        tuple: recall @ k, precision @ k\n",
        "    \"\"\"\n",
        "    num_correct_pred = torch.sum(r, dim=-1)  # number of correctly predicted items per user\n",
        "    # number of items liked by each user in the test set\n",
        "    user_num_liked = torch.Tensor([len(groundTruth[i])\n",
        "                                  for i in range(len(groundTruth))])\n",
        "    recall = torch.mean(num_correct_pred / user_num_liked)\n",
        "    precision = torch.mean(num_correct_pred) / k\n",
        "    return recall.item(), precision.item()"
      ],
      "execution_count": 141,
      "outputs": []
    },
    {
      "cell_type": "code",
      "metadata": {
        "id": "9v4A3Ek4TE02"
      },
      "source": [
        "# computes NDCG@K\n",
        "def NDCGatK_r(groundTruth, r, k):\n",
        "    \"\"\"Computes Normalized Discounted Cumulative Gain (NDCG) @ k\n",
        "\n",
        "    Args:\n",
        "        groundTruth (list): list of lists containing highly rated items of each user\n",
        "        r (list): list of lists indicating whether each top k item recommended to each user\n",
        "            is a top k ground truth item or not\n",
        "        k (int): determines the top k items to compute ndcg on\n",
        "\n",
        "    Returns:\n",
        "        float: ndcg @ k\n",
        "    \"\"\"\n",
        "    assert len(r) == len(groundTruth)\n",
        "\n",
        "    test_matrix = torch.zeros((len(r), k))\n",
        "\n",
        "    for i, items in enumerate(groundTruth):\n",
        "        length = min(len(items), k)\n",
        "        test_matrix[i, :length] = 1\n",
        "    max_r = test_matrix\n",
        "    idcg = torch.sum(max_r * 1. / torch.log2(torch.arange(2, k + 2)), axis=1)\n",
        "    dcg = r * (1. / torch.log2(torch.arange(2, k + 2)))\n",
        "    dcg = torch.sum(dcg, axis=1)\n",
        "    idcg[idcg == 0.] = 1.\n",
        "    ndcg = dcg / idcg\n",
        "    ndcg[torch.isnan(ndcg)] = 0.\n",
        "    return torch.mean(ndcg).item()"
      ],
      "execution_count": 142,
      "outputs": []
    },
    {
      "cell_type": "code",
      "metadata": {
        "id": "x6_741LlTMwI"
      },
      "source": [
        "# wrapper function to get evaluation metrics\n",
        "def get_metrics(model, edge_index, exclude_edge_indices, k):\n",
        "    \"\"\"Computes the evaluation metrics: recall, precision, and ndcg @ k\n",
        "\n",
        "    Args:\n",
        "        model (LighGCN): lightgcn model\n",
        "        edge_index (torch.Tensor): 2 by N list of edges for split to evaluate\n",
        "        exclude_edge_indices ([type]): 2 by N list of edges for split to discount from evaluation\n",
        "        k (int): determines the top k items to compute metrics on\n",
        "\n",
        "    Returns:\n",
        "        tuple: recall @ k, precision @ k, ndcg @ k\n",
        "    \"\"\"\n",
        "    user_embedding = model.users_emb.weight\n",
        "    item_embedding = model.items_emb.weight\n",
        "\n",
        "    # get ratings between every user and item - shape is num users x num movies\n",
        "    rating = torch.matmul(user_embedding, item_embedding.T)\n",
        "\n",
        "    for exclude_edge_index in exclude_edge_indices:\n",
        "        # gets all the positive items for each user from the edge index\n",
        "        user_pos_items = get_user_positive_items(exclude_edge_index)\n",
        "        # get coordinates of all edges to exclude\n",
        "        exclude_users = []\n",
        "        exclude_items = []\n",
        "        for user, items in user_pos_items.items():\n",
        "            exclude_users.extend([user] * len(items))\n",
        "            exclude_items.extend(items)\n",
        "\n",
        "        # set ratings of excluded edges to large negative value\n",
        "        rating[exclude_users, exclude_items] = -(1 << 10)\n",
        "\n",
        "    # get the top k recommended items for each user\n",
        "    _, top_K_items = torch.topk(rating, k=k)\n",
        "\n",
        "    # get all unique users in evaluated split\n",
        "    users = edge_index[0].unique()\n",
        "\n",
        "    test_user_pos_items = get_user_positive_items(edge_index)\n",
        "\n",
        "    # convert test user pos items dictionary into a list\n",
        "    test_user_pos_items_list = [\n",
        "        test_user_pos_items[user.item()] for user in users]\n",
        "\n",
        "    # determine the correctness of topk predictions\n",
        "    r = []\n",
        "    for user in users:\n",
        "        ground_truth_items = test_user_pos_items[user.item()]\n",
        "        label = list(map(lambda x: x in ground_truth_items, top_K_items[user]))\n",
        "        r.append(label)\n",
        "    r = torch.Tensor(np.array(r).astype('float'))\n",
        "\n",
        "    recall, precision = RecallPrecision_ATk(test_user_pos_items_list, r, k)\n",
        "    ndcg = NDCGatK_r(test_user_pos_items_list, r, k)\n",
        "\n",
        "    return recall, precision, ndcg"
      ],
      "execution_count": 143,
      "outputs": []
    },
    {
      "cell_type": "code",
      "metadata": {
        "id": "yr_qESXASsVw"
      },
      "source": [
        "# wrapper function to evaluate model\n",
        "def evaluation(model, edge_index, sparse_edge_index, exclude_edge_indices, k, lambda_val):\n",
        "    \"\"\"Evaluates model loss and metrics including recall, precision, ndcg @ k\n",
        "\n",
        "    Args:\n",
        "        model (LighGCN): lightgcn model\n",
        "        edge_index (torch.Tensor): 2 by N list of edges for split to evaluate\n",
        "        sparse_edge_index (sparseTensor): sparse adjacency matrix for split to evaluate\n",
        "        exclude_edge_indices ([type]): 2 by N list of edges for split to discount from evaluation\n",
        "        k (int): determines the top k items to compute metrics on\n",
        "        lambda_val (float): determines lambda for bpr loss\n",
        "\n",
        "    Returns:\n",
        "        tuple: bpr loss, recall @ k, precision @ k, ndcg @ k\n",
        "    \"\"\"\n",
        "    # get embeddings\n",
        "    users_emb_final, users_emb_0, items_emb_final, items_emb_0 = model.forward(\n",
        "        sparse_edge_index)\n",
        "    edges = structured_negative_sampling(\n",
        "        edge_index, contains_neg_self_loops=False)\n",
        "    user_indices, pos_item_indices, neg_item_indices = edges[0], edges[1], edges[2]\n",
        "    users_emb_final, users_emb_0 = users_emb_final[user_indices], users_emb_0[user_indices]\n",
        "    pos_items_emb_final, pos_items_emb_0 = items_emb_final[\n",
        "        pos_item_indices], items_emb_0[pos_item_indices]\n",
        "    print(\"items_emb_final\", items_emb_final)\n",
        "    neg_items_emb_final, neg_items_emb_0 = items_emb_final[\n",
        "        neg_item_indices], items_emb_0[neg_item_indices]\n",
        "\n",
        "    loss = bpr_loss(users_emb_final, users_emb_0, pos_items_emb_final, pos_items_emb_0,\n",
        "                    neg_items_emb_final, neg_items_emb_0, lambda_val).item()\n",
        "\n",
        "    recall, precision, ndcg = get_metrics(\n",
        "        model, edge_index, exclude_edge_indices, k)\n",
        "\n",
        "    return loss, recall, precision, ndcg"
      ],
      "execution_count": 144,
      "outputs": []
    },
    {
      "cell_type": "markdown",
      "metadata": {
        "id": "NYw1cUgPTjws"
      },
      "source": [
        "# Training\n",
        "\n",
        "Your test set performance should be in line with the following (*K=20*):\n",
        "\n",
        "*Recall@K: 0.13, Precision@K: 0.045, NDCG@K: 0.10*"
      ]
    },
    {
      "cell_type": "code",
      "metadata": {
        "id": "MQL2W-NQTeFd"
      },
      "source": [
        "# define constants\n",
        "ITERATIONS = 10000\n",
        "#ITERATIONS = 100\n",
        "BATCH_SIZE = 1024\n",
        "LR = 1e-3\n",
        "ITERS_PER_EVAL = 200\n",
        "ITERS_PER_LR_DECAY = 200\n",
        "#ITERS_PER_EVAL = 5\n",
        "#ITERS_PER_LR_DECAY = 5\n",
        "K = 20\n",
        "LAMBDA = 1e-6"
      ],
      "execution_count": 145,
      "outputs": []
    },
    {
      "cell_type": "code",
      "metadata": {
        "colab": {
          "base_uri": "https://localhost:8080/"
        },
        "id": "49JDkBtKTfE-",
        "outputId": "25290e26-5a22-4f7c-d84f-176cb6179a8b"
      },
      "source": [
        "# setup\n",
        "device = torch.device('cuda' if torch.cuda.is_available() else 'cpu')\n",
        "print(\"CUDA: \", device)\n",
        "print(f\"Using device {device}.\")\n",
        "\n",
        "model = model.to(device)\n",
        "model.train()\n",
        "\n",
        "print(\"CUDA: \", device)\n",
        "\n",
        "optimizer = optim.Adam(model.parameters(), lr=LR)\n",
        "scheduler = optim.lr_scheduler.ExponentialLR(optimizer, gamma=0.95)\n",
        "\n",
        "edge_index = edge_index.to(device)\n",
        "train_edge_index = train_edge_index.to(device)\n",
        "train_sparse_edge_index = train_sparse_edge_index.to(device)\n",
        "\n",
        "val_edge_index = val_edge_index.to(device)\n",
        "val_sparse_edge_index = val_sparse_edge_index.to(device)"
      ],
      "execution_count": 146,
      "outputs": [
        {
          "output_type": "stream",
          "name": "stdout",
          "text": [
            "CUDA:  cpu\n",
            "Using device cpu.\n",
            "CUDA:  cpu\n"
          ]
        }
      ]
    },
    {
      "cell_type": "code",
      "source": [
        "torch.cuda.current_device()"
      ],
      "metadata": {
        "colab": {
          "base_uri": "https://localhost:8080/"
        },
        "id": "vHak7uNAJdrs",
        "outputId": "3d66854f-7407-41ba-b25f-7f8f2c97e330"
      },
      "execution_count": null,
      "outputs": [
        {
          "output_type": "execute_result",
          "data": {
            "text/plain": [
              "0"
            ]
          },
          "metadata": {},
          "execution_count": 24
        }
      ]
    },
    {
      "cell_type": "code",
      "source": [
        "torch.device('cuda')"
      ],
      "metadata": {
        "colab": {
          "base_uri": "https://localhost:8080/"
        },
        "id": "hkGKyxQSJ9iq",
        "outputId": "72a98d8b-7595-49f9-d125-b7c406c13d95"
      },
      "execution_count": null,
      "outputs": [
        {
          "output_type": "execute_result",
          "data": {
            "text/plain": [
              "device(type='cuda')"
            ]
          },
          "metadata": {},
          "execution_count": 19
        }
      ]
    },
    {
      "cell_type": "code",
      "metadata": {
        "colab": {
          "base_uri": "https://localhost:8080/",
          "height": 235
        },
        "id": "wYjrDp1w-hiP",
        "outputId": "b39286e1-6a56-489e-8266-32cc3f330aba"
      },
      "source": [
        "# training loop\n",
        "train_losses = []\n",
        "val_losses = []\n",
        "\n",
        "neg_items_emb_final2 = neg_items_emb_02 = items_emb_final2 = items_emb_02 = neg_item_indices2 = []\n",
        "\n",
        "for iter in range(ITERATIONS):\n",
        "    # forward propagation\n",
        "    users_emb_final, users_emb_0, items_emb_final, items_emb_0 = model.forward(\n",
        "        train_sparse_edge_index)\n",
        "\n",
        "    # mini batching\n",
        "    user_indices, pos_item_indices, neg_item_indices = sample_mini_batch(\n",
        "        BATCH_SIZE, train_edge_index)\n",
        "    user_indices, pos_item_indices, neg_item_indices = user_indices.to(\n",
        "        device), pos_item_indices.to(device), neg_item_indices.to(device)\n",
        "    users_emb_final, users_emb_0 = users_emb_final[user_indices], users_emb_0[user_indices]\n",
        "    pos_items_emb_final, pos_items_emb_0 = items_emb_final[\n",
        "        pos_item_indices], items_emb_0[pos_item_indices]\n",
        "\n",
        "    items_emb_final2, items_emb_02, neg_item_indices2 = items_emb_final, items_emb_0, neg_item_indices \n",
        "    #neg_item_indices2 = neg_item_indices\n",
        "\n",
        "    neg_items_emb_final, neg_items_emb_0 = items_emb_final[\n",
        "        neg_item_indices], items_emb_0[neg_item_indices]\n",
        "    \n",
        "    neg_items_emb_final2, neg_items_emb_02 = neg_items_emb_final, neg_items_emb_0\n",
        "    # loss computation\n",
        "    train_loss = bpr_loss(users_emb_final, users_emb_0, pos_items_emb_final,\n",
        "                          pos_items_emb_0, neg_items_emb_final, neg_items_emb_0, LAMBDA)\n",
        "\n",
        "    optimizer.zero_grad()\n",
        "    train_loss.backward()\n",
        "    optimizer.step()\n",
        "\n",
        "    if iter % ITERS_PER_EVAL == 0:\n",
        "        model.eval()\n",
        "        val_loss, recall, precision, ndcg = evaluation(\n",
        "            model, val_edge_index, val_sparse_edge_index, [train_edge_index], K, LAMBDA)\n",
        "        print(f\"[Iteration {iter}/{ITERATIONS}] train_loss: {round(train_loss.item(), 5)}, val_loss: {round(val_loss, 5)}, val_recall@{K}: {round(recall, 5)}, val_precision@{K}: {round(precision, 5)}, val_ndcg@{K}: {round(ndcg, 5)}\")\n",
        "        train_losses.append(train_loss.item())\n",
        "        val_losses.append(val_loss)\n",
        "        model.train()\n",
        "\n",
        "    if iter % ITERS_PER_LR_DECAY == 0 and iter != 0:\n",
        "        scheduler.step()"
      ],
      "execution_count": 147,
      "outputs": [
        {
          "output_type": "error",
          "ename": "IndexError",
          "evalue": "ignored",
          "traceback": [
            "\u001b[0;31m---------------------------------------------------------------------------\u001b[0m",
            "\u001b[0;31mIndexError\u001b[0m                                Traceback (most recent call last)",
            "\u001b[0;32m<ipython-input-147-b0e3b36140d5>\u001b[0m in \u001b[0;36m<module>\u001b[0;34m()\u001b[0m\n\u001b[1;32m     23\u001b[0m \u001b[0;34m\u001b[0m\u001b[0m\n\u001b[1;32m     24\u001b[0m     neg_items_emb_final, neg_items_emb_0 = items_emb_final[\n\u001b[0;32m---> 25\u001b[0;31m         neg_item_indices], items_emb_0[neg_item_indices]\n\u001b[0m\u001b[1;32m     26\u001b[0m \u001b[0;34m\u001b[0m\u001b[0m\n\u001b[1;32m     27\u001b[0m     \u001b[0mneg_items_emb_final2\u001b[0m\u001b[0;34m,\u001b[0m \u001b[0mneg_items_emb_02\u001b[0m \u001b[0;34m=\u001b[0m \u001b[0mneg_items_emb_final\u001b[0m\u001b[0;34m,\u001b[0m \u001b[0mneg_items_emb_0\u001b[0m\u001b[0;34m\u001b[0m\u001b[0;34m\u001b[0m\u001b[0m\n",
            "\u001b[0;31mIndexError\u001b[0m: index 113736 is out of bounds for dimension 0 with size 65779"
          ]
        }
      ]
    },
    {
      "cell_type": "code",
      "source": [
        "print(neg_item_indices2)"
      ],
      "metadata": {
        "id": "NJOPEqx-HTJl",
        "outputId": "e2db8b80-9682-48a9-f90c-8bed837c5b57",
        "colab": {
          "base_uri": "https://localhost:8080/"
        }
      },
      "execution_count": 74,
      "outputs": [
        {
          "output_type": "stream",
          "name": "stdout",
          "text": [
            "tensor([ 18601,  14996,  16934,  ...,  68560, 118446,  95716])\n"
          ]
        }
      ]
    },
    {
      "cell_type": "code",
      "source": [
        "n = torch.tensor([68560, 118446,  95716])"
      ],
      "metadata": {
        "id": "BJNVOQlJXR5L"
      },
      "execution_count": 78,
      "outputs": []
    },
    {
      "cell_type": "code",
      "source": [
        "items_emb_0[n]"
      ],
      "metadata": {
        "id": "ilyb0IfxWDX3",
        "outputId": "bfb73ba0-a056-4753-ac5a-a37353a0c606",
        "colab": {
          "base_uri": "https://localhost:8080/",
          "height": 166
        }
      },
      "execution_count": 79,
      "outputs": [
        {
          "output_type": "error",
          "ename": "IndexError",
          "evalue": "ignored",
          "traceback": [
            "\u001b[0;31m---------------------------------------------------------------------------\u001b[0m",
            "\u001b[0;31mIndexError\u001b[0m                                Traceback (most recent call last)",
            "\u001b[0;32m<ipython-input-79-547931b2e76e>\u001b[0m in \u001b[0;36m<module>\u001b[0;34m()\u001b[0m\n\u001b[0;32m----> 1\u001b[0;31m \u001b[0mitems_emb_0\u001b[0m\u001b[0;34m[\u001b[0m\u001b[0mn\u001b[0m\u001b[0;34m]\u001b[0m\u001b[0;34m\u001b[0m\u001b[0;34m\u001b[0m\u001b[0m\n\u001b[0m",
            "\u001b[0;31mIndexError\u001b[0m: index 68560 is out of bounds for dimension 0 with size 66010"
          ]
        }
      ]
    },
    {
      "cell_type": "code",
      "source": [
        "neg_items_emb_final2"
      ],
      "metadata": {
        "colab": {
          "base_uri": "https://localhost:8080/"
        },
        "id": "uUzRRR3BF_4I",
        "outputId": "a25c7bff-edaa-4b27-fcda-d37097eb9258"
      },
      "execution_count": null,
      "outputs": [
        {
          "output_type": "execute_result",
          "data": {
            "text/plain": [
              "tensor([[ 0.3683, -0.3108,  0.3540,  ...,  0.3342, -0.3758,  0.3297],\n",
              "        [ 0.0682, -0.0765,  0.0882,  ...,  0.1013, -0.1202,  0.1109],\n",
              "        [ 0.3298, -0.3559,  0.3319,  ...,  0.3704, -0.3239,  0.3393],\n",
              "        ...,\n",
              "        [-0.3662,  0.4021, -0.3583,  ..., -0.4148,  0.4180, -0.3916],\n",
              "        [ 0.3221, -0.3285,  0.3645,  ...,  0.3541, -0.3404,  0.3344],\n",
              "        [ 0.2971, -0.3408,  0.3188,  ...,  0.3401, -0.3423,  0.3538]],\n",
              "       device='cuda:0', grad_fn=<IndexBackward0>)"
            ]
          },
          "metadata": {},
          "execution_count": 21
        }
      ]
    },
    {
      "cell_type": "code",
      "source": [
        "CUDA_LAUNCH_BLOCKING=1"
      ],
      "metadata": {
        "id": "Q9RSD1TXHCI_"
      },
      "execution_count": null,
      "outputs": []
    },
    {
      "cell_type": "code",
      "source": [
        "neg_items_emb_final2 #= neg_items_emb_02 = items_emb_final2 = items_emb_02= neg_item_indices2 "
      ],
      "metadata": {
        "id": "w-5pBJEq0g0H",
        "outputId": "4754b91f-a6c1-4cbd-eec2-5d6b10e871da",
        "colab": {
          "base_uri": "https://localhost:8080/"
        }
      },
      "execution_count": null,
      "outputs": [
        {
          "output_type": "execute_result",
          "data": {
            "text/plain": [
              "tensor([[ 0.3683, -0.3108,  0.3540,  ...,  0.3342, -0.3758,  0.3297],\n",
              "        [ 0.0682, -0.0765,  0.0882,  ...,  0.1013, -0.1202,  0.1109],\n",
              "        [ 0.3298, -0.3559,  0.3319,  ...,  0.3704, -0.3239,  0.3393],\n",
              "        ...,\n",
              "        [-0.3662,  0.4021, -0.3583,  ..., -0.4148,  0.4180, -0.3916],\n",
              "        [ 0.3221, -0.3285,  0.3645,  ...,  0.3541, -0.3404,  0.3344],\n",
              "        [ 0.2971, -0.3408,  0.3188,  ...,  0.3401, -0.3423,  0.3538]],\n",
              "       device='cuda:0', grad_fn=<IndexBackward0>)"
            ]
          },
          "metadata": {},
          "execution_count": 22
        }
      ]
    },
    {
      "cell_type": "code",
      "source": [
        "items_emb_final2"
      ],
      "metadata": {
        "id": "TMJoEsYdGvJb",
        "outputId": "3b53889c-15f6-46b5-dd0f-b5506290c3de",
        "colab": {
          "base_uri": "https://localhost:8080/"
        }
      },
      "execution_count": 63,
      "outputs": [
        {
          "output_type": "execute_result",
          "data": {
            "text/plain": [
              "tensor([[ 0.0319, -0.0189, -0.0454,  ...,  0.0127, -0.0237, -0.0209],\n",
              "        [ 0.0606,  0.0051,  0.0405,  ..., -0.0048,  0.0257, -0.0233],\n",
              "        [ 0.0067, -0.0087,  0.0217,  ...,  0.0077, -0.0489, -0.0054],\n",
              "        ...,\n",
              "        [ 0.0099,  0.0013, -0.0150,  ..., -0.0429,  0.0273, -0.0250],\n",
              "        [ 0.0056,  0.0024,  0.0052,  ...,  0.0027, -0.0098,  0.0461],\n",
              "        [-0.0073,  0.0118,  0.0246,  ..., -0.0089, -0.0234, -0.0379]],\n",
              "       grad_fn=<SplitWithSizesBackward0>)"
            ]
          },
          "metadata": {},
          "execution_count": 63
        }
      ]
    },
    {
      "cell_type": "code",
      "source": [
        "items_emb_final2"
      ],
      "metadata": {
        "id": "lYBffBix3mRX",
        "outputId": "59e60ba7-fef7-4eb2-8d5e-c200dedb1d18",
        "colab": {
          "base_uri": "https://localhost:8080/"
        }
      },
      "execution_count": null,
      "outputs": [
        {
          "output_type": "execute_result",
          "data": {
            "text/plain": [
              "tensor([[-1.0282, -1.0481,  1.0157,  ..., -1.0355,  1.0884, -1.0639],\n",
              "        [-0.7572, -0.7609,  0.7687,  ..., -0.8248,  0.7711, -0.7784],\n",
              "        [-0.4236, -0.4398,  0.4595,  ..., -0.4678,  0.4368, -0.4822],\n",
              "        ...,\n",
              "        [ 0.3525,  0.3575, -0.3669,  ...,  0.3379, -0.3289,  0.3242],\n",
              "        [ 0.3598,  0.3243, -0.3419,  ...,  0.2763, -0.2763,  0.3306],\n",
              "        [ 0.2264,  0.2349, -0.3058,  ...,  0.2632, -0.2883,  0.2931]],\n",
              "       grad_fn=<SplitWithSizesBackward0>)"
            ]
          },
          "metadata": {},
          "execution_count": 20
        }
      ]
    },
    {
      "cell_type": "code",
      "source": [
        "items_emb_02"
      ],
      "metadata": {
        "id": "6jTGTWJX3xsz",
        "outputId": "80145e2f-e56d-497e-c746-40cfa0159ec3",
        "colab": {
          "base_uri": "https://localhost:8080/"
        }
      },
      "execution_count": null,
      "outputs": [
        {
          "output_type": "execute_result",
          "data": {
            "text/plain": [
              "Parameter containing:\n",
              "tensor([[-4.1128, -4.1926,  4.0630,  ..., -4.1419,  4.3537, -4.2557],\n",
              "        [-3.0289, -3.0437,  3.0750,  ..., -3.2992,  3.0845, -3.1135],\n",
              "        [-1.6943, -1.7591,  1.8378,  ..., -1.8714,  1.7473, -1.9287],\n",
              "        ...,\n",
              "        [ 1.4102,  1.4301, -1.4675,  ...,  1.3516, -1.3156,  1.2969],\n",
              "        [ 1.4391,  1.2973, -1.3676,  ...,  1.1051, -1.1052,  1.3224],\n",
              "        [ 0.9054,  0.9398, -1.2234,  ...,  1.0529, -1.1533,  1.1724]],\n",
              "       requires_grad=True)"
            ]
          },
          "metadata": {},
          "execution_count": 21
        }
      ]
    },
    {
      "cell_type": "code",
      "source": [
        "neg_item_indices2.size"
      ],
      "metadata": {
        "id": "0CmChVvAG1pf",
        "outputId": "b63ad956-999f-4a33-aba9-e0d7b059cd14",
        "colab": {
          "base_uri": "https://localhost:8080/"
        }
      },
      "execution_count": 67,
      "outputs": [
        {
          "output_type": "execute_result",
          "data": {
            "text/plain": [
              "<function Tensor.size>"
            ]
          },
          "metadata": {},
          "execution_count": 67
        }
      ]
    },
    {
      "cell_type": "code",
      "source": [
        "items_emb_02[neg_item_indices2]"
      ],
      "metadata": {
        "id": "TkkJ9Z6n4CUh",
        "outputId": "471cf595-c5f9-440e-a04b-f0cb149ab83f",
        "colab": {
          "base_uri": "https://localhost:8080/"
        }
      },
      "execution_count": null,
      "outputs": [
        {
          "output_type": "execute_result",
          "data": {
            "text/plain": [
              "tensor([[ 1.4593,  1.4769, -1.3761,  ...,  1.3603, -1.1518,  1.3259],\n",
              "        [-0.8510, -0.9326,  0.7929,  ..., -0.8131,  0.7023, -1.0383],\n",
              "        [ 1.0182,  1.1052, -0.8752,  ...,  0.8988, -1.0389,  0.8718],\n",
              "        ...,\n",
              "        [ 1.3499,  1.4397, -1.3728,  ...,  1.5476, -1.3881,  1.4515],\n",
              "        [-0.6660, -0.6483,  0.7554,  ..., -0.6244,  0.6193, -0.6034],\n",
              "        [-3.4670, -3.4076,  3.3600,  ..., -3.4073,  3.2948, -3.4103]],\n",
              "       grad_fn=<IndexBackward0>)"
            ]
          },
          "metadata": {},
          "execution_count": 22
        }
      ]
    },
    {
      "cell_type": "code",
      "source": [
        "iters = [iter * ITERS_PER_EVAL for iter in range(len(train_losses))]\n",
        "plt.plot(iters, train_losses, label='train')\n",
        "plt.plot(iters, val_losses, label='validation')\n",
        "plt.xlabel('iteration')\n",
        "plt.ylabel('loss')\n",
        "plt.title('training and validation loss curves')\n",
        "plt.legend()\n",
        "plt.show()"
      ],
      "metadata": {
        "id": "v4wiSzh_pAcy",
        "outputId": "ea3fcf07-90a2-4547-b83a-c4795872afaf",
        "colab": {
          "base_uri": "https://localhost:8080/",
          "height": 295
        }
      },
      "execution_count": null,
      "outputs": [
        {
          "output_type": "display_data",
          "data": {
            "text/plain": [
              "<Figure size 432x288 with 1 Axes>"
            ],
            "image/png": "[encoded data removed]"
          },
          "metadata": {
            "needs_background": "light"
          }
        }
      ]
    },
    {
      "cell_type": "code",
      "metadata": {
        "id": "G6UjCTMQ_N5e",
        "colab": {
          "base_uri": "https://localhost:8080/"
        },
        "outputId": "b80cefbf-5b30-4966-af53-b602d1a2fa48"
      },
      "source": [
        "# evaluate on test set\n",
        "model.eval()\n",
        "test_edge_index = test_edge_index.to(device)\n",
        "test_sparse_edge_index = test_sparse_edge_index.to(device)\n",
        "\n",
        "test_loss, test_recall, test_precision, test_ndcg = evaluation(\n",
        "            model, test_edge_index, test_sparse_edge_index, [train_edge_index, val_edge_index], K, LAMBDA)\n",
        "\n",
        "print(f\"[test_loss: {round(test_loss, 5)}, test_recall@{K}: {round(test_recall, 5)}, test_precision@{K}: {round(test_precision, 5)}, test_ndcg@{K}: {round(test_ndcg, 5)}\")"
      ],
      "execution_count": null,
      "outputs": [
        {
          "output_type": "stream",
          "name": "stdout",
          "text": [
            "[test_loss: -52.53061, test_recall@20: 0.12583, test_precision@20: 0.04638, test_ndcg@20: 0.10166\n"
          ]
        }
      ]
    },
    {
      "cell_type": "markdown",
      "metadata": {
        "id": "At4zWPfaVW6q"
      },
      "source": [
        "# Make New Recommendatios for a Given User"
      ]
    },
    {
      "cell_type": "code",
      "metadata": {
        "id": "SzuMPxFVZlQn"
      },
      "source": [
        "model.eval()\n",
        "df = pd.read_csv(movie_path)\n",
        "movieid_title = pd.Series(df.title.values,index=df.movieId).to_dict()\n",
        "movieid_genres = pd.Series(df.genres.values,index=df.movieId).to_dict()\n",
        "\n",
        "user_pos_items = get_user_positive_items(edge_index)"
      ],
      "execution_count": null,
      "outputs": []
    },
    {
      "cell_type": "code",
      "source": [
        "def make_predictions(user_id, num_recs):\n",
        "    user = user_mapping[user_id]\n",
        "    e_u = model.users_emb.weight[user]\n",
        "    scores = model.items_emb.weight @ e_u\n",
        "\n",
        "    values, indices = torch.topk(scores, k=len(user_pos_items[user]) + num_recs)\n",
        "\n",
        "    movies = [index.cpu().item() for index in indices if index in user_pos_items[user]][:num_recs]\n",
        "    movie_ids = [list(movie_mapping.keys())[list(movie_mapping.values()).index(movie)] for movie in movies]\n",
        "    titles = [movieid_title[id] for id in movie_ids]\n",
        "    genres = [movieid_genres[id] for id in movie_ids]\n",
        "\n",
        "    print(f\"Here are some movies that user {user_id} rated highly\")\n",
        "    for i in range(num_recs):\n",
        "        print(f\"title: {titles[i]}, genres: {genres[i]} \")\n",
        "\n",
        "    print()\n",
        "\n",
        "    movies = [index.cpu().item() for index in indices if index not in user_pos_items[user]][:num_recs]\n",
        "    movie_ids = [list(movie_mapping.keys())[list(movie_mapping.values()).index(movie)] for movie in movies]\n",
        "    titles = [movieid_title[id] for id in movie_ids]\n",
        "    genres = [movieid_genres[id] for id in movie_ids]\n",
        "\n",
        "    print(f\"Here are some suggested movies for user {user_id}\")\n",
        "    for i in range(num_recs):\n",
        "        print(f\"title: {titles[i]}, genres: {genres[i]} \")"
      ],
      "metadata": {
        "id": "oWR-LQUDaqgL"
      },
      "execution_count": null,
      "outputs": []
    },
    {
      "cell_type": "code",
      "source": [
        "USER_ID = 1\n",
        "NUM_RECS = 10\n",
        "\n",
        "make_predictions(USER_ID, NUM_RECS)"
      ],
      "metadata": {
        "id": "Cvc-P1a6rZhD",
        "outputId": "e16cffc7-e2a0-4383-8917-3ca37c7ea027",
        "colab": {
          "base_uri": "https://localhost:8080/"
        }
      },
      "execution_count": null,
      "outputs": [
        {
          "output_type": "stream",
          "name": "stdout",
          "text": [
            "Here are some movies that user 1 rated highly\n",
            "title: Forrest Gump (1994), genres: Comedy|Drama|Romance|War \n",
            "title: Matrix, The (1999), genres: Action|Sci-Fi|Thriller \n",
            "title: Silence of the Lambs, The (1991), genres: Crime|Horror|Thriller \n",
            "title: Star Wars: Episode IV - A New Hope (1977), genres: Action|Adventure|Sci-Fi \n",
            "title: Fight Club (1999), genres: Action|Crime|Drama|Thriller \n",
            "title: Schindler's List (1993), genres: Drama|War \n",
            "title: Star Wars: Episode V - The Empire Strikes Back (1980), genres: Action|Adventure|Sci-Fi \n",
            "title: Braveheart (1995), genres: Action|Drama|War \n",
            "title: American Beauty (1999), genres: Drama|Romance \n",
            "title: Usual Suspects, The (1995), genres: Crime|Mystery|Thriller \n",
            "\n",
            "Here are some suggested movies for user 1\n",
            "title: Shawshank Redemption, The (1994), genres: Crime|Drama \n",
            "title: Pulp Fiction (1994), genres: Comedy|Crime|Drama|Thriller \n",
            "title: Godfather, The (1972), genres: Crime|Drama \n",
            "title: Terminator 2: Judgment Day (1991), genres: Action|Sci-Fi \n",
            "title: Lord of the Rings: The Return of the King, The (2003), genres: Action|Adventure|Drama|Fantasy \n",
            "title: Lord of the Rings: The Fellowship of the Ring, The (2001), genres: Adventure|Fantasy \n",
            "title: Apollo 13 (1995), genres: Adventure|Drama|IMAX \n",
            "title: Lord of the Rings: The Two Towers, The (2002), genres: Adventure|Fantasy \n",
            "title: Sixth Sense, The (1999), genres: Drama|Horror|Mystery \n",
            "title: Lion King, The (1994), genres: Adventure|Animation|Children|Drama|Musical|IMAX \n"
          ]
        }
      ]
    },
    {
      "cell_type": "code",
      "metadata": {
        "colab": {
          "base_uri": "https://localhost:8080/"
        },
        "id": "DSFgwnaecWBw",
        "outputId": "828828ac-78f5-47b2-9c72-ff8deff7b58f"
      },
      "source": [
        "USER_ID = 1\n",
        "NUM_RECS = 10\n",
        "\n",
        "make_predictions(USER_ID, NUM_RECS)"
      ],
      "execution_count": null,
      "outputs": [
        {
          "output_type": "stream",
          "name": "stdout",
          "text": [
            "Here are some movies that user 1 rated highly\n",
            "title: Forrest Gump (1994), genres: Comedy|Drama|Romance|War \n",
            "title: Matrix, The (1999), genres: Action|Sci-Fi|Thriller \n",
            "title: Silence of the Lambs, The (1991), genres: Crime|Horror|Thriller \n",
            "title: Star Wars: Episode IV - A New Hope (1977), genres: Action|Adventure|Sci-Fi \n",
            "title: Fight Club (1999), genres: Action|Crime|Drama|Thriller \n",
            "title: Schindler's List (1993), genres: Drama|War \n",
            "title: Star Wars: Episode V - The Empire Strikes Back (1980), genres: Action|Adventure|Sci-Fi \n",
            "title: Braveheart (1995), genres: Action|Drama|War \n",
            "title: Usual Suspects, The (1995), genres: Crime|Mystery|Thriller \n",
            "title: Star Wars: Episode VI - Return of the Jedi (1983), genres: Action|Adventure|Sci-Fi \n",
            "\n",
            "Here are some suggested movies for user 1\n",
            "title: Shawshank Redemption, The (1994), genres: Crime|Drama \n",
            "title: Pulp Fiction (1994), genres: Comedy|Crime|Drama|Thriller \n",
            "title: Godfather, The (1972), genres: Crime|Drama \n",
            "title: Terminator 2: Judgment Day (1991), genres: Action|Sci-Fi \n",
            "title: Lord of the Rings: The Return of the King, The (2003), genres: Action|Adventure|Drama|Fantasy \n",
            "title: Lord of the Rings: The Fellowship of the Ring, The (2001), genres: Adventure|Fantasy \n",
            "title: Sixth Sense, The (1999), genres: Drama|Horror|Mystery \n",
            "title: Lord of the Rings: The Two Towers, The (2002), genres: Adventure|Fantasy \n",
            "title: Apollo 13 (1995), genres: Adventure|Drama|IMAX \n",
            "title: Aladdin (1992), genres: Adventure|Animation|Children|Comedy|Musical \n"
          ]
        }
      ]
    },
    {
      "cell_type": "code",
      "metadata": {
        "id": "hLkRpNldrSQe"
      },
      "source": [
        ""
      ],
      "execution_count": null,
      "outputs": []
    }
  ]
}